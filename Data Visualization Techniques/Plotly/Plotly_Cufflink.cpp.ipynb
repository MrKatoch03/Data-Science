{
 "cells": [
  {
   "attachments": {
    "image.png": {
     "image/png": "[encoded data removed]"
    }
   },
   "cell_type": "markdown",
   "id": "855b4e4c",
   "metadata": {},
   "source": [
    "# Data Visualization Techniques \n",
    "\n",
    "![image.png](attachment:image.png)"
   ]
  },
  {
   "cell_type": "markdown",
   "id": "d204fc40",
   "metadata": {},
   "source": [
    "## Importing Dataset "
   ]
  },
  {
   "cell_type": "code",
   "execution_count": 45,
   "id": "73a47c77",
   "metadata": {},
   "outputs": [],
   "source": [
    "import pandas as pd\n",
    "import numpy as np\n",
    "%matplotlib inline"
   ]
  },
  {
   "cell_type": "code",
   "execution_count": 46,
   "id": "a1dbe4d1",
   "metadata": {},
   "outputs": [],
   "source": [
    "from plotly import __version__"
   ]
  },
  {
   "cell_type": "code",
   "execution_count": 47,
   "id": "73aab711",
   "metadata": {},
   "outputs": [
    {
     "name": "stdout",
     "output_type": "stream",
     "text": [
      "5.9.0\n"
     ]
    }
   ],
   "source": [
    "print(__version__)"
   ]
  },
  {
   "cell_type": "code",
   "execution_count": 48,
   "id": "0a92a277",
   "metadata": {},
   "outputs": [],
   "source": [
    "import cufflinks as cf"
   ]
  },
  {
   "cell_type": "code",
   "execution_count": 50,
   "id": "808420ea",
   "metadata": {},
   "outputs": [],
   "source": [
    "from plotly.offline import download_plotlyjs,init_notebook_mode,plot,iplot"
   ]
  },
  {
   "cell_type": "code",
   "execution_count": 51,
   "id": "fbb20e16",
   "metadata": {},
   "outputs": [
    {
     "data": {
      "text/html": [
       "        <script type=\"text/javascript\">\n",
       "        window.PlotlyConfig = {MathJaxConfig: 'local'};\n",
       "        if (window.MathJax && window.MathJax.Hub && window.MathJax.Hub.Config) {window.MathJax.Hub.Config({SVG: {font: \"STIX-Web\"}});}\n",
       "        if (typeof require !== 'undefined') {\n",
       "        require.undef(\"plotly\");\n",
       "        requirejs.config({\n",
       "            paths: {\n",
       "                'plotly': ['https://cdn.plot.ly/plotly-2.12.1.min']\n",
       "            }\n",
       "        });\n",
       "        require(['plotly'], function(Plotly) {\n",
       "            window._Plotly = Plotly;\n",
       "        });\n",
       "        }\n",
       "        </script>\n",
       "        "
      ]
     },
     "metadata": {},
     "output_type": "display_data"
    }
   ],
   "source": [
    "init_notebook_mode(connected=True)"
   ]
  },
  {
   "cell_type": "code",
   "execution_count": 52,
   "id": "0c58fffd",
   "metadata": {},
   "outputs": [
    {
     "data": {
      "text/html": [
       "        <script type=\"text/javascript\">\n",
       "        window.PlotlyConfig = {MathJaxConfig: 'local'};\n",
       "        if (window.MathJax && window.MathJax.Hub && window.MathJax.Hub.Config) {window.MathJax.Hub.Config({SVG: {font: \"STIX-Web\"}});}\n",
       "        if (typeof require !== 'undefined') {\n",
       "        require.undef(\"plotly\");\n",
       "        requirejs.config({\n",
       "            paths: {\n",
       "                'plotly': ['https://cdn.plot.ly/plotly-2.12.1.min']\n",
       "            }\n",
       "        });\n",
       "        require(['plotly'], function(Plotly) {\n",
       "            window._Plotly = Plotly;\n",
       "        });\n",
       "        }\n",
       "        </script>\n",
       "        "
      ]
     },
     "metadata": {},
     "output_type": "display_data"
    }
   ],
   "source": [
    "cf.go_offline()"
   ]
  },
  {
   "cell_type": "markdown",
   "id": "59ddc9e1",
   "metadata": {},
   "source": [
    "## Dataset"
   ]
  },
  {
   "cell_type": "code",
   "execution_count": 53,
   "id": "018efa02",
   "metadata": {},
   "outputs": [],
   "source": [
    "df=pd.DataFrame(np.random.randn(100,4),columns='A B C D'.split())"
   ]
  },
  {
   "cell_type": "code",
   "execution_count": 54,
   "id": "72dcbf27",
   "metadata": {},
   "outputs": [
    {
     "data": {
      "text/html": [
       "<div>\n",
       "<style scoped>\n",
       "    .dataframe tbody tr th:only-of-type {\n",
       "        vertical-align: middle;\n",
       "    }\n",
       "\n",
       "    .dataframe tbody tr th {\n",
       "        vertical-align: top;\n",
       "    }\n",
       "\n",
       "    .dataframe thead th {\n",
       "        text-align: right;\n",
       "    }\n",
       "</style>\n",
       "<table border=\"1\" class=\"dataframe\">\n",
       "  <thead>\n",
       "    <tr style=\"text-align: right;\">\n",
       "      <th></th>\n",
       "      <th>A</th>\n",
       "      <th>B</th>\n",
       "      <th>C</th>\n",
       "      <th>D</th>\n",
       "    </tr>\n",
       "  </thead>\n",
       "  <tbody>\n",
       "    <tr>\n",
       "      <th>0</th>\n",
       "      <td>0.044727</td>\n",
       "      <td>-0.358175</td>\n",
       "      <td>-0.234483</td>\n",
       "      <td>-1.574971</td>\n",
       "    </tr>\n",
       "    <tr>\n",
       "      <th>1</th>\n",
       "      <td>2.013628</td>\n",
       "      <td>-0.743816</td>\n",
       "      <td>1.173404</td>\n",
       "      <td>1.527968</td>\n",
       "    </tr>\n",
       "    <tr>\n",
       "      <th>2</th>\n",
       "      <td>-1.923620</td>\n",
       "      <td>-0.026352</td>\n",
       "      <td>-0.108614</td>\n",
       "      <td>0.616919</td>\n",
       "    </tr>\n",
       "    <tr>\n",
       "      <th>3</th>\n",
       "      <td>2.491198</td>\n",
       "      <td>-1.703034</td>\n",
       "      <td>0.240279</td>\n",
       "      <td>0.438162</td>\n",
       "    </tr>\n",
       "    <tr>\n",
       "      <th>4</th>\n",
       "      <td>-0.996767</td>\n",
       "      <td>-0.680413</td>\n",
       "      <td>-0.087943</td>\n",
       "      <td>-1.165903</td>\n",
       "    </tr>\n",
       "  </tbody>\n",
       "</table>\n",
       "</div>"
      ],
      "text/plain": [
       "          A         B         C         D\n",
       "0  0.044727 -0.358175 -0.234483 -1.574971\n",
       "1  2.013628 -0.743816  1.173404  1.527968\n",
       "2 -1.923620 -0.026352 -0.108614  0.616919\n",
       "3  2.491198 -1.703034  0.240279  0.438162\n",
       "4 -0.996767 -0.680413 -0.087943 -1.165903"
      ]
     },
     "execution_count": 54,
     "metadata": {},
     "output_type": "execute_result"
    }
   ],
   "source": [
    "df.head()"
   ]
  },
  {
   "cell_type": "code",
   "execution_count": 55,
   "id": "66aa3d59",
   "metadata": {},
   "outputs": [],
   "source": [
    "df2=pd.DataFrame({'Category':['A','B','C'],'Values':[32,43,50]})"
   ]
  },
  {
   "cell_type": "code",
   "execution_count": 56,
   "id": "864fabb2",
   "metadata": {},
   "outputs": [
    {
     "data": {
      "text/html": [
       "<div>\n",
       "<style scoped>\n",
       "    .dataframe tbody tr th:only-of-type {\n",
       "        vertical-align: middle;\n",
       "    }\n",
       "\n",
       "    .dataframe tbody tr th {\n",
       "        vertical-align: top;\n",
       "    }\n",
       "\n",
       "    .dataframe thead th {\n",
       "        text-align: right;\n",
       "    }\n",
       "</style>\n",
       "<table border=\"1\" class=\"dataframe\">\n",
       "  <thead>\n",
       "    <tr style=\"text-align: right;\">\n",
       "      <th></th>\n",
       "      <th>Category</th>\n",
       "      <th>Values</th>\n",
       "    </tr>\n",
       "  </thead>\n",
       "  <tbody>\n",
       "    <tr>\n",
       "      <th>0</th>\n",
       "      <td>A</td>\n",
       "      <td>32</td>\n",
       "    </tr>\n",
       "    <tr>\n",
       "      <th>1</th>\n",
       "      <td>B</td>\n",
       "      <td>43</td>\n",
       "    </tr>\n",
       "    <tr>\n",
       "      <th>2</th>\n",
       "      <td>C</td>\n",
       "      <td>50</td>\n",
       "    </tr>\n",
       "  </tbody>\n",
       "</table>\n",
       "</div>"
      ],
      "text/plain": [
       "  Category  Values\n",
       "0        A      32\n",
       "1        B      43\n",
       "2        C      50"
      ]
     },
     "execution_count": 56,
     "metadata": {},
     "output_type": "execute_result"
    }
   ],
   "source": [
    "df2"
   ]
  },
  {
   "cell_type": "code",
   "execution_count": 59,
   "id": "5d4275c7",
   "metadata": {},
   "outputs": [
    {
     "data": {
      "text/html": [
       "<div>\n",
       "<style scoped>\n",
       "    .dataframe tbody tr th:only-of-type {\n",
       "        vertical-align: middle;\n",
       "    }\n",
       "\n",
       "    .dataframe tbody tr th {\n",
       "        vertical-align: top;\n",
       "    }\n",
       "\n",
       "    .dataframe thead th {\n",
       "        text-align: right;\n",
       "    }\n",
       "</style>\n",
       "<table border=\"1\" class=\"dataframe\">\n",
       "  <thead>\n",
       "    <tr style=\"text-align: right;\">\n",
       "      <th></th>\n",
       "      <th>x</th>\n",
       "      <th>y</th>\n",
       "      <th>z</th>\n",
       "    </tr>\n",
       "  </thead>\n",
       "  <tbody>\n",
       "    <tr>\n",
       "      <th>0</th>\n",
       "      <td>1</td>\n",
       "      <td>10</td>\n",
       "      <td>5</td>\n",
       "    </tr>\n",
       "    <tr>\n",
       "      <th>1</th>\n",
       "      <td>2</td>\n",
       "      <td>20</td>\n",
       "      <td>4</td>\n",
       "    </tr>\n",
       "    <tr>\n",
       "      <th>2</th>\n",
       "      <td>3</td>\n",
       "      <td>30</td>\n",
       "      <td>3</td>\n",
       "    </tr>\n",
       "    <tr>\n",
       "      <th>3</th>\n",
       "      <td>4</td>\n",
       "      <td>20</td>\n",
       "      <td>2</td>\n",
       "    </tr>\n",
       "    <tr>\n",
       "      <th>4</th>\n",
       "      <td>5</td>\n",
       "      <td>10</td>\n",
       "      <td>1</td>\n",
       "    </tr>\n",
       "  </tbody>\n",
       "</table>\n",
       "</div>"
      ],
      "text/plain": [
       "   x   y  z\n",
       "0  1  10  5\n",
       "1  2  20  4\n",
       "2  3  30  3\n",
       "3  4  20  2\n",
       "4  5  10  1"
      ]
     },
     "execution_count": 59,
     "metadata": {},
     "output_type": "execute_result"
    }
   ],
   "source": [
    "df3=pd.DataFrame({'x':[1,2,3,4,5],'y':[10,20,30,20,10],'z':[5,4,3,2,1]})\n",
    "df3"
   ]
  },
  {
   "cell_type": "markdown",
   "id": "8b5e68b1",
   "metadata": {},
   "source": [
    "## IPlot"
   ]
  },
  {
   "cell_type": "code",
   "execution_count": 57,
   "id": "8713959c",
   "metadata": {},
   "outputs": [
    {
     "data": {
      "application/vnd.plotly.v1+json": {
       "config": {
        "linkText": "Export to plot.ly",
        "plotlyServerURL": "https://plot.ly",
        "showLink": true
       },
       "data": [
        {
         "line": {
          "color": "rgba(255, 153, 51, 1.0)",
          "dash": "solid",
          "shape": "linear",
          "width": 1.3
         },
         "mode": "lines",
         "name": "A",
         "text": "",
         "type": "scatter",
         "x": [
          0,
          1,
          2,
          3,
          4,
          5,
          6,
          7,
          8,
          9,
          10,
          11,
          12,
          13,
          14,
          15,
          16,
          17,
          18,
          19,
          20,
          21,
          22,
          23,
          24,
          25,
          26,
          27,
          28,
          29,
          30,
          31,
          32,
          33,
          34,
          35,
          36,
          37,
          38,
          39,
          40,
          41,
          42,
          43,
          44,
          45,
          46,
          47,
          48,
          49,
          50,
          51,
          52,
          53,
          54,
          55,
          56,
          57,
          58,
          59,
          60,
          61,
          62,
          63,
          64,
          65,
          66,
          67,
          68,
          69,
          70,
          71,
          72,
          73,
          74,
          75,
          76,
          77,
          78,
          79,
          80,
          81,
          82,
          83,
          84,
          85,
          86,
          87,
          88,
          89,
          90,
          91,
          92,
          93,
          94,
          95,
          96,
          97,
          98,
          99
         ],
         "y": [
          0.04472728291752777,
          2.0136277903577247,
          -1.9236196401519277,
          2.4911980816178194,
          -0.9967665313943013,
          -0.7951919577304543,
          1.9487063804665836,
          -2.23538159261186,
          -0.6362833050737016,
          -1.4754844608198587,
          0.011761902594940405,
          0.762460136367464,
          0.09148958294183143,
          -1.3104088928298192,
          -0.6551324495685213,
          0.4417399033234646,
          -1.0041748206612782,
          -2.1279381643445148,
          -0.33415704844100136,
          1.8822856176465037,
          -0.17436524138072843,
          0.24438741548022544,
          1.1271349499163994,
          0.12908581848119247,
          -0.5194216529893724,
          0.06933790600730215,
          -0.1604553359252777,
          0.4243007995667343,
          -1.1251252448290945,
          -1.3033981078054881,
          -0.3439484052277837,
          0.1853004778913747,
          -1.2386458788249415,
          1.5066759635136762,
          -1.5934330724746797,
          1.1466275226458311,
          -0.2998576466989392,
          -0.7564601805963426,
          -0.8075479890241387,
          0.31415964222467585,
          -1.869410364721812,
          -0.7150081458694103,
          -1.1738929577822552,
          -0.03933686859765417,
          -0.2301305754650945,
          1.077391686619631,
          1.1402657961968796,
          0.291777123552492,
          0.9600778507641592,
          -0.4263265753068178,
          -0.5520173344511742,
          0.6578707128339493,
          0.6018249253613506,
          -1.226518784319018,
          -0.10312712302438928,
          -1.0674536882407857,
          0.6482714967308668,
          0.9162266657051357,
          -0.5372298377330095,
          0.8845513154382081,
          0.8015316358892549,
          -0.7257562347588903,
          -0.8516497444356815,
          0.35510691240333075,
          -0.1602518439569381,
          0.18772635521434244,
          0.6394680450095762,
          -1.7841028128897547,
          -1.362461857419024,
          -0.9692165633965856,
          1.8623982171870008,
          1.5405117173715361,
          -1.329477243882208,
          -1.0570415503714614,
          0.8275648531322185,
          0.7174334888677107,
          -1.8407960180545033,
          -0.6327346660982492,
          -1.834893941666618,
          -1.0222932958815636,
          -0.0890975036474237,
          0.9262538909560268,
          1.587038316260175,
          1.4636701642913348,
          0.24217647988032678,
          -0.05063897611733595,
          0.723546614583445,
          -0.49758264536569463,
          0.9075802085838476,
          -1.1304087274552108,
          -1.8339112439763066,
          -1.1000414778730772,
          -1.4124638619838747,
          0.6431580778738788,
          -1.4370295309081362,
          0.6910484972701905,
          3.256655782163857,
          -0.11462551340178101,
          2.17596548950574,
          1.4596346378062068
         ]
        },
        {
         "line": {
          "color": "rgba(55, 128, 191, 1.0)",
          "dash": "solid",
          "shape": "linear",
          "width": 1.3
         },
         "mode": "lines",
         "name": "B",
         "text": "",
         "type": "scatter",
         "x": [
          0,
          1,
          2,
          3,
          4,
          5,
          6,
          7,
          8,
          9,
          10,
          11,
          12,
          13,
          14,
          15,
          16,
          17,
          18,
          19,
          20,
          21,
          22,
          23,
          24,
          25,
          26,
          27,
          28,
          29,
          30,
          31,
          32,
          33,
          34,
          35,
          36,
          37,
          38,
          39,
          40,
          41,
          42,
          43,
          44,
          45,
          46,
          47,
          48,
          49,
          50,
          51,
          52,
          53,
          54,
          55,
          56,
          57,
          58,
          59,
          60,
          61,
          62,
          63,
          64,
          65,
          66,
          67,
          68,
          69,
          70,
          71,
          72,
          73,
          74,
          75,
          76,
          77,
          78,
          79,
          80,
          81,
          82,
          83,
          84,
          85,
          86,
          87,
          88,
          89,
          90,
          91,
          92,
          93,
          94,
          95,
          96,
          97,
          98,
          99
         ],
         "y": [
          -0.3581752144020478,
          -0.7438157432225722,
          -0.026352079985911398,
          -1.7030343296523238,
          -0.6804127539561089,
          -0.5742523112529103,
          -0.644070917542256,
          1.1420509381512929,
          2.102995846840507,
          0.8034327021876664,
          -0.2544097102330024,
          -0.5594592584848158,
          0.3215300951874448,
          -2.248060706625145,
          0.8510702715173849,
          0.02002817387705508,
          0.4123192990534875,
          -0.9082770377039694,
          -2.6085505772612874,
          -2.147063117352743,
          0.9535202754542268,
          -0.0073023603245049125,
          0.9538228579321008,
          1.0999244249525777,
          -1.139370634678592,
          0.2756124159103919,
          -0.6372337077181718,
          -0.36135473899091913,
          0.21164955578397002,
          -0.03099702152822309,
          -0.7316516112829898,
          0.6355425652614268,
          1.78039302465161,
          -2.0788866513236086,
          1.1491779044101635,
          -1.6641430920273568,
          -2.2000095056079068,
          -0.982006606741808,
          -1.057634337467608,
          0.5812949646110466,
          -1.4253407808509473,
          0.08339873767432296,
          1.3543453070586946,
          -0.17539272838694092,
          1.2030635329624155,
          -0.8457858322795581,
          -0.3938160616631665,
          0.4041842542547364,
          -0.22165217214236851,
          -1.1733244203373254,
          1.3750172675716983,
          0.9958795214552347,
          -0.4135630924958996,
          1.407402473250491,
          1.3153437163187505,
          -0.2337487208533535,
          -0.8143858125945819,
          1.2535849479121297,
          -1.4013077884969811,
          -0.027873794659457322,
          -1.6519261458676777,
          1.0152535488984349,
          1.6400765995653448,
          -0.13121204521055865,
          0.11617127183790316,
          1.0286285927755345,
          -0.7385281986681842,
          0.5734121298857456,
          0.561397002379349,
          -0.2949416372362533,
          0.3748451018513906,
          0.7535297542120657,
          -0.8808149739384412,
          -0.6003689995820148,
          -0.09021186742874453,
          -1.0472595114473746,
          0.3925190406471404,
          0.7868290741235954,
          -0.6101642208256651,
          2.6848305120360294,
          0.5820378711418692,
          0.01709018333611756,
          0.08485702664004978,
          1.1302744949762342,
          0.2619928493319134,
          -0.7773726420782053,
          -0.013062268486066998,
          -0.6484815907002609,
          0.15677550862065318,
          0.12088007476316984,
          -0.06528420696843706,
          0.9644951425621063,
          0.47524555244276545,
          -1.2159192117365958,
          1.102966649667511,
          0.35982432168304623,
          0.10840028329846188,
          -0.4012335082600968,
          -0.9925124577209844,
          -1.3590407654438954
         ]
        },
        {
         "line": {
          "color": "rgba(50, 171, 96, 1.0)",
          "dash": "solid",
          "shape": "linear",
          "width": 1.3
         },
         "mode": "lines",
         "name": "C",
         "text": "",
         "type": "scatter",
         "x": [
          0,
          1,
          2,
          3,
          4,
          5,
          6,
          7,
          8,
          9,
          10,
          11,
          12,
          13,
          14,
          15,
          16,
          17,
          18,
          19,
          20,
          21,
          22,
          23,
          24,
          25,
          26,
          27,
          28,
          29,
          30,
          31,
          32,
          33,
          34,
          35,
          36,
          37,
          38,
          39,
          40,
          41,
          42,
          43,
          44,
          45,
          46,
          47,
          48,
          49,
          50,
          51,
          52,
          53,
          54,
          55,
          56,
          57,
          58,
          59,
          60,
          61,
          62,
          63,
          64,
          65,
          66,
          67,
          68,
          69,
          70,
          71,
          72,
          73,
          74,
          75,
          76,
          77,
          78,
          79,
          80,
          81,
          82,
          83,
          84,
          85,
          86,
          87,
          88,
          89,
          90,
          91,
          92,
          93,
          94,
          95,
          96,
          97,
          98,
          99
         ],
         "y": [
          -0.23448312426228735,
          1.1734040566324928,
          -0.10861389781654822,
          0.24027945635684297,
          -0.08794282132505515,
          0.6726391635010236,
          -0.37552541245105003,
          -0.7494796703260302,
          -1.2199073146846033,
          -1.6931654750619702,
          -1.811079365096557,
          0.020893689638700835,
          1.4440760297398576,
          2.0996733504169476,
          0.2802152532388648,
          -0.631054921461625,
          -0.05058220403933079,
          -0.40616064456808204,
          1.3328310775467256,
          -0.7952521462271923,
          1.193583854304163,
          1.2519963841369282,
          -0.9134586174239632,
          -0.8725557059242434,
          1.322184682356837,
          -0.4731022176800327,
          -0.38267636582941933,
          0.38535412701646493,
          -1.1965059878390942,
          0.19145332611762864,
          0.3566681742276206,
          -1.264716104990276,
          0.4243392705895578,
          1.352646395863531,
          -0.02021727760841491,
          -0.7085479943731398,
          -0.3513627400163215,
          0.4455970114568262,
          -0.07323231464269236,
          -0.8415162878062188,
          0.9561748628251976,
          0.8266471204039709,
          1.1931278881829999,
          -0.580958705159653,
          1.8335977808655468,
          0.42426644760194343,
          -0.7852114902855585,
          -1.0309186190380473,
          -0.5628076000169935,
          -0.6668007851181149,
          -0.47099726499280853,
          1.143799160220701,
          -1.5163084407753304,
          0.20717110610832454,
          -1.415994522288912,
          -2.220675022997926,
          0.6582443065023541,
          0.3031872325281803,
          -1.3815256248194634,
          1.297509735968905,
          -2.238715299297245,
          0.09141734497233205,
          1.286436512846688,
          -0.812447701905832,
          2.4930764402388297,
          1.0160813131560342,
          -0.024805488654926825,
          1.2411060588006042,
          -1.8717534423774491,
          -1.2780107408365775,
          0.9604418458571313,
          1.1860385241314744,
          0.2666552647328103,
          -0.5065385105511384,
          0.4729758225569982,
          -1.7988288083912745,
          0.12658581224890725,
          -0.7429979785392491,
          -0.7766302972611013,
          -0.7908572996583494,
          1.7092147797657669,
          0.3766299248489669,
          0.03407246113986779,
          0.8362003788511563,
          -1.1711334684013959,
          -0.48597338126349765,
          -2.203472995499135,
          -0.4551947366698177,
          -0.05546809983232083,
          2.2647661124262575,
          -0.18290251332336832,
          0.38311887678930373,
          0.7702053250113908,
          -1.4726452884463173,
          -0.7940794673819839,
          -1.4445383145154873,
          -1.1988936019151248,
          -0.8107991708981381,
          0.560932510068928,
          -0.5958865538256582
         ]
        },
        {
         "line": {
          "color": "rgba(128, 0, 128, 1.0)",
          "dash": "solid",
          "shape": "linear",
          "width": 1.3
         },
         "mode": "lines",
         "name": "D",
         "text": "",
         "type": "scatter",
         "x": [
          0,
          1,
          2,
          3,
          4,
          5,
          6,
          7,
          8,
          9,
          10,
          11,
          12,
          13,
          14,
          15,
          16,
          17,
          18,
          19,
          20,
          21,
          22,
          23,
          24,
          25,
          26,
          27,
          28,
          29,
          30,
          31,
          32,
          33,
          34,
          35,
          36,
          37,
          38,
          39,
          40,
          41,
          42,
          43,
          44,
          45,
          46,
          47,
          48,
          49,
          50,
          51,
          52,
          53,
          54,
          55,
          56,
          57,
          58,
          59,
          60,
          61,
          62,
          63,
          64,
          65,
          66,
          67,
          68,
          69,
          70,
          71,
          72,
          73,
          74,
          75,
          76,
          77,
          78,
          79,
          80,
          81,
          82,
          83,
          84,
          85,
          86,
          87,
          88,
          89,
          90,
          91,
          92,
          93,
          94,
          95,
          96,
          97,
          98,
          99
         ],
         "y": [
          -1.5749712758367225,
          1.5279679553494656,
          0.6169188398532187,
          0.4381615389821466,
          -1.165902982861862,
          -0.16092737219826567,
          -1.7263006353744885,
          -1.582251046999577,
          0.4469798912409568,
          0.5552252020943597,
          0.33978681096646723,
          -0.26653086846945734,
          -0.18795204881984295,
          -1.196796020247596,
          0.6905438370339786,
          0.19256030671672106,
          0.40745787612123663,
          0.08118535241407211,
          -0.20116012248770837,
          -0.3616228989893024,
          1.1122414385610147,
          -0.7452604582734915,
          0.9916611852938433,
          0.06328464757229811,
          -0.40919677148805067,
          0.593866979645523,
          0.12217081381354897,
          0.8159518001549088,
          -0.7350511957390575,
          -0.22518573653845014,
          -0.08879787450644676,
          -1.795074849986664,
          0.028770762258658402,
          -1.3095779428990628,
          -0.9515379399218806,
          0.5237507118918706,
          -2.5386755453027545,
          0.2982603809537099,
          0.24602326627966442,
          -0.8077688646428979,
          -0.37370504717129976,
          1.9002888111887495,
          0.3824023297822875,
          -0.26624429103922975,
          1.987202651890973,
          2.9333929258512903,
          -0.7381720151404398,
          -1.012779611616609,
          -2.1905488232002144,
          0.17544393723866172,
          -1.0067215886285323,
          0.4753858487792162,
          1.3511332230279804,
          -1.0220811480425784,
          1.0088962206810403,
          0.5955736028083011,
          1.9310225152585656,
          -0.39994860622598055,
          0.19053885631258413,
          -0.500686573805311,
          -1.5338016430096757,
          -1.5629835931009401,
          -0.6138045856884331,
          0.28693952744716644,
          -0.18847477711654487,
          -2.20166846320593,
          2.863689176111007,
          0.42562756483126546,
          0.35399746830538176,
          0.0408933085068111,
          -0.03590807580194766,
          -0.3861647831070781,
          -0.36532724949382955,
          -1.1013570280673528,
          -0.26876016694697025,
          -0.8504890421894056,
          -0.7416937128184802,
          0.9368118692364116,
          0.033451347964105364,
          -1.533761356424725,
          -1.4756323877032957,
          -0.2628794054357832,
          0.7931820665822862,
          -0.9427961603013939,
          1.456836838293411,
          -1.372939292162019,
          -0.23505185131900733,
          1.8747775392364285,
          0.24810542774041208,
          0.741451362268954,
          -1.5167542526614488,
          0.6590929481300954,
          1.1962855891252022,
          -0.42889342349351406,
          -0.8762483646811131,
          0.7897359378126796,
          -0.8687920367555837,
          0.36314292858819397,
          1.3888598090759352,
          -0.09299929489217049
         ]
        }
       ],
       "layout": {
        "legend": {
         "bgcolor": "#F5F6F9",
         "font": {
          "color": "#4D5663"
         }
        },
        "paper_bgcolor": "#F5F6F9",
        "plot_bgcolor": "#F5F6F9",
        "template": {
         "data": {
          "bar": [
           {
            "error_x": {
             "color": "#2a3f5f"
            },
            "error_y": {
             "color": "#2a3f5f"
            },
            "marker": {
             "line": {
              "color": "#E5ECF6",
              "width": 0.5
             },
             "pattern": {
              "fillmode": "overlay",
              "size": 10,
              "solidity": 0.2
             }
            },
            "type": "bar"
           }
          ],
          "barpolar": [
           {
            "marker": {
             "line": {
              "color": "#E5ECF6",
              "width": 0.5
             },
             "pattern": {
              "fillmode": "overlay",
              "size": 10,
              "solidity": 0.2
             }
            },
            "type": "barpolar"
           }
          ],
          "carpet": [
           {
            "aaxis": {
             "endlinecolor": "#2a3f5f",
             "gridcolor": "white",
             "linecolor": "white",
             "minorgridcolor": "white",
             "startlinecolor": "#2a3f5f"
            },
            "baxis": {
             "endlinecolor": "#2a3f5f",
             "gridcolor": "white",
             "linecolor": "white",
             "minorgridcolor": "white",
             "startlinecolor": "#2a3f5f"
            },
            "type": "carpet"
           }
          ],
          "choropleth": [
           {
            "colorbar": {
             "outlinewidth": 0,
             "ticks": ""
            },
            "type": "choropleth"
           }
          ],
          "contour": [
           {
            "colorbar": {
             "outlinewidth": 0,
             "ticks": ""
            },
            "colorscale": [
             [
              0,
              "#0d0887"
             ],
             [
              0.1111111111111111,
              "#46039f"
             ],
             [
              0.2222222222222222,
              "#7201a8"
             ],
             [
              0.3333333333333333,
              "#9c179e"
             ],
             [
              0.4444444444444444,
              "#bd3786"
             ],
             [
              0.5555555555555556,
              "#d8576b"
             ],
             [
              0.6666666666666666,
              "#ed7953"
             ],
             [
              0.7777777777777778,
              "#fb9f3a"
             ],
             [
              0.8888888888888888,
              "#fdca26"
             ],
             [
              1,
              "#f0f921"
             ]
            ],
            "type": "contour"
           }
          ],
          "contourcarpet": [
           {
            "colorbar": {
             "outlinewidth": 0,
             "ticks": ""
            },
            "type": "contourcarpet"
           }
          ],
          "heatmap": [
           {
            "colorbar": {
             "outlinewidth": 0,
             "ticks": ""
            },
            "colorscale": [
             [
              0,
              "#0d0887"
             ],
             [
              0.1111111111111111,
              "#46039f"
             ],
             [
              0.2222222222222222,
              "#7201a8"
             ],
             [
              0.3333333333333333,
              "#9c179e"
             ],
             [
              0.4444444444444444,
              "#bd3786"
             ],
             [
              0.5555555555555556,
              "#d8576b"
             ],
             [
              0.6666666666666666,
              "#ed7953"
             ],
             [
              0.7777777777777778,
              "#fb9f3a"
             ],
             [
              0.8888888888888888,
              "#fdca26"
             ],
             [
              1,
              "#f0f921"
             ]
            ],
            "type": "heatmap"
           }
          ],
          "heatmapgl": [
           {
            "colorbar": {
             "outlinewidth": 0,
             "ticks": ""
            },
            "colorscale": [
             [
              0,
              "#0d0887"
             ],
             [
              0.1111111111111111,
              "#46039f"
             ],
             [
              0.2222222222222222,
              "#7201a8"
             ],
             [
              0.3333333333333333,
              "#9c179e"
             ],
             [
              0.4444444444444444,
              "#bd3786"
             ],
             [
              0.5555555555555556,
              "#d8576b"
             ],
             [
              0.6666666666666666,
              "#ed7953"
             ],
             [
              0.7777777777777778,
              "#fb9f3a"
             ],
             [
              0.8888888888888888,
              "#fdca26"
             ],
             [
              1,
              "#f0f921"
             ]
            ],
            "type": "heatmapgl"
           }
          ],
          "histogram": [
           {
            "marker": {
             "pattern": {
              "fillmode": "overlay",
              "size": 10,
              "solidity": 0.2
             }
            },
            "type": "histogram"
           }
          ],
          "histogram2d": [
           {
            "colorbar": {
             "outlinewidth": 0,
             "ticks": ""
            },
            "colorscale": [
             [
              0,
              "#0d0887"
             ],
             [
              0.1111111111111111,
              "#46039f"
             ],
             [
              0.2222222222222222,
              "#7201a8"
             ],
             [
              0.3333333333333333,
              "#9c179e"
             ],
             [
              0.4444444444444444,
              "#bd3786"
             ],
             [
              0.5555555555555556,
              "#d8576b"
             ],
             [
              0.6666666666666666,
              "#ed7953"
             ],
             [
              0.7777777777777778,
              "#fb9f3a"
             ],
             [
              0.8888888888888888,
              "#fdca26"
             ],
             [
              1,
              "#f0f921"
             ]
            ],
            "type": "histogram2d"
           }
          ],
          "histogram2dcontour": [
           {
            "colorbar": {
             "outlinewidth": 0,
             "ticks": ""
            },
            "colorscale": [
             [
              0,
              "#0d0887"
             ],
             [
              0.1111111111111111,
              "#46039f"
             ],
             [
              0.2222222222222222,
              "#7201a8"
             ],
             [
              0.3333333333333333,
              "#9c179e"
             ],
             [
              0.4444444444444444,
              "#bd3786"
             ],
             [
              0.5555555555555556,
              "#d8576b"
             ],
             [
              0.6666666666666666,
              "#ed7953"
             ],
             [
              0.7777777777777778,
              "#fb9f3a"
             ],
             [
              0.8888888888888888,
              "#fdca26"
             ],
             [
              1,
              "#f0f921"
             ]
            ],
            "type": "histogram2dcontour"
           }
          ],
          "mesh3d": [
           {
            "colorbar": {
             "outlinewidth": 0,
             "ticks": ""
            },
            "type": "mesh3d"
           }
          ],
          "parcoords": [
           {
            "line": {
             "colorbar": {
              "outlinewidth": 0,
              "ticks": ""
             }
            },
            "type": "parcoords"
           }
          ],
          "pie": [
           {
            "automargin": true,
            "type": "pie"
           }
          ],
          "scatter": [
           {
            "fillpattern": {
             "fillmode": "overlay",
             "size": 10,
             "solidity": 0.2
            },
            "type": "scatter"
           }
          ],
          "scatter3d": [
           {
            "line": {
             "colorbar": {
              "outlinewidth": 0,
              "ticks": ""
             }
            },
            "marker": {
             "colorbar": {
              "outlinewidth": 0,
              "ticks": ""
             }
            },
            "type": "scatter3d"
           }
          ],
          "scattercarpet": [
           {
            "marker": {
             "colorbar": {
              "outlinewidth": 0,
              "ticks": ""
             }
            },
            "type": "scattercarpet"
           }
          ],
          "scattergeo": [
           {
            "marker": {
             "colorbar": {
              "outlinewidth": 0,
              "ticks": ""
             }
            },
            "type": "scattergeo"
           }
          ],
          "scattergl": [
           {
            "marker": {
             "colorbar": {
              "outlinewidth": 0,
              "ticks": ""
             }
            },
            "type": "scattergl"
           }
          ],
          "scattermapbox": [
           {
            "marker": {
             "colorbar": {
              "outlinewidth": 0,
              "ticks": ""
             }
            },
            "type": "scattermapbox"
           }
          ],
          "scatterpolar": [
           {
            "marker": {
             "colorbar": {
              "outlinewidth": 0,
              "ticks": ""
             }
            },
            "type": "scatterpolar"
           }
          ],
          "scatterpolargl": [
           {
            "marker": {
             "colorbar": {
              "outlinewidth": 0,
              "ticks": ""
             }
            },
            "type": "scatterpolargl"
           }
          ],
          "scatterternary": [
           {
            "marker": {
             "colorbar": {
              "outlinewidth": 0,
              "ticks": ""
             }
            },
            "type": "scatterternary"
           }
          ],
          "surface": [
           {
            "colorbar": {
             "outlinewidth": 0,
             "ticks": ""
            },
            "colorscale": [
             [
              0,
              "#0d0887"
             ],
             [
              0.1111111111111111,
              "#46039f"
             ],
             [
              0.2222222222222222,
              "#7201a8"
             ],
             [
              0.3333333333333333,
              "#9c179e"
             ],
             [
              0.4444444444444444,
              "#bd3786"
             ],
             [
              0.5555555555555556,
              "#d8576b"
             ],
             [
              0.6666666666666666,
              "#ed7953"
             ],
             [
              0.7777777777777778,
              "#fb9f3a"
             ],
             [
              0.8888888888888888,
              "#fdca26"
             ],
             [
              1,
              "#f0f921"
             ]
            ],
            "type": "surface"
           }
          ],
          "table": [
           {
            "cells": {
             "fill": {
              "color": "#EBF0F8"
             },
             "line": {
              "color": "white"
             }
            },
            "header": {
             "fill": {
              "color": "#C8D4E3"
             },
             "line": {
              "color": "white"
             }
            },
            "type": "table"
           }
          ]
         },
         "layout": {
          "annotationdefaults": {
           "arrowcolor": "#2a3f5f",
           "arrowhead": 0,
           "arrowwidth": 1
          },
          "autotypenumbers": "strict",
          "coloraxis": {
           "colorbar": {
            "outlinewidth": 0,
            "ticks": ""
           }
          },
          "colorscale": {
           "diverging": [
            [
             0,
             "#8e0152"
            ],
            [
             0.1,
             "#c51b7d"
            ],
            [
             0.2,
             "#de77ae"
            ],
            [
             0.3,
             "#f1b6da"
            ],
            [
             0.4,
             "#fde0ef"
            ],
            [
             0.5,
             "#f7f7f7"
            ],
            [
             0.6,
             "#e6f5d0"
            ],
            [
             0.7,
             "#b8e186"
            ],
            [
             0.8,
             "#7fbc41"
            ],
            [
             0.9,
             "#4d9221"
            ],
            [
             1,
             "#276419"
            ]
           ],
           "sequential": [
            [
             0,
             "#0d0887"
            ],
            [
             0.1111111111111111,
             "#46039f"
            ],
            [
             0.2222222222222222,
             "#7201a8"
            ],
            [
             0.3333333333333333,
             "#9c179e"
            ],
            [
             0.4444444444444444,
             "#bd3786"
            ],
            [
             0.5555555555555556,
             "#d8576b"
            ],
            [
             0.6666666666666666,
             "#ed7953"
            ],
            [
             0.7777777777777778,
             "#fb9f3a"
            ],
            [
             0.8888888888888888,
             "#fdca26"
            ],
            [
             1,
             "#f0f921"
            ]
           ],
           "sequentialminus": [
            [
             0,
             "#0d0887"
            ],
            [
             0.1111111111111111,
             "#46039f"
            ],
            [
             0.2222222222222222,
             "#7201a8"
            ],
            [
             0.3333333333333333,
             "#9c179e"
            ],
            [
             0.4444444444444444,
             "#bd3786"
            ],
            [
             0.5555555555555556,
             "#d8576b"
            ],
            [
             0.6666666666666666,
             "#ed7953"
            ],
            [
             0.7777777777777778,
             "#fb9f3a"
            ],
            [
             0.8888888888888888,
             "#fdca26"
            ],
            [
             1,
             "#f0f921"
            ]
           ]
          },
          "colorway": [
           "#636efa",
           "#EF553B",
           "#00cc96",
           "#ab63fa",
           "#FFA15A",
           "#19d3f3",
           "#FF6692",
           "#B6E880",
           "#FF97FF",
           "#FECB52"
          ],
          "font": {
           "color": "#2a3f5f"
          },
          "geo": {
           "bgcolor": "white",
           "lakecolor": "white",
           "landcolor": "#E5ECF6",
           "showlakes": true,
           "showland": true,
           "subunitcolor": "white"
          },
          "hoverlabel": {
           "align": "left"
          },
          "hovermode": "closest",
          "mapbox": {
           "style": "light"
          },
          "paper_bgcolor": "white",
          "plot_bgcolor": "#E5ECF6",
          "polar": {
           "angularaxis": {
            "gridcolor": "white",
            "linecolor": "white",
            "ticks": ""
           },
           "bgcolor": "#E5ECF6",
           "radialaxis": {
            "gridcolor": "white",
            "linecolor": "white",
            "ticks": ""
           }
          },
          "scene": {
           "xaxis": {
            "backgroundcolor": "#E5ECF6",
            "gridcolor": "white",
            "gridwidth": 2,
            "linecolor": "white",
            "showbackground": true,
            "ticks": "",
            "zerolinecolor": "white"
           },
           "yaxis": {
            "backgroundcolor": "#E5ECF6",
            "gridcolor": "white",
            "gridwidth": 2,
            "linecolor": "white",
            "showbackground": true,
            "ticks": "",
            "zerolinecolor": "white"
           },
           "zaxis": {
            "backgroundcolor": "#E5ECF6",
            "gridcolor": "white",
            "gridwidth": 2,
            "linecolor": "white",
            "showbackground": true,
            "ticks": "",
            "zerolinecolor": "white"
           }
          },
          "shapedefaults": {
           "line": {
            "color": "#2a3f5f"
           }
          },
          "ternary": {
           "aaxis": {
            "gridcolor": "white",
            "linecolor": "white",
            "ticks": ""
           },
           "baxis": {
            "gridcolor": "white",
            "linecolor": "white",
            "ticks": ""
           },
           "bgcolor": "#E5ECF6",
           "caxis": {
            "gridcolor": "white",
            "linecolor": "white",
            "ticks": ""
           }
          },
          "title": {
           "x": 0.05
          },
          "xaxis": {
           "automargin": true,
           "gridcolor": "white",
           "linecolor": "white",
           "ticks": "",
           "title": {
            "standoff": 15
           },
           "zerolinecolor": "white",
           "zerolinewidth": 2
          },
          "yaxis": {
           "automargin": true,
           "gridcolor": "white",
           "linecolor": "white",
           "ticks": "",
           "title": {
            "standoff": 15
           },
           "zerolinecolor": "white",
           "zerolinewidth": 2
          }
         }
        },
        "title": {
         "font": {
          "color": "#4D5663"
         }
        },
        "xaxis": {
         "gridcolor": "#E1E5ED",
         "showgrid": true,
         "tickfont": {
          "color": "#4D5663"
         },
         "title": {
          "font": {
           "color": "#4D5663"
          },
          "text": ""
         },
         "zerolinecolor": "#E1E5ED"
        },
        "yaxis": {
         "gridcolor": "#E1E5ED",
         "showgrid": true,
         "tickfont": {
          "color": "#4D5663"
         },
         "title": {
          "font": {
           "color": "#4D5663"
          },
          "text": ""
         },
         "zerolinecolor": "#E1E5ED"
        }
       }
      },
      "text/html": [
       "<div>                            <div id=\"1b7a036a-c388-442a-b846-ffea5a417b9f\" class=\"plotly-graph-div\" style=\"height:525px; width:100%;\"></div>            <script type=\"text/javascript\">                require([\"plotly\"], function(Plotly) {                    window.PLOTLYENV=window.PLOTLYENV || {};\n",
       "                    window.PLOTLYENV.BASE_URL='https://plot.ly';                                    if (document.getElementById(\"1b7a036a-c388-442a-b846-ffea5a417b9f\")) {                    Plotly.newPlot(                        \"1b7a036a-c388-442a-b846-ffea5a417b9f\",                        [{\"line\":{\"color\":\"rgba(255, 153, 51, 1.0)\",\"dash\":\"solid\",\"shape\":\"linear\",\"width\":1.3},\"mode\":\"lines\",\"name\":\"A\",\"text\":\"\",\"x\":[0,1,2,3,4,5,6,7,8,9,10,11,12,13,14,15,16,17,18,19,20,21,22,23,24,25,26,27,28,29,30,31,32,33,34,35,36,37,38,39,40,41,42,43,44,45,46,47,48,49,50,51,52,53,54,55,56,57,58,59,60,61,62,63,64,65,66,67,68,69,70,71,72,73,74,75,76,77,78,79,80,81,82,83,84,85,86,87,88,89,90,91,92,93,94,95,96,97,98,99],\"y\":[0.04472728291752777,2.0136277903577247,-1.9236196401519277,2.4911980816178194,-0.9967665313943013,-0.7951919577304543,1.9487063804665836,-2.23538159261186,-0.6362833050737016,-1.4754844608198587,0.011761902594940405,0.762460136367464,0.09148958294183143,-1.3104088928298192,-0.6551324495685213,0.4417399033234646,-1.0041748206612782,-2.1279381643445148,-0.33415704844100136,1.8822856176465037,-0.17436524138072843,0.24438741548022544,1.1271349499163994,0.12908581848119247,-0.5194216529893724,0.06933790600730215,-0.1604553359252777,0.4243007995667343,-1.1251252448290945,-1.3033981078054881,-0.3439484052277837,0.1853004778913747,-1.2386458788249415,1.5066759635136762,-1.5934330724746797,1.1466275226458311,-0.2998576466989392,-0.7564601805963426,-0.8075479890241387,0.31415964222467585,-1.869410364721812,-0.7150081458694103,-1.1738929577822552,-0.03933686859765417,-0.2301305754650945,1.077391686619631,1.1402657961968796,0.291777123552492,0.9600778507641592,-0.4263265753068178,-0.5520173344511742,0.6578707128339493,0.6018249253613506,-1.226518784319018,-0.10312712302438928,-1.0674536882407857,0.6482714967308668,0.9162266657051357,-0.5372298377330095,0.8845513154382081,0.8015316358892549,-0.7257562347588903,-0.8516497444356815,0.35510691240333075,-0.1602518439569381,0.18772635521434244,0.6394680450095762,-1.7841028128897547,-1.362461857419024,-0.9692165633965856,1.8623982171870008,1.5405117173715361,-1.329477243882208,-1.0570415503714614,0.8275648531322185,0.7174334888677107,-1.8407960180545033,-0.6327346660982492,-1.834893941666618,-1.0222932958815636,-0.0890975036474237,0.9262538909560268,1.587038316260175,1.4636701642913348,0.24217647988032678,-0.05063897611733595,0.723546614583445,-0.49758264536569463,0.9075802085838476,-1.1304087274552108,-1.8339112439763066,-1.1000414778730772,-1.4124638619838747,0.6431580778738788,-1.4370295309081362,0.6910484972701905,3.256655782163857,-0.11462551340178101,2.17596548950574,1.4596346378062068],\"type\":\"scatter\"},{\"line\":{\"color\":\"rgba(55, 128, 191, 1.0)\",\"dash\":\"solid\",\"shape\":\"linear\",\"width\":1.3},\"mode\":\"lines\",\"name\":\"B\",\"text\":\"\",\"x\":[0,1,2,3,4,5,6,7,8,9,10,11,12,13,14,15,16,17,18,19,20,21,22,23,24,25,26,27,28,29,30,31,32,33,34,35,36,37,38,39,40,41,42,43,44,45,46,47,48,49,50,51,52,53,54,55,56,57,58,59,60,61,62,63,64,65,66,67,68,69,70,71,72,73,74,75,76,77,78,79,80,81,82,83,84,85,86,87,88,89,90,91,92,93,94,95,96,97,98,99],\"y\":[-0.3581752144020478,-0.7438157432225722,-0.026352079985911398,-1.7030343296523238,-0.6804127539561089,-0.5742523112529103,-0.644070917542256,1.1420509381512929,2.102995846840507,0.8034327021876664,-0.2544097102330024,-0.5594592584848158,0.3215300951874448,-2.248060706625145,0.8510702715173849,0.02002817387705508,0.4123192990534875,-0.9082770377039694,-2.6085505772612874,-2.147063117352743,0.9535202754542268,-0.0073023603245049125,0.9538228579321008,1.0999244249525777,-1.139370634678592,0.2756124159103919,-0.6372337077181718,-0.36135473899091913,0.21164955578397002,-0.03099702152822309,-0.7316516112829898,0.6355425652614268,1.78039302465161,-2.0788866513236086,1.1491779044101635,-1.6641430920273568,-2.2000095056079068,-0.982006606741808,-1.057634337467608,0.5812949646110466,-1.4253407808509473,0.08339873767432296,1.3543453070586946,-0.17539272838694092,1.2030635329624155,-0.8457858322795581,-0.3938160616631665,0.4041842542547364,-0.22165217214236851,-1.1733244203373254,1.3750172675716983,0.9958795214552347,-0.4135630924958996,1.407402473250491,1.3153437163187505,-0.2337487208533535,-0.8143858125945819,1.2535849479121297,-1.4013077884969811,-0.027873794659457322,-1.6519261458676777,1.0152535488984349,1.6400765995653448,-0.13121204521055865,0.11617127183790316,1.0286285927755345,-0.7385281986681842,0.5734121298857456,0.561397002379349,-0.2949416372362533,0.3748451018513906,0.7535297542120657,-0.8808149739384412,-0.6003689995820148,-0.09021186742874453,-1.0472595114473746,0.3925190406471404,0.7868290741235954,-0.6101642208256651,2.6848305120360294,0.5820378711418692,0.01709018333611756,0.08485702664004978,1.1302744949762342,0.2619928493319134,-0.7773726420782053,-0.013062268486066998,-0.6484815907002609,0.15677550862065318,0.12088007476316984,-0.06528420696843706,0.9644951425621063,0.47524555244276545,-1.2159192117365958,1.102966649667511,0.35982432168304623,0.10840028329846188,-0.4012335082600968,-0.9925124577209844,-1.3590407654438954],\"type\":\"scatter\"},{\"line\":{\"color\":\"rgba(50, 171, 96, 1.0)\",\"dash\":\"solid\",\"shape\":\"linear\",\"width\":1.3},\"mode\":\"lines\",\"name\":\"C\",\"text\":\"\",\"x\":[0,1,2,3,4,5,6,7,8,9,10,11,12,13,14,15,16,17,18,19,20,21,22,23,24,25,26,27,28,29,30,31,32,33,34,35,36,37,38,39,40,41,42,43,44,45,46,47,48,49,50,51,52,53,54,55,56,57,58,59,60,61,62,63,64,65,66,67,68,69,70,71,72,73,74,75,76,77,78,79,80,81,82,83,84,85,86,87,88,89,90,91,92,93,94,95,96,97,98,99],\"y\":[-0.23448312426228735,1.1734040566324928,-0.10861389781654822,0.24027945635684297,-0.08794282132505515,0.6726391635010236,-0.37552541245105003,-0.7494796703260302,-1.2199073146846033,-1.6931654750619702,-1.811079365096557,0.020893689638700835,1.4440760297398576,2.0996733504169476,0.2802152532388648,-0.631054921461625,-0.05058220403933079,-0.40616064456808204,1.3328310775467256,-0.7952521462271923,1.193583854304163,1.2519963841369282,-0.9134586174239632,-0.8725557059242434,1.322184682356837,-0.4731022176800327,-0.38267636582941933,0.38535412701646493,-1.1965059878390942,0.19145332611762864,0.3566681742276206,-1.264716104990276,0.4243392705895578,1.352646395863531,-0.02021727760841491,-0.7085479943731398,-0.3513627400163215,0.4455970114568262,-0.07323231464269236,-0.8415162878062188,0.9561748628251976,0.8266471204039709,1.1931278881829999,-0.580958705159653,1.8335977808655468,0.42426644760194343,-0.7852114902855585,-1.0309186190380473,-0.5628076000169935,-0.6668007851181149,-0.47099726499280853,1.143799160220701,-1.5163084407753304,0.20717110610832454,-1.415994522288912,-2.220675022997926,0.6582443065023541,0.3031872325281803,-1.3815256248194634,1.297509735968905,-2.238715299297245,0.09141734497233205,1.286436512846688,-0.812447701905832,2.4930764402388297,1.0160813131560342,-0.024805488654926825,1.2411060588006042,-1.8717534423774491,-1.2780107408365775,0.9604418458571313,1.1860385241314744,0.2666552647328103,-0.5065385105511384,0.4729758225569982,-1.7988288083912745,0.12658581224890725,-0.7429979785392491,-0.7766302972611013,-0.7908572996583494,1.7092147797657669,0.3766299248489669,0.03407246113986779,0.8362003788511563,-1.1711334684013959,-0.48597338126349765,-2.203472995499135,-0.4551947366698177,-0.05546809983232083,2.2647661124262575,-0.18290251332336832,0.38311887678930373,0.7702053250113908,-1.4726452884463173,-0.7940794673819839,-1.4445383145154873,-1.1988936019151248,-0.8107991708981381,0.560932510068928,-0.5958865538256582],\"type\":\"scatter\"},{\"line\":{\"color\":\"rgba(128, 0, 128, 1.0)\",\"dash\":\"solid\",\"shape\":\"linear\",\"width\":1.3},\"mode\":\"lines\",\"name\":\"D\",\"text\":\"\",\"x\":[0,1,2,3,4,5,6,7,8,9,10,11,12,13,14,15,16,17,18,19,20,21,22,23,24,25,26,27,28,29,30,31,32,33,34,35,36,37,38,39,40,41,42,43,44,45,46,47,48,49,50,51,52,53,54,55,56,57,58,59,60,61,62,63,64,65,66,67,68,69,70,71,72,73,74,75,76,77,78,79,80,81,82,83,84,85,86,87,88,89,90,91,92,93,94,95,96,97,98,99],\"y\":[-1.5749712758367225,1.5279679553494656,0.6169188398532187,0.4381615389821466,-1.165902982861862,-0.16092737219826567,-1.7263006353744885,-1.582251046999577,0.4469798912409568,0.5552252020943597,0.33978681096646723,-0.26653086846945734,-0.18795204881984295,-1.196796020247596,0.6905438370339786,0.19256030671672106,0.40745787612123663,0.08118535241407211,-0.20116012248770837,-0.3616228989893024,1.1122414385610147,-0.7452604582734915,0.9916611852938433,0.06328464757229811,-0.40919677148805067,0.593866979645523,0.12217081381354897,0.8159518001549088,-0.7350511957390575,-0.22518573653845014,-0.08879787450644676,-1.795074849986664,0.028770762258658402,-1.3095779428990628,-0.9515379399218806,0.5237507118918706,-2.5386755453027545,0.2982603809537099,0.24602326627966442,-0.8077688646428979,-0.37370504717129976,1.9002888111887495,0.3824023297822875,-0.26624429103922975,1.987202651890973,2.9333929258512903,-0.7381720151404398,-1.012779611616609,-2.1905488232002144,0.17544393723866172,-1.0067215886285323,0.4753858487792162,1.3511332230279804,-1.0220811480425784,1.0088962206810403,0.5955736028083011,1.9310225152585656,-0.39994860622598055,0.19053885631258413,-0.500686573805311,-1.5338016430096757,-1.5629835931009401,-0.6138045856884331,0.28693952744716644,-0.18847477711654487,-2.20166846320593,2.863689176111007,0.42562756483126546,0.35399746830538176,0.0408933085068111,-0.03590807580194766,-0.3861647831070781,-0.36532724949382955,-1.1013570280673528,-0.26876016694697025,-0.8504890421894056,-0.7416937128184802,0.9368118692364116,0.033451347964105364,-1.533761356424725,-1.4756323877032957,-0.2628794054357832,0.7931820665822862,-0.9427961603013939,1.456836838293411,-1.372939292162019,-0.23505185131900733,1.8747775392364285,0.24810542774041208,0.741451362268954,-1.5167542526614488,0.6590929481300954,1.1962855891252022,-0.42889342349351406,-0.8762483646811131,0.7897359378126796,-0.8687920367555837,0.36314292858819397,1.3888598090759352,-0.09299929489217049],\"type\":\"scatter\"}],                        {\"legend\":{\"bgcolor\":\"#F5F6F9\",\"font\":{\"color\":\"#4D5663\"}},\"paper_bgcolor\":\"#F5F6F9\",\"plot_bgcolor\":\"#F5F6F9\",\"template\":{\"data\":{\"barpolar\":[{\"marker\":{\"line\":{\"color\":\"#E5ECF6\",\"width\":0.5},\"pattern\":{\"fillmode\":\"overlay\",\"size\":10,\"solidity\":0.2}},\"type\":\"barpolar\"}],\"bar\":[{\"error_x\":{\"color\":\"#2a3f5f\"},\"error_y\":{\"color\":\"#2a3f5f\"},\"marker\":{\"line\":{\"color\":\"#E5ECF6\",\"width\":0.5},\"pattern\":{\"fillmode\":\"overlay\",\"size\":10,\"solidity\":0.2}},\"type\":\"bar\"}],\"carpet\":[{\"aaxis\":{\"endlinecolor\":\"#2a3f5f\",\"gridcolor\":\"white\",\"linecolor\":\"white\",\"minorgridcolor\":\"white\",\"startlinecolor\":\"#2a3f5f\"},\"baxis\":{\"endlinecolor\":\"#2a3f5f\",\"gridcolor\":\"white\",\"linecolor\":\"white\",\"minorgridcolor\":\"white\",\"startlinecolor\":\"#2a3f5f\"},\"type\":\"carpet\"}],\"choropleth\":[{\"colorbar\":{\"outlinewidth\":0,\"ticks\":\"\"},\"type\":\"choropleth\"}],\"contourcarpet\":[{\"colorbar\":{\"outlinewidth\":0,\"ticks\":\"\"},\"type\":\"contourcarpet\"}],\"contour\":[{\"colorbar\":{\"outlinewidth\":0,\"ticks\":\"\"},\"colorscale\":[[0.0,\"#0d0887\"],[0.1111111111111111,\"#46039f\"],[0.2222222222222222,\"#7201a8\"],[0.3333333333333333,\"#9c179e\"],[0.4444444444444444,\"#bd3786\"],[0.5555555555555556,\"#d8576b\"],[0.6666666666666666,\"#ed7953\"],[0.7777777777777778,\"#fb9f3a\"],[0.8888888888888888,\"#fdca26\"],[1.0,\"#f0f921\"]],\"type\":\"contour\"}],\"heatmapgl\":[{\"colorbar\":{\"outlinewidth\":0,\"ticks\":\"\"},\"colorscale\":[[0.0,\"#0d0887\"],[0.1111111111111111,\"#46039f\"],[0.2222222222222222,\"#7201a8\"],[0.3333333333333333,\"#9c179e\"],[0.4444444444444444,\"#bd3786\"],[0.5555555555555556,\"#d8576b\"],[0.6666666666666666,\"#ed7953\"],[0.7777777777777778,\"#fb9f3a\"],[0.8888888888888888,\"#fdca26\"],[1.0,\"#f0f921\"]],\"type\":\"heatmapgl\"}],\"heatmap\":[{\"colorbar\":{\"outlinewidth\":0,\"ticks\":\"\"},\"colorscale\":[[0.0,\"#0d0887\"],[0.1111111111111111,\"#46039f\"],[0.2222222222222222,\"#7201a8\"],[0.3333333333333333,\"#9c179e\"],[0.4444444444444444,\"#bd3786\"],[0.5555555555555556,\"#d8576b\"],[0.6666666666666666,\"#ed7953\"],[0.7777777777777778,\"#fb9f3a\"],[0.8888888888888888,\"#fdca26\"],[1.0,\"#f0f921\"]],\"type\":\"heatmap\"}],\"histogram2dcontour\":[{\"colorbar\":{\"outlinewidth\":0,\"ticks\":\"\"},\"colorscale\":[[0.0,\"#0d0887\"],[0.1111111111111111,\"#46039f\"],[0.2222222222222222,\"#7201a8\"],[0.3333333333333333,\"#9c179e\"],[0.4444444444444444,\"#bd3786\"],[0.5555555555555556,\"#d8576b\"],[0.6666666666666666,\"#ed7953\"],[0.7777777777777778,\"#fb9f3a\"],[0.8888888888888888,\"#fdca26\"],[1.0,\"#f0f921\"]],\"type\":\"histogram2dcontour\"}],\"histogram2d\":[{\"colorbar\":{\"outlinewidth\":0,\"ticks\":\"\"},\"colorscale\":[[0.0,\"#0d0887\"],[0.1111111111111111,\"#46039f\"],[0.2222222222222222,\"#7201a8\"],[0.3333333333333333,\"#9c179e\"],[0.4444444444444444,\"#bd3786\"],[0.5555555555555556,\"#d8576b\"],[0.6666666666666666,\"#ed7953\"],[0.7777777777777778,\"#fb9f3a\"],[0.8888888888888888,\"#fdca26\"],[1.0,\"#f0f921\"]],\"type\":\"histogram2d\"}],\"histogram\":[{\"marker\":{\"pattern\":{\"fillmode\":\"overlay\",\"size\":10,\"solidity\":0.2}},\"type\":\"histogram\"}],\"mesh3d\":[{\"colorbar\":{\"outlinewidth\":0,\"ticks\":\"\"},\"type\":\"mesh3d\"}],\"parcoords\":[{\"line\":{\"colorbar\":{\"outlinewidth\":0,\"ticks\":\"\"}},\"type\":\"parcoords\"}],\"pie\":[{\"automargin\":true,\"type\":\"pie\"}],\"scatter3d\":[{\"line\":{\"colorbar\":{\"outlinewidth\":0,\"ticks\":\"\"}},\"marker\":{\"colorbar\":{\"outlinewidth\":0,\"ticks\":\"\"}},\"type\":\"scatter3d\"}],\"scattercarpet\":[{\"marker\":{\"colorbar\":{\"outlinewidth\":0,\"ticks\":\"\"}},\"type\":\"scattercarpet\"}],\"scattergeo\":[{\"marker\":{\"colorbar\":{\"outlinewidth\":0,\"ticks\":\"\"}},\"type\":\"scattergeo\"}],\"scattergl\":[{\"marker\":{\"colorbar\":{\"outlinewidth\":0,\"ticks\":\"\"}},\"type\":\"scattergl\"}],\"scattermapbox\":[{\"marker\":{\"colorbar\":{\"outlinewidth\":0,\"ticks\":\"\"}},\"type\":\"scattermapbox\"}],\"scatterpolargl\":[{\"marker\":{\"colorbar\":{\"outlinewidth\":0,\"ticks\":\"\"}},\"type\":\"scatterpolargl\"}],\"scatterpolar\":[{\"marker\":{\"colorbar\":{\"outlinewidth\":0,\"ticks\":\"\"}},\"type\":\"scatterpolar\"}],\"scatter\":[{\"fillpattern\":{\"fillmode\":\"overlay\",\"size\":10,\"solidity\":0.2},\"type\":\"scatter\"}],\"scatterternary\":[{\"marker\":{\"colorbar\":{\"outlinewidth\":0,\"ticks\":\"\"}},\"type\":\"scatterternary\"}],\"surface\":[{\"colorbar\":{\"outlinewidth\":0,\"ticks\":\"\"},\"colorscale\":[[0.0,\"#0d0887\"],[0.1111111111111111,\"#46039f\"],[0.2222222222222222,\"#7201a8\"],[0.3333333333333333,\"#9c179e\"],[0.4444444444444444,\"#bd3786\"],[0.5555555555555556,\"#d8576b\"],[0.6666666666666666,\"#ed7953\"],[0.7777777777777778,\"#fb9f3a\"],[0.8888888888888888,\"#fdca26\"],[1.0,\"#f0f921\"]],\"type\":\"surface\"}],\"table\":[{\"cells\":{\"fill\":{\"color\":\"#EBF0F8\"},\"line\":{\"color\":\"white\"}},\"header\":{\"fill\":{\"color\":\"#C8D4E3\"},\"line\":{\"color\":\"white\"}},\"type\":\"table\"}]},\"layout\":{\"annotationdefaults\":{\"arrowcolor\":\"#2a3f5f\",\"arrowhead\":0,\"arrowwidth\":1},\"autotypenumbers\":\"strict\",\"coloraxis\":{\"colorbar\":{\"outlinewidth\":0,\"ticks\":\"\"}},\"colorscale\":{\"diverging\":[[0,\"#8e0152\"],[0.1,\"#c51b7d\"],[0.2,\"#de77ae\"],[0.3,\"#f1b6da\"],[0.4,\"#fde0ef\"],[0.5,\"#f7f7f7\"],[0.6,\"#e6f5d0\"],[0.7,\"#b8e186\"],[0.8,\"#7fbc41\"],[0.9,\"#4d9221\"],[1,\"#276419\"]],\"sequential\":[[0.0,\"#0d0887\"],[0.1111111111111111,\"#46039f\"],[0.2222222222222222,\"#7201a8\"],[0.3333333333333333,\"#9c179e\"],[0.4444444444444444,\"#bd3786\"],[0.5555555555555556,\"#d8576b\"],[0.6666666666666666,\"#ed7953\"],[0.7777777777777778,\"#fb9f3a\"],[0.8888888888888888,\"#fdca26\"],[1.0,\"#f0f921\"]],\"sequentialminus\":[[0.0,\"#0d0887\"],[0.1111111111111111,\"#46039f\"],[0.2222222222222222,\"#7201a8\"],[0.3333333333333333,\"#9c179e\"],[0.4444444444444444,\"#bd3786\"],[0.5555555555555556,\"#d8576b\"],[0.6666666666666666,\"#ed7953\"],[0.7777777777777778,\"#fb9f3a\"],[0.8888888888888888,\"#fdca26\"],[1.0,\"#f0f921\"]]},\"colorway\":[\"#636efa\",\"#EF553B\",\"#00cc96\",\"#ab63fa\",\"#FFA15A\",\"#19d3f3\",\"#FF6692\",\"#B6E880\",\"#FF97FF\",\"#FECB52\"],\"font\":{\"color\":\"#2a3f5f\"},\"geo\":{\"bgcolor\":\"white\",\"lakecolor\":\"white\",\"landcolor\":\"#E5ECF6\",\"showlakes\":true,\"showland\":true,\"subunitcolor\":\"white\"},\"hoverlabel\":{\"align\":\"left\"},\"hovermode\":\"closest\",\"mapbox\":{\"style\":\"light\"},\"paper_bgcolor\":\"white\",\"plot_bgcolor\":\"#E5ECF6\",\"polar\":{\"angularaxis\":{\"gridcolor\":\"white\",\"linecolor\":\"white\",\"ticks\":\"\"},\"bgcolor\":\"#E5ECF6\",\"radialaxis\":{\"gridcolor\":\"white\",\"linecolor\":\"white\",\"ticks\":\"\"}},\"scene\":{\"xaxis\":{\"backgroundcolor\":\"#E5ECF6\",\"gridcolor\":\"white\",\"gridwidth\":2,\"linecolor\":\"white\",\"showbackground\":true,\"ticks\":\"\",\"zerolinecolor\":\"white\"},\"yaxis\":{\"backgroundcolor\":\"#E5ECF6\",\"gridcolor\":\"white\",\"gridwidth\":2,\"linecolor\":\"white\",\"showbackground\":true,\"ticks\":\"\",\"zerolinecolor\":\"white\"},\"zaxis\":{\"backgroundcolor\":\"#E5ECF6\",\"gridcolor\":\"white\",\"gridwidth\":2,\"linecolor\":\"white\",\"showbackground\":true,\"ticks\":\"\",\"zerolinecolor\":\"white\"}},\"shapedefaults\":{\"line\":{\"color\":\"#2a3f5f\"}},\"ternary\":{\"aaxis\":{\"gridcolor\":\"white\",\"linecolor\":\"white\",\"ticks\":\"\"},\"baxis\":{\"gridcolor\":\"white\",\"linecolor\":\"white\",\"ticks\":\"\"},\"bgcolor\":\"#E5ECF6\",\"caxis\":{\"gridcolor\":\"white\",\"linecolor\":\"white\",\"ticks\":\"\"}},\"title\":{\"x\":0.05},\"xaxis\":{\"automargin\":true,\"gridcolor\":\"white\",\"linecolor\":\"white\",\"ticks\":\"\",\"title\":{\"standoff\":15},\"zerolinecolor\":\"white\",\"zerolinewidth\":2},\"yaxis\":{\"automargin\":true,\"gridcolor\":\"white\",\"linecolor\":\"white\",\"ticks\":\"\",\"title\":{\"standoff\":15},\"zerolinecolor\":\"white\",\"zerolinewidth\":2}}},\"title\":{\"font\":{\"color\":\"#4D5663\"}},\"xaxis\":{\"gridcolor\":\"#E1E5ED\",\"showgrid\":true,\"tickfont\":{\"color\":\"#4D5663\"},\"title\":{\"font\":{\"color\":\"#4D5663\"},\"text\":\"\"},\"zerolinecolor\":\"#E1E5ED\"},\"yaxis\":{\"gridcolor\":\"#E1E5ED\",\"showgrid\":true,\"tickfont\":{\"color\":\"#4D5663\"},\"title\":{\"font\":{\"color\":\"#4D5663\"},\"text\":\"\"},\"zerolinecolor\":\"#E1E5ED\"}},                        {\"showLink\": true, \"linkText\": \"Export to plot.ly\", \"plotlyServerURL\": \"https://plot.ly\", \"responsive\": true}                    ).then(function(){\n",
       "                            \n",
       "var gd = document.getElementById('1b7a036a-c388-442a-b846-ffea5a417b9f');\n",
       "var x = new MutationObserver(function (mutations, observer) {{\n",
       "        var display = window.getComputedStyle(gd).display;\n",
       "        if (!display || display === 'none') {{\n",
       "            console.log([gd, 'removed!']);\n",
       "            Plotly.purge(gd);\n",
       "            observer.disconnect();\n",
       "        }}\n",
       "}});\n",
       "\n",
       "// Listen for the removal of the full notebook cells\n",
       "var notebookContainer = gd.closest('#notebook-container');\n",
       "if (notebookContainer) {{\n",
       "    x.observe(notebookContainer, {childList: true});\n",
       "}}\n",
       "\n",
       "// Listen for the clearing of the current output cell\n",
       "var outputEl = gd.closest('.output');\n",
       "if (outputEl) {{\n",
       "    x.observe(outputEl, {childList: true});\n",
       "}}\n",
       "\n",
       "                        })                };                });            </script>        </div>"
      ]
     },
     "metadata": {},
     "output_type": "display_data"
    }
   ],
   "source": [
    "df.iplot()"
   ]
  },
  {
   "cell_type": "markdown",
   "id": "e182f4b4",
   "metadata": {},
   "source": [
    "## IPlot - Scatter "
   ]
  },
  {
   "cell_type": "code",
   "execution_count": 30,
   "id": "68d3e272",
   "metadata": {},
   "outputs": [
    {
     "data": {
      "application/vnd.plotly.v1+json": {
       "config": {
        "linkText": "Export to plot.ly",
        "plotlyServerURL": "https://plot.ly",
        "showLink": true
       },
       "data": [
        {
         "line": {
          "color": "rgba(255, 153, 51, 1.0)",
          "dash": "solid",
          "shape": "linear",
          "width": 1.3
         },
         "mode": "lines",
         "name": "B",
         "text": "",
         "type": "scatter",
         "x": [
          0.6867770234399924,
          0.6683921551017072,
          1.4411533697513295,
          1.9814409657559837,
          1.3297210445147463,
          -0.7454371355133094,
          1.6054355600955885,
          0.25685192250655775,
          0.7681629728758927,
          0.26631449845872057,
          0.4874681369848982,
          0.5926917529590866,
          0.2600543069693062,
          0.5981599021953241,
          -0.8029300893067477,
          -0.45520706587696247,
          -1.162274945071763,
          1.4873869734593488,
          -0.5074535841763738,
          -1.5980862260744064,
          -0.7981607121132976,
          -0.5821172949528158,
          -1.309959299850956,
          1.1040129420665168,
          0.20044545239276854,
          1.111659057314797,
          -0.5443350342537964,
          -0.674078570415267,
          0.5308378767773303,
          1.5819011229061855,
          -0.6585024130960088,
          0.3039520125964033,
          0.49178893328258966,
          0.6064506592926233,
          -1.8484992585717293,
          -0.9198261432231457,
          -0.11505254536924395,
          0.17643085744403872,
          1.3606433706436278,
          0.027154200137313286,
          -1.8977140908651022,
          -0.09063800461185963,
          -1.0704299475843002,
          0.7757697807985183,
          0.25620904731821176,
          0.5127127140350655,
          -2.343472112268618,
          -0.06805977415418642,
          -0.39528344371093654,
          1.1711076522338058,
          -0.7025279613218357,
          0.557651577469672,
          0.12477374102015629,
          -1.0577545085081579,
          -0.43019701926306725,
          1.2069421851749134,
          -0.7791923704708045,
          1.0135088763041744,
          0.28223482982016257,
          -0.3776366587228701,
          0.28480979254795213,
          -0.4689099355954037,
          -0.2704403487847361,
          -0.7461871425208925,
          0.02979897428197944,
          0.3550996012408532,
          -0.23337710901946604,
          1.2265202923846001,
          0.22289684777333957,
          0.7130236092487747,
          1.090319553484314,
          -0.1259374555010921,
          0.6755857513941631,
          0.846150006174834,
          -1.9735613019687583,
          0.1248457641479048,
          -0.4503405044647784,
          2.1319321399103885,
          -0.05482518418863648,
          0.3591864789455423,
          0.29013706613646145,
          -1.1674264558216436,
          1.263060648457533,
          -0.4283697681280546,
          -1.1169311139072653,
          2.2871338492187223,
          -0.8022165210911054,
          0.4801854271748392,
          -0.20279369249553533,
          0.7932384948888824,
          0.12368988105696019,
          -0.6658885104786149,
          -0.8535879634111915,
          0.6691566943053116,
          1.3778781097188044,
          -0.40096783731574775,
          0.5365602358752499,
          -0.9340021510793627,
          0.768674087497113,
          1.1628853316271177
         ],
         "y": [
          -0.13317250955058804,
          1.1469483703411436,
          -0.3369160573996035,
          0.9345628575145157,
          0.026618136876677242,
          0.43602774098502156,
          0.36541834437429854,
          0.34920285959226127,
          1.035547613876929,
          0.09682355007368777,
          -1.5845154423925458,
          -0.33346814170282074,
          1.875935261774552,
          -0.6146734310685307,
          -0.9502418622919613,
          -0.2413147838233888,
          -1.1905874087159456,
          -0.9074266548477595,
          -0.07544356091382087,
          0.11456747562593982,
          -0.6029179064378459,
          0.13977738162235842,
          -0.5309511232759857,
          0.23252760667885658,
          -0.2379396513741157,
          0.13486859538005608,
          -0.9595455583635307,
          0.9991707111940493,
          0.9426854823503447,
          -1.6287601170248207,
          0.5285082467342825,
          -1.1045862862583906,
          -1.625668376153862,
          -0.27566813178861027,
          1.073418349384924,
          0.34193548324245226,
          0.4134700026634259,
          1.7234145326150183,
          0.32607620486216227,
          -0.5034845578483993,
          0.3595217976687179,
          -0.2350353681971456,
          0.13542555229421763,
          -1.210728851690674,
          -0.21862258085247968,
          0.5287209500685007,
          -0.9818716938700952,
          -0.9700692902538947,
          -0.21062493798041515,
          -2.623632077276048,
          -1.6771077561187702,
          0.6273357676959612,
          1.340676445494298,
          0.858101859934823,
          0.09187899143646375,
          -1.8014366059262978,
          1.4651367616278217,
          -1.0407002209311496,
          1.5678780367087326,
          0.04413441282943161,
          0.46303916712438187,
          -2.2362121515048985,
          -0.10186430992083725,
          -0.0901160414451153,
          -0.7584346104142148,
          -1.1437998725917586,
          0.36384151964499556,
          -1.5608581277636375,
          -0.22363566152366238,
          0.6044865056870309,
          -0.4171815130511632,
          -0.8145273398208088,
          0.4235969843982873,
          -1.6056108511836462,
          1.109545071680009,
          1.605903064802739,
          -0.30045111312116185,
          0.9143362367789264,
          0.0763392435861955,
          0.39808389415265155,
          0.49236247904288005,
          -0.6538455665233687,
          0.620145973703499,
          0.45786964565424904,
          1.2698143686321746,
          -1.1929860667813577,
          0.9276466017795602,
          1.3841826482362374,
          -1.541241948974734,
          -0.8887221411527173,
          0.4612604209234516,
          0.9583990585918534,
          1.0762796941834432,
          0.24531025847474772,
          -0.8329708040181879,
          -1.6532076570394758,
          1.1764349620768106,
          0.2769488477876356,
          -0.7830798045923495,
          -0.43233533459943146
         ]
        }
       ],
       "layout": {
        "legend": {
         "bgcolor": "#F5F6F9",
         "font": {
          "color": "#4D5663"
         }
        },
        "paper_bgcolor": "#F5F6F9",
        "plot_bgcolor": "#F5F6F9",
        "template": {
         "data": {
          "bar": [
           {
            "error_x": {
             "color": "#2a3f5f"
            },
            "error_y": {
             "color": "#2a3f5f"
            },
            "marker": {
             "line": {
              "color": "#E5ECF6",
              "width": 0.5
             },
             "pattern": {
              "fillmode": "overlay",
              "size": 10,
              "solidity": 0.2
             }
            },
            "type": "bar"
           }
          ],
          "barpolar": [
           {
            "marker": {
             "line": {
              "color": "#E5ECF6",
              "width": 0.5
             },
             "pattern": {
              "fillmode": "overlay",
              "size": 10,
              "solidity": 0.2
             }
            },
            "type": "barpolar"
           }
          ],
          "carpet": [
           {
            "aaxis": {
             "endlinecolor": "#2a3f5f",
             "gridcolor": "white",
             "linecolor": "white",
             "minorgridcolor": "white",
             "startlinecolor": "#2a3f5f"
            },
            "baxis": {
             "endlinecolor": "#2a3f5f",
             "gridcolor": "white",
             "linecolor": "white",
             "minorgridcolor": "white",
             "startlinecolor": "#2a3f5f"
            },
            "type": "carpet"
           }
          ],
          "choropleth": [
           {
            "colorbar": {
             "outlinewidth": 0,
             "ticks": ""
            },
            "type": "choropleth"
           }
          ],
          "contour": [
           {
            "colorbar": {
             "outlinewidth": 0,
             "ticks": ""
            },
            "colorscale": [
             [
              0,
              "#0d0887"
             ],
             [
              0.1111111111111111,
              "#46039f"
             ],
             [
              0.2222222222222222,
              "#7201a8"
             ],
             [
              0.3333333333333333,
              "#9c179e"
             ],
             [
              0.4444444444444444,
              "#bd3786"
             ],
             [
              0.5555555555555556,
              "#d8576b"
             ],
             [
              0.6666666666666666,
              "#ed7953"
             ],
             [
              0.7777777777777778,
              "#fb9f3a"
             ],
             [
              0.8888888888888888,
              "#fdca26"
             ],
             [
              1,
              "#f0f921"
             ]
            ],
            "type": "contour"
           }
          ],
          "contourcarpet": [
           {
            "colorbar": {
             "outlinewidth": 0,
             "ticks": ""
            },
            "type": "contourcarpet"
           }
          ],
          "heatmap": [
           {
            "colorbar": {
             "outlinewidth": 0,
             "ticks": ""
            },
            "colorscale": [
             [
              0,
              "#0d0887"
             ],
             [
              0.1111111111111111,
              "#46039f"
             ],
             [
              0.2222222222222222,
              "#7201a8"
             ],
             [
              0.3333333333333333,
              "#9c179e"
             ],
             [
              0.4444444444444444,
              "#bd3786"
             ],
             [
              0.5555555555555556,
              "#d8576b"
             ],
             [
              0.6666666666666666,
              "#ed7953"
             ],
             [
              0.7777777777777778,
              "#fb9f3a"
             ],
             [
              0.8888888888888888,
              "#fdca26"
             ],
             [
              1,
              "#f0f921"
             ]
            ],
            "type": "heatmap"
           }
          ],
          "heatmapgl": [
           {
            "colorbar": {
             "outlinewidth": 0,
             "ticks": ""
            },
            "colorscale": [
             [
              0,
              "#0d0887"
             ],
             [
              0.1111111111111111,
              "#46039f"
             ],
             [
              0.2222222222222222,
              "#7201a8"
             ],
             [
              0.3333333333333333,
              "#9c179e"
             ],
             [
              0.4444444444444444,
              "#bd3786"
             ],
             [
              0.5555555555555556,
              "#d8576b"
             ],
             [
              0.6666666666666666,
              "#ed7953"
             ],
             [
              0.7777777777777778,
              "#fb9f3a"
             ],
             [
              0.8888888888888888,
              "#fdca26"
             ],
             [
              1,
              "#f0f921"
             ]
            ],
            "type": "heatmapgl"
           }
          ],
          "histogram": [
           {
            "marker": {
             "pattern": {
              "fillmode": "overlay",
              "size": 10,
              "solidity": 0.2
             }
            },
            "type": "histogram"
           }
          ],
          "histogram2d": [
           {
            "colorbar": {
             "outlinewidth": 0,
             "ticks": ""
            },
            "colorscale": [
             [
              0,
              "#0d0887"
             ],
             [
              0.1111111111111111,
              "#46039f"
             ],
             [
              0.2222222222222222,
              "#7201a8"
             ],
             [
              0.3333333333333333,
              "#9c179e"
             ],
             [
              0.4444444444444444,
              "#bd3786"
             ],
             [
              0.5555555555555556,
              "#d8576b"
             ],
             [
              0.6666666666666666,
              "#ed7953"
             ],
             [
              0.7777777777777778,
              "#fb9f3a"
             ],
             [
              0.8888888888888888,
              "#fdca26"
             ],
             [
              1,
              "#f0f921"
             ]
            ],
            "type": "histogram2d"
           }
          ],
          "histogram2dcontour": [
           {
            "colorbar": {
             "outlinewidth": 0,
             "ticks": ""
            },
            "colorscale": [
             [
              0,
              "#0d0887"
             ],
             [
              0.1111111111111111,
              "#46039f"
             ],
             [
              0.2222222222222222,
              "#7201a8"
             ],
             [
              0.3333333333333333,
              "#9c179e"
             ],
             [
              0.4444444444444444,
              "#bd3786"
             ],
             [
              0.5555555555555556,
              "#d8576b"
             ],
             [
              0.6666666666666666,
              "#ed7953"
             ],
             [
              0.7777777777777778,
              "#fb9f3a"
             ],
             [
              0.8888888888888888,
              "#fdca26"
             ],
             [
              1,
              "#f0f921"
             ]
            ],
            "type": "histogram2dcontour"
           }
          ],
          "mesh3d": [
           {
            "colorbar": {
             "outlinewidth": 0,
             "ticks": ""
            },
            "type": "mesh3d"
           }
          ],
          "parcoords": [
           {
            "line": {
             "colorbar": {
              "outlinewidth": 0,
              "ticks": ""
             }
            },
            "type": "parcoords"
           }
          ],
          "pie": [
           {
            "automargin": true,
            "type": "pie"
           }
          ],
          "scatter": [
           {
            "fillpattern": {
             "fillmode": "overlay",
             "size": 10,
             "solidity": 0.2
            },
            "type": "scatter"
           }
          ],
          "scatter3d": [
           {
            "line": {
             "colorbar": {
              "outlinewidth": 0,
              "ticks": ""
             }
            },
            "marker": {
             "colorbar": {
              "outlinewidth": 0,
              "ticks": ""
             }
            },
            "type": "scatter3d"
           }
          ],
          "scattercarpet": [
           {
            "marker": {
             "colorbar": {
              "outlinewidth": 0,
              "ticks": ""
             }
            },
            "type": "scattercarpet"
           }
          ],
          "scattergeo": [
           {
            "marker": {
             "colorbar": {
              "outlinewidth": 0,
              "ticks": ""
             }
            },
            "type": "scattergeo"
           }
          ],
          "scattergl": [
           {
            "marker": {
             "colorbar": {
              "outlinewidth": 0,
              "ticks": ""
             }
            },
            "type": "scattergl"
           }
          ],
          "scattermapbox": [
           {
            "marker": {
             "colorbar": {
              "outlinewidth": 0,
              "ticks": ""
             }
            },
            "type": "scattermapbox"
           }
          ],
          "scatterpolar": [
           {
            "marker": {
             "colorbar": {
              "outlinewidth": 0,
              "ticks": ""
             }
            },
            "type": "scatterpolar"
           }
          ],
          "scatterpolargl": [
           {
            "marker": {
             "colorbar": {
              "outlinewidth": 0,
              "ticks": ""
             }
            },
            "type": "scatterpolargl"
           }
          ],
          "scatterternary": [
           {
            "marker": {
             "colorbar": {
              "outlinewidth": 0,
              "ticks": ""
             }
            },
            "type": "scatterternary"
           }
          ],
          "surface": [
           {
            "colorbar": {
             "outlinewidth": 0,
             "ticks": ""
            },
            "colorscale": [
             [
              0,
              "#0d0887"
             ],
             [
              0.1111111111111111,
              "#46039f"
             ],
             [
              0.2222222222222222,
              "#7201a8"
             ],
             [
              0.3333333333333333,
              "#9c179e"
             ],
             [
              0.4444444444444444,
              "#bd3786"
             ],
             [
              0.5555555555555556,
              "#d8576b"
             ],
             [
              0.6666666666666666,
              "#ed7953"
             ],
             [
              0.7777777777777778,
              "#fb9f3a"
             ],
             [
              0.8888888888888888,
              "#fdca26"
             ],
             [
              1,
              "#f0f921"
             ]
            ],
            "type": "surface"
           }
          ],
          "table": [
           {
            "cells": {
             "fill": {
              "color": "#EBF0F8"
             },
             "line": {
              "color": "white"
             }
            },
            "header": {
             "fill": {
              "color": "#C8D4E3"
             },
             "line": {
              "color": "white"
             }
            },
            "type": "table"
           }
          ]
         },
         "layout": {
          "annotationdefaults": {
           "arrowcolor": "#2a3f5f",
           "arrowhead": 0,
           "arrowwidth": 1
          },
          "autotypenumbers": "strict",
          "coloraxis": {
           "colorbar": {
            "outlinewidth": 0,
            "ticks": ""
           }
          },
          "colorscale": {
           "diverging": [
            [
             0,
             "#8e0152"
            ],
            [
             0.1,
             "#c51b7d"
            ],
            [
             0.2,
             "#de77ae"
            ],
            [
             0.3,
             "#f1b6da"
            ],
            [
             0.4,
             "#fde0ef"
            ],
            [
             0.5,
             "#f7f7f7"
            ],
            [
             0.6,
             "#e6f5d0"
            ],
            [
             0.7,
             "#b8e186"
            ],
            [
             0.8,
             "#7fbc41"
            ],
            [
             0.9,
             "#4d9221"
            ],
            [
             1,
             "#276419"
            ]
           ],
           "sequential": [
            [
             0,
             "#0d0887"
            ],
            [
             0.1111111111111111,
             "#46039f"
            ],
            [
             0.2222222222222222,
             "#7201a8"
            ],
            [
             0.3333333333333333,
             "#9c179e"
            ],
            [
             0.4444444444444444,
             "#bd3786"
            ],
            [
             0.5555555555555556,
             "#d8576b"
            ],
            [
             0.6666666666666666,
             "#ed7953"
            ],
            [
             0.7777777777777778,
             "#fb9f3a"
            ],
            [
             0.8888888888888888,
             "#fdca26"
            ],
            [
             1,
             "#f0f921"
            ]
           ],
           "sequentialminus": [
            [
             0,
             "#0d0887"
            ],
            [
             0.1111111111111111,
             "#46039f"
            ],
            [
             0.2222222222222222,
             "#7201a8"
            ],
            [
             0.3333333333333333,
             "#9c179e"
            ],
            [
             0.4444444444444444,
             "#bd3786"
            ],
            [
             0.5555555555555556,
             "#d8576b"
            ],
            [
             0.6666666666666666,
             "#ed7953"
            ],
            [
             0.7777777777777778,
             "#fb9f3a"
            ],
            [
             0.8888888888888888,
             "#fdca26"
            ],
            [
             1,
             "#f0f921"
            ]
           ]
          },
          "colorway": [
           "#636efa",
           "#EF553B",
           "#00cc96",
           "#ab63fa",
           "#FFA15A",
           "#19d3f3",
           "#FF6692",
           "#B6E880",
           "#FF97FF",
           "#FECB52"
          ],
          "font": {
           "color": "#2a3f5f"
          },
          "geo": {
           "bgcolor": "white",
           "lakecolor": "white",
           "landcolor": "#E5ECF6",
           "showlakes": true,
           "showland": true,
           "subunitcolor": "white"
          },
          "hoverlabel": {
           "align": "left"
          },
          "hovermode": "closest",
          "mapbox": {
           "style": "light"
          },
          "paper_bgcolor": "white",
          "plot_bgcolor": "#E5ECF6",
          "polar": {
           "angularaxis": {
            "gridcolor": "white",
            "linecolor": "white",
            "ticks": ""
           },
           "bgcolor": "#E5ECF6",
           "radialaxis": {
            "gridcolor": "white",
            "linecolor": "white",
            "ticks": ""
           }
          },
          "scene": {
           "xaxis": {
            "backgroundcolor": "#E5ECF6",
            "gridcolor": "white",
            "gridwidth": 2,
            "linecolor": "white",
            "showbackground": true,
            "ticks": "",
            "zerolinecolor": "white"
           },
           "yaxis": {
            "backgroundcolor": "#E5ECF6",
            "gridcolor": "white",
            "gridwidth": 2,
            "linecolor": "white",
            "showbackground": true,
            "ticks": "",
            "zerolinecolor": "white"
           },
           "zaxis": {
            "backgroundcolor": "#E5ECF6",
            "gridcolor": "white",
            "gridwidth": 2,
            "linecolor": "white",
            "showbackground": true,
            "ticks": "",
            "zerolinecolor": "white"
           }
          },
          "shapedefaults": {
           "line": {
            "color": "#2a3f5f"
           }
          },
          "ternary": {
           "aaxis": {
            "gridcolor": "white",
            "linecolor": "white",
            "ticks": ""
           },
           "baxis": {
            "gridcolor": "white",
            "linecolor": "white",
            "ticks": ""
           },
           "bgcolor": "#E5ECF6",
           "caxis": {
            "gridcolor": "white",
            "linecolor": "white",
            "ticks": ""
           }
          },
          "title": {
           "x": 0.05
          },
          "xaxis": {
           "automargin": true,
           "gridcolor": "white",
           "linecolor": "white",
           "ticks": "",
           "title": {
            "standoff": 15
           },
           "zerolinecolor": "white",
           "zerolinewidth": 2
          },
          "yaxis": {
           "automargin": true,
           "gridcolor": "white",
           "linecolor": "white",
           "ticks": "",
           "title": {
            "standoff": 15
           },
           "zerolinecolor": "white",
           "zerolinewidth": 2
          }
         }
        },
        "title": {
         "font": {
          "color": "#4D5663"
         }
        },
        "xaxis": {
         "gridcolor": "#E1E5ED",
         "showgrid": true,
         "tickfont": {
          "color": "#4D5663"
         },
         "title": {
          "font": {
           "color": "#4D5663"
          },
          "text": ""
         },
         "zerolinecolor": "#E1E5ED"
        },
        "yaxis": {
         "gridcolor": "#E1E5ED",
         "showgrid": true,
         "tickfont": {
          "color": "#4D5663"
         },
         "title": {
          "font": {
           "color": "#4D5663"
          },
          "text": ""
         },
         "zerolinecolor": "#E1E5ED"
        }
       }
      },
      "text/html": [
       "<div>                            <div id=\"70e189bf-40b1-4912-b1f3-8b2f45686ef4\" class=\"plotly-graph-div\" style=\"height:525px; width:100%;\"></div>            <script type=\"text/javascript\">                require([\"plotly\"], function(Plotly) {                    window.PLOTLYENV=window.PLOTLYENV || {};\n",
       "                    window.PLOTLYENV.BASE_URL='https://plot.ly';                                    if (document.getElementById(\"70e189bf-40b1-4912-b1f3-8b2f45686ef4\")) {                    Plotly.newPlot(                        \"70e189bf-40b1-4912-b1f3-8b2f45686ef4\",                        [{\"line\":{\"color\":\"rgba(255, 153, 51, 1.0)\",\"dash\":\"solid\",\"shape\":\"linear\",\"width\":1.3},\"mode\":\"lines\",\"name\":\"B\",\"text\":\"\",\"x\":[0.6867770234399924,0.6683921551017072,1.4411533697513295,1.9814409657559837,1.3297210445147463,-0.7454371355133094,1.6054355600955885,0.25685192250655775,0.7681629728758927,0.26631449845872057,0.4874681369848982,0.5926917529590866,0.2600543069693062,0.5981599021953241,-0.8029300893067477,-0.45520706587696247,-1.162274945071763,1.4873869734593488,-0.5074535841763738,-1.5980862260744064,-0.7981607121132976,-0.5821172949528158,-1.309959299850956,1.1040129420665168,0.20044545239276854,1.111659057314797,-0.5443350342537964,-0.674078570415267,0.5308378767773303,1.5819011229061855,-0.6585024130960088,0.3039520125964033,0.49178893328258966,0.6064506592926233,-1.8484992585717293,-0.9198261432231457,-0.11505254536924395,0.17643085744403872,1.3606433706436278,0.027154200137313286,-1.8977140908651022,-0.09063800461185963,-1.0704299475843002,0.7757697807985183,0.25620904731821176,0.5127127140350655,-2.343472112268618,-0.06805977415418642,-0.39528344371093654,1.1711076522338058,-0.7025279613218357,0.557651577469672,0.12477374102015629,-1.0577545085081579,-0.43019701926306725,1.2069421851749134,-0.7791923704708045,1.0135088763041744,0.28223482982016257,-0.3776366587228701,0.28480979254795213,-0.4689099355954037,-0.2704403487847361,-0.7461871425208925,0.02979897428197944,0.3550996012408532,-0.23337710901946604,1.2265202923846001,0.22289684777333957,0.7130236092487747,1.090319553484314,-0.1259374555010921,0.6755857513941631,0.846150006174834,-1.9735613019687583,0.1248457641479048,-0.4503405044647784,2.1319321399103885,-0.05482518418863648,0.3591864789455423,0.29013706613646145,-1.1674264558216436,1.263060648457533,-0.4283697681280546,-1.1169311139072653,2.2871338492187223,-0.8022165210911054,0.4801854271748392,-0.20279369249553533,0.7932384948888824,0.12368988105696019,-0.6658885104786149,-0.8535879634111915,0.6691566943053116,1.3778781097188044,-0.40096783731574775,0.5365602358752499,-0.9340021510793627,0.768674087497113,1.1628853316271177],\"y\":[-0.13317250955058804,1.1469483703411436,-0.3369160573996035,0.9345628575145157,0.026618136876677242,0.43602774098502156,0.36541834437429854,0.34920285959226127,1.035547613876929,0.09682355007368777,-1.5845154423925458,-0.33346814170282074,1.875935261774552,-0.6146734310685307,-0.9502418622919613,-0.2413147838233888,-1.1905874087159456,-0.9074266548477595,-0.07544356091382087,0.11456747562593982,-0.6029179064378459,0.13977738162235842,-0.5309511232759857,0.23252760667885658,-0.2379396513741157,0.13486859538005608,-0.9595455583635307,0.9991707111940493,0.9426854823503447,-1.6287601170248207,0.5285082467342825,-1.1045862862583906,-1.625668376153862,-0.27566813178861027,1.073418349384924,0.34193548324245226,0.4134700026634259,1.7234145326150183,0.32607620486216227,-0.5034845578483993,0.3595217976687179,-0.2350353681971456,0.13542555229421763,-1.210728851690674,-0.21862258085247968,0.5287209500685007,-0.9818716938700952,-0.9700692902538947,-0.21062493798041515,-2.623632077276048,-1.6771077561187702,0.6273357676959612,1.340676445494298,0.858101859934823,0.09187899143646375,-1.8014366059262978,1.4651367616278217,-1.0407002209311496,1.5678780367087326,0.04413441282943161,0.46303916712438187,-2.2362121515048985,-0.10186430992083725,-0.0901160414451153,-0.7584346104142148,-1.1437998725917586,0.36384151964499556,-1.5608581277636375,-0.22363566152366238,0.6044865056870309,-0.4171815130511632,-0.8145273398208088,0.4235969843982873,-1.6056108511836462,1.109545071680009,1.605903064802739,-0.30045111312116185,0.9143362367789264,0.0763392435861955,0.39808389415265155,0.49236247904288005,-0.6538455665233687,0.620145973703499,0.45786964565424904,1.2698143686321746,-1.1929860667813577,0.9276466017795602,1.3841826482362374,-1.541241948974734,-0.8887221411527173,0.4612604209234516,0.9583990585918534,1.0762796941834432,0.24531025847474772,-0.8329708040181879,-1.6532076570394758,1.1764349620768106,0.2769488477876356,-0.7830798045923495,-0.43233533459943146],\"type\":\"scatter\"}],                        {\"legend\":{\"bgcolor\":\"#F5F6F9\",\"font\":{\"color\":\"#4D5663\"}},\"paper_bgcolor\":\"#F5F6F9\",\"plot_bgcolor\":\"#F5F6F9\",\"template\":{\"data\":{\"barpolar\":[{\"marker\":{\"line\":{\"color\":\"#E5ECF6\",\"width\":0.5},\"pattern\":{\"fillmode\":\"overlay\",\"size\":10,\"solidity\":0.2}},\"type\":\"barpolar\"}],\"bar\":[{\"error_x\":{\"color\":\"#2a3f5f\"},\"error_y\":{\"color\":\"#2a3f5f\"},\"marker\":{\"line\":{\"color\":\"#E5ECF6\",\"width\":0.5},\"pattern\":{\"fillmode\":\"overlay\",\"size\":10,\"solidity\":0.2}},\"type\":\"bar\"}],\"carpet\":[{\"aaxis\":{\"endlinecolor\":\"#2a3f5f\",\"gridcolor\":\"white\",\"linecolor\":\"white\",\"minorgridcolor\":\"white\",\"startlinecolor\":\"#2a3f5f\"},\"baxis\":{\"endlinecolor\":\"#2a3f5f\",\"gridcolor\":\"white\",\"linecolor\":\"white\",\"minorgridcolor\":\"white\",\"startlinecolor\":\"#2a3f5f\"},\"type\":\"carpet\"}],\"choropleth\":[{\"colorbar\":{\"outlinewidth\":0,\"ticks\":\"\"},\"type\":\"choropleth\"}],\"contourcarpet\":[{\"colorbar\":{\"outlinewidth\":0,\"ticks\":\"\"},\"type\":\"contourcarpet\"}],\"contour\":[{\"colorbar\":{\"outlinewidth\":0,\"ticks\":\"\"},\"colorscale\":[[0.0,\"#0d0887\"],[0.1111111111111111,\"#46039f\"],[0.2222222222222222,\"#7201a8\"],[0.3333333333333333,\"#9c179e\"],[0.4444444444444444,\"#bd3786\"],[0.5555555555555556,\"#d8576b\"],[0.6666666666666666,\"#ed7953\"],[0.7777777777777778,\"#fb9f3a\"],[0.8888888888888888,\"#fdca26\"],[1.0,\"#f0f921\"]],\"type\":\"contour\"}],\"heatmapgl\":[{\"colorbar\":{\"outlinewidth\":0,\"ticks\":\"\"},\"colorscale\":[[0.0,\"#0d0887\"],[0.1111111111111111,\"#46039f\"],[0.2222222222222222,\"#7201a8\"],[0.3333333333333333,\"#9c179e\"],[0.4444444444444444,\"#bd3786\"],[0.5555555555555556,\"#d8576b\"],[0.6666666666666666,\"#ed7953\"],[0.7777777777777778,\"#fb9f3a\"],[0.8888888888888888,\"#fdca26\"],[1.0,\"#f0f921\"]],\"type\":\"heatmapgl\"}],\"heatmap\":[{\"colorbar\":{\"outlinewidth\":0,\"ticks\":\"\"},\"colorscale\":[[0.0,\"#0d0887\"],[0.1111111111111111,\"#46039f\"],[0.2222222222222222,\"#7201a8\"],[0.3333333333333333,\"#9c179e\"],[0.4444444444444444,\"#bd3786\"],[0.5555555555555556,\"#d8576b\"],[0.6666666666666666,\"#ed7953\"],[0.7777777777777778,\"#fb9f3a\"],[0.8888888888888888,\"#fdca26\"],[1.0,\"#f0f921\"]],\"type\":\"heatmap\"}],\"histogram2dcontour\":[{\"colorbar\":{\"outlinewidth\":0,\"ticks\":\"\"},\"colorscale\":[[0.0,\"#0d0887\"],[0.1111111111111111,\"#46039f\"],[0.2222222222222222,\"#7201a8\"],[0.3333333333333333,\"#9c179e\"],[0.4444444444444444,\"#bd3786\"],[0.5555555555555556,\"#d8576b\"],[0.6666666666666666,\"#ed7953\"],[0.7777777777777778,\"#fb9f3a\"],[0.8888888888888888,\"#fdca26\"],[1.0,\"#f0f921\"]],\"type\":\"histogram2dcontour\"}],\"histogram2d\":[{\"colorbar\":{\"outlinewidth\":0,\"ticks\":\"\"},\"colorscale\":[[0.0,\"#0d0887\"],[0.1111111111111111,\"#46039f\"],[0.2222222222222222,\"#7201a8\"],[0.3333333333333333,\"#9c179e\"],[0.4444444444444444,\"#bd3786\"],[0.5555555555555556,\"#d8576b\"],[0.6666666666666666,\"#ed7953\"],[0.7777777777777778,\"#fb9f3a\"],[0.8888888888888888,\"#fdca26\"],[1.0,\"#f0f921\"]],\"type\":\"histogram2d\"}],\"histogram\":[{\"marker\":{\"pattern\":{\"fillmode\":\"overlay\",\"size\":10,\"solidity\":0.2}},\"type\":\"histogram\"}],\"mesh3d\":[{\"colorbar\":{\"outlinewidth\":0,\"ticks\":\"\"},\"type\":\"mesh3d\"}],\"parcoords\":[{\"line\":{\"colorbar\":{\"outlinewidth\":0,\"ticks\":\"\"}},\"type\":\"parcoords\"}],\"pie\":[{\"automargin\":true,\"type\":\"pie\"}],\"scatter3d\":[{\"line\":{\"colorbar\":{\"outlinewidth\":0,\"ticks\":\"\"}},\"marker\":{\"colorbar\":{\"outlinewidth\":0,\"ticks\":\"\"}},\"type\":\"scatter3d\"}],\"scattercarpet\":[{\"marker\":{\"colorbar\":{\"outlinewidth\":0,\"ticks\":\"\"}},\"type\":\"scattercarpet\"}],\"scattergeo\":[{\"marker\":{\"colorbar\":{\"outlinewidth\":0,\"ticks\":\"\"}},\"type\":\"scattergeo\"}],\"scattergl\":[{\"marker\":{\"colorbar\":{\"outlinewidth\":0,\"ticks\":\"\"}},\"type\":\"scattergl\"}],\"scattermapbox\":[{\"marker\":{\"colorbar\":{\"outlinewidth\":0,\"ticks\":\"\"}},\"type\":\"scattermapbox\"}],\"scatterpolargl\":[{\"marker\":{\"colorbar\":{\"outlinewidth\":0,\"ticks\":\"\"}},\"type\":\"scatterpolargl\"}],\"scatterpolar\":[{\"marker\":{\"colorbar\":{\"outlinewidth\":0,\"ticks\":\"\"}},\"type\":\"scatterpolar\"}],\"scatter\":[{\"fillpattern\":{\"fillmode\":\"overlay\",\"size\":10,\"solidity\":0.2},\"type\":\"scatter\"}],\"scatterternary\":[{\"marker\":{\"colorbar\":{\"outlinewidth\":0,\"ticks\":\"\"}},\"type\":\"scatterternary\"}],\"surface\":[{\"colorbar\":{\"outlinewidth\":0,\"ticks\":\"\"},\"colorscale\":[[0.0,\"#0d0887\"],[0.1111111111111111,\"#46039f\"],[0.2222222222222222,\"#7201a8\"],[0.3333333333333333,\"#9c179e\"],[0.4444444444444444,\"#bd3786\"],[0.5555555555555556,\"#d8576b\"],[0.6666666666666666,\"#ed7953\"],[0.7777777777777778,\"#fb9f3a\"],[0.8888888888888888,\"#fdca26\"],[1.0,\"#f0f921\"]],\"type\":\"surface\"}],\"table\":[{\"cells\":{\"fill\":{\"color\":\"#EBF0F8\"},\"line\":{\"color\":\"white\"}},\"header\":{\"fill\":{\"color\":\"#C8D4E3\"},\"line\":{\"color\":\"white\"}},\"type\":\"table\"}]},\"layout\":{\"annotationdefaults\":{\"arrowcolor\":\"#2a3f5f\",\"arrowhead\":0,\"arrowwidth\":1},\"autotypenumbers\":\"strict\",\"coloraxis\":{\"colorbar\":{\"outlinewidth\":0,\"ticks\":\"\"}},\"colorscale\":{\"diverging\":[[0,\"#8e0152\"],[0.1,\"#c51b7d\"],[0.2,\"#de77ae\"],[0.3,\"#f1b6da\"],[0.4,\"#fde0ef\"],[0.5,\"#f7f7f7\"],[0.6,\"#e6f5d0\"],[0.7,\"#b8e186\"],[0.8,\"#7fbc41\"],[0.9,\"#4d9221\"],[1,\"#276419\"]],\"sequential\":[[0.0,\"#0d0887\"],[0.1111111111111111,\"#46039f\"],[0.2222222222222222,\"#7201a8\"],[0.3333333333333333,\"#9c179e\"],[0.4444444444444444,\"#bd3786\"],[0.5555555555555556,\"#d8576b\"],[0.6666666666666666,\"#ed7953\"],[0.7777777777777778,\"#fb9f3a\"],[0.8888888888888888,\"#fdca26\"],[1.0,\"#f0f921\"]],\"sequentialminus\":[[0.0,\"#0d0887\"],[0.1111111111111111,\"#46039f\"],[0.2222222222222222,\"#7201a8\"],[0.3333333333333333,\"#9c179e\"],[0.4444444444444444,\"#bd3786\"],[0.5555555555555556,\"#d8576b\"],[0.6666666666666666,\"#ed7953\"],[0.7777777777777778,\"#fb9f3a\"],[0.8888888888888888,\"#fdca26\"],[1.0,\"#f0f921\"]]},\"colorway\":[\"#636efa\",\"#EF553B\",\"#00cc96\",\"#ab63fa\",\"#FFA15A\",\"#19d3f3\",\"#FF6692\",\"#B6E880\",\"#FF97FF\",\"#FECB52\"],\"font\":{\"color\":\"#2a3f5f\"},\"geo\":{\"bgcolor\":\"white\",\"lakecolor\":\"white\",\"landcolor\":\"#E5ECF6\",\"showlakes\":true,\"showland\":true,\"subunitcolor\":\"white\"},\"hoverlabel\":{\"align\":\"left\"},\"hovermode\":\"closest\",\"mapbox\":{\"style\":\"light\"},\"paper_bgcolor\":\"white\",\"plot_bgcolor\":\"#E5ECF6\",\"polar\":{\"angularaxis\":{\"gridcolor\":\"white\",\"linecolor\":\"white\",\"ticks\":\"\"},\"bgcolor\":\"#E5ECF6\",\"radialaxis\":{\"gridcolor\":\"white\",\"linecolor\":\"white\",\"ticks\":\"\"}},\"scene\":{\"xaxis\":{\"backgroundcolor\":\"#E5ECF6\",\"gridcolor\":\"white\",\"gridwidth\":2,\"linecolor\":\"white\",\"showbackground\":true,\"ticks\":\"\",\"zerolinecolor\":\"white\"},\"yaxis\":{\"backgroundcolor\":\"#E5ECF6\",\"gridcolor\":\"white\",\"gridwidth\":2,\"linecolor\":\"white\",\"showbackground\":true,\"ticks\":\"\",\"zerolinecolor\":\"white\"},\"zaxis\":{\"backgroundcolor\":\"#E5ECF6\",\"gridcolor\":\"white\",\"gridwidth\":2,\"linecolor\":\"white\",\"showbackground\":true,\"ticks\":\"\",\"zerolinecolor\":\"white\"}},\"shapedefaults\":{\"line\":{\"color\":\"#2a3f5f\"}},\"ternary\":{\"aaxis\":{\"gridcolor\":\"white\",\"linecolor\":\"white\",\"ticks\":\"\"},\"baxis\":{\"gridcolor\":\"white\",\"linecolor\":\"white\",\"ticks\":\"\"},\"bgcolor\":\"#E5ECF6\",\"caxis\":{\"gridcolor\":\"white\",\"linecolor\":\"white\",\"ticks\":\"\"}},\"title\":{\"x\":0.05},\"xaxis\":{\"automargin\":true,\"gridcolor\":\"white\",\"linecolor\":\"white\",\"ticks\":\"\",\"title\":{\"standoff\":15},\"zerolinecolor\":\"white\",\"zerolinewidth\":2},\"yaxis\":{\"automargin\":true,\"gridcolor\":\"white\",\"linecolor\":\"white\",\"ticks\":\"\",\"title\":{\"standoff\":15},\"zerolinecolor\":\"white\",\"zerolinewidth\":2}}},\"title\":{\"font\":{\"color\":\"#4D5663\"}},\"xaxis\":{\"gridcolor\":\"#E1E5ED\",\"showgrid\":true,\"tickfont\":{\"color\":\"#4D5663\"},\"title\":{\"font\":{\"color\":\"#4D5663\"},\"text\":\"\"},\"zerolinecolor\":\"#E1E5ED\"},\"yaxis\":{\"gridcolor\":\"#E1E5ED\",\"showgrid\":true,\"tickfont\":{\"color\":\"#4D5663\"},\"title\":{\"font\":{\"color\":\"#4D5663\"},\"text\":\"\"},\"zerolinecolor\":\"#E1E5ED\"}},                        {\"showLink\": true, \"linkText\": \"Export to plot.ly\", \"plotlyServerURL\": \"https://plot.ly\", \"responsive\": true}                    ).then(function(){\n",
       "                            \n",
       "var gd = document.getElementById('70e189bf-40b1-4912-b1f3-8b2f45686ef4');\n",
       "var x = new MutationObserver(function (mutations, observer) {{\n",
       "        var display = window.getComputedStyle(gd).display;\n",
       "        if (!display || display === 'none') {{\n",
       "            console.log([gd, 'removed!']);\n",
       "            Plotly.purge(gd);\n",
       "            observer.disconnect();\n",
       "        }}\n",
       "}});\n",
       "\n",
       "// Listen for the removal of the full notebook cells\n",
       "var notebookContainer = gd.closest('#notebook-container');\n",
       "if (notebookContainer) {{\n",
       "    x.observe(notebookContainer, {childList: true});\n",
       "}}\n",
       "\n",
       "// Listen for the clearing of the current output cell\n",
       "var outputEl = gd.closest('.output');\n",
       "if (outputEl) {{\n",
       "    x.observe(outputEl, {childList: true});\n",
       "}}\n",
       "\n",
       "                        })                };                });            </script>        </div>"
      ]
     },
     "metadata": {},
     "output_type": "display_data"
    }
   ],
   "source": [
    "df.iplot(kind='scatter',x='A',y='B')"
   ]
  },
  {
   "cell_type": "code",
   "execution_count": 31,
   "id": "2dabe8c2",
   "metadata": {},
   "outputs": [
    {
     "data": {
      "application/vnd.plotly.v1+json": {
       "config": {
        "linkText": "Export to plot.ly",
        "plotlyServerURL": "https://plot.ly",
        "showLink": true
       },
       "data": [
        {
         "line": {
          "color": "rgba(255, 153, 51, 1.0)",
          "dash": "solid",
          "shape": "linear",
          "width": 1.3
         },
         "marker": {
          "size": 10,
          "symbol": "circle"
         },
         "mode": "markers",
         "name": "B",
         "text": "",
         "type": "scatter",
         "x": [
          0.6867770234399924,
          0.6683921551017072,
          1.4411533697513295,
          1.9814409657559837,
          1.3297210445147463,
          -0.7454371355133094,
          1.6054355600955885,
          0.25685192250655775,
          0.7681629728758927,
          0.26631449845872057,
          0.4874681369848982,
          0.5926917529590866,
          0.2600543069693062,
          0.5981599021953241,
          -0.8029300893067477,
          -0.45520706587696247,
          -1.162274945071763,
          1.4873869734593488,
          -0.5074535841763738,
          -1.5980862260744064,
          -0.7981607121132976,
          -0.5821172949528158,
          -1.309959299850956,
          1.1040129420665168,
          0.20044545239276854,
          1.111659057314797,
          -0.5443350342537964,
          -0.674078570415267,
          0.5308378767773303,
          1.5819011229061855,
          -0.6585024130960088,
          0.3039520125964033,
          0.49178893328258966,
          0.6064506592926233,
          -1.8484992585717293,
          -0.9198261432231457,
          -0.11505254536924395,
          0.17643085744403872,
          1.3606433706436278,
          0.027154200137313286,
          -1.8977140908651022,
          -0.09063800461185963,
          -1.0704299475843002,
          0.7757697807985183,
          0.25620904731821176,
          0.5127127140350655,
          -2.343472112268618,
          -0.06805977415418642,
          -0.39528344371093654,
          1.1711076522338058,
          -0.7025279613218357,
          0.557651577469672,
          0.12477374102015629,
          -1.0577545085081579,
          -0.43019701926306725,
          1.2069421851749134,
          -0.7791923704708045,
          1.0135088763041744,
          0.28223482982016257,
          -0.3776366587228701,
          0.28480979254795213,
          -0.4689099355954037,
          -0.2704403487847361,
          -0.7461871425208925,
          0.02979897428197944,
          0.3550996012408532,
          -0.23337710901946604,
          1.2265202923846001,
          0.22289684777333957,
          0.7130236092487747,
          1.090319553484314,
          -0.1259374555010921,
          0.6755857513941631,
          0.846150006174834,
          -1.9735613019687583,
          0.1248457641479048,
          -0.4503405044647784,
          2.1319321399103885,
          -0.05482518418863648,
          0.3591864789455423,
          0.29013706613646145,
          -1.1674264558216436,
          1.263060648457533,
          -0.4283697681280546,
          -1.1169311139072653,
          2.2871338492187223,
          -0.8022165210911054,
          0.4801854271748392,
          -0.20279369249553533,
          0.7932384948888824,
          0.12368988105696019,
          -0.6658885104786149,
          -0.8535879634111915,
          0.6691566943053116,
          1.3778781097188044,
          -0.40096783731574775,
          0.5365602358752499,
          -0.9340021510793627,
          0.768674087497113,
          1.1628853316271177
         ],
         "y": [
          -0.13317250955058804,
          1.1469483703411436,
          -0.3369160573996035,
          0.9345628575145157,
          0.026618136876677242,
          0.43602774098502156,
          0.36541834437429854,
          0.34920285959226127,
          1.035547613876929,
          0.09682355007368777,
          -1.5845154423925458,
          -0.33346814170282074,
          1.875935261774552,
          -0.6146734310685307,
          -0.9502418622919613,
          -0.2413147838233888,
          -1.1905874087159456,
          -0.9074266548477595,
          -0.07544356091382087,
          0.11456747562593982,
          -0.6029179064378459,
          0.13977738162235842,
          -0.5309511232759857,
          0.23252760667885658,
          -0.2379396513741157,
          0.13486859538005608,
          -0.9595455583635307,
          0.9991707111940493,
          0.9426854823503447,
          -1.6287601170248207,
          0.5285082467342825,
          -1.1045862862583906,
          -1.625668376153862,
          -0.27566813178861027,
          1.073418349384924,
          0.34193548324245226,
          0.4134700026634259,
          1.7234145326150183,
          0.32607620486216227,
          -0.5034845578483993,
          0.3595217976687179,
          -0.2350353681971456,
          0.13542555229421763,
          -1.210728851690674,
          -0.21862258085247968,
          0.5287209500685007,
          -0.9818716938700952,
          -0.9700692902538947,
          -0.21062493798041515,
          -2.623632077276048,
          -1.6771077561187702,
          0.6273357676959612,
          1.340676445494298,
          0.858101859934823,
          0.09187899143646375,
          -1.8014366059262978,
          1.4651367616278217,
          -1.0407002209311496,
          1.5678780367087326,
          0.04413441282943161,
          0.46303916712438187,
          -2.2362121515048985,
          -0.10186430992083725,
          -0.0901160414451153,
          -0.7584346104142148,
          -1.1437998725917586,
          0.36384151964499556,
          -1.5608581277636375,
          -0.22363566152366238,
          0.6044865056870309,
          -0.4171815130511632,
          -0.8145273398208088,
          0.4235969843982873,
          -1.6056108511836462,
          1.109545071680009,
          1.605903064802739,
          -0.30045111312116185,
          0.9143362367789264,
          0.0763392435861955,
          0.39808389415265155,
          0.49236247904288005,
          -0.6538455665233687,
          0.620145973703499,
          0.45786964565424904,
          1.2698143686321746,
          -1.1929860667813577,
          0.9276466017795602,
          1.3841826482362374,
          -1.541241948974734,
          -0.8887221411527173,
          0.4612604209234516,
          0.9583990585918534,
          1.0762796941834432,
          0.24531025847474772,
          -0.8329708040181879,
          -1.6532076570394758,
          1.1764349620768106,
          0.2769488477876356,
          -0.7830798045923495,
          -0.43233533459943146
         ]
        }
       ],
       "layout": {
        "legend": {
         "bgcolor": "#F5F6F9",
         "font": {
          "color": "#4D5663"
         }
        },
        "paper_bgcolor": "#F5F6F9",
        "plot_bgcolor": "#F5F6F9",
        "template": {
         "data": {
          "bar": [
           {
            "error_x": {
             "color": "#2a3f5f"
            },
            "error_y": {
             "color": "#2a3f5f"
            },
            "marker": {
             "line": {
              "color": "#E5ECF6",
              "width": 0.5
             },
             "pattern": {
              "fillmode": "overlay",
              "size": 10,
              "solidity": 0.2
             }
            },
            "type": "bar"
           }
          ],
          "barpolar": [
           {
            "marker": {
             "line": {
              "color": "#E5ECF6",
              "width": 0.5
             },
             "pattern": {
              "fillmode": "overlay",
              "size": 10,
              "solidity": 0.2
             }
            },
            "type": "barpolar"
           }
          ],
          "carpet": [
           {
            "aaxis": {
             "endlinecolor": "#2a3f5f",
             "gridcolor": "white",
             "linecolor": "white",
             "minorgridcolor": "white",
             "startlinecolor": "#2a3f5f"
            },
            "baxis": {
             "endlinecolor": "#2a3f5f",
             "gridcolor": "white",
             "linecolor": "white",
             "minorgridcolor": "white",
             "startlinecolor": "#2a3f5f"
            },
            "type": "carpet"
           }
          ],
          "choropleth": [
           {
            "colorbar": {
             "outlinewidth": 0,
             "ticks": ""
            },
            "type": "choropleth"
           }
          ],
          "contour": [
           {
            "colorbar": {
             "outlinewidth": 0,
             "ticks": ""
            },
            "colorscale": [
             [
              0,
              "#0d0887"
             ],
             [
              0.1111111111111111,
              "#46039f"
             ],
             [
              0.2222222222222222,
              "#7201a8"
             ],
             [
              0.3333333333333333,
              "#9c179e"
             ],
             [
              0.4444444444444444,
              "#bd3786"
             ],
             [
              0.5555555555555556,
              "#d8576b"
             ],
             [
              0.6666666666666666,
              "#ed7953"
             ],
             [
              0.7777777777777778,
              "#fb9f3a"
             ],
             [
              0.8888888888888888,
              "#fdca26"
             ],
             [
              1,
              "#f0f921"
             ]
            ],
            "type": "contour"
           }
          ],
          "contourcarpet": [
           {
            "colorbar": {
             "outlinewidth": 0,
             "ticks": ""
            },
            "type": "contourcarpet"
           }
          ],
          "heatmap": [
           {
            "colorbar": {
             "outlinewidth": 0,
             "ticks": ""
            },
            "colorscale": [
             [
              0,
              "#0d0887"
             ],
             [
              0.1111111111111111,
              "#46039f"
             ],
             [
              0.2222222222222222,
              "#7201a8"
             ],
             [
              0.3333333333333333,
              "#9c179e"
             ],
             [
              0.4444444444444444,
              "#bd3786"
             ],
             [
              0.5555555555555556,
              "#d8576b"
             ],
             [
              0.6666666666666666,
              "#ed7953"
             ],
             [
              0.7777777777777778,
              "#fb9f3a"
             ],
             [
              0.8888888888888888,
              "#fdca26"
             ],
             [
              1,
              "#f0f921"
             ]
            ],
            "type": "heatmap"
           }
          ],
          "heatmapgl": [
           {
            "colorbar": {
             "outlinewidth": 0,
             "ticks": ""
            },
            "colorscale": [
             [
              0,
              "#0d0887"
             ],
             [
              0.1111111111111111,
              "#46039f"
             ],
             [
              0.2222222222222222,
              "#7201a8"
             ],
             [
              0.3333333333333333,
              "#9c179e"
             ],
             [
              0.4444444444444444,
              "#bd3786"
             ],
             [
              0.5555555555555556,
              "#d8576b"
             ],
             [
              0.6666666666666666,
              "#ed7953"
             ],
             [
              0.7777777777777778,
              "#fb9f3a"
             ],
             [
              0.8888888888888888,
              "#fdca26"
             ],
             [
              1,
              "#f0f921"
             ]
            ],
            "type": "heatmapgl"
           }
          ],
          "histogram": [
           {
            "marker": {
             "pattern": {
              "fillmode": "overlay",
              "size": 10,
              "solidity": 0.2
             }
            },
            "type": "histogram"
           }
          ],
          "histogram2d": [
           {
            "colorbar": {
             "outlinewidth": 0,
             "ticks": ""
            },
            "colorscale": [
             [
              0,
              "#0d0887"
             ],
             [
              0.1111111111111111,
              "#46039f"
             ],
             [
              0.2222222222222222,
              "#7201a8"
             ],
             [
              0.3333333333333333,
              "#9c179e"
             ],
             [
              0.4444444444444444,
              "#bd3786"
             ],
             [
              0.5555555555555556,
              "#d8576b"
             ],
             [
              0.6666666666666666,
              "#ed7953"
             ],
             [
              0.7777777777777778,
              "#fb9f3a"
             ],
             [
              0.8888888888888888,
              "#fdca26"
             ],
             [
              1,
              "#f0f921"
             ]
            ],
            "type": "histogram2d"
           }
          ],
          "histogram2dcontour": [
           {
            "colorbar": {
             "outlinewidth": 0,
             "ticks": ""
            },
            "colorscale": [
             [
              0,
              "#0d0887"
             ],
             [
              0.1111111111111111,
              "#46039f"
             ],
             [
              0.2222222222222222,
              "#7201a8"
             ],
             [
              0.3333333333333333,
              "#9c179e"
             ],
             [
              0.4444444444444444,
              "#bd3786"
             ],
             [
              0.5555555555555556,
              "#d8576b"
             ],
             [
              0.6666666666666666,
              "#ed7953"
             ],
             [
              0.7777777777777778,
              "#fb9f3a"
             ],
             [
              0.8888888888888888,
              "#fdca26"
             ],
             [
              1,
              "#f0f921"
             ]
            ],
            "type": "histogram2dcontour"
           }
          ],
          "mesh3d": [
           {
            "colorbar": {
             "outlinewidth": 0,
             "ticks": ""
            },
            "type": "mesh3d"
           }
          ],
          "parcoords": [
           {
            "line": {
             "colorbar": {
              "outlinewidth": 0,
              "ticks": ""
             }
            },
            "type": "parcoords"
           }
          ],
          "pie": [
           {
            "automargin": true,
            "type": "pie"
           }
          ],
          "scatter": [
           {
            "fillpattern": {
             "fillmode": "overlay",
             "size": 10,
             "solidity": 0.2
            },
            "type": "scatter"
           }
          ],
          "scatter3d": [
           {
            "line": {
             "colorbar": {
              "outlinewidth": 0,
              "ticks": ""
             }
            },
            "marker": {
             "colorbar": {
              "outlinewidth": 0,
              "ticks": ""
             }
            },
            "type": "scatter3d"
           }
          ],
          "scattercarpet": [
           {
            "marker": {
             "colorbar": {
              "outlinewidth": 0,
              "ticks": ""
             }
            },
            "type": "scattercarpet"
           }
          ],
          "scattergeo": [
           {
            "marker": {
             "colorbar": {
              "outlinewidth": 0,
              "ticks": ""
             }
            },
            "type": "scattergeo"
           }
          ],
          "scattergl": [
           {
            "marker": {
             "colorbar": {
              "outlinewidth": 0,
              "ticks": ""
             }
            },
            "type": "scattergl"
           }
          ],
          "scattermapbox": [
           {
            "marker": {
             "colorbar": {
              "outlinewidth": 0,
              "ticks": ""
             }
            },
            "type": "scattermapbox"
           }
          ],
          "scatterpolar": [
           {
            "marker": {
             "colorbar": {
              "outlinewidth": 0,
              "ticks": ""
             }
            },
            "type": "scatterpolar"
           }
          ],
          "scatterpolargl": [
           {
            "marker": {
             "colorbar": {
              "outlinewidth": 0,
              "ticks": ""
             }
            },
            "type": "scatterpolargl"
           }
          ],
          "scatterternary": [
           {
            "marker": {
             "colorbar": {
              "outlinewidth": 0,
              "ticks": ""
             }
            },
            "type": "scatterternary"
           }
          ],
          "surface": [
           {
            "colorbar": {
             "outlinewidth": 0,
             "ticks": ""
            },
            "colorscale": [
             [
              0,
              "#0d0887"
             ],
             [
              0.1111111111111111,
              "#46039f"
             ],
             [
              0.2222222222222222,
              "#7201a8"
             ],
             [
              0.3333333333333333,
              "#9c179e"
             ],
             [
              0.4444444444444444,
              "#bd3786"
             ],
             [
              0.5555555555555556,
              "#d8576b"
             ],
             [
              0.6666666666666666,
              "#ed7953"
             ],
             [
              0.7777777777777778,
              "#fb9f3a"
             ],
             [
              0.8888888888888888,
              "#fdca26"
             ],
             [
              1,
              "#f0f921"
             ]
            ],
            "type": "surface"
           }
          ],
          "table": [
           {
            "cells": {
             "fill": {
              "color": "#EBF0F8"
             },
             "line": {
              "color": "white"
             }
            },
            "header": {
             "fill": {
              "color": "#C8D4E3"
             },
             "line": {
              "color": "white"
             }
            },
            "type": "table"
           }
          ]
         },
         "layout": {
          "annotationdefaults": {
           "arrowcolor": "#2a3f5f",
           "arrowhead": 0,
           "arrowwidth": 1
          },
          "autotypenumbers": "strict",
          "coloraxis": {
           "colorbar": {
            "outlinewidth": 0,
            "ticks": ""
           }
          },
          "colorscale": {
           "diverging": [
            [
             0,
             "#8e0152"
            ],
            [
             0.1,
             "#c51b7d"
            ],
            [
             0.2,
             "#de77ae"
            ],
            [
             0.3,
             "#f1b6da"
            ],
            [
             0.4,
             "#fde0ef"
            ],
            [
             0.5,
             "#f7f7f7"
            ],
            [
             0.6,
             "#e6f5d0"
            ],
            [
             0.7,
             "#b8e186"
            ],
            [
             0.8,
             "#7fbc41"
            ],
            [
             0.9,
             "#4d9221"
            ],
            [
             1,
             "#276419"
            ]
           ],
           "sequential": [
            [
             0,
             "#0d0887"
            ],
            [
             0.1111111111111111,
             "#46039f"
            ],
            [
             0.2222222222222222,
             "#7201a8"
            ],
            [
             0.3333333333333333,
             "#9c179e"
            ],
            [
             0.4444444444444444,
             "#bd3786"
            ],
            [
             0.5555555555555556,
             "#d8576b"
            ],
            [
             0.6666666666666666,
             "#ed7953"
            ],
            [
             0.7777777777777778,
             "#fb9f3a"
            ],
            [
             0.8888888888888888,
             "#fdca26"
            ],
            [
             1,
             "#f0f921"
            ]
           ],
           "sequentialminus": [
            [
             0,
             "#0d0887"
            ],
            [
             0.1111111111111111,
             "#46039f"
            ],
            [
             0.2222222222222222,
             "#7201a8"
            ],
            [
             0.3333333333333333,
             "#9c179e"
            ],
            [
             0.4444444444444444,
             "#bd3786"
            ],
            [
             0.5555555555555556,
             "#d8576b"
            ],
            [
             0.6666666666666666,
             "#ed7953"
            ],
            [
             0.7777777777777778,
             "#fb9f3a"
            ],
            [
             0.8888888888888888,
             "#fdca26"
            ],
            [
             1,
             "#f0f921"
            ]
           ]
          },
          "colorway": [
           "#636efa",
           "#EF553B",
           "#00cc96",
           "#ab63fa",
           "#FFA15A",
           "#19d3f3",
           "#FF6692",
           "#B6E880",
           "#FF97FF",
           "#FECB52"
          ],
          "font": {
           "color": "#2a3f5f"
          },
          "geo": {
           "bgcolor": "white",
           "lakecolor": "white",
           "landcolor": "#E5ECF6",
           "showlakes": true,
           "showland": true,
           "subunitcolor": "white"
          },
          "hoverlabel": {
           "align": "left"
          },
          "hovermode": "closest",
          "mapbox": {
           "style": "light"
          },
          "paper_bgcolor": "white",
          "plot_bgcolor": "#E5ECF6",
          "polar": {
           "angularaxis": {
            "gridcolor": "white",
            "linecolor": "white",
            "ticks": ""
           },
           "bgcolor": "#E5ECF6",
           "radialaxis": {
            "gridcolor": "white",
            "linecolor": "white",
            "ticks": ""
           }
          },
          "scene": {
           "xaxis": {
            "backgroundcolor": "#E5ECF6",
            "gridcolor": "white",
            "gridwidth": 2,
            "linecolor": "white",
            "showbackground": true,
            "ticks": "",
            "zerolinecolor": "white"
           },
           "yaxis": {
            "backgroundcolor": "#E5ECF6",
            "gridcolor": "white",
            "gridwidth": 2,
            "linecolor": "white",
            "showbackground": true,
            "ticks": "",
            "zerolinecolor": "white"
           },
           "zaxis": {
            "backgroundcolor": "#E5ECF6",
            "gridcolor": "white",
            "gridwidth": 2,
            "linecolor": "white",
            "showbackground": true,
            "ticks": "",
            "zerolinecolor": "white"
           }
          },
          "shapedefaults": {
           "line": {
            "color": "#2a3f5f"
           }
          },
          "ternary": {
           "aaxis": {
            "gridcolor": "white",
            "linecolor": "white",
            "ticks": ""
           },
           "baxis": {
            "gridcolor": "white",
            "linecolor": "white",
            "ticks": ""
           },
           "bgcolor": "#E5ECF6",
           "caxis": {
            "gridcolor": "white",
            "linecolor": "white",
            "ticks": ""
           }
          },
          "title": {
           "x": 0.05
          },
          "xaxis": {
           "automargin": true,
           "gridcolor": "white",
           "linecolor": "white",
           "ticks": "",
           "title": {
            "standoff": 15
           },
           "zerolinecolor": "white",
           "zerolinewidth": 2
          },
          "yaxis": {
           "automargin": true,
           "gridcolor": "white",
           "linecolor": "white",
           "ticks": "",
           "title": {
            "standoff": 15
           },
           "zerolinecolor": "white",
           "zerolinewidth": 2
          }
         }
        },
        "title": {
         "font": {
          "color": "#4D5663"
         }
        },
        "xaxis": {
         "gridcolor": "#E1E5ED",
         "showgrid": true,
         "tickfont": {
          "color": "#4D5663"
         },
         "title": {
          "font": {
           "color": "#4D5663"
          },
          "text": ""
         },
         "zerolinecolor": "#E1E5ED"
        },
        "yaxis": {
         "gridcolor": "#E1E5ED",
         "showgrid": true,
         "tickfont": {
          "color": "#4D5663"
         },
         "title": {
          "font": {
           "color": "#4D5663"
          },
          "text": ""
         },
         "zerolinecolor": "#E1E5ED"
        }
       }
      },
      "text/html": [
       "<div>                            <div id=\"270978d1-71ac-4a0a-98f7-67924b06726c\" class=\"plotly-graph-div\" style=\"height:525px; width:100%;\"></div>            <script type=\"text/javascript\">                require([\"plotly\"], function(Plotly) {                    window.PLOTLYENV=window.PLOTLYENV || {};\n",
       "                    window.PLOTLYENV.BASE_URL='https://plot.ly';                                    if (document.getElementById(\"270978d1-71ac-4a0a-98f7-67924b06726c\")) {                    Plotly.newPlot(                        \"270978d1-71ac-4a0a-98f7-67924b06726c\",                        [{\"line\":{\"color\":\"rgba(255, 153, 51, 1.0)\",\"dash\":\"solid\",\"shape\":\"linear\",\"width\":1.3},\"marker\":{\"size\":10,\"symbol\":\"circle\"},\"mode\":\"markers\",\"name\":\"B\",\"text\":\"\",\"x\":[0.6867770234399924,0.6683921551017072,1.4411533697513295,1.9814409657559837,1.3297210445147463,-0.7454371355133094,1.6054355600955885,0.25685192250655775,0.7681629728758927,0.26631449845872057,0.4874681369848982,0.5926917529590866,0.2600543069693062,0.5981599021953241,-0.8029300893067477,-0.45520706587696247,-1.162274945071763,1.4873869734593488,-0.5074535841763738,-1.5980862260744064,-0.7981607121132976,-0.5821172949528158,-1.309959299850956,1.1040129420665168,0.20044545239276854,1.111659057314797,-0.5443350342537964,-0.674078570415267,0.5308378767773303,1.5819011229061855,-0.6585024130960088,0.3039520125964033,0.49178893328258966,0.6064506592926233,-1.8484992585717293,-0.9198261432231457,-0.11505254536924395,0.17643085744403872,1.3606433706436278,0.027154200137313286,-1.8977140908651022,-0.09063800461185963,-1.0704299475843002,0.7757697807985183,0.25620904731821176,0.5127127140350655,-2.343472112268618,-0.06805977415418642,-0.39528344371093654,1.1711076522338058,-0.7025279613218357,0.557651577469672,0.12477374102015629,-1.0577545085081579,-0.43019701926306725,1.2069421851749134,-0.7791923704708045,1.0135088763041744,0.28223482982016257,-0.3776366587228701,0.28480979254795213,-0.4689099355954037,-0.2704403487847361,-0.7461871425208925,0.02979897428197944,0.3550996012408532,-0.23337710901946604,1.2265202923846001,0.22289684777333957,0.7130236092487747,1.090319553484314,-0.1259374555010921,0.6755857513941631,0.846150006174834,-1.9735613019687583,0.1248457641479048,-0.4503405044647784,2.1319321399103885,-0.05482518418863648,0.3591864789455423,0.29013706613646145,-1.1674264558216436,1.263060648457533,-0.4283697681280546,-1.1169311139072653,2.2871338492187223,-0.8022165210911054,0.4801854271748392,-0.20279369249553533,0.7932384948888824,0.12368988105696019,-0.6658885104786149,-0.8535879634111915,0.6691566943053116,1.3778781097188044,-0.40096783731574775,0.5365602358752499,-0.9340021510793627,0.768674087497113,1.1628853316271177],\"y\":[-0.13317250955058804,1.1469483703411436,-0.3369160573996035,0.9345628575145157,0.026618136876677242,0.43602774098502156,0.36541834437429854,0.34920285959226127,1.035547613876929,0.09682355007368777,-1.5845154423925458,-0.33346814170282074,1.875935261774552,-0.6146734310685307,-0.9502418622919613,-0.2413147838233888,-1.1905874087159456,-0.9074266548477595,-0.07544356091382087,0.11456747562593982,-0.6029179064378459,0.13977738162235842,-0.5309511232759857,0.23252760667885658,-0.2379396513741157,0.13486859538005608,-0.9595455583635307,0.9991707111940493,0.9426854823503447,-1.6287601170248207,0.5285082467342825,-1.1045862862583906,-1.625668376153862,-0.27566813178861027,1.073418349384924,0.34193548324245226,0.4134700026634259,1.7234145326150183,0.32607620486216227,-0.5034845578483993,0.3595217976687179,-0.2350353681971456,0.13542555229421763,-1.210728851690674,-0.21862258085247968,0.5287209500685007,-0.9818716938700952,-0.9700692902538947,-0.21062493798041515,-2.623632077276048,-1.6771077561187702,0.6273357676959612,1.340676445494298,0.858101859934823,0.09187899143646375,-1.8014366059262978,1.4651367616278217,-1.0407002209311496,1.5678780367087326,0.04413441282943161,0.46303916712438187,-2.2362121515048985,-0.10186430992083725,-0.0901160414451153,-0.7584346104142148,-1.1437998725917586,0.36384151964499556,-1.5608581277636375,-0.22363566152366238,0.6044865056870309,-0.4171815130511632,-0.8145273398208088,0.4235969843982873,-1.6056108511836462,1.109545071680009,1.605903064802739,-0.30045111312116185,0.9143362367789264,0.0763392435861955,0.39808389415265155,0.49236247904288005,-0.6538455665233687,0.620145973703499,0.45786964565424904,1.2698143686321746,-1.1929860667813577,0.9276466017795602,1.3841826482362374,-1.541241948974734,-0.8887221411527173,0.4612604209234516,0.9583990585918534,1.0762796941834432,0.24531025847474772,-0.8329708040181879,-1.6532076570394758,1.1764349620768106,0.2769488477876356,-0.7830798045923495,-0.43233533459943146],\"type\":\"scatter\"}],                        {\"legend\":{\"bgcolor\":\"#F5F6F9\",\"font\":{\"color\":\"#4D5663\"}},\"paper_bgcolor\":\"#F5F6F9\",\"plot_bgcolor\":\"#F5F6F9\",\"template\":{\"data\":{\"barpolar\":[{\"marker\":{\"line\":{\"color\":\"#E5ECF6\",\"width\":0.5},\"pattern\":{\"fillmode\":\"overlay\",\"size\":10,\"solidity\":0.2}},\"type\":\"barpolar\"}],\"bar\":[{\"error_x\":{\"color\":\"#2a3f5f\"},\"error_y\":{\"color\":\"#2a3f5f\"},\"marker\":{\"line\":{\"color\":\"#E5ECF6\",\"width\":0.5},\"pattern\":{\"fillmode\":\"overlay\",\"size\":10,\"solidity\":0.2}},\"type\":\"bar\"}],\"carpet\":[{\"aaxis\":{\"endlinecolor\":\"#2a3f5f\",\"gridcolor\":\"white\",\"linecolor\":\"white\",\"minorgridcolor\":\"white\",\"startlinecolor\":\"#2a3f5f\"},\"baxis\":{\"endlinecolor\":\"#2a3f5f\",\"gridcolor\":\"white\",\"linecolor\":\"white\",\"minorgridcolor\":\"white\",\"startlinecolor\":\"#2a3f5f\"},\"type\":\"carpet\"}],\"choropleth\":[{\"colorbar\":{\"outlinewidth\":0,\"ticks\":\"\"},\"type\":\"choropleth\"}],\"contourcarpet\":[{\"colorbar\":{\"outlinewidth\":0,\"ticks\":\"\"},\"type\":\"contourcarpet\"}],\"contour\":[{\"colorbar\":{\"outlinewidth\":0,\"ticks\":\"\"},\"colorscale\":[[0.0,\"#0d0887\"],[0.1111111111111111,\"#46039f\"],[0.2222222222222222,\"#7201a8\"],[0.3333333333333333,\"#9c179e\"],[0.4444444444444444,\"#bd3786\"],[0.5555555555555556,\"#d8576b\"],[0.6666666666666666,\"#ed7953\"],[0.7777777777777778,\"#fb9f3a\"],[0.8888888888888888,\"#fdca26\"],[1.0,\"#f0f921\"]],\"type\":\"contour\"}],\"heatmapgl\":[{\"colorbar\":{\"outlinewidth\":0,\"ticks\":\"\"},\"colorscale\":[[0.0,\"#0d0887\"],[0.1111111111111111,\"#46039f\"],[0.2222222222222222,\"#7201a8\"],[0.3333333333333333,\"#9c179e\"],[0.4444444444444444,\"#bd3786\"],[0.5555555555555556,\"#d8576b\"],[0.6666666666666666,\"#ed7953\"],[0.7777777777777778,\"#fb9f3a\"],[0.8888888888888888,\"#fdca26\"],[1.0,\"#f0f921\"]],\"type\":\"heatmapgl\"}],\"heatmap\":[{\"colorbar\":{\"outlinewidth\":0,\"ticks\":\"\"},\"colorscale\":[[0.0,\"#0d0887\"],[0.1111111111111111,\"#46039f\"],[0.2222222222222222,\"#7201a8\"],[0.3333333333333333,\"#9c179e\"],[0.4444444444444444,\"#bd3786\"],[0.5555555555555556,\"#d8576b\"],[0.6666666666666666,\"#ed7953\"],[0.7777777777777778,\"#fb9f3a\"],[0.8888888888888888,\"#fdca26\"],[1.0,\"#f0f921\"]],\"type\":\"heatmap\"}],\"histogram2dcontour\":[{\"colorbar\":{\"outlinewidth\":0,\"ticks\":\"\"},\"colorscale\":[[0.0,\"#0d0887\"],[0.1111111111111111,\"#46039f\"],[0.2222222222222222,\"#7201a8\"],[0.3333333333333333,\"#9c179e\"],[0.4444444444444444,\"#bd3786\"],[0.5555555555555556,\"#d8576b\"],[0.6666666666666666,\"#ed7953\"],[0.7777777777777778,\"#fb9f3a\"],[0.8888888888888888,\"#fdca26\"],[1.0,\"#f0f921\"]],\"type\":\"histogram2dcontour\"}],\"histogram2d\":[{\"colorbar\":{\"outlinewidth\":0,\"ticks\":\"\"},\"colorscale\":[[0.0,\"#0d0887\"],[0.1111111111111111,\"#46039f\"],[0.2222222222222222,\"#7201a8\"],[0.3333333333333333,\"#9c179e\"],[0.4444444444444444,\"#bd3786\"],[0.5555555555555556,\"#d8576b\"],[0.6666666666666666,\"#ed7953\"],[0.7777777777777778,\"#fb9f3a\"],[0.8888888888888888,\"#fdca26\"],[1.0,\"#f0f921\"]],\"type\":\"histogram2d\"}],\"histogram\":[{\"marker\":{\"pattern\":{\"fillmode\":\"overlay\",\"size\":10,\"solidity\":0.2}},\"type\":\"histogram\"}],\"mesh3d\":[{\"colorbar\":{\"outlinewidth\":0,\"ticks\":\"\"},\"type\":\"mesh3d\"}],\"parcoords\":[{\"line\":{\"colorbar\":{\"outlinewidth\":0,\"ticks\":\"\"}},\"type\":\"parcoords\"}],\"pie\":[{\"automargin\":true,\"type\":\"pie\"}],\"scatter3d\":[{\"line\":{\"colorbar\":{\"outlinewidth\":0,\"ticks\":\"\"}},\"marker\":{\"colorbar\":{\"outlinewidth\":0,\"ticks\":\"\"}},\"type\":\"scatter3d\"}],\"scattercarpet\":[{\"marker\":{\"colorbar\":{\"outlinewidth\":0,\"ticks\":\"\"}},\"type\":\"scattercarpet\"}],\"scattergeo\":[{\"marker\":{\"colorbar\":{\"outlinewidth\":0,\"ticks\":\"\"}},\"type\":\"scattergeo\"}],\"scattergl\":[{\"marker\":{\"colorbar\":{\"outlinewidth\":0,\"ticks\":\"\"}},\"type\":\"scattergl\"}],\"scattermapbox\":[{\"marker\":{\"colorbar\":{\"outlinewidth\":0,\"ticks\":\"\"}},\"type\":\"scattermapbox\"}],\"scatterpolargl\":[{\"marker\":{\"colorbar\":{\"outlinewidth\":0,\"ticks\":\"\"}},\"type\":\"scatterpolargl\"}],\"scatterpolar\":[{\"marker\":{\"colorbar\":{\"outlinewidth\":0,\"ticks\":\"\"}},\"type\":\"scatterpolar\"}],\"scatter\":[{\"fillpattern\":{\"fillmode\":\"overlay\",\"size\":10,\"solidity\":0.2},\"type\":\"scatter\"}],\"scatterternary\":[{\"marker\":{\"colorbar\":{\"outlinewidth\":0,\"ticks\":\"\"}},\"type\":\"scatterternary\"}],\"surface\":[{\"colorbar\":{\"outlinewidth\":0,\"ticks\":\"\"},\"colorscale\":[[0.0,\"#0d0887\"],[0.1111111111111111,\"#46039f\"],[0.2222222222222222,\"#7201a8\"],[0.3333333333333333,\"#9c179e\"],[0.4444444444444444,\"#bd3786\"],[0.5555555555555556,\"#d8576b\"],[0.6666666666666666,\"#ed7953\"],[0.7777777777777778,\"#fb9f3a\"],[0.8888888888888888,\"#fdca26\"],[1.0,\"#f0f921\"]],\"type\":\"surface\"}],\"table\":[{\"cells\":{\"fill\":{\"color\":\"#EBF0F8\"},\"line\":{\"color\":\"white\"}},\"header\":{\"fill\":{\"color\":\"#C8D4E3\"},\"line\":{\"color\":\"white\"}},\"type\":\"table\"}]},\"layout\":{\"annotationdefaults\":{\"arrowcolor\":\"#2a3f5f\",\"arrowhead\":0,\"arrowwidth\":1},\"autotypenumbers\":\"strict\",\"coloraxis\":{\"colorbar\":{\"outlinewidth\":0,\"ticks\":\"\"}},\"colorscale\":{\"diverging\":[[0,\"#8e0152\"],[0.1,\"#c51b7d\"],[0.2,\"#de77ae\"],[0.3,\"#f1b6da\"],[0.4,\"#fde0ef\"],[0.5,\"#f7f7f7\"],[0.6,\"#e6f5d0\"],[0.7,\"#b8e186\"],[0.8,\"#7fbc41\"],[0.9,\"#4d9221\"],[1,\"#276419\"]],\"sequential\":[[0.0,\"#0d0887\"],[0.1111111111111111,\"#46039f\"],[0.2222222222222222,\"#7201a8\"],[0.3333333333333333,\"#9c179e\"],[0.4444444444444444,\"#bd3786\"],[0.5555555555555556,\"#d8576b\"],[0.6666666666666666,\"#ed7953\"],[0.7777777777777778,\"#fb9f3a\"],[0.8888888888888888,\"#fdca26\"],[1.0,\"#f0f921\"]],\"sequentialminus\":[[0.0,\"#0d0887\"],[0.1111111111111111,\"#46039f\"],[0.2222222222222222,\"#7201a8\"],[0.3333333333333333,\"#9c179e\"],[0.4444444444444444,\"#bd3786\"],[0.5555555555555556,\"#d8576b\"],[0.6666666666666666,\"#ed7953\"],[0.7777777777777778,\"#fb9f3a\"],[0.8888888888888888,\"#fdca26\"],[1.0,\"#f0f921\"]]},\"colorway\":[\"#636efa\",\"#EF553B\",\"#00cc96\",\"#ab63fa\",\"#FFA15A\",\"#19d3f3\",\"#FF6692\",\"#B6E880\",\"#FF97FF\",\"#FECB52\"],\"font\":{\"color\":\"#2a3f5f\"},\"geo\":{\"bgcolor\":\"white\",\"lakecolor\":\"white\",\"landcolor\":\"#E5ECF6\",\"showlakes\":true,\"showland\":true,\"subunitcolor\":\"white\"},\"hoverlabel\":{\"align\":\"left\"},\"hovermode\":\"closest\",\"mapbox\":{\"style\":\"light\"},\"paper_bgcolor\":\"white\",\"plot_bgcolor\":\"#E5ECF6\",\"polar\":{\"angularaxis\":{\"gridcolor\":\"white\",\"linecolor\":\"white\",\"ticks\":\"\"},\"bgcolor\":\"#E5ECF6\",\"radialaxis\":{\"gridcolor\":\"white\",\"linecolor\":\"white\",\"ticks\":\"\"}},\"scene\":{\"xaxis\":{\"backgroundcolor\":\"#E5ECF6\",\"gridcolor\":\"white\",\"gridwidth\":2,\"linecolor\":\"white\",\"showbackground\":true,\"ticks\":\"\",\"zerolinecolor\":\"white\"},\"yaxis\":{\"backgroundcolor\":\"#E5ECF6\",\"gridcolor\":\"white\",\"gridwidth\":2,\"linecolor\":\"white\",\"showbackground\":true,\"ticks\":\"\",\"zerolinecolor\":\"white\"},\"zaxis\":{\"backgroundcolor\":\"#E5ECF6\",\"gridcolor\":\"white\",\"gridwidth\":2,\"linecolor\":\"white\",\"showbackground\":true,\"ticks\":\"\",\"zerolinecolor\":\"white\"}},\"shapedefaults\":{\"line\":{\"color\":\"#2a3f5f\"}},\"ternary\":{\"aaxis\":{\"gridcolor\":\"white\",\"linecolor\":\"white\",\"ticks\":\"\"},\"baxis\":{\"gridcolor\":\"white\",\"linecolor\":\"white\",\"ticks\":\"\"},\"bgcolor\":\"#E5ECF6\",\"caxis\":{\"gridcolor\":\"white\",\"linecolor\":\"white\",\"ticks\":\"\"}},\"title\":{\"x\":0.05},\"xaxis\":{\"automargin\":true,\"gridcolor\":\"white\",\"linecolor\":\"white\",\"ticks\":\"\",\"title\":{\"standoff\":15},\"zerolinecolor\":\"white\",\"zerolinewidth\":2},\"yaxis\":{\"automargin\":true,\"gridcolor\":\"white\",\"linecolor\":\"white\",\"ticks\":\"\",\"title\":{\"standoff\":15},\"zerolinecolor\":\"white\",\"zerolinewidth\":2}}},\"title\":{\"font\":{\"color\":\"#4D5663\"}},\"xaxis\":{\"gridcolor\":\"#E1E5ED\",\"showgrid\":true,\"tickfont\":{\"color\":\"#4D5663\"},\"title\":{\"font\":{\"color\":\"#4D5663\"},\"text\":\"\"},\"zerolinecolor\":\"#E1E5ED\"},\"yaxis\":{\"gridcolor\":\"#E1E5ED\",\"showgrid\":true,\"tickfont\":{\"color\":\"#4D5663\"},\"title\":{\"font\":{\"color\":\"#4D5663\"},\"text\":\"\"},\"zerolinecolor\":\"#E1E5ED\"}},                        {\"showLink\": true, \"linkText\": \"Export to plot.ly\", \"plotlyServerURL\": \"https://plot.ly\", \"responsive\": true}                    ).then(function(){\n",
       "                            \n",
       "var gd = document.getElementById('270978d1-71ac-4a0a-98f7-67924b06726c');\n",
       "var x = new MutationObserver(function (mutations, observer) {{\n",
       "        var display = window.getComputedStyle(gd).display;\n",
       "        if (!display || display === 'none') {{\n",
       "            console.log([gd, 'removed!']);\n",
       "            Plotly.purge(gd);\n",
       "            observer.disconnect();\n",
       "        }}\n",
       "}});\n",
       "\n",
       "// Listen for the removal of the full notebook cells\n",
       "var notebookContainer = gd.closest('#notebook-container');\n",
       "if (notebookContainer) {{\n",
       "    x.observe(notebookContainer, {childList: true});\n",
       "}}\n",
       "\n",
       "// Listen for the clearing of the current output cell\n",
       "var outputEl = gd.closest('.output');\n",
       "if (outputEl) {{\n",
       "    x.observe(outputEl, {childList: true});\n",
       "}}\n",
       "\n",
       "                        })                };                });            </script>        </div>"
      ]
     },
     "metadata": {},
     "output_type": "display_data"
    }
   ],
   "source": [
    "df.iplot(kind='scatter',x='A',y='B',mode='markers',size=10)"
   ]
  },
  {
   "cell_type": "markdown",
   "id": "69cf0585",
   "metadata": {},
   "source": [
    "## IPlot - Bar"
   ]
  },
  {
   "cell_type": "code",
   "execution_count": 32,
   "id": "be81111f",
   "metadata": {},
   "outputs": [
    {
     "data": {
      "application/vnd.plotly.v1+json": {
       "config": {
        "linkText": "Export to plot.ly",
        "plotlyServerURL": "https://plot.ly",
        "showLink": true
       },
       "data": [
        {
         "marker": {
          "color": "rgba(255, 153, 51, 0.6)",
          "line": {
           "color": "rgba(255, 153, 51, 1.0)",
           "width": 1
          }
         },
         "name": "Values",
         "orientation": "v",
         "text": "",
         "type": "bar",
         "x": [
          "A",
          "B",
          "C"
         ],
         "y": [
          32,
          43,
          50
         ]
        }
       ],
       "layout": {
        "legend": {
         "bgcolor": "#F5F6F9",
         "font": {
          "color": "#4D5663"
         }
        },
        "paper_bgcolor": "#F5F6F9",
        "plot_bgcolor": "#F5F6F9",
        "template": {
         "data": {
          "bar": [
           {
            "error_x": {
             "color": "#2a3f5f"
            },
            "error_y": {
             "color": "#2a3f5f"
            },
            "marker": {
             "line": {
              "color": "#E5ECF6",
              "width": 0.5
             },
             "pattern": {
              "fillmode": "overlay",
              "size": 10,
              "solidity": 0.2
             }
            },
            "type": "bar"
           }
          ],
          "barpolar": [
           {
            "marker": {
             "line": {
              "color": "#E5ECF6",
              "width": 0.5
             },
             "pattern": {
              "fillmode": "overlay",
              "size": 10,
              "solidity": 0.2
             }
            },
            "type": "barpolar"
           }
          ],
          "carpet": [
           {
            "aaxis": {
             "endlinecolor": "#2a3f5f",
             "gridcolor": "white",
             "linecolor": "white",
             "minorgridcolor": "white",
             "startlinecolor": "#2a3f5f"
            },
            "baxis": {
             "endlinecolor": "#2a3f5f",
             "gridcolor": "white",
             "linecolor": "white",
             "minorgridcolor": "white",
             "startlinecolor": "#2a3f5f"
            },
            "type": "carpet"
           }
          ],
          "choropleth": [
           {
            "colorbar": {
             "outlinewidth": 0,
             "ticks": ""
            },
            "type": "choropleth"
           }
          ],
          "contour": [
           {
            "colorbar": {
             "outlinewidth": 0,
             "ticks": ""
            },
            "colorscale": [
             [
              0,
              "#0d0887"
             ],
             [
              0.1111111111111111,
              "#46039f"
             ],
             [
              0.2222222222222222,
              "#7201a8"
             ],
             [
              0.3333333333333333,
              "#9c179e"
             ],
             [
              0.4444444444444444,
              "#bd3786"
             ],
             [
              0.5555555555555556,
              "#d8576b"
             ],
             [
              0.6666666666666666,
              "#ed7953"
             ],
             [
              0.7777777777777778,
              "#fb9f3a"
             ],
             [
              0.8888888888888888,
              "#fdca26"
             ],
             [
              1,
              "#f0f921"
             ]
            ],
            "type": "contour"
           }
          ],
          "contourcarpet": [
           {
            "colorbar": {
             "outlinewidth": 0,
             "ticks": ""
            },
            "type": "contourcarpet"
           }
          ],
          "heatmap": [
           {
            "colorbar": {
             "outlinewidth": 0,
             "ticks": ""
            },
            "colorscale": [
             [
              0,
              "#0d0887"
             ],
             [
              0.1111111111111111,
              "#46039f"
             ],
             [
              0.2222222222222222,
              "#7201a8"
             ],
             [
              0.3333333333333333,
              "#9c179e"
             ],
             [
              0.4444444444444444,
              "#bd3786"
             ],
             [
              0.5555555555555556,
              "#d8576b"
             ],
             [
              0.6666666666666666,
              "#ed7953"
             ],
             [
              0.7777777777777778,
              "#fb9f3a"
             ],
             [
              0.8888888888888888,
              "#fdca26"
             ],
             [
              1,
              "#f0f921"
             ]
            ],
            "type": "heatmap"
           }
          ],
          "heatmapgl": [
           {
            "colorbar": {
             "outlinewidth": 0,
             "ticks": ""
            },
            "colorscale": [
             [
              0,
              "#0d0887"
             ],
             [
              0.1111111111111111,
              "#46039f"
             ],
             [
              0.2222222222222222,
              "#7201a8"
             ],
             [
              0.3333333333333333,
              "#9c179e"
             ],
             [
              0.4444444444444444,
              "#bd3786"
             ],
             [
              0.5555555555555556,
              "#d8576b"
             ],
             [
              0.6666666666666666,
              "#ed7953"
             ],
             [
              0.7777777777777778,
              "#fb9f3a"
             ],
             [
              0.8888888888888888,
              "#fdca26"
             ],
             [
              1,
              "#f0f921"
             ]
            ],
            "type": "heatmapgl"
           }
          ],
          "histogram": [
           {
            "marker": {
             "pattern": {
              "fillmode": "overlay",
              "size": 10,
              "solidity": 0.2
             }
            },
            "type": "histogram"
           }
          ],
          "histogram2d": [
           {
            "colorbar": {
             "outlinewidth": 0,
             "ticks": ""
            },
            "colorscale": [
             [
              0,
              "#0d0887"
             ],
             [
              0.1111111111111111,
              "#46039f"
             ],
             [
              0.2222222222222222,
              "#7201a8"
             ],
             [
              0.3333333333333333,
              "#9c179e"
             ],
             [
              0.4444444444444444,
              "#bd3786"
             ],
             [
              0.5555555555555556,
              "#d8576b"
             ],
             [
              0.6666666666666666,
              "#ed7953"
             ],
             [
              0.7777777777777778,
              "#fb9f3a"
             ],
             [
              0.8888888888888888,
              "#fdca26"
             ],
             [
              1,
              "#f0f921"
             ]
            ],
            "type": "histogram2d"
           }
          ],
          "histogram2dcontour": [
           {
            "colorbar": {
             "outlinewidth": 0,
             "ticks": ""
            },
            "colorscale": [
             [
              0,
              "#0d0887"
             ],
             [
              0.1111111111111111,
              "#46039f"
             ],
             [
              0.2222222222222222,
              "#7201a8"
             ],
             [
              0.3333333333333333,
              "#9c179e"
             ],
             [
              0.4444444444444444,
              "#bd3786"
             ],
             [
              0.5555555555555556,
              "#d8576b"
             ],
             [
              0.6666666666666666,
              "#ed7953"
             ],
             [
              0.7777777777777778,
              "#fb9f3a"
             ],
             [
              0.8888888888888888,
              "#fdca26"
             ],
             [
              1,
              "#f0f921"
             ]
            ],
            "type": "histogram2dcontour"
           }
          ],
          "mesh3d": [
           {
            "colorbar": {
             "outlinewidth": 0,
             "ticks": ""
            },
            "type": "mesh3d"
           }
          ],
          "parcoords": [
           {
            "line": {
             "colorbar": {
              "outlinewidth": 0,
              "ticks": ""
             }
            },
            "type": "parcoords"
           }
          ],
          "pie": [
           {
            "automargin": true,
            "type": "pie"
           }
          ],
          "scatter": [
           {
            "fillpattern": {
             "fillmode": "overlay",
             "size": 10,
             "solidity": 0.2
            },
            "type": "scatter"
           }
          ],
          "scatter3d": [
           {
            "line": {
             "colorbar": {
              "outlinewidth": 0,
              "ticks": ""
             }
            },
            "marker": {
             "colorbar": {
              "outlinewidth": 0,
              "ticks": ""
             }
            },
            "type": "scatter3d"
           }
          ],
          "scattercarpet": [
           {
            "marker": {
             "colorbar": {
              "outlinewidth": 0,
              "ticks": ""
             }
            },
            "type": "scattercarpet"
           }
          ],
          "scattergeo": [
           {
            "marker": {
             "colorbar": {
              "outlinewidth": 0,
              "ticks": ""
             }
            },
            "type": "scattergeo"
           }
          ],
          "scattergl": [
           {
            "marker": {
             "colorbar": {
              "outlinewidth": 0,
              "ticks": ""
             }
            },
            "type": "scattergl"
           }
          ],
          "scattermapbox": [
           {
            "marker": {
             "colorbar": {
              "outlinewidth": 0,
              "ticks": ""
             }
            },
            "type": "scattermapbox"
           }
          ],
          "scatterpolar": [
           {
            "marker": {
             "colorbar": {
              "outlinewidth": 0,
              "ticks": ""
             }
            },
            "type": "scatterpolar"
           }
          ],
          "scatterpolargl": [
           {
            "marker": {
             "colorbar": {
              "outlinewidth": 0,
              "ticks": ""
             }
            },
            "type": "scatterpolargl"
           }
          ],
          "scatterternary": [
           {
            "marker": {
             "colorbar": {
              "outlinewidth": 0,
              "ticks": ""
             }
            },
            "type": "scatterternary"
           }
          ],
          "surface": [
           {
            "colorbar": {
             "outlinewidth": 0,
             "ticks": ""
            },
            "colorscale": [
             [
              0,
              "#0d0887"
             ],
             [
              0.1111111111111111,
              "#46039f"
             ],
             [
              0.2222222222222222,
              "#7201a8"
             ],
             [
              0.3333333333333333,
              "#9c179e"
             ],
             [
              0.4444444444444444,
              "#bd3786"
             ],
             [
              0.5555555555555556,
              "#d8576b"
             ],
             [
              0.6666666666666666,
              "#ed7953"
             ],
             [
              0.7777777777777778,
              "#fb9f3a"
             ],
             [
              0.8888888888888888,
              "#fdca26"
             ],
             [
              1,
              "#f0f921"
             ]
            ],
            "type": "surface"
           }
          ],
          "table": [
           {
            "cells": {
             "fill": {
              "color": "#EBF0F8"
             },
             "line": {
              "color": "white"
             }
            },
            "header": {
             "fill": {
              "color": "#C8D4E3"
             },
             "line": {
              "color": "white"
             }
            },
            "type": "table"
           }
          ]
         },
         "layout": {
          "annotationdefaults": {
           "arrowcolor": "#2a3f5f",
           "arrowhead": 0,
           "arrowwidth": 1
          },
          "autotypenumbers": "strict",
          "coloraxis": {
           "colorbar": {
            "outlinewidth": 0,
            "ticks": ""
           }
          },
          "colorscale": {
           "diverging": [
            [
             0,
             "#8e0152"
            ],
            [
             0.1,
             "#c51b7d"
            ],
            [
             0.2,
             "#de77ae"
            ],
            [
             0.3,
             "#f1b6da"
            ],
            [
             0.4,
             "#fde0ef"
            ],
            [
             0.5,
             "#f7f7f7"
            ],
            [
             0.6,
             "#e6f5d0"
            ],
            [
             0.7,
             "#b8e186"
            ],
            [
             0.8,
             "#7fbc41"
            ],
            [
             0.9,
             "#4d9221"
            ],
            [
             1,
             "#276419"
            ]
           ],
           "sequential": [
            [
             0,
             "#0d0887"
            ],
            [
             0.1111111111111111,
             "#46039f"
            ],
            [
             0.2222222222222222,
             "#7201a8"
            ],
            [
             0.3333333333333333,
             "#9c179e"
            ],
            [
             0.4444444444444444,
             "#bd3786"
            ],
            [
             0.5555555555555556,
             "#d8576b"
            ],
            [
             0.6666666666666666,
             "#ed7953"
            ],
            [
             0.7777777777777778,
             "#fb9f3a"
            ],
            [
             0.8888888888888888,
             "#fdca26"
            ],
            [
             1,
             "#f0f921"
            ]
           ],
           "sequentialminus": [
            [
             0,
             "#0d0887"
            ],
            [
             0.1111111111111111,
             "#46039f"
            ],
            [
             0.2222222222222222,
             "#7201a8"
            ],
            [
             0.3333333333333333,
             "#9c179e"
            ],
            [
             0.4444444444444444,
             "#bd3786"
            ],
            [
             0.5555555555555556,
             "#d8576b"
            ],
            [
             0.6666666666666666,
             "#ed7953"
            ],
            [
             0.7777777777777778,
             "#fb9f3a"
            ],
            [
             0.8888888888888888,
             "#fdca26"
            ],
            [
             1,
             "#f0f921"
            ]
           ]
          },
          "colorway": [
           "#636efa",
           "#EF553B",
           "#00cc96",
           "#ab63fa",
           "#FFA15A",
           "#19d3f3",
           "#FF6692",
           "#B6E880",
           "#FF97FF",
           "#FECB52"
          ],
          "font": {
           "color": "#2a3f5f"
          },
          "geo": {
           "bgcolor": "white",
           "lakecolor": "white",
           "landcolor": "#E5ECF6",
           "showlakes": true,
           "showland": true,
           "subunitcolor": "white"
          },
          "hoverlabel": {
           "align": "left"
          },
          "hovermode": "closest",
          "mapbox": {
           "style": "light"
          },
          "paper_bgcolor": "white",
          "plot_bgcolor": "#E5ECF6",
          "polar": {
           "angularaxis": {
            "gridcolor": "white",
            "linecolor": "white",
            "ticks": ""
           },
           "bgcolor": "#E5ECF6",
           "radialaxis": {
            "gridcolor": "white",
            "linecolor": "white",
            "ticks": ""
           }
          },
          "scene": {
           "xaxis": {
            "backgroundcolor": "#E5ECF6",
            "gridcolor": "white",
            "gridwidth": 2,
            "linecolor": "white",
            "showbackground": true,
            "ticks": "",
            "zerolinecolor": "white"
           },
           "yaxis": {
            "backgroundcolor": "#E5ECF6",
            "gridcolor": "white",
            "gridwidth": 2,
            "linecolor": "white",
            "showbackground": true,
            "ticks": "",
            "zerolinecolor": "white"
           },
           "zaxis": {
            "backgroundcolor": "#E5ECF6",
            "gridcolor": "white",
            "gridwidth": 2,
            "linecolor": "white",
            "showbackground": true,
            "ticks": "",
            "zerolinecolor": "white"
           }
          },
          "shapedefaults": {
           "line": {
            "color": "#2a3f5f"
           }
          },
          "ternary": {
           "aaxis": {
            "gridcolor": "white",
            "linecolor": "white",
            "ticks": ""
           },
           "baxis": {
            "gridcolor": "white",
            "linecolor": "white",
            "ticks": ""
           },
           "bgcolor": "#E5ECF6",
           "caxis": {
            "gridcolor": "white",
            "linecolor": "white",
            "ticks": ""
           }
          },
          "title": {
           "x": 0.05
          },
          "xaxis": {
           "automargin": true,
           "gridcolor": "white",
           "linecolor": "white",
           "ticks": "",
           "title": {
            "standoff": 15
           },
           "zerolinecolor": "white",
           "zerolinewidth": 2
          },
          "yaxis": {
           "automargin": true,
           "gridcolor": "white",
           "linecolor": "white",
           "ticks": "",
           "title": {
            "standoff": 15
           },
           "zerolinecolor": "white",
           "zerolinewidth": 2
          }
         }
        },
        "title": {
         "font": {
          "color": "#4D5663"
         }
        },
        "xaxis": {
         "gridcolor": "#E1E5ED",
         "showgrid": true,
         "tickfont": {
          "color": "#4D5663"
         },
         "title": {
          "font": {
           "color": "#4D5663"
          },
          "text": ""
         },
         "zerolinecolor": "#E1E5ED"
        },
        "yaxis": {
         "gridcolor": "#E1E5ED",
         "showgrid": true,
         "tickfont": {
          "color": "#4D5663"
         },
         "title": {
          "font": {
           "color": "#4D5663"
          },
          "text": ""
         },
         "zerolinecolor": "#E1E5ED"
        }
       }
      },
      "text/html": [
       "<div>                            <div id=\"beed4afc-af84-45ac-b3dd-3f0064d8ffcc\" class=\"plotly-graph-div\" style=\"height:525px; width:100%;\"></div>            <script type=\"text/javascript\">                require([\"plotly\"], function(Plotly) {                    window.PLOTLYENV=window.PLOTLYENV || {};\n",
       "                    window.PLOTLYENV.BASE_URL='https://plot.ly';                                    if (document.getElementById(\"beed4afc-af84-45ac-b3dd-3f0064d8ffcc\")) {                    Plotly.newPlot(                        \"beed4afc-af84-45ac-b3dd-3f0064d8ffcc\",                        [{\"marker\":{\"color\":\"rgba(255, 153, 51, 0.6)\",\"line\":{\"color\":\"rgba(255, 153, 51, 1.0)\",\"width\":1}},\"name\":\"Values\",\"orientation\":\"v\",\"text\":\"\",\"x\":[\"A\",\"B\",\"C\"],\"y\":[32,43,50],\"type\":\"bar\"}],                        {\"legend\":{\"bgcolor\":\"#F5F6F9\",\"font\":{\"color\":\"#4D5663\"}},\"paper_bgcolor\":\"#F5F6F9\",\"plot_bgcolor\":\"#F5F6F9\",\"template\":{\"data\":{\"barpolar\":[{\"marker\":{\"line\":{\"color\":\"#E5ECF6\",\"width\":0.5},\"pattern\":{\"fillmode\":\"overlay\",\"size\":10,\"solidity\":0.2}},\"type\":\"barpolar\"}],\"bar\":[{\"error_x\":{\"color\":\"#2a3f5f\"},\"error_y\":{\"color\":\"#2a3f5f\"},\"marker\":{\"line\":{\"color\":\"#E5ECF6\",\"width\":0.5},\"pattern\":{\"fillmode\":\"overlay\",\"size\":10,\"solidity\":0.2}},\"type\":\"bar\"}],\"carpet\":[{\"aaxis\":{\"endlinecolor\":\"#2a3f5f\",\"gridcolor\":\"white\",\"linecolor\":\"white\",\"minorgridcolor\":\"white\",\"startlinecolor\":\"#2a3f5f\"},\"baxis\":{\"endlinecolor\":\"#2a3f5f\",\"gridcolor\":\"white\",\"linecolor\":\"white\",\"minorgridcolor\":\"white\",\"startlinecolor\":\"#2a3f5f\"},\"type\":\"carpet\"}],\"choropleth\":[{\"colorbar\":{\"outlinewidth\":0,\"ticks\":\"\"},\"type\":\"choropleth\"}],\"contourcarpet\":[{\"colorbar\":{\"outlinewidth\":0,\"ticks\":\"\"},\"type\":\"contourcarpet\"}],\"contour\":[{\"colorbar\":{\"outlinewidth\":0,\"ticks\":\"\"},\"colorscale\":[[0.0,\"#0d0887\"],[0.1111111111111111,\"#46039f\"],[0.2222222222222222,\"#7201a8\"],[0.3333333333333333,\"#9c179e\"],[0.4444444444444444,\"#bd3786\"],[0.5555555555555556,\"#d8576b\"],[0.6666666666666666,\"#ed7953\"],[0.7777777777777778,\"#fb9f3a\"],[0.8888888888888888,\"#fdca26\"],[1.0,\"#f0f921\"]],\"type\":\"contour\"}],\"heatmapgl\":[{\"colorbar\":{\"outlinewidth\":0,\"ticks\":\"\"},\"colorscale\":[[0.0,\"#0d0887\"],[0.1111111111111111,\"#46039f\"],[0.2222222222222222,\"#7201a8\"],[0.3333333333333333,\"#9c179e\"],[0.4444444444444444,\"#bd3786\"],[0.5555555555555556,\"#d8576b\"],[0.6666666666666666,\"#ed7953\"],[0.7777777777777778,\"#fb9f3a\"],[0.8888888888888888,\"#fdca26\"],[1.0,\"#f0f921\"]],\"type\":\"heatmapgl\"}],\"heatmap\":[{\"colorbar\":{\"outlinewidth\":0,\"ticks\":\"\"},\"colorscale\":[[0.0,\"#0d0887\"],[0.1111111111111111,\"#46039f\"],[0.2222222222222222,\"#7201a8\"],[0.3333333333333333,\"#9c179e\"],[0.4444444444444444,\"#bd3786\"],[0.5555555555555556,\"#d8576b\"],[0.6666666666666666,\"#ed7953\"],[0.7777777777777778,\"#fb9f3a\"],[0.8888888888888888,\"#fdca26\"],[1.0,\"#f0f921\"]],\"type\":\"heatmap\"}],\"histogram2dcontour\":[{\"colorbar\":{\"outlinewidth\":0,\"ticks\":\"\"},\"colorscale\":[[0.0,\"#0d0887\"],[0.1111111111111111,\"#46039f\"],[0.2222222222222222,\"#7201a8\"],[0.3333333333333333,\"#9c179e\"],[0.4444444444444444,\"#bd3786\"],[0.5555555555555556,\"#d8576b\"],[0.6666666666666666,\"#ed7953\"],[0.7777777777777778,\"#fb9f3a\"],[0.8888888888888888,\"#fdca26\"],[1.0,\"#f0f921\"]],\"type\":\"histogram2dcontour\"}],\"histogram2d\":[{\"colorbar\":{\"outlinewidth\":0,\"ticks\":\"\"},\"colorscale\":[[0.0,\"#0d0887\"],[0.1111111111111111,\"#46039f\"],[0.2222222222222222,\"#7201a8\"],[0.3333333333333333,\"#9c179e\"],[0.4444444444444444,\"#bd3786\"],[0.5555555555555556,\"#d8576b\"],[0.6666666666666666,\"#ed7953\"],[0.7777777777777778,\"#fb9f3a\"],[0.8888888888888888,\"#fdca26\"],[1.0,\"#f0f921\"]],\"type\":\"histogram2d\"}],\"histogram\":[{\"marker\":{\"pattern\":{\"fillmode\":\"overlay\",\"size\":10,\"solidity\":0.2}},\"type\":\"histogram\"}],\"mesh3d\":[{\"colorbar\":{\"outlinewidth\":0,\"ticks\":\"\"},\"type\":\"mesh3d\"}],\"parcoords\":[{\"line\":{\"colorbar\":{\"outlinewidth\":0,\"ticks\":\"\"}},\"type\":\"parcoords\"}],\"pie\":[{\"automargin\":true,\"type\":\"pie\"}],\"scatter3d\":[{\"line\":{\"colorbar\":{\"outlinewidth\":0,\"ticks\":\"\"}},\"marker\":{\"colorbar\":{\"outlinewidth\":0,\"ticks\":\"\"}},\"type\":\"scatter3d\"}],\"scattercarpet\":[{\"marker\":{\"colorbar\":{\"outlinewidth\":0,\"ticks\":\"\"}},\"type\":\"scattercarpet\"}],\"scattergeo\":[{\"marker\":{\"colorbar\":{\"outlinewidth\":0,\"ticks\":\"\"}},\"type\":\"scattergeo\"}],\"scattergl\":[{\"marker\":{\"colorbar\":{\"outlinewidth\":0,\"ticks\":\"\"}},\"type\":\"scattergl\"}],\"scattermapbox\":[{\"marker\":{\"colorbar\":{\"outlinewidth\":0,\"ticks\":\"\"}},\"type\":\"scattermapbox\"}],\"scatterpolargl\":[{\"marker\":{\"colorbar\":{\"outlinewidth\":0,\"ticks\":\"\"}},\"type\":\"scatterpolargl\"}],\"scatterpolar\":[{\"marker\":{\"colorbar\":{\"outlinewidth\":0,\"ticks\":\"\"}},\"type\":\"scatterpolar\"}],\"scatter\":[{\"fillpattern\":{\"fillmode\":\"overlay\",\"size\":10,\"solidity\":0.2},\"type\":\"scatter\"}],\"scatterternary\":[{\"marker\":{\"colorbar\":{\"outlinewidth\":0,\"ticks\":\"\"}},\"type\":\"scatterternary\"}],\"surface\":[{\"colorbar\":{\"outlinewidth\":0,\"ticks\":\"\"},\"colorscale\":[[0.0,\"#0d0887\"],[0.1111111111111111,\"#46039f\"],[0.2222222222222222,\"#7201a8\"],[0.3333333333333333,\"#9c179e\"],[0.4444444444444444,\"#bd3786\"],[0.5555555555555556,\"#d8576b\"],[0.6666666666666666,\"#ed7953\"],[0.7777777777777778,\"#fb9f3a\"],[0.8888888888888888,\"#fdca26\"],[1.0,\"#f0f921\"]],\"type\":\"surface\"}],\"table\":[{\"cells\":{\"fill\":{\"color\":\"#EBF0F8\"},\"line\":{\"color\":\"white\"}},\"header\":{\"fill\":{\"color\":\"#C8D4E3\"},\"line\":{\"color\":\"white\"}},\"type\":\"table\"}]},\"layout\":{\"annotationdefaults\":{\"arrowcolor\":\"#2a3f5f\",\"arrowhead\":0,\"arrowwidth\":1},\"autotypenumbers\":\"strict\",\"coloraxis\":{\"colorbar\":{\"outlinewidth\":0,\"ticks\":\"\"}},\"colorscale\":{\"diverging\":[[0,\"#8e0152\"],[0.1,\"#c51b7d\"],[0.2,\"#de77ae\"],[0.3,\"#f1b6da\"],[0.4,\"#fde0ef\"],[0.5,\"#f7f7f7\"],[0.6,\"#e6f5d0\"],[0.7,\"#b8e186\"],[0.8,\"#7fbc41\"],[0.9,\"#4d9221\"],[1,\"#276419\"]],\"sequential\":[[0.0,\"#0d0887\"],[0.1111111111111111,\"#46039f\"],[0.2222222222222222,\"#7201a8\"],[0.3333333333333333,\"#9c179e\"],[0.4444444444444444,\"#bd3786\"],[0.5555555555555556,\"#d8576b\"],[0.6666666666666666,\"#ed7953\"],[0.7777777777777778,\"#fb9f3a\"],[0.8888888888888888,\"#fdca26\"],[1.0,\"#f0f921\"]],\"sequentialminus\":[[0.0,\"#0d0887\"],[0.1111111111111111,\"#46039f\"],[0.2222222222222222,\"#7201a8\"],[0.3333333333333333,\"#9c179e\"],[0.4444444444444444,\"#bd3786\"],[0.5555555555555556,\"#d8576b\"],[0.6666666666666666,\"#ed7953\"],[0.7777777777777778,\"#fb9f3a\"],[0.8888888888888888,\"#fdca26\"],[1.0,\"#f0f921\"]]},\"colorway\":[\"#636efa\",\"#EF553B\",\"#00cc96\",\"#ab63fa\",\"#FFA15A\",\"#19d3f3\",\"#FF6692\",\"#B6E880\",\"#FF97FF\",\"#FECB52\"],\"font\":{\"color\":\"#2a3f5f\"},\"geo\":{\"bgcolor\":\"white\",\"lakecolor\":\"white\",\"landcolor\":\"#E5ECF6\",\"showlakes\":true,\"showland\":true,\"subunitcolor\":\"white\"},\"hoverlabel\":{\"align\":\"left\"},\"hovermode\":\"closest\",\"mapbox\":{\"style\":\"light\"},\"paper_bgcolor\":\"white\",\"plot_bgcolor\":\"#E5ECF6\",\"polar\":{\"angularaxis\":{\"gridcolor\":\"white\",\"linecolor\":\"white\",\"ticks\":\"\"},\"bgcolor\":\"#E5ECF6\",\"radialaxis\":{\"gridcolor\":\"white\",\"linecolor\":\"white\",\"ticks\":\"\"}},\"scene\":{\"xaxis\":{\"backgroundcolor\":\"#E5ECF6\",\"gridcolor\":\"white\",\"gridwidth\":2,\"linecolor\":\"white\",\"showbackground\":true,\"ticks\":\"\",\"zerolinecolor\":\"white\"},\"yaxis\":{\"backgroundcolor\":\"#E5ECF6\",\"gridcolor\":\"white\",\"gridwidth\":2,\"linecolor\":\"white\",\"showbackground\":true,\"ticks\":\"\",\"zerolinecolor\":\"white\"},\"zaxis\":{\"backgroundcolor\":\"#E5ECF6\",\"gridcolor\":\"white\",\"gridwidth\":2,\"linecolor\":\"white\",\"showbackground\":true,\"ticks\":\"\",\"zerolinecolor\":\"white\"}},\"shapedefaults\":{\"line\":{\"color\":\"#2a3f5f\"}},\"ternary\":{\"aaxis\":{\"gridcolor\":\"white\",\"linecolor\":\"white\",\"ticks\":\"\"},\"baxis\":{\"gridcolor\":\"white\",\"linecolor\":\"white\",\"ticks\":\"\"},\"bgcolor\":\"#E5ECF6\",\"caxis\":{\"gridcolor\":\"white\",\"linecolor\":\"white\",\"ticks\":\"\"}},\"title\":{\"x\":0.05},\"xaxis\":{\"automargin\":true,\"gridcolor\":\"white\",\"linecolor\":\"white\",\"ticks\":\"\",\"title\":{\"standoff\":15},\"zerolinecolor\":\"white\",\"zerolinewidth\":2},\"yaxis\":{\"automargin\":true,\"gridcolor\":\"white\",\"linecolor\":\"white\",\"ticks\":\"\",\"title\":{\"standoff\":15},\"zerolinecolor\":\"white\",\"zerolinewidth\":2}}},\"title\":{\"font\":{\"color\":\"#4D5663\"}},\"xaxis\":{\"gridcolor\":\"#E1E5ED\",\"showgrid\":true,\"tickfont\":{\"color\":\"#4D5663\"},\"title\":{\"font\":{\"color\":\"#4D5663\"},\"text\":\"\"},\"zerolinecolor\":\"#E1E5ED\"},\"yaxis\":{\"gridcolor\":\"#E1E5ED\",\"showgrid\":true,\"tickfont\":{\"color\":\"#4D5663\"},\"title\":{\"font\":{\"color\":\"#4D5663\"},\"text\":\"\"},\"zerolinecolor\":\"#E1E5ED\"}},                        {\"showLink\": true, \"linkText\": \"Export to plot.ly\", \"plotlyServerURL\": \"https://plot.ly\", \"responsive\": true}                    ).then(function(){\n",
       "                            \n",
       "var gd = document.getElementById('beed4afc-af84-45ac-b3dd-3f0064d8ffcc');\n",
       "var x = new MutationObserver(function (mutations, observer) {{\n",
       "        var display = window.getComputedStyle(gd).display;\n",
       "        if (!display || display === 'none') {{\n",
       "            console.log([gd, 'removed!']);\n",
       "            Plotly.purge(gd);\n",
       "            observer.disconnect();\n",
       "        }}\n",
       "}});\n",
       "\n",
       "// Listen for the removal of the full notebook cells\n",
       "var notebookContainer = gd.closest('#notebook-container');\n",
       "if (notebookContainer) {{\n",
       "    x.observe(notebookContainer, {childList: true});\n",
       "}}\n",
       "\n",
       "// Listen for the clearing of the current output cell\n",
       "var outputEl = gd.closest('.output');\n",
       "if (outputEl) {{\n",
       "    x.observe(outputEl, {childList: true});\n",
       "}}\n",
       "\n",
       "                        })                };                });            </script>        </div>"
      ]
     },
     "metadata": {},
     "output_type": "display_data"
    }
   ],
   "source": [
    "df2.iplot(kind='bar',x='Category',y='Values')"
   ]
  },
  {
   "cell_type": "code",
   "execution_count": 33,
   "id": "416647b0",
   "metadata": {},
   "outputs": [
    {
     "data": {
      "application/vnd.plotly.v1+json": {
       "config": {
        "linkText": "Export to plot.ly",
        "plotlyServerURL": "https://plot.ly",
        "showLink": true
       },
       "data": [
        {
         "marker": {
          "color": "rgba(255, 153, 51, 0.6)",
          "line": {
           "color": "rgba(255, 153, 51, 1.0)",
           "width": 1
          }
         },
         "name": "None",
         "orientation": "v",
         "text": "",
         "type": "bar",
         "x": [
          "A",
          "B",
          "C",
          "D"
         ],
         "y": [
          10.808376906469155,
          -6.476049829888336,
          8.452836107847402,
          7.192730129333667
         ]
        }
       ],
       "layout": {
        "legend": {
         "bgcolor": "#F5F6F9",
         "font": {
          "color": "#4D5663"
         }
        },
        "paper_bgcolor": "#F5F6F9",
        "plot_bgcolor": "#F5F6F9",
        "template": {
         "data": {
          "bar": [
           {
            "error_x": {
             "color": "#2a3f5f"
            },
            "error_y": {
             "color": "#2a3f5f"
            },
            "marker": {
             "line": {
              "color": "#E5ECF6",
              "width": 0.5
             },
             "pattern": {
              "fillmode": "overlay",
              "size": 10,
              "solidity": 0.2
             }
            },
            "type": "bar"
           }
          ],
          "barpolar": [
           {
            "marker": {
             "line": {
              "color": "#E5ECF6",
              "width": 0.5
             },
             "pattern": {
              "fillmode": "overlay",
              "size": 10,
              "solidity": 0.2
             }
            },
            "type": "barpolar"
           }
          ],
          "carpet": [
           {
            "aaxis": {
             "endlinecolor": "#2a3f5f",
             "gridcolor": "white",
             "linecolor": "white",
             "minorgridcolor": "white",
             "startlinecolor": "#2a3f5f"
            },
            "baxis": {
             "endlinecolor": "#2a3f5f",
             "gridcolor": "white",
             "linecolor": "white",
             "minorgridcolor": "white",
             "startlinecolor": "#2a3f5f"
            },
            "type": "carpet"
           }
          ],
          "choropleth": [
           {
            "colorbar": {
             "outlinewidth": 0,
             "ticks": ""
            },
            "type": "choropleth"
           }
          ],
          "contour": [
           {
            "colorbar": {
             "outlinewidth": 0,
             "ticks": ""
            },
            "colorscale": [
             [
              0,
              "#0d0887"
             ],
             [
              0.1111111111111111,
              "#46039f"
             ],
             [
              0.2222222222222222,
              "#7201a8"
             ],
             [
              0.3333333333333333,
              "#9c179e"
             ],
             [
              0.4444444444444444,
              "#bd3786"
             ],
             [
              0.5555555555555556,
              "#d8576b"
             ],
             [
              0.6666666666666666,
              "#ed7953"
             ],
             [
              0.7777777777777778,
              "#fb9f3a"
             ],
             [
              0.8888888888888888,
              "#fdca26"
             ],
             [
              1,
              "#f0f921"
             ]
            ],
            "type": "contour"
           }
          ],
          "contourcarpet": [
           {
            "colorbar": {
             "outlinewidth": 0,
             "ticks": ""
            },
            "type": "contourcarpet"
           }
          ],
          "heatmap": [
           {
            "colorbar": {
             "outlinewidth": 0,
             "ticks": ""
            },
            "colorscale": [
             [
              0,
              "#0d0887"
             ],
             [
              0.1111111111111111,
              "#46039f"
             ],
             [
              0.2222222222222222,
              "#7201a8"
             ],
             [
              0.3333333333333333,
              "#9c179e"
             ],
             [
              0.4444444444444444,
              "#bd3786"
             ],
             [
              0.5555555555555556,
              "#d8576b"
             ],
             [
              0.6666666666666666,
              "#ed7953"
             ],
             [
              0.7777777777777778,
              "#fb9f3a"
             ],
             [
              0.8888888888888888,
              "#fdca26"
             ],
             [
              1,
              "#f0f921"
             ]
            ],
            "type": "heatmap"
           }
          ],
          "heatmapgl": [
           {
            "colorbar": {
             "outlinewidth": 0,
             "ticks": ""
            },
            "colorscale": [
             [
              0,
              "#0d0887"
             ],
             [
              0.1111111111111111,
              "#46039f"
             ],
             [
              0.2222222222222222,
              "#7201a8"
             ],
             [
              0.3333333333333333,
              "#9c179e"
             ],
             [
              0.4444444444444444,
              "#bd3786"
             ],
             [
              0.5555555555555556,
              "#d8576b"
             ],
             [
              0.6666666666666666,
              "#ed7953"
             ],
             [
              0.7777777777777778,
              "#fb9f3a"
             ],
             [
              0.8888888888888888,
              "#fdca26"
             ],
             [
              1,
              "#f0f921"
             ]
            ],
            "type": "heatmapgl"
           }
          ],
          "histogram": [
           {
            "marker": {
             "pattern": {
              "fillmode": "overlay",
              "size": 10,
              "solidity": 0.2
             }
            },
            "type": "histogram"
           }
          ],
          "histogram2d": [
           {
            "colorbar": {
             "outlinewidth": 0,
             "ticks": ""
            },
            "colorscale": [
             [
              0,
              "#0d0887"
             ],
             [
              0.1111111111111111,
              "#46039f"
             ],
             [
              0.2222222222222222,
              "#7201a8"
             ],
             [
              0.3333333333333333,
              "#9c179e"
             ],
             [
              0.4444444444444444,
              "#bd3786"
             ],
             [
              0.5555555555555556,
              "#d8576b"
             ],
             [
              0.6666666666666666,
              "#ed7953"
             ],
             [
              0.7777777777777778,
              "#fb9f3a"
             ],
             [
              0.8888888888888888,
              "#fdca26"
             ],
             [
              1,
              "#f0f921"
             ]
            ],
            "type": "histogram2d"
           }
          ],
          "histogram2dcontour": [
           {
            "colorbar": {
             "outlinewidth": 0,
             "ticks": ""
            },
            "colorscale": [
             [
              0,
              "#0d0887"
             ],
             [
              0.1111111111111111,
              "#46039f"
             ],
             [
              0.2222222222222222,
              "#7201a8"
             ],
             [
              0.3333333333333333,
              "#9c179e"
             ],
             [
              0.4444444444444444,
              "#bd3786"
             ],
             [
              0.5555555555555556,
              "#d8576b"
             ],
             [
              0.6666666666666666,
              "#ed7953"
             ],
             [
              0.7777777777777778,
              "#fb9f3a"
             ],
             [
              0.8888888888888888,
              "#fdca26"
             ],
             [
              1,
              "#f0f921"
             ]
            ],
            "type": "histogram2dcontour"
           }
          ],
          "mesh3d": [
           {
            "colorbar": {
             "outlinewidth": 0,
             "ticks": ""
            },
            "type": "mesh3d"
           }
          ],
          "parcoords": [
           {
            "line": {
             "colorbar": {
              "outlinewidth": 0,
              "ticks": ""
             }
            },
            "type": "parcoords"
           }
          ],
          "pie": [
           {
            "automargin": true,
            "type": "pie"
           }
          ],
          "scatter": [
           {
            "fillpattern": {
             "fillmode": "overlay",
             "size": 10,
             "solidity": 0.2
            },
            "type": "scatter"
           }
          ],
          "scatter3d": [
           {
            "line": {
             "colorbar": {
              "outlinewidth": 0,
              "ticks": ""
             }
            },
            "marker": {
             "colorbar": {
              "outlinewidth": 0,
              "ticks": ""
             }
            },
            "type": "scatter3d"
           }
          ],
          "scattercarpet": [
           {
            "marker": {
             "colorbar": {
              "outlinewidth": 0,
              "ticks": ""
             }
            },
            "type": "scattercarpet"
           }
          ],
          "scattergeo": [
           {
            "marker": {
             "colorbar": {
              "outlinewidth": 0,
              "ticks": ""
             }
            },
            "type": "scattergeo"
           }
          ],
          "scattergl": [
           {
            "marker": {
             "colorbar": {
              "outlinewidth": 0,
              "ticks": ""
             }
            },
            "type": "scattergl"
           }
          ],
          "scattermapbox": [
           {
            "marker": {
             "colorbar": {
              "outlinewidth": 0,
              "ticks": ""
             }
            },
            "type": "scattermapbox"
           }
          ],
          "scatterpolar": [
           {
            "marker": {
             "colorbar": {
              "outlinewidth": 0,
              "ticks": ""
             }
            },
            "type": "scatterpolar"
           }
          ],
          "scatterpolargl": [
           {
            "marker": {
             "colorbar": {
              "outlinewidth": 0,
              "ticks": ""
             }
            },
            "type": "scatterpolargl"
           }
          ],
          "scatterternary": [
           {
            "marker": {
             "colorbar": {
              "outlinewidth": 0,
              "ticks": ""
             }
            },
            "type": "scatterternary"
           }
          ],
          "surface": [
           {
            "colorbar": {
             "outlinewidth": 0,
             "ticks": ""
            },
            "colorscale": [
             [
              0,
              "#0d0887"
             ],
             [
              0.1111111111111111,
              "#46039f"
             ],
             [
              0.2222222222222222,
              "#7201a8"
             ],
             [
              0.3333333333333333,
              "#9c179e"
             ],
             [
              0.4444444444444444,
              "#bd3786"
             ],
             [
              0.5555555555555556,
              "#d8576b"
             ],
             [
              0.6666666666666666,
              "#ed7953"
             ],
             [
              0.7777777777777778,
              "#fb9f3a"
             ],
             [
              0.8888888888888888,
              "#fdca26"
             ],
             [
              1,
              "#f0f921"
             ]
            ],
            "type": "surface"
           }
          ],
          "table": [
           {
            "cells": {
             "fill": {
              "color": "#EBF0F8"
             },
             "line": {
              "color": "white"
             }
            },
            "header": {
             "fill": {
              "color": "#C8D4E3"
             },
             "line": {
              "color": "white"
             }
            },
            "type": "table"
           }
          ]
         },
         "layout": {
          "annotationdefaults": {
           "arrowcolor": "#2a3f5f",
           "arrowhead": 0,
           "arrowwidth": 1
          },
          "autotypenumbers": "strict",
          "coloraxis": {
           "colorbar": {
            "outlinewidth": 0,
            "ticks": ""
           }
          },
          "colorscale": {
           "diverging": [
            [
             0,
             "#8e0152"
            ],
            [
             0.1,
             "#c51b7d"
            ],
            [
             0.2,
             "#de77ae"
            ],
            [
             0.3,
             "#f1b6da"
            ],
            [
             0.4,
             "#fde0ef"
            ],
            [
             0.5,
             "#f7f7f7"
            ],
            [
             0.6,
             "#e6f5d0"
            ],
            [
             0.7,
             "#b8e186"
            ],
            [
             0.8,
             "#7fbc41"
            ],
            [
             0.9,
             "#4d9221"
            ],
            [
             1,
             "#276419"
            ]
           ],
           "sequential": [
            [
             0,
             "#0d0887"
            ],
            [
             0.1111111111111111,
             "#46039f"
            ],
            [
             0.2222222222222222,
             "#7201a8"
            ],
            [
             0.3333333333333333,
             "#9c179e"
            ],
            [
             0.4444444444444444,
             "#bd3786"
            ],
            [
             0.5555555555555556,
             "#d8576b"
            ],
            [
             0.6666666666666666,
             "#ed7953"
            ],
            [
             0.7777777777777778,
             "#fb9f3a"
            ],
            [
             0.8888888888888888,
             "#fdca26"
            ],
            [
             1,
             "#f0f921"
            ]
           ],
           "sequentialminus": [
            [
             0,
             "#0d0887"
            ],
            [
             0.1111111111111111,
             "#46039f"
            ],
            [
             0.2222222222222222,
             "#7201a8"
            ],
            [
             0.3333333333333333,
             "#9c179e"
            ],
            [
             0.4444444444444444,
             "#bd3786"
            ],
            [
             0.5555555555555556,
             "#d8576b"
            ],
            [
             0.6666666666666666,
             "#ed7953"
            ],
            [
             0.7777777777777778,
             "#fb9f3a"
            ],
            [
             0.8888888888888888,
             "#fdca26"
            ],
            [
             1,
             "#f0f921"
            ]
           ]
          },
          "colorway": [
           "#636efa",
           "#EF553B",
           "#00cc96",
           "#ab63fa",
           "#FFA15A",
           "#19d3f3",
           "#FF6692",
           "#B6E880",
           "#FF97FF",
           "#FECB52"
          ],
          "font": {
           "color": "#2a3f5f"
          },
          "geo": {
           "bgcolor": "white",
           "lakecolor": "white",
           "landcolor": "#E5ECF6",
           "showlakes": true,
           "showland": true,
           "subunitcolor": "white"
          },
          "hoverlabel": {
           "align": "left"
          },
          "hovermode": "closest",
          "mapbox": {
           "style": "light"
          },
          "paper_bgcolor": "white",
          "plot_bgcolor": "#E5ECF6",
          "polar": {
           "angularaxis": {
            "gridcolor": "white",
            "linecolor": "white",
            "ticks": ""
           },
           "bgcolor": "#E5ECF6",
           "radialaxis": {
            "gridcolor": "white",
            "linecolor": "white",
            "ticks": ""
           }
          },
          "scene": {
           "xaxis": {
            "backgroundcolor": "#E5ECF6",
            "gridcolor": "white",
            "gridwidth": 2,
            "linecolor": "white",
            "showbackground": true,
            "ticks": "",
            "zerolinecolor": "white"
           },
           "yaxis": {
            "backgroundcolor": "#E5ECF6",
            "gridcolor": "white",
            "gridwidth": 2,
            "linecolor": "white",
            "showbackground": true,
            "ticks": "",
            "zerolinecolor": "white"
           },
           "zaxis": {
            "backgroundcolor": "#E5ECF6",
            "gridcolor": "white",
            "gridwidth": 2,
            "linecolor": "white",
            "showbackground": true,
            "ticks": "",
            "zerolinecolor": "white"
           }
          },
          "shapedefaults": {
           "line": {
            "color": "#2a3f5f"
           }
          },
          "ternary": {
           "aaxis": {
            "gridcolor": "white",
            "linecolor": "white",
            "ticks": ""
           },
           "baxis": {
            "gridcolor": "white",
            "linecolor": "white",
            "ticks": ""
           },
           "bgcolor": "#E5ECF6",
           "caxis": {
            "gridcolor": "white",
            "linecolor": "white",
            "ticks": ""
           }
          },
          "title": {
           "x": 0.05
          },
          "xaxis": {
           "automargin": true,
           "gridcolor": "white",
           "linecolor": "white",
           "ticks": "",
           "title": {
            "standoff": 15
           },
           "zerolinecolor": "white",
           "zerolinewidth": 2
          },
          "yaxis": {
           "automargin": true,
           "gridcolor": "white",
           "linecolor": "white",
           "ticks": "",
           "title": {
            "standoff": 15
           },
           "zerolinecolor": "white",
           "zerolinewidth": 2
          }
         }
        },
        "title": {
         "font": {
          "color": "#4D5663"
         }
        },
        "xaxis": {
         "gridcolor": "#E1E5ED",
         "showgrid": true,
         "tickfont": {
          "color": "#4D5663"
         },
         "title": {
          "font": {
           "color": "#4D5663"
          },
          "text": ""
         },
         "zerolinecolor": "#E1E5ED"
        },
        "yaxis": {
         "gridcolor": "#E1E5ED",
         "showgrid": true,
         "tickfont": {
          "color": "#4D5663"
         },
         "title": {
          "font": {
           "color": "#4D5663"
          },
          "text": ""
         },
         "zerolinecolor": "#E1E5ED"
        }
       }
      },
      "text/html": [
       "<div>                            <div id=\"ab7dcd0a-10fa-4f09-b522-509885eaf30b\" class=\"plotly-graph-div\" style=\"height:525px; width:100%;\"></div>            <script type=\"text/javascript\">                require([\"plotly\"], function(Plotly) {                    window.PLOTLYENV=window.PLOTLYENV || {};\n",
       "                    window.PLOTLYENV.BASE_URL='https://plot.ly';                                    if (document.getElementById(\"ab7dcd0a-10fa-4f09-b522-509885eaf30b\")) {                    Plotly.newPlot(                        \"ab7dcd0a-10fa-4f09-b522-509885eaf30b\",                        [{\"marker\":{\"color\":\"rgba(255, 153, 51, 0.6)\",\"line\":{\"color\":\"rgba(255, 153, 51, 1.0)\",\"width\":1}},\"name\":\"None\",\"orientation\":\"v\",\"text\":\"\",\"x\":[\"A\",\"B\",\"C\",\"D\"],\"y\":[10.808376906469155,-6.476049829888336,8.452836107847402,7.192730129333667],\"type\":\"bar\"}],                        {\"legend\":{\"bgcolor\":\"#F5F6F9\",\"font\":{\"color\":\"#4D5663\"}},\"paper_bgcolor\":\"#F5F6F9\",\"plot_bgcolor\":\"#F5F6F9\",\"template\":{\"data\":{\"barpolar\":[{\"marker\":{\"line\":{\"color\":\"#E5ECF6\",\"width\":0.5},\"pattern\":{\"fillmode\":\"overlay\",\"size\":10,\"solidity\":0.2}},\"type\":\"barpolar\"}],\"bar\":[{\"error_x\":{\"color\":\"#2a3f5f\"},\"error_y\":{\"color\":\"#2a3f5f\"},\"marker\":{\"line\":{\"color\":\"#E5ECF6\",\"width\":0.5},\"pattern\":{\"fillmode\":\"overlay\",\"size\":10,\"solidity\":0.2}},\"type\":\"bar\"}],\"carpet\":[{\"aaxis\":{\"endlinecolor\":\"#2a3f5f\",\"gridcolor\":\"white\",\"linecolor\":\"white\",\"minorgridcolor\":\"white\",\"startlinecolor\":\"#2a3f5f\"},\"baxis\":{\"endlinecolor\":\"#2a3f5f\",\"gridcolor\":\"white\",\"linecolor\":\"white\",\"minorgridcolor\":\"white\",\"startlinecolor\":\"#2a3f5f\"},\"type\":\"carpet\"}],\"choropleth\":[{\"colorbar\":{\"outlinewidth\":0,\"ticks\":\"\"},\"type\":\"choropleth\"}],\"contourcarpet\":[{\"colorbar\":{\"outlinewidth\":0,\"ticks\":\"\"},\"type\":\"contourcarpet\"}],\"contour\":[{\"colorbar\":{\"outlinewidth\":0,\"ticks\":\"\"},\"colorscale\":[[0.0,\"#0d0887\"],[0.1111111111111111,\"#46039f\"],[0.2222222222222222,\"#7201a8\"],[0.3333333333333333,\"#9c179e\"],[0.4444444444444444,\"#bd3786\"],[0.5555555555555556,\"#d8576b\"],[0.6666666666666666,\"#ed7953\"],[0.7777777777777778,\"#fb9f3a\"],[0.8888888888888888,\"#fdca26\"],[1.0,\"#f0f921\"]],\"type\":\"contour\"}],\"heatmapgl\":[{\"colorbar\":{\"outlinewidth\":0,\"ticks\":\"\"},\"colorscale\":[[0.0,\"#0d0887\"],[0.1111111111111111,\"#46039f\"],[0.2222222222222222,\"#7201a8\"],[0.3333333333333333,\"#9c179e\"],[0.4444444444444444,\"#bd3786\"],[0.5555555555555556,\"#d8576b\"],[0.6666666666666666,\"#ed7953\"],[0.7777777777777778,\"#fb9f3a\"],[0.8888888888888888,\"#fdca26\"],[1.0,\"#f0f921\"]],\"type\":\"heatmapgl\"}],\"heatmap\":[{\"colorbar\":{\"outlinewidth\":0,\"ticks\":\"\"},\"colorscale\":[[0.0,\"#0d0887\"],[0.1111111111111111,\"#46039f\"],[0.2222222222222222,\"#7201a8\"],[0.3333333333333333,\"#9c179e\"],[0.4444444444444444,\"#bd3786\"],[0.5555555555555556,\"#d8576b\"],[0.6666666666666666,\"#ed7953\"],[0.7777777777777778,\"#fb9f3a\"],[0.8888888888888888,\"#fdca26\"],[1.0,\"#f0f921\"]],\"type\":\"heatmap\"}],\"histogram2dcontour\":[{\"colorbar\":{\"outlinewidth\":0,\"ticks\":\"\"},\"colorscale\":[[0.0,\"#0d0887\"],[0.1111111111111111,\"#46039f\"],[0.2222222222222222,\"#7201a8\"],[0.3333333333333333,\"#9c179e\"],[0.4444444444444444,\"#bd3786\"],[0.5555555555555556,\"#d8576b\"],[0.6666666666666666,\"#ed7953\"],[0.7777777777777778,\"#fb9f3a\"],[0.8888888888888888,\"#fdca26\"],[1.0,\"#f0f921\"]],\"type\":\"histogram2dcontour\"}],\"histogram2d\":[{\"colorbar\":{\"outlinewidth\":0,\"ticks\":\"\"},\"colorscale\":[[0.0,\"#0d0887\"],[0.1111111111111111,\"#46039f\"],[0.2222222222222222,\"#7201a8\"],[0.3333333333333333,\"#9c179e\"],[0.4444444444444444,\"#bd3786\"],[0.5555555555555556,\"#d8576b\"],[0.6666666666666666,\"#ed7953\"],[0.7777777777777778,\"#fb9f3a\"],[0.8888888888888888,\"#fdca26\"],[1.0,\"#f0f921\"]],\"type\":\"histogram2d\"}],\"histogram\":[{\"marker\":{\"pattern\":{\"fillmode\":\"overlay\",\"size\":10,\"solidity\":0.2}},\"type\":\"histogram\"}],\"mesh3d\":[{\"colorbar\":{\"outlinewidth\":0,\"ticks\":\"\"},\"type\":\"mesh3d\"}],\"parcoords\":[{\"line\":{\"colorbar\":{\"outlinewidth\":0,\"ticks\":\"\"}},\"type\":\"parcoords\"}],\"pie\":[{\"automargin\":true,\"type\":\"pie\"}],\"scatter3d\":[{\"line\":{\"colorbar\":{\"outlinewidth\":0,\"ticks\":\"\"}},\"marker\":{\"colorbar\":{\"outlinewidth\":0,\"ticks\":\"\"}},\"type\":\"scatter3d\"}],\"scattercarpet\":[{\"marker\":{\"colorbar\":{\"outlinewidth\":0,\"ticks\":\"\"}},\"type\":\"scattercarpet\"}],\"scattergeo\":[{\"marker\":{\"colorbar\":{\"outlinewidth\":0,\"ticks\":\"\"}},\"type\":\"scattergeo\"}],\"scattergl\":[{\"marker\":{\"colorbar\":{\"outlinewidth\":0,\"ticks\":\"\"}},\"type\":\"scattergl\"}],\"scattermapbox\":[{\"marker\":{\"colorbar\":{\"outlinewidth\":0,\"ticks\":\"\"}},\"type\":\"scattermapbox\"}],\"scatterpolargl\":[{\"marker\":{\"colorbar\":{\"outlinewidth\":0,\"ticks\":\"\"}},\"type\":\"scatterpolargl\"}],\"scatterpolar\":[{\"marker\":{\"colorbar\":{\"outlinewidth\":0,\"ticks\":\"\"}},\"type\":\"scatterpolar\"}],\"scatter\":[{\"fillpattern\":{\"fillmode\":\"overlay\",\"size\":10,\"solidity\":0.2},\"type\":\"scatter\"}],\"scatterternary\":[{\"marker\":{\"colorbar\":{\"outlinewidth\":0,\"ticks\":\"\"}},\"type\":\"scatterternary\"}],\"surface\":[{\"colorbar\":{\"outlinewidth\":0,\"ticks\":\"\"},\"colorscale\":[[0.0,\"#0d0887\"],[0.1111111111111111,\"#46039f\"],[0.2222222222222222,\"#7201a8\"],[0.3333333333333333,\"#9c179e\"],[0.4444444444444444,\"#bd3786\"],[0.5555555555555556,\"#d8576b\"],[0.6666666666666666,\"#ed7953\"],[0.7777777777777778,\"#fb9f3a\"],[0.8888888888888888,\"#fdca26\"],[1.0,\"#f0f921\"]],\"type\":\"surface\"}],\"table\":[{\"cells\":{\"fill\":{\"color\":\"#EBF0F8\"},\"line\":{\"color\":\"white\"}},\"header\":{\"fill\":{\"color\":\"#C8D4E3\"},\"line\":{\"color\":\"white\"}},\"type\":\"table\"}]},\"layout\":{\"annotationdefaults\":{\"arrowcolor\":\"#2a3f5f\",\"arrowhead\":0,\"arrowwidth\":1},\"autotypenumbers\":\"strict\",\"coloraxis\":{\"colorbar\":{\"outlinewidth\":0,\"ticks\":\"\"}},\"colorscale\":{\"diverging\":[[0,\"#8e0152\"],[0.1,\"#c51b7d\"],[0.2,\"#de77ae\"],[0.3,\"#f1b6da\"],[0.4,\"#fde0ef\"],[0.5,\"#f7f7f7\"],[0.6,\"#e6f5d0\"],[0.7,\"#b8e186\"],[0.8,\"#7fbc41\"],[0.9,\"#4d9221\"],[1,\"#276419\"]],\"sequential\":[[0.0,\"#0d0887\"],[0.1111111111111111,\"#46039f\"],[0.2222222222222222,\"#7201a8\"],[0.3333333333333333,\"#9c179e\"],[0.4444444444444444,\"#bd3786\"],[0.5555555555555556,\"#d8576b\"],[0.6666666666666666,\"#ed7953\"],[0.7777777777777778,\"#fb9f3a\"],[0.8888888888888888,\"#fdca26\"],[1.0,\"#f0f921\"]],\"sequentialminus\":[[0.0,\"#0d0887\"],[0.1111111111111111,\"#46039f\"],[0.2222222222222222,\"#7201a8\"],[0.3333333333333333,\"#9c179e\"],[0.4444444444444444,\"#bd3786\"],[0.5555555555555556,\"#d8576b\"],[0.6666666666666666,\"#ed7953\"],[0.7777777777777778,\"#fb9f3a\"],[0.8888888888888888,\"#fdca26\"],[1.0,\"#f0f921\"]]},\"colorway\":[\"#636efa\",\"#EF553B\",\"#00cc96\",\"#ab63fa\",\"#FFA15A\",\"#19d3f3\",\"#FF6692\",\"#B6E880\",\"#FF97FF\",\"#FECB52\"],\"font\":{\"color\":\"#2a3f5f\"},\"geo\":{\"bgcolor\":\"white\",\"lakecolor\":\"white\",\"landcolor\":\"#E5ECF6\",\"showlakes\":true,\"showland\":true,\"subunitcolor\":\"white\"},\"hoverlabel\":{\"align\":\"left\"},\"hovermode\":\"closest\",\"mapbox\":{\"style\":\"light\"},\"paper_bgcolor\":\"white\",\"plot_bgcolor\":\"#E5ECF6\",\"polar\":{\"angularaxis\":{\"gridcolor\":\"white\",\"linecolor\":\"white\",\"ticks\":\"\"},\"bgcolor\":\"#E5ECF6\",\"radialaxis\":{\"gridcolor\":\"white\",\"linecolor\":\"white\",\"ticks\":\"\"}},\"scene\":{\"xaxis\":{\"backgroundcolor\":\"#E5ECF6\",\"gridcolor\":\"white\",\"gridwidth\":2,\"linecolor\":\"white\",\"showbackground\":true,\"ticks\":\"\",\"zerolinecolor\":\"white\"},\"yaxis\":{\"backgroundcolor\":\"#E5ECF6\",\"gridcolor\":\"white\",\"gridwidth\":2,\"linecolor\":\"white\",\"showbackground\":true,\"ticks\":\"\",\"zerolinecolor\":\"white\"},\"zaxis\":{\"backgroundcolor\":\"#E5ECF6\",\"gridcolor\":\"white\",\"gridwidth\":2,\"linecolor\":\"white\",\"showbackground\":true,\"ticks\":\"\",\"zerolinecolor\":\"white\"}},\"shapedefaults\":{\"line\":{\"color\":\"#2a3f5f\"}},\"ternary\":{\"aaxis\":{\"gridcolor\":\"white\",\"linecolor\":\"white\",\"ticks\":\"\"},\"baxis\":{\"gridcolor\":\"white\",\"linecolor\":\"white\",\"ticks\":\"\"},\"bgcolor\":\"#E5ECF6\",\"caxis\":{\"gridcolor\":\"white\",\"linecolor\":\"white\",\"ticks\":\"\"}},\"title\":{\"x\":0.05},\"xaxis\":{\"automargin\":true,\"gridcolor\":\"white\",\"linecolor\":\"white\",\"ticks\":\"\",\"title\":{\"standoff\":15},\"zerolinecolor\":\"white\",\"zerolinewidth\":2},\"yaxis\":{\"automargin\":true,\"gridcolor\":\"white\",\"linecolor\":\"white\",\"ticks\":\"\",\"title\":{\"standoff\":15},\"zerolinecolor\":\"white\",\"zerolinewidth\":2}}},\"title\":{\"font\":{\"color\":\"#4D5663\"}},\"xaxis\":{\"gridcolor\":\"#E1E5ED\",\"showgrid\":true,\"tickfont\":{\"color\":\"#4D5663\"},\"title\":{\"font\":{\"color\":\"#4D5663\"},\"text\":\"\"},\"zerolinecolor\":\"#E1E5ED\"},\"yaxis\":{\"gridcolor\":\"#E1E5ED\",\"showgrid\":true,\"tickfont\":{\"color\":\"#4D5663\"},\"title\":{\"font\":{\"color\":\"#4D5663\"},\"text\":\"\"},\"zerolinecolor\":\"#E1E5ED\"}},                        {\"showLink\": true, \"linkText\": \"Export to plot.ly\", \"plotlyServerURL\": \"https://plot.ly\", \"responsive\": true}                    ).then(function(){\n",
       "                            \n",
       "var gd = document.getElementById('ab7dcd0a-10fa-4f09-b522-509885eaf30b');\n",
       "var x = new MutationObserver(function (mutations, observer) {{\n",
       "        var display = window.getComputedStyle(gd).display;\n",
       "        if (!display || display === 'none') {{\n",
       "            console.log([gd, 'removed!']);\n",
       "            Plotly.purge(gd);\n",
       "            observer.disconnect();\n",
       "        }}\n",
       "}});\n",
       "\n",
       "// Listen for the removal of the full notebook cells\n",
       "var notebookContainer = gd.closest('#notebook-container');\n",
       "if (notebookContainer) {{\n",
       "    x.observe(notebookContainer, {childList: true});\n",
       "}}\n",
       "\n",
       "// Listen for the clearing of the current output cell\n",
       "var outputEl = gd.closest('.output');\n",
       "if (outputEl) {{\n",
       "    x.observe(outputEl, {childList: true});\n",
       "}}\n",
       "\n",
       "                        })                };                });            </script>        </div>"
      ]
     },
     "metadata": {},
     "output_type": "display_data"
    }
   ],
   "source": [
    "df.sum().iplot(kind='bar')"
   ]
  },
  {
   "cell_type": "markdown",
   "id": "d358028d",
   "metadata": {},
   "source": [
    "## IPlot - BoxPlot"
   ]
  },
  {
   "cell_type": "code",
   "execution_count": 58,
   "id": "68996998",
   "metadata": {},
   "outputs": [
    {
     "data": {
      "application/vnd.plotly.v1+json": {
       "config": {
        "linkText": "Export to plot.ly",
        "plotlyServerURL": "https://plot.ly",
        "showLink": true
       },
       "data": [
        {
         "boxpoints": false,
         "line": {
          "width": 1.3
         },
         "marker": {
          "color": "rgba(255, 153, 51, 1.0)"
         },
         "name": "A",
         "orientation": "v",
         "type": "box",
         "y": [
          0.04472728291752777,
          2.0136277903577247,
          -1.9236196401519277,
          2.4911980816178194,
          -0.9967665313943013,
          -0.7951919577304543,
          1.9487063804665836,
          -2.23538159261186,
          -0.6362833050737016,
          -1.4754844608198587,
          0.011761902594940405,
          0.762460136367464,
          0.09148958294183143,
          -1.3104088928298192,
          -0.6551324495685213,
          0.4417399033234646,
          -1.0041748206612782,
          -2.1279381643445148,
          -0.33415704844100136,
          1.8822856176465037,
          -0.17436524138072843,
          0.24438741548022544,
          1.1271349499163994,
          0.12908581848119247,
          -0.5194216529893724,
          0.06933790600730215,
          -0.1604553359252777,
          0.4243007995667343,
          -1.1251252448290945,
          -1.3033981078054881,
          -0.3439484052277837,
          0.1853004778913747,
          -1.2386458788249415,
          1.5066759635136762,
          -1.5934330724746797,
          1.1466275226458311,
          -0.2998576466989392,
          -0.7564601805963426,
          -0.8075479890241387,
          0.31415964222467585,
          -1.869410364721812,
          -0.7150081458694103,
          -1.1738929577822552,
          -0.03933686859765417,
          -0.2301305754650945,
          1.077391686619631,
          1.1402657961968796,
          0.291777123552492,
          0.9600778507641592,
          -0.4263265753068178,
          -0.5520173344511742,
          0.6578707128339493,
          0.6018249253613506,
          -1.226518784319018,
          -0.10312712302438928,
          -1.0674536882407857,
          0.6482714967308668,
          0.9162266657051357,
          -0.5372298377330095,
          0.8845513154382081,
          0.8015316358892549,
          -0.7257562347588903,
          -0.8516497444356815,
          0.35510691240333075,
          -0.1602518439569381,
          0.18772635521434244,
          0.6394680450095762,
          -1.7841028128897547,
          -1.362461857419024,
          -0.9692165633965856,
          1.8623982171870008,
          1.5405117173715361,
          -1.329477243882208,
          -1.0570415503714614,
          0.8275648531322185,
          0.7174334888677107,
          -1.8407960180545033,
          -0.6327346660982492,
          -1.834893941666618,
          -1.0222932958815636,
          -0.0890975036474237,
          0.9262538909560268,
          1.587038316260175,
          1.4636701642913348,
          0.24217647988032678,
          -0.05063897611733595,
          0.723546614583445,
          -0.49758264536569463,
          0.9075802085838476,
          -1.1304087274552108,
          -1.8339112439763066,
          -1.1000414778730772,
          -1.4124638619838747,
          0.6431580778738788,
          -1.4370295309081362,
          0.6910484972701905,
          3.256655782163857,
          -0.11462551340178101,
          2.17596548950574,
          1.4596346378062068
         ]
        },
        {
         "boxpoints": false,
         "line": {
          "width": 1.3
         },
         "marker": {
          "color": "rgba(55, 128, 191, 1.0)"
         },
         "name": "B",
         "orientation": "v",
         "type": "box",
         "y": [
          -0.3581752144020478,
          -0.7438157432225722,
          -0.026352079985911398,
          -1.7030343296523238,
          -0.6804127539561089,
          -0.5742523112529103,
          -0.644070917542256,
          1.1420509381512929,
          2.102995846840507,
          0.8034327021876664,
          -0.2544097102330024,
          -0.5594592584848158,
          0.3215300951874448,
          -2.248060706625145,
          0.8510702715173849,
          0.02002817387705508,
          0.4123192990534875,
          -0.9082770377039694,
          -2.6085505772612874,
          -2.147063117352743,
          0.9535202754542268,
          -0.0073023603245049125,
          0.9538228579321008,
          1.0999244249525777,
          -1.139370634678592,
          0.2756124159103919,
          -0.6372337077181718,
          -0.36135473899091913,
          0.21164955578397002,
          -0.03099702152822309,
          -0.7316516112829898,
          0.6355425652614268,
          1.78039302465161,
          -2.0788866513236086,
          1.1491779044101635,
          -1.6641430920273568,
          -2.2000095056079068,
          -0.982006606741808,
          -1.057634337467608,
          0.5812949646110466,
          -1.4253407808509473,
          0.08339873767432296,
          1.3543453070586946,
          -0.17539272838694092,
          1.2030635329624155,
          -0.8457858322795581,
          -0.3938160616631665,
          0.4041842542547364,
          -0.22165217214236851,
          -1.1733244203373254,
          1.3750172675716983,
          0.9958795214552347,
          -0.4135630924958996,
          1.407402473250491,
          1.3153437163187505,
          -0.2337487208533535,
          -0.8143858125945819,
          1.2535849479121297,
          -1.4013077884969811,
          -0.027873794659457322,
          -1.6519261458676777,
          1.0152535488984349,
          1.6400765995653448,
          -0.13121204521055865,
          0.11617127183790316,
          1.0286285927755345,
          -0.7385281986681842,
          0.5734121298857456,
          0.561397002379349,
          -0.2949416372362533,
          0.3748451018513906,
          0.7535297542120657,
          -0.8808149739384412,
          -0.6003689995820148,
          -0.09021186742874453,
          -1.0472595114473746,
          0.3925190406471404,
          0.7868290741235954,
          -0.6101642208256651,
          2.6848305120360294,
          0.5820378711418692,
          0.01709018333611756,
          0.08485702664004978,
          1.1302744949762342,
          0.2619928493319134,
          -0.7773726420782053,
          -0.013062268486066998,
          -0.6484815907002609,
          0.15677550862065318,
          0.12088007476316984,
          -0.06528420696843706,
          0.9644951425621063,
          0.47524555244276545,
          -1.2159192117365958,
          1.102966649667511,
          0.35982432168304623,
          0.10840028329846188,
          -0.4012335082600968,
          -0.9925124577209844,
          -1.3590407654438954
         ]
        },
        {
         "boxpoints": false,
         "line": {
          "width": 1.3
         },
         "marker": {
          "color": "rgba(50, 171, 96, 1.0)"
         },
         "name": "C",
         "orientation": "v",
         "type": "box",
         "y": [
          -0.23448312426228735,
          1.1734040566324928,
          -0.10861389781654822,
          0.24027945635684297,
          -0.08794282132505515,
          0.6726391635010236,
          -0.37552541245105003,
          -0.7494796703260302,
          -1.2199073146846033,
          -1.6931654750619702,
          -1.811079365096557,
          0.020893689638700835,
          1.4440760297398576,
          2.0996733504169476,
          0.2802152532388648,
          -0.631054921461625,
          -0.05058220403933079,
          -0.40616064456808204,
          1.3328310775467256,
          -0.7952521462271923,
          1.193583854304163,
          1.2519963841369282,
          -0.9134586174239632,
          -0.8725557059242434,
          1.322184682356837,
          -0.4731022176800327,
          -0.38267636582941933,
          0.38535412701646493,
          -1.1965059878390942,
          0.19145332611762864,
          0.3566681742276206,
          -1.264716104990276,
          0.4243392705895578,
          1.352646395863531,
          -0.02021727760841491,
          -0.7085479943731398,
          -0.3513627400163215,
          0.4455970114568262,
          -0.07323231464269236,
          -0.8415162878062188,
          0.9561748628251976,
          0.8266471204039709,
          1.1931278881829999,
          -0.580958705159653,
          1.8335977808655468,
          0.42426644760194343,
          -0.7852114902855585,
          -1.0309186190380473,
          -0.5628076000169935,
          -0.6668007851181149,
          -0.47099726499280853,
          1.143799160220701,
          -1.5163084407753304,
          0.20717110610832454,
          -1.415994522288912,
          -2.220675022997926,
          0.6582443065023541,
          0.3031872325281803,
          -1.3815256248194634,
          1.297509735968905,
          -2.238715299297245,
          0.09141734497233205,
          1.286436512846688,
          -0.812447701905832,
          2.4930764402388297,
          1.0160813131560342,
          -0.024805488654926825,
          1.2411060588006042,
          -1.8717534423774491,
          -1.2780107408365775,
          0.9604418458571313,
          1.1860385241314744,
          0.2666552647328103,
          -0.5065385105511384,
          0.4729758225569982,
          -1.7988288083912745,
          0.12658581224890725,
          -0.7429979785392491,
          -0.7766302972611013,
          -0.7908572996583494,
          1.7092147797657669,
          0.3766299248489669,
          0.03407246113986779,
          0.8362003788511563,
          -1.1711334684013959,
          -0.48597338126349765,
          -2.203472995499135,
          -0.4551947366698177,
          -0.05546809983232083,
          2.2647661124262575,
          -0.18290251332336832,
          0.38311887678930373,
          0.7702053250113908,
          -1.4726452884463173,
          -0.7940794673819839,
          -1.4445383145154873,
          -1.1988936019151248,
          -0.8107991708981381,
          0.560932510068928,
          -0.5958865538256582
         ]
        },
        {
         "boxpoints": false,
         "line": {
          "width": 1.3
         },
         "marker": {
          "color": "rgba(128, 0, 128, 1.0)"
         },
         "name": "D",
         "orientation": "v",
         "type": "box",
         "y": [
          -1.5749712758367225,
          1.5279679553494656,
          0.6169188398532187,
          0.4381615389821466,
          -1.165902982861862,
          -0.16092737219826567,
          -1.7263006353744885,
          -1.582251046999577,
          0.4469798912409568,
          0.5552252020943597,
          0.33978681096646723,
          -0.26653086846945734,
          -0.18795204881984295,
          -1.196796020247596,
          0.6905438370339786,
          0.19256030671672106,
          0.40745787612123663,
          0.08118535241407211,
          -0.20116012248770837,
          -0.3616228989893024,
          1.1122414385610147,
          -0.7452604582734915,
          0.9916611852938433,
          0.06328464757229811,
          -0.40919677148805067,
          0.593866979645523,
          0.12217081381354897,
          0.8159518001549088,
          -0.7350511957390575,
          -0.22518573653845014,
          -0.08879787450644676,
          -1.795074849986664,
          0.028770762258658402,
          -1.3095779428990628,
          -0.9515379399218806,
          0.5237507118918706,
          -2.5386755453027545,
          0.2982603809537099,
          0.24602326627966442,
          -0.8077688646428979,
          -0.37370504717129976,
          1.9002888111887495,
          0.3824023297822875,
          -0.26624429103922975,
          1.987202651890973,
          2.9333929258512903,
          -0.7381720151404398,
          -1.012779611616609,
          -2.1905488232002144,
          0.17544393723866172,
          -1.0067215886285323,
          0.4753858487792162,
          1.3511332230279804,
          -1.0220811480425784,
          1.0088962206810403,
          0.5955736028083011,
          1.9310225152585656,
          -0.39994860622598055,
          0.19053885631258413,
          -0.500686573805311,
          -1.5338016430096757,
          -1.5629835931009401,
          -0.6138045856884331,
          0.28693952744716644,
          -0.18847477711654487,
          -2.20166846320593,
          2.863689176111007,
          0.42562756483126546,
          0.35399746830538176,
          0.0408933085068111,
          -0.03590807580194766,
          -0.3861647831070781,
          -0.36532724949382955,
          -1.1013570280673528,
          -0.26876016694697025,
          -0.8504890421894056,
          -0.7416937128184802,
          0.9368118692364116,
          0.033451347964105364,
          -1.533761356424725,
          -1.4756323877032957,
          -0.2628794054357832,
          0.7931820665822862,
          -0.9427961603013939,
          1.456836838293411,
          -1.372939292162019,
          -0.23505185131900733,
          1.8747775392364285,
          0.24810542774041208,
          0.741451362268954,
          -1.5167542526614488,
          0.6590929481300954,
          1.1962855891252022,
          -0.42889342349351406,
          -0.8762483646811131,
          0.7897359378126796,
          -0.8687920367555837,
          0.36314292858819397,
          1.3888598090759352,
          -0.09299929489217049
         ]
        }
       ],
       "layout": {
        "legend": {
         "bgcolor": "#F5F6F9",
         "font": {
          "color": "#4D5663"
         }
        },
        "paper_bgcolor": "#F5F6F9",
        "plot_bgcolor": "#F5F6F9",
        "template": {
         "data": {
          "bar": [
           {
            "error_x": {
             "color": "#2a3f5f"
            },
            "error_y": {
             "color": "#2a3f5f"
            },
            "marker": {
             "line": {
              "color": "#E5ECF6",
              "width": 0.5
             },
             "pattern": {
              "fillmode": "overlay",
              "size": 10,
              "solidity": 0.2
             }
            },
            "type": "bar"
           }
          ],
          "barpolar": [
           {
            "marker": {
             "line": {
              "color": "#E5ECF6",
              "width": 0.5
             },
             "pattern": {
              "fillmode": "overlay",
              "size": 10,
              "solidity": 0.2
             }
            },
            "type": "barpolar"
           }
          ],
          "carpet": [
           {
            "aaxis": {
             "endlinecolor": "#2a3f5f",
             "gridcolor": "white",
             "linecolor": "white",
             "minorgridcolor": "white",
             "startlinecolor": "#2a3f5f"
            },
            "baxis": {
             "endlinecolor": "#2a3f5f",
             "gridcolor": "white",
             "linecolor": "white",
             "minorgridcolor": "white",
             "startlinecolor": "#2a3f5f"
            },
            "type": "carpet"
           }
          ],
          "choropleth": [
           {
            "colorbar": {
             "outlinewidth": 0,
             "ticks": ""
            },
            "type": "choropleth"
           }
          ],
          "contour": [
           {
            "colorbar": {
             "outlinewidth": 0,
             "ticks": ""
            },
            "colorscale": [
             [
              0,
              "#0d0887"
             ],
             [
              0.1111111111111111,
              "#46039f"
             ],
             [
              0.2222222222222222,
              "#7201a8"
             ],
             [
              0.3333333333333333,
              "#9c179e"
             ],
             [
              0.4444444444444444,
              "#bd3786"
             ],
             [
              0.5555555555555556,
              "#d8576b"
             ],
             [
              0.6666666666666666,
              "#ed7953"
             ],
             [
              0.7777777777777778,
              "#fb9f3a"
             ],
             [
              0.8888888888888888,
              "#fdca26"
             ],
             [
              1,
              "#f0f921"
             ]
            ],
            "type": "contour"
           }
          ],
          "contourcarpet": [
           {
            "colorbar": {
             "outlinewidth": 0,
             "ticks": ""
            },
            "type": "contourcarpet"
           }
          ],
          "heatmap": [
           {
            "colorbar": {
             "outlinewidth": 0,
             "ticks": ""
            },
            "colorscale": [
             [
              0,
              "#0d0887"
             ],
             [
              0.1111111111111111,
              "#46039f"
             ],
             [
              0.2222222222222222,
              "#7201a8"
             ],
             [
              0.3333333333333333,
              "#9c179e"
             ],
             [
              0.4444444444444444,
              "#bd3786"
             ],
             [
              0.5555555555555556,
              "#d8576b"
             ],
             [
              0.6666666666666666,
              "#ed7953"
             ],
             [
              0.7777777777777778,
              "#fb9f3a"
             ],
             [
              0.8888888888888888,
              "#fdca26"
             ],
             [
              1,
              "#f0f921"
             ]
            ],
            "type": "heatmap"
           }
          ],
          "heatmapgl": [
           {
            "colorbar": {
             "outlinewidth": 0,
             "ticks": ""
            },
            "colorscale": [
             [
              0,
              "#0d0887"
             ],
             [
              0.1111111111111111,
              "#46039f"
             ],
             [
              0.2222222222222222,
              "#7201a8"
             ],
             [
              0.3333333333333333,
              "#9c179e"
             ],
             [
              0.4444444444444444,
              "#bd3786"
             ],
             [
              0.5555555555555556,
              "#d8576b"
             ],
             [
              0.6666666666666666,
              "#ed7953"
             ],
             [
              0.7777777777777778,
              "#fb9f3a"
             ],
             [
              0.8888888888888888,
              "#fdca26"
             ],
             [
              1,
              "#f0f921"
             ]
            ],
            "type": "heatmapgl"
           }
          ],
          "histogram": [
           {
            "marker": {
             "pattern": {
              "fillmode": "overlay",
              "size": 10,
              "solidity": 0.2
             }
            },
            "type": "histogram"
           }
          ],
          "histogram2d": [
           {
            "colorbar": {
             "outlinewidth": 0,
             "ticks": ""
            },
            "colorscale": [
             [
              0,
              "#0d0887"
             ],
             [
              0.1111111111111111,
              "#46039f"
             ],
             [
              0.2222222222222222,
              "#7201a8"
             ],
             [
              0.3333333333333333,
              "#9c179e"
             ],
             [
              0.4444444444444444,
              "#bd3786"
             ],
             [
              0.5555555555555556,
              "#d8576b"
             ],
             [
              0.6666666666666666,
              "#ed7953"
             ],
             [
              0.7777777777777778,
              "#fb9f3a"
             ],
             [
              0.8888888888888888,
              "#fdca26"
             ],
             [
              1,
              "#f0f921"
             ]
            ],
            "type": "histogram2d"
           }
          ],
          "histogram2dcontour": [
           {
            "colorbar": {
             "outlinewidth": 0,
             "ticks": ""
            },
            "colorscale": [
             [
              0,
              "#0d0887"
             ],
             [
              0.1111111111111111,
              "#46039f"
             ],
             [
              0.2222222222222222,
              "#7201a8"
             ],
             [
              0.3333333333333333,
              "#9c179e"
             ],
             [
              0.4444444444444444,
              "#bd3786"
             ],
             [
              0.5555555555555556,
              "#d8576b"
             ],
             [
              0.6666666666666666,
              "#ed7953"
             ],
             [
              0.7777777777777778,
              "#fb9f3a"
             ],
             [
              0.8888888888888888,
              "#fdca26"
             ],
             [
              1,
              "#f0f921"
             ]
            ],
            "type": "histogram2dcontour"
           }
          ],
          "mesh3d": [
           {
            "colorbar": {
             "outlinewidth": 0,
             "ticks": ""
            },
            "type": "mesh3d"
           }
          ],
          "parcoords": [
           {
            "line": {
             "colorbar": {
              "outlinewidth": 0,
              "ticks": ""
             }
            },
            "type": "parcoords"
           }
          ],
          "pie": [
           {
            "automargin": true,
            "type": "pie"
           }
          ],
          "scatter": [
           {
            "fillpattern": {
             "fillmode": "overlay",
             "size": 10,
             "solidity": 0.2
            },
            "type": "scatter"
           }
          ],
          "scatter3d": [
           {
            "line": {
             "colorbar": {
              "outlinewidth": 0,
              "ticks": ""
             }
            },
            "marker": {
             "colorbar": {
              "outlinewidth": 0,
              "ticks": ""
             }
            },
            "type": "scatter3d"
           }
          ],
          "scattercarpet": [
           {
            "marker": {
             "colorbar": {
              "outlinewidth": 0,
              "ticks": ""
             }
            },
            "type": "scattercarpet"
           }
          ],
          "scattergeo": [
           {
            "marker": {
             "colorbar": {
              "outlinewidth": 0,
              "ticks": ""
             }
            },
            "type": "scattergeo"
           }
          ],
          "scattergl": [
           {
            "marker": {
             "colorbar": {
              "outlinewidth": 0,
              "ticks": ""
             }
            },
            "type": "scattergl"
           }
          ],
          "scattermapbox": [
           {
            "marker": {
             "colorbar": {
              "outlinewidth": 0,
              "ticks": ""
             }
            },
            "type": "scattermapbox"
           }
          ],
          "scatterpolar": [
           {
            "marker": {
             "colorbar": {
              "outlinewidth": 0,
              "ticks": ""
             }
            },
            "type": "scatterpolar"
           }
          ],
          "scatterpolargl": [
           {
            "marker": {
             "colorbar": {
              "outlinewidth": 0,
              "ticks": ""
             }
            },
            "type": "scatterpolargl"
           }
          ],
          "scatterternary": [
           {
            "marker": {
             "colorbar": {
              "outlinewidth": 0,
              "ticks": ""
             }
            },
            "type": "scatterternary"
           }
          ],
          "surface": [
           {
            "colorbar": {
             "outlinewidth": 0,
             "ticks": ""
            },
            "colorscale": [
             [
              0,
              "#0d0887"
             ],
             [
              0.1111111111111111,
              "#46039f"
             ],
             [
              0.2222222222222222,
              "#7201a8"
             ],
             [
              0.3333333333333333,
              "#9c179e"
             ],
             [
              0.4444444444444444,
              "#bd3786"
             ],
             [
              0.5555555555555556,
              "#d8576b"
             ],
             [
              0.6666666666666666,
              "#ed7953"
             ],
             [
              0.7777777777777778,
              "#fb9f3a"
             ],
             [
              0.8888888888888888,
              "#fdca26"
             ],
             [
              1,
              "#f0f921"
             ]
            ],
            "type": "surface"
           }
          ],
          "table": [
           {
            "cells": {
             "fill": {
              "color": "#EBF0F8"
             },
             "line": {
              "color": "white"
             }
            },
            "header": {
             "fill": {
              "color": "#C8D4E3"
             },
             "line": {
              "color": "white"
             }
            },
            "type": "table"
           }
          ]
         },
         "layout": {
          "annotationdefaults": {
           "arrowcolor": "#2a3f5f",
           "arrowhead": 0,
           "arrowwidth": 1
          },
          "autotypenumbers": "strict",
          "coloraxis": {
           "colorbar": {
            "outlinewidth": 0,
            "ticks": ""
           }
          },
          "colorscale": {
           "diverging": [
            [
             0,
             "#8e0152"
            ],
            [
             0.1,
             "#c51b7d"
            ],
            [
             0.2,
             "#de77ae"
            ],
            [
             0.3,
             "#f1b6da"
            ],
            [
             0.4,
             "#fde0ef"
            ],
            [
             0.5,
             "#f7f7f7"
            ],
            [
             0.6,
             "#e6f5d0"
            ],
            [
             0.7,
             "#b8e186"
            ],
            [
             0.8,
             "#7fbc41"
            ],
            [
             0.9,
             "#4d9221"
            ],
            [
             1,
             "#276419"
            ]
           ],
           "sequential": [
            [
             0,
             "#0d0887"
            ],
            [
             0.1111111111111111,
             "#46039f"
            ],
            [
             0.2222222222222222,
             "#7201a8"
            ],
            [
             0.3333333333333333,
             "#9c179e"
            ],
            [
             0.4444444444444444,
             "#bd3786"
            ],
            [
             0.5555555555555556,
             "#d8576b"
            ],
            [
             0.6666666666666666,
             "#ed7953"
            ],
            [
             0.7777777777777778,
             "#fb9f3a"
            ],
            [
             0.8888888888888888,
             "#fdca26"
            ],
            [
             1,
             "#f0f921"
            ]
           ],
           "sequentialminus": [
            [
             0,
             "#0d0887"
            ],
            [
             0.1111111111111111,
             "#46039f"
            ],
            [
             0.2222222222222222,
             "#7201a8"
            ],
            [
             0.3333333333333333,
             "#9c179e"
            ],
            [
             0.4444444444444444,
             "#bd3786"
            ],
            [
             0.5555555555555556,
             "#d8576b"
            ],
            [
             0.6666666666666666,
             "#ed7953"
            ],
            [
             0.7777777777777778,
             "#fb9f3a"
            ],
            [
             0.8888888888888888,
             "#fdca26"
            ],
            [
             1,
             "#f0f921"
            ]
           ]
          },
          "colorway": [
           "#636efa",
           "#EF553B",
           "#00cc96",
           "#ab63fa",
           "#FFA15A",
           "#19d3f3",
           "#FF6692",
           "#B6E880",
           "#FF97FF",
           "#FECB52"
          ],
          "font": {
           "color": "#2a3f5f"
          },
          "geo": {
           "bgcolor": "white",
           "lakecolor": "white",
           "landcolor": "#E5ECF6",
           "showlakes": true,
           "showland": true,
           "subunitcolor": "white"
          },
          "hoverlabel": {
           "align": "left"
          },
          "hovermode": "closest",
          "mapbox": {
           "style": "light"
          },
          "paper_bgcolor": "white",
          "plot_bgcolor": "#E5ECF6",
          "polar": {
           "angularaxis": {
            "gridcolor": "white",
            "linecolor": "white",
            "ticks": ""
           },
           "bgcolor": "#E5ECF6",
           "radialaxis": {
            "gridcolor": "white",
            "linecolor": "white",
            "ticks": ""
           }
          },
          "scene": {
           "xaxis": {
            "backgroundcolor": "#E5ECF6",
            "gridcolor": "white",
            "gridwidth": 2,
            "linecolor": "white",
            "showbackground": true,
            "ticks": "",
            "zerolinecolor": "white"
           },
           "yaxis": {
            "backgroundcolor": "#E5ECF6",
            "gridcolor": "white",
            "gridwidth": 2,
            "linecolor": "white",
            "showbackground": true,
            "ticks": "",
            "zerolinecolor": "white"
           },
           "zaxis": {
            "backgroundcolor": "#E5ECF6",
            "gridcolor": "white",
            "gridwidth": 2,
            "linecolor": "white",
            "showbackground": true,
            "ticks": "",
            "zerolinecolor": "white"
           }
          },
          "shapedefaults": {
           "line": {
            "color": "#2a3f5f"
           }
          },
          "ternary": {
           "aaxis": {
            "gridcolor": "white",
            "linecolor": "white",
            "ticks": ""
           },
           "baxis": {
            "gridcolor": "white",
            "linecolor": "white",
            "ticks": ""
           },
           "bgcolor": "#E5ECF6",
           "caxis": {
            "gridcolor": "white",
            "linecolor": "white",
            "ticks": ""
           }
          },
          "title": {
           "x": 0.05
          },
          "xaxis": {
           "automargin": true,
           "gridcolor": "white",
           "linecolor": "white",
           "ticks": "",
           "title": {
            "standoff": 15
           },
           "zerolinecolor": "white",
           "zerolinewidth": 2
          },
          "yaxis": {
           "automargin": true,
           "gridcolor": "white",
           "linecolor": "white",
           "ticks": "",
           "title": {
            "standoff": 15
           },
           "zerolinecolor": "white",
           "zerolinewidth": 2
          }
         }
        },
        "title": {
         "font": {
          "color": "#4D5663"
         }
        },
        "xaxis": {
         "gridcolor": "#E1E5ED",
         "showgrid": true,
         "tickfont": {
          "color": "#4D5663"
         },
         "title": {
          "font": {
           "color": "#4D5663"
          },
          "text": ""
         },
         "zerolinecolor": "#E1E5ED"
        },
        "yaxis": {
         "gridcolor": "#E1E5ED",
         "showgrid": true,
         "tickfont": {
          "color": "#4D5663"
         },
         "title": {
          "font": {
           "color": "#4D5663"
          },
          "text": ""
         },
         "zerolinecolor": "#E1E5ED"
        }
       }
      },
      "text/html": [
       "<div>                            <div id=\"5aa0411c-f978-498d-8023-31cce10a7cc9\" class=\"plotly-graph-div\" style=\"height:525px; width:100%;\"></div>            <script type=\"text/javascript\">                require([\"plotly\"], function(Plotly) {                    window.PLOTLYENV=window.PLOTLYENV || {};\n",
       "                    window.PLOTLYENV.BASE_URL='https://plot.ly';                                    if (document.getElementById(\"5aa0411c-f978-498d-8023-31cce10a7cc9\")) {                    Plotly.newPlot(                        \"5aa0411c-f978-498d-8023-31cce10a7cc9\",                        [{\"boxpoints\":false,\"line\":{\"width\":1.3},\"marker\":{\"color\":\"rgba(255, 153, 51, 1.0)\"},\"name\":\"A\",\"orientation\":\"v\",\"y\":[0.04472728291752777,2.0136277903577247,-1.9236196401519277,2.4911980816178194,-0.9967665313943013,-0.7951919577304543,1.9487063804665836,-2.23538159261186,-0.6362833050737016,-1.4754844608198587,0.011761902594940405,0.762460136367464,0.09148958294183143,-1.3104088928298192,-0.6551324495685213,0.4417399033234646,-1.0041748206612782,-2.1279381643445148,-0.33415704844100136,1.8822856176465037,-0.17436524138072843,0.24438741548022544,1.1271349499163994,0.12908581848119247,-0.5194216529893724,0.06933790600730215,-0.1604553359252777,0.4243007995667343,-1.1251252448290945,-1.3033981078054881,-0.3439484052277837,0.1853004778913747,-1.2386458788249415,1.5066759635136762,-1.5934330724746797,1.1466275226458311,-0.2998576466989392,-0.7564601805963426,-0.8075479890241387,0.31415964222467585,-1.869410364721812,-0.7150081458694103,-1.1738929577822552,-0.03933686859765417,-0.2301305754650945,1.077391686619631,1.1402657961968796,0.291777123552492,0.9600778507641592,-0.4263265753068178,-0.5520173344511742,0.6578707128339493,0.6018249253613506,-1.226518784319018,-0.10312712302438928,-1.0674536882407857,0.6482714967308668,0.9162266657051357,-0.5372298377330095,0.8845513154382081,0.8015316358892549,-0.7257562347588903,-0.8516497444356815,0.35510691240333075,-0.1602518439569381,0.18772635521434244,0.6394680450095762,-1.7841028128897547,-1.362461857419024,-0.9692165633965856,1.8623982171870008,1.5405117173715361,-1.329477243882208,-1.0570415503714614,0.8275648531322185,0.7174334888677107,-1.8407960180545033,-0.6327346660982492,-1.834893941666618,-1.0222932958815636,-0.0890975036474237,0.9262538909560268,1.587038316260175,1.4636701642913348,0.24217647988032678,-0.05063897611733595,0.723546614583445,-0.49758264536569463,0.9075802085838476,-1.1304087274552108,-1.8339112439763066,-1.1000414778730772,-1.4124638619838747,0.6431580778738788,-1.4370295309081362,0.6910484972701905,3.256655782163857,-0.11462551340178101,2.17596548950574,1.4596346378062068],\"type\":\"box\"},{\"boxpoints\":false,\"line\":{\"width\":1.3},\"marker\":{\"color\":\"rgba(55, 128, 191, 1.0)\"},\"name\":\"B\",\"orientation\":\"v\",\"y\":[-0.3581752144020478,-0.7438157432225722,-0.026352079985911398,-1.7030343296523238,-0.6804127539561089,-0.5742523112529103,-0.644070917542256,1.1420509381512929,2.102995846840507,0.8034327021876664,-0.2544097102330024,-0.5594592584848158,0.3215300951874448,-2.248060706625145,0.8510702715173849,0.02002817387705508,0.4123192990534875,-0.9082770377039694,-2.6085505772612874,-2.147063117352743,0.9535202754542268,-0.0073023603245049125,0.9538228579321008,1.0999244249525777,-1.139370634678592,0.2756124159103919,-0.6372337077181718,-0.36135473899091913,0.21164955578397002,-0.03099702152822309,-0.7316516112829898,0.6355425652614268,1.78039302465161,-2.0788866513236086,1.1491779044101635,-1.6641430920273568,-2.2000095056079068,-0.982006606741808,-1.057634337467608,0.5812949646110466,-1.4253407808509473,0.08339873767432296,1.3543453070586946,-0.17539272838694092,1.2030635329624155,-0.8457858322795581,-0.3938160616631665,0.4041842542547364,-0.22165217214236851,-1.1733244203373254,1.3750172675716983,0.9958795214552347,-0.4135630924958996,1.407402473250491,1.3153437163187505,-0.2337487208533535,-0.8143858125945819,1.2535849479121297,-1.4013077884969811,-0.027873794659457322,-1.6519261458676777,1.0152535488984349,1.6400765995653448,-0.13121204521055865,0.11617127183790316,1.0286285927755345,-0.7385281986681842,0.5734121298857456,0.561397002379349,-0.2949416372362533,0.3748451018513906,0.7535297542120657,-0.8808149739384412,-0.6003689995820148,-0.09021186742874453,-1.0472595114473746,0.3925190406471404,0.7868290741235954,-0.6101642208256651,2.6848305120360294,0.5820378711418692,0.01709018333611756,0.08485702664004978,1.1302744949762342,0.2619928493319134,-0.7773726420782053,-0.013062268486066998,-0.6484815907002609,0.15677550862065318,0.12088007476316984,-0.06528420696843706,0.9644951425621063,0.47524555244276545,-1.2159192117365958,1.102966649667511,0.35982432168304623,0.10840028329846188,-0.4012335082600968,-0.9925124577209844,-1.3590407654438954],\"type\":\"box\"},{\"boxpoints\":false,\"line\":{\"width\":1.3},\"marker\":{\"color\":\"rgba(50, 171, 96, 1.0)\"},\"name\":\"C\",\"orientation\":\"v\",\"y\":[-0.23448312426228735,1.1734040566324928,-0.10861389781654822,0.24027945635684297,-0.08794282132505515,0.6726391635010236,-0.37552541245105003,-0.7494796703260302,-1.2199073146846033,-1.6931654750619702,-1.811079365096557,0.020893689638700835,1.4440760297398576,2.0996733504169476,0.2802152532388648,-0.631054921461625,-0.05058220403933079,-0.40616064456808204,1.3328310775467256,-0.7952521462271923,1.193583854304163,1.2519963841369282,-0.9134586174239632,-0.8725557059242434,1.322184682356837,-0.4731022176800327,-0.38267636582941933,0.38535412701646493,-1.1965059878390942,0.19145332611762864,0.3566681742276206,-1.264716104990276,0.4243392705895578,1.352646395863531,-0.02021727760841491,-0.7085479943731398,-0.3513627400163215,0.4455970114568262,-0.07323231464269236,-0.8415162878062188,0.9561748628251976,0.8266471204039709,1.1931278881829999,-0.580958705159653,1.8335977808655468,0.42426644760194343,-0.7852114902855585,-1.0309186190380473,-0.5628076000169935,-0.6668007851181149,-0.47099726499280853,1.143799160220701,-1.5163084407753304,0.20717110610832454,-1.415994522288912,-2.220675022997926,0.6582443065023541,0.3031872325281803,-1.3815256248194634,1.297509735968905,-2.238715299297245,0.09141734497233205,1.286436512846688,-0.812447701905832,2.4930764402388297,1.0160813131560342,-0.024805488654926825,1.2411060588006042,-1.8717534423774491,-1.2780107408365775,0.9604418458571313,1.1860385241314744,0.2666552647328103,-0.5065385105511384,0.4729758225569982,-1.7988288083912745,0.12658581224890725,-0.7429979785392491,-0.7766302972611013,-0.7908572996583494,1.7092147797657669,0.3766299248489669,0.03407246113986779,0.8362003788511563,-1.1711334684013959,-0.48597338126349765,-2.203472995499135,-0.4551947366698177,-0.05546809983232083,2.2647661124262575,-0.18290251332336832,0.38311887678930373,0.7702053250113908,-1.4726452884463173,-0.7940794673819839,-1.4445383145154873,-1.1988936019151248,-0.8107991708981381,0.560932510068928,-0.5958865538256582],\"type\":\"box\"},{\"boxpoints\":false,\"line\":{\"width\":1.3},\"marker\":{\"color\":\"rgba(128, 0, 128, 1.0)\"},\"name\":\"D\",\"orientation\":\"v\",\"y\":[-1.5749712758367225,1.5279679553494656,0.6169188398532187,0.4381615389821466,-1.165902982861862,-0.16092737219826567,-1.7263006353744885,-1.582251046999577,0.4469798912409568,0.5552252020943597,0.33978681096646723,-0.26653086846945734,-0.18795204881984295,-1.196796020247596,0.6905438370339786,0.19256030671672106,0.40745787612123663,0.08118535241407211,-0.20116012248770837,-0.3616228989893024,1.1122414385610147,-0.7452604582734915,0.9916611852938433,0.06328464757229811,-0.40919677148805067,0.593866979645523,0.12217081381354897,0.8159518001549088,-0.7350511957390575,-0.22518573653845014,-0.08879787450644676,-1.795074849986664,0.028770762258658402,-1.3095779428990628,-0.9515379399218806,0.5237507118918706,-2.5386755453027545,0.2982603809537099,0.24602326627966442,-0.8077688646428979,-0.37370504717129976,1.9002888111887495,0.3824023297822875,-0.26624429103922975,1.987202651890973,2.9333929258512903,-0.7381720151404398,-1.012779611616609,-2.1905488232002144,0.17544393723866172,-1.0067215886285323,0.4753858487792162,1.3511332230279804,-1.0220811480425784,1.0088962206810403,0.5955736028083011,1.9310225152585656,-0.39994860622598055,0.19053885631258413,-0.500686573805311,-1.5338016430096757,-1.5629835931009401,-0.6138045856884331,0.28693952744716644,-0.18847477711654487,-2.20166846320593,2.863689176111007,0.42562756483126546,0.35399746830538176,0.0408933085068111,-0.03590807580194766,-0.3861647831070781,-0.36532724949382955,-1.1013570280673528,-0.26876016694697025,-0.8504890421894056,-0.7416937128184802,0.9368118692364116,0.033451347964105364,-1.533761356424725,-1.4756323877032957,-0.2628794054357832,0.7931820665822862,-0.9427961603013939,1.456836838293411,-1.372939292162019,-0.23505185131900733,1.8747775392364285,0.24810542774041208,0.741451362268954,-1.5167542526614488,0.6590929481300954,1.1962855891252022,-0.42889342349351406,-0.8762483646811131,0.7897359378126796,-0.8687920367555837,0.36314292858819397,1.3888598090759352,-0.09299929489217049],\"type\":\"box\"}],                        {\"legend\":{\"bgcolor\":\"#F5F6F9\",\"font\":{\"color\":\"#4D5663\"}},\"paper_bgcolor\":\"#F5F6F9\",\"plot_bgcolor\":\"#F5F6F9\",\"template\":{\"data\":{\"barpolar\":[{\"marker\":{\"line\":{\"color\":\"#E5ECF6\",\"width\":0.5},\"pattern\":{\"fillmode\":\"overlay\",\"size\":10,\"solidity\":0.2}},\"type\":\"barpolar\"}],\"bar\":[{\"error_x\":{\"color\":\"#2a3f5f\"},\"error_y\":{\"color\":\"#2a3f5f\"},\"marker\":{\"line\":{\"color\":\"#E5ECF6\",\"width\":0.5},\"pattern\":{\"fillmode\":\"overlay\",\"size\":10,\"solidity\":0.2}},\"type\":\"bar\"}],\"carpet\":[{\"aaxis\":{\"endlinecolor\":\"#2a3f5f\",\"gridcolor\":\"white\",\"linecolor\":\"white\",\"minorgridcolor\":\"white\",\"startlinecolor\":\"#2a3f5f\"},\"baxis\":{\"endlinecolor\":\"#2a3f5f\",\"gridcolor\":\"white\",\"linecolor\":\"white\",\"minorgridcolor\":\"white\",\"startlinecolor\":\"#2a3f5f\"},\"type\":\"carpet\"}],\"choropleth\":[{\"colorbar\":{\"outlinewidth\":0,\"ticks\":\"\"},\"type\":\"choropleth\"}],\"contourcarpet\":[{\"colorbar\":{\"outlinewidth\":0,\"ticks\":\"\"},\"type\":\"contourcarpet\"}],\"contour\":[{\"colorbar\":{\"outlinewidth\":0,\"ticks\":\"\"},\"colorscale\":[[0.0,\"#0d0887\"],[0.1111111111111111,\"#46039f\"],[0.2222222222222222,\"#7201a8\"],[0.3333333333333333,\"#9c179e\"],[0.4444444444444444,\"#bd3786\"],[0.5555555555555556,\"#d8576b\"],[0.6666666666666666,\"#ed7953\"],[0.7777777777777778,\"#fb9f3a\"],[0.8888888888888888,\"#fdca26\"],[1.0,\"#f0f921\"]],\"type\":\"contour\"}],\"heatmapgl\":[{\"colorbar\":{\"outlinewidth\":0,\"ticks\":\"\"},\"colorscale\":[[0.0,\"#0d0887\"],[0.1111111111111111,\"#46039f\"],[0.2222222222222222,\"#7201a8\"],[0.3333333333333333,\"#9c179e\"],[0.4444444444444444,\"#bd3786\"],[0.5555555555555556,\"#d8576b\"],[0.6666666666666666,\"#ed7953\"],[0.7777777777777778,\"#fb9f3a\"],[0.8888888888888888,\"#fdca26\"],[1.0,\"#f0f921\"]],\"type\":\"heatmapgl\"}],\"heatmap\":[{\"colorbar\":{\"outlinewidth\":0,\"ticks\":\"\"},\"colorscale\":[[0.0,\"#0d0887\"],[0.1111111111111111,\"#46039f\"],[0.2222222222222222,\"#7201a8\"],[0.3333333333333333,\"#9c179e\"],[0.4444444444444444,\"#bd3786\"],[0.5555555555555556,\"#d8576b\"],[0.6666666666666666,\"#ed7953\"],[0.7777777777777778,\"#fb9f3a\"],[0.8888888888888888,\"#fdca26\"],[1.0,\"#f0f921\"]],\"type\":\"heatmap\"}],\"histogram2dcontour\":[{\"colorbar\":{\"outlinewidth\":0,\"ticks\":\"\"},\"colorscale\":[[0.0,\"#0d0887\"],[0.1111111111111111,\"#46039f\"],[0.2222222222222222,\"#7201a8\"],[0.3333333333333333,\"#9c179e\"],[0.4444444444444444,\"#bd3786\"],[0.5555555555555556,\"#d8576b\"],[0.6666666666666666,\"#ed7953\"],[0.7777777777777778,\"#fb9f3a\"],[0.8888888888888888,\"#fdca26\"],[1.0,\"#f0f921\"]],\"type\":\"histogram2dcontour\"}],\"histogram2d\":[{\"colorbar\":{\"outlinewidth\":0,\"ticks\":\"\"},\"colorscale\":[[0.0,\"#0d0887\"],[0.1111111111111111,\"#46039f\"],[0.2222222222222222,\"#7201a8\"],[0.3333333333333333,\"#9c179e\"],[0.4444444444444444,\"#bd3786\"],[0.5555555555555556,\"#d8576b\"],[0.6666666666666666,\"#ed7953\"],[0.7777777777777778,\"#fb9f3a\"],[0.8888888888888888,\"#fdca26\"],[1.0,\"#f0f921\"]],\"type\":\"histogram2d\"}],\"histogram\":[{\"marker\":{\"pattern\":{\"fillmode\":\"overlay\",\"size\":10,\"solidity\":0.2}},\"type\":\"histogram\"}],\"mesh3d\":[{\"colorbar\":{\"outlinewidth\":0,\"ticks\":\"\"},\"type\":\"mesh3d\"}],\"parcoords\":[{\"line\":{\"colorbar\":{\"outlinewidth\":0,\"ticks\":\"\"}},\"type\":\"parcoords\"}],\"pie\":[{\"automargin\":true,\"type\":\"pie\"}],\"scatter3d\":[{\"line\":{\"colorbar\":{\"outlinewidth\":0,\"ticks\":\"\"}},\"marker\":{\"colorbar\":{\"outlinewidth\":0,\"ticks\":\"\"}},\"type\":\"scatter3d\"}],\"scattercarpet\":[{\"marker\":{\"colorbar\":{\"outlinewidth\":0,\"ticks\":\"\"}},\"type\":\"scattercarpet\"}],\"scattergeo\":[{\"marker\":{\"colorbar\":{\"outlinewidth\":0,\"ticks\":\"\"}},\"type\":\"scattergeo\"}],\"scattergl\":[{\"marker\":{\"colorbar\":{\"outlinewidth\":0,\"ticks\":\"\"}},\"type\":\"scattergl\"}],\"scattermapbox\":[{\"marker\":{\"colorbar\":{\"outlinewidth\":0,\"ticks\":\"\"}},\"type\":\"scattermapbox\"}],\"scatterpolargl\":[{\"marker\":{\"colorbar\":{\"outlinewidth\":0,\"ticks\":\"\"}},\"type\":\"scatterpolargl\"}],\"scatterpolar\":[{\"marker\":{\"colorbar\":{\"outlinewidth\":0,\"ticks\":\"\"}},\"type\":\"scatterpolar\"}],\"scatter\":[{\"fillpattern\":{\"fillmode\":\"overlay\",\"size\":10,\"solidity\":0.2},\"type\":\"scatter\"}],\"scatterternary\":[{\"marker\":{\"colorbar\":{\"outlinewidth\":0,\"ticks\":\"\"}},\"type\":\"scatterternary\"}],\"surface\":[{\"colorbar\":{\"outlinewidth\":0,\"ticks\":\"\"},\"colorscale\":[[0.0,\"#0d0887\"],[0.1111111111111111,\"#46039f\"],[0.2222222222222222,\"#7201a8\"],[0.3333333333333333,\"#9c179e\"],[0.4444444444444444,\"#bd3786\"],[0.5555555555555556,\"#d8576b\"],[0.6666666666666666,\"#ed7953\"],[0.7777777777777778,\"#fb9f3a\"],[0.8888888888888888,\"#fdca26\"],[1.0,\"#f0f921\"]],\"type\":\"surface\"}],\"table\":[{\"cells\":{\"fill\":{\"color\":\"#EBF0F8\"},\"line\":{\"color\":\"white\"}},\"header\":{\"fill\":{\"color\":\"#C8D4E3\"},\"line\":{\"color\":\"white\"}},\"type\":\"table\"}]},\"layout\":{\"annotationdefaults\":{\"arrowcolor\":\"#2a3f5f\",\"arrowhead\":0,\"arrowwidth\":1},\"autotypenumbers\":\"strict\",\"coloraxis\":{\"colorbar\":{\"outlinewidth\":0,\"ticks\":\"\"}},\"colorscale\":{\"diverging\":[[0,\"#8e0152\"],[0.1,\"#c51b7d\"],[0.2,\"#de77ae\"],[0.3,\"#f1b6da\"],[0.4,\"#fde0ef\"],[0.5,\"#f7f7f7\"],[0.6,\"#e6f5d0\"],[0.7,\"#b8e186\"],[0.8,\"#7fbc41\"],[0.9,\"#4d9221\"],[1,\"#276419\"]],\"sequential\":[[0.0,\"#0d0887\"],[0.1111111111111111,\"#46039f\"],[0.2222222222222222,\"#7201a8\"],[0.3333333333333333,\"#9c179e\"],[0.4444444444444444,\"#bd3786\"],[0.5555555555555556,\"#d8576b\"],[0.6666666666666666,\"#ed7953\"],[0.7777777777777778,\"#fb9f3a\"],[0.8888888888888888,\"#fdca26\"],[1.0,\"#f0f921\"]],\"sequentialminus\":[[0.0,\"#0d0887\"],[0.1111111111111111,\"#46039f\"],[0.2222222222222222,\"#7201a8\"],[0.3333333333333333,\"#9c179e\"],[0.4444444444444444,\"#bd3786\"],[0.5555555555555556,\"#d8576b\"],[0.6666666666666666,\"#ed7953\"],[0.7777777777777778,\"#fb9f3a\"],[0.8888888888888888,\"#fdca26\"],[1.0,\"#f0f921\"]]},\"colorway\":[\"#636efa\",\"#EF553B\",\"#00cc96\",\"#ab63fa\",\"#FFA15A\",\"#19d3f3\",\"#FF6692\",\"#B6E880\",\"#FF97FF\",\"#FECB52\"],\"font\":{\"color\":\"#2a3f5f\"},\"geo\":{\"bgcolor\":\"white\",\"lakecolor\":\"white\",\"landcolor\":\"#E5ECF6\",\"showlakes\":true,\"showland\":true,\"subunitcolor\":\"white\"},\"hoverlabel\":{\"align\":\"left\"},\"hovermode\":\"closest\",\"mapbox\":{\"style\":\"light\"},\"paper_bgcolor\":\"white\",\"plot_bgcolor\":\"#E5ECF6\",\"polar\":{\"angularaxis\":{\"gridcolor\":\"white\",\"linecolor\":\"white\",\"ticks\":\"\"},\"bgcolor\":\"#E5ECF6\",\"radialaxis\":{\"gridcolor\":\"white\",\"linecolor\":\"white\",\"ticks\":\"\"}},\"scene\":{\"xaxis\":{\"backgroundcolor\":\"#E5ECF6\",\"gridcolor\":\"white\",\"gridwidth\":2,\"linecolor\":\"white\",\"showbackground\":true,\"ticks\":\"\",\"zerolinecolor\":\"white\"},\"yaxis\":{\"backgroundcolor\":\"#E5ECF6\",\"gridcolor\":\"white\",\"gridwidth\":2,\"linecolor\":\"white\",\"showbackground\":true,\"ticks\":\"\",\"zerolinecolor\":\"white\"},\"zaxis\":{\"backgroundcolor\":\"#E5ECF6\",\"gridcolor\":\"white\",\"gridwidth\":2,\"linecolor\":\"white\",\"showbackground\":true,\"ticks\":\"\",\"zerolinecolor\":\"white\"}},\"shapedefaults\":{\"line\":{\"color\":\"#2a3f5f\"}},\"ternary\":{\"aaxis\":{\"gridcolor\":\"white\",\"linecolor\":\"white\",\"ticks\":\"\"},\"baxis\":{\"gridcolor\":\"white\",\"linecolor\":\"white\",\"ticks\":\"\"},\"bgcolor\":\"#E5ECF6\",\"caxis\":{\"gridcolor\":\"white\",\"linecolor\":\"white\",\"ticks\":\"\"}},\"title\":{\"x\":0.05},\"xaxis\":{\"automargin\":true,\"gridcolor\":\"white\",\"linecolor\":\"white\",\"ticks\":\"\",\"title\":{\"standoff\":15},\"zerolinecolor\":\"white\",\"zerolinewidth\":2},\"yaxis\":{\"automargin\":true,\"gridcolor\":\"white\",\"linecolor\":\"white\",\"ticks\":\"\",\"title\":{\"standoff\":15},\"zerolinecolor\":\"white\",\"zerolinewidth\":2}}},\"title\":{\"font\":{\"color\":\"#4D5663\"}},\"xaxis\":{\"gridcolor\":\"#E1E5ED\",\"showgrid\":true,\"tickfont\":{\"color\":\"#4D5663\"},\"title\":{\"font\":{\"color\":\"#4D5663\"},\"text\":\"\"},\"zerolinecolor\":\"#E1E5ED\"},\"yaxis\":{\"gridcolor\":\"#E1E5ED\",\"showgrid\":true,\"tickfont\":{\"color\":\"#4D5663\"},\"title\":{\"font\":{\"color\":\"#4D5663\"},\"text\":\"\"},\"zerolinecolor\":\"#E1E5ED\"}},                        {\"showLink\": true, \"linkText\": \"Export to plot.ly\", \"plotlyServerURL\": \"https://plot.ly\", \"responsive\": true}                    ).then(function(){\n",
       "                            \n",
       "var gd = document.getElementById('5aa0411c-f978-498d-8023-31cce10a7cc9');\n",
       "var x = new MutationObserver(function (mutations, observer) {{\n",
       "        var display = window.getComputedStyle(gd).display;\n",
       "        if (!display || display === 'none') {{\n",
       "            console.log([gd, 'removed!']);\n",
       "            Plotly.purge(gd);\n",
       "            observer.disconnect();\n",
       "        }}\n",
       "}});\n",
       "\n",
       "// Listen for the removal of the full notebook cells\n",
       "var notebookContainer = gd.closest('#notebook-container');\n",
       "if (notebookContainer) {{\n",
       "    x.observe(notebookContainer, {childList: true});\n",
       "}}\n",
       "\n",
       "// Listen for the clearing of the current output cell\n",
       "var outputEl = gd.closest('.output');\n",
       "if (outputEl) {{\n",
       "    x.observe(outputEl, {childList: true});\n",
       "}}\n",
       "\n",
       "                        })                };                });            </script>        </div>"
      ]
     },
     "metadata": {},
     "output_type": "display_data"
    }
   ],
   "source": [
    "df.iplot(kind='box')"
   ]
  },
  {
   "cell_type": "markdown",
   "id": "696fe53f",
   "metadata": {},
   "source": [
    "## IPlot - Surface"
   ]
  },
  {
   "cell_type": "code",
   "execution_count": 60,
   "id": "554894cc",
   "metadata": {},
   "outputs": [
    {
     "data": {
      "application/vnd.plotly.v1+json": {
       "config": {
        "linkText": "Export to plot.ly",
        "plotlyServerURL": "https://plot.ly",
        "showLink": true
       },
       "data": [
        {
         "colorscale": [
          [
           0,
           "rgb(255, 153, 51)"
          ],
          [
           0.1111111111111111,
           "rgb(55, 128, 191)"
          ],
          [
           0.2222222222222222,
           "rgb(50, 171, 96)"
          ],
          [
           0.3333333333333333,
           "rgb(128, 0, 128)"
          ],
          [
           0.4444444444444444,
           "rgb(219, 64, 82)"
          ],
          [
           0.5555555555555556,
           "rgb(0, 128, 128)"
          ],
          [
           0.6666666666666666,
           "rgb(255, 255, 51)"
          ],
          [
           0.7777777777777778,
           "rgb(128, 128, 0)"
          ],
          [
           0.8888888888888888,
           "rgb(251, 128, 114)"
          ],
          [
           1,
           "rgb(128, 177, 211)"
          ]
         ],
         "type": "surface",
         "x": [
          0,
          1,
          2,
          3,
          4
         ],
         "y": [
          "x",
          "y",
          "z"
         ],
         "z": [
          [
           1,
           2,
           3,
           4,
           5
          ],
          [
           10,
           20,
           30,
           20,
           10
          ],
          [
           5,
           4,
           3,
           2,
           1
          ]
         ]
        }
       ],
       "layout": {
        "legend": {
         "bgcolor": "#F5F6F9",
         "font": {
          "color": "#4D5663"
         }
        },
        "paper_bgcolor": "#F5F6F9",
        "plot_bgcolor": "#F5F6F9",
        "template": {
         "data": {
          "bar": [
           {
            "error_x": {
             "color": "#2a3f5f"
            },
            "error_y": {
             "color": "#2a3f5f"
            },
            "marker": {
             "line": {
              "color": "#E5ECF6",
              "width": 0.5
             },
             "pattern": {
              "fillmode": "overlay",
              "size": 10,
              "solidity": 0.2
             }
            },
            "type": "bar"
           }
          ],
          "barpolar": [
           {
            "marker": {
             "line": {
              "color": "#E5ECF6",
              "width": 0.5
             },
             "pattern": {
              "fillmode": "overlay",
              "size": 10,
              "solidity": 0.2
             }
            },
            "type": "barpolar"
           }
          ],
          "carpet": [
           {
            "aaxis": {
             "endlinecolor": "#2a3f5f",
             "gridcolor": "white",
             "linecolor": "white",
             "minorgridcolor": "white",
             "startlinecolor": "#2a3f5f"
            },
            "baxis": {
             "endlinecolor": "#2a3f5f",
             "gridcolor": "white",
             "linecolor": "white",
             "minorgridcolor": "white",
             "startlinecolor": "#2a3f5f"
            },
            "type": "carpet"
           }
          ],
          "choropleth": [
           {
            "colorbar": {
             "outlinewidth": 0,
             "ticks": ""
            },
            "type": "choropleth"
           }
          ],
          "contour": [
           {
            "colorbar": {
             "outlinewidth": 0,
             "ticks": ""
            },
            "colorscale": [
             [
              0,
              "#0d0887"
             ],
             [
              0.1111111111111111,
              "#46039f"
             ],
             [
              0.2222222222222222,
              "#7201a8"
             ],
             [
              0.3333333333333333,
              "#9c179e"
             ],
             [
              0.4444444444444444,
              "#bd3786"
             ],
             [
              0.5555555555555556,
              "#d8576b"
             ],
             [
              0.6666666666666666,
              "#ed7953"
             ],
             [
              0.7777777777777778,
              "#fb9f3a"
             ],
             [
              0.8888888888888888,
              "#fdca26"
             ],
             [
              1,
              "#f0f921"
             ]
            ],
            "type": "contour"
           }
          ],
          "contourcarpet": [
           {
            "colorbar": {
             "outlinewidth": 0,
             "ticks": ""
            },
            "type": "contourcarpet"
           }
          ],
          "heatmap": [
           {
            "colorbar": {
             "outlinewidth": 0,
             "ticks": ""
            },
            "colorscale": [
             [
              0,
              "#0d0887"
             ],
             [
              0.1111111111111111,
              "#46039f"
             ],
             [
              0.2222222222222222,
              "#7201a8"
             ],
             [
              0.3333333333333333,
              "#9c179e"
             ],
             [
              0.4444444444444444,
              "#bd3786"
             ],
             [
              0.5555555555555556,
              "#d8576b"
             ],
             [
              0.6666666666666666,
              "#ed7953"
             ],
             [
              0.7777777777777778,
              "#fb9f3a"
             ],
             [
              0.8888888888888888,
              "#fdca26"
             ],
             [
              1,
              "#f0f921"
             ]
            ],
            "type": "heatmap"
           }
          ],
          "heatmapgl": [
           {
            "colorbar": {
             "outlinewidth": 0,
             "ticks": ""
            },
            "colorscale": [
             [
              0,
              "#0d0887"
             ],
             [
              0.1111111111111111,
              "#46039f"
             ],
             [
              0.2222222222222222,
              "#7201a8"
             ],
             [
              0.3333333333333333,
              "#9c179e"
             ],
             [
              0.4444444444444444,
              "#bd3786"
             ],
             [
              0.5555555555555556,
              "#d8576b"
             ],
             [
              0.6666666666666666,
              "#ed7953"
             ],
             [
              0.7777777777777778,
              "#fb9f3a"
             ],
             [
              0.8888888888888888,
              "#fdca26"
             ],
             [
              1,
              "#f0f921"
             ]
            ],
            "type": "heatmapgl"
           }
          ],
          "histogram": [
           {
            "marker": {
             "pattern": {
              "fillmode": "overlay",
              "size": 10,
              "solidity": 0.2
             }
            },
            "type": "histogram"
           }
          ],
          "histogram2d": [
           {
            "colorbar": {
             "outlinewidth": 0,
             "ticks": ""
            },
            "colorscale": [
             [
              0,
              "#0d0887"
             ],
             [
              0.1111111111111111,
              "#46039f"
             ],
             [
              0.2222222222222222,
              "#7201a8"
             ],
             [
              0.3333333333333333,
              "#9c179e"
             ],
             [
              0.4444444444444444,
              "#bd3786"
             ],
             [
              0.5555555555555556,
              "#d8576b"
             ],
             [
              0.6666666666666666,
              "#ed7953"
             ],
             [
              0.7777777777777778,
              "#fb9f3a"
             ],
             [
              0.8888888888888888,
              "#fdca26"
             ],
             [
              1,
              "#f0f921"
             ]
            ],
            "type": "histogram2d"
           }
          ],
          "histogram2dcontour": [
           {
            "colorbar": {
             "outlinewidth": 0,
             "ticks": ""
            },
            "colorscale": [
             [
              0,
              "#0d0887"
             ],
             [
              0.1111111111111111,
              "#46039f"
             ],
             [
              0.2222222222222222,
              "#7201a8"
             ],
             [
              0.3333333333333333,
              "#9c179e"
             ],
             [
              0.4444444444444444,
              "#bd3786"
             ],
             [
              0.5555555555555556,
              "#d8576b"
             ],
             [
              0.6666666666666666,
              "#ed7953"
             ],
             [
              0.7777777777777778,
              "#fb9f3a"
             ],
             [
              0.8888888888888888,
              "#fdca26"
             ],
             [
              1,
              "#f0f921"
             ]
            ],
            "type": "histogram2dcontour"
           }
          ],
          "mesh3d": [
           {
            "colorbar": {
             "outlinewidth": 0,
             "ticks": ""
            },
            "type": "mesh3d"
           }
          ],
          "parcoords": [
           {
            "line": {
             "colorbar": {
              "outlinewidth": 0,
              "ticks": ""
             }
            },
            "type": "parcoords"
           }
          ],
          "pie": [
           {
            "automargin": true,
            "type": "pie"
           }
          ],
          "scatter": [
           {
            "fillpattern": {
             "fillmode": "overlay",
             "size": 10,
             "solidity": 0.2
            },
            "type": "scatter"
           }
          ],
          "scatter3d": [
           {
            "line": {
             "colorbar": {
              "outlinewidth": 0,
              "ticks": ""
             }
            },
            "marker": {
             "colorbar": {
              "outlinewidth": 0,
              "ticks": ""
             }
            },
            "type": "scatter3d"
           }
          ],
          "scattercarpet": [
           {
            "marker": {
             "colorbar": {
              "outlinewidth": 0,
              "ticks": ""
             }
            },
            "type": "scattercarpet"
           }
          ],
          "scattergeo": [
           {
            "marker": {
             "colorbar": {
              "outlinewidth": 0,
              "ticks": ""
             }
            },
            "type": "scattergeo"
           }
          ],
          "scattergl": [
           {
            "marker": {
             "colorbar": {
              "outlinewidth": 0,
              "ticks": ""
             }
            },
            "type": "scattergl"
           }
          ],
          "scattermapbox": [
           {
            "marker": {
             "colorbar": {
              "outlinewidth": 0,
              "ticks": ""
             }
            },
            "type": "scattermapbox"
           }
          ],
          "scatterpolar": [
           {
            "marker": {
             "colorbar": {
              "outlinewidth": 0,
              "ticks": ""
             }
            },
            "type": "scatterpolar"
           }
          ],
          "scatterpolargl": [
           {
            "marker": {
             "colorbar": {
              "outlinewidth": 0,
              "ticks": ""
             }
            },
            "type": "scatterpolargl"
           }
          ],
          "scatterternary": [
           {
            "marker": {
             "colorbar": {
              "outlinewidth": 0,
              "ticks": ""
             }
            },
            "type": "scatterternary"
           }
          ],
          "surface": [
           {
            "colorbar": {
             "outlinewidth": 0,
             "ticks": ""
            },
            "colorscale": [
             [
              0,
              "#0d0887"
             ],
             [
              0.1111111111111111,
              "#46039f"
             ],
             [
              0.2222222222222222,
              "#7201a8"
             ],
             [
              0.3333333333333333,
              "#9c179e"
             ],
             [
              0.4444444444444444,
              "#bd3786"
             ],
             [
              0.5555555555555556,
              "#d8576b"
             ],
             [
              0.6666666666666666,
              "#ed7953"
             ],
             [
              0.7777777777777778,
              "#fb9f3a"
             ],
             [
              0.8888888888888888,
              "#fdca26"
             ],
             [
              1,
              "#f0f921"
             ]
            ],
            "type": "surface"
           }
          ],
          "table": [
           {
            "cells": {
             "fill": {
              "color": "#EBF0F8"
             },
             "line": {
              "color": "white"
             }
            },
            "header": {
             "fill": {
              "color": "#C8D4E3"
             },
             "line": {
              "color": "white"
             }
            },
            "type": "table"
           }
          ]
         },
         "layout": {
          "annotationdefaults": {
           "arrowcolor": "#2a3f5f",
           "arrowhead": 0,
           "arrowwidth": 1
          },
          "autotypenumbers": "strict",
          "coloraxis": {
           "colorbar": {
            "outlinewidth": 0,
            "ticks": ""
           }
          },
          "colorscale": {
           "diverging": [
            [
             0,
             "#8e0152"
            ],
            [
             0.1,
             "#c51b7d"
            ],
            [
             0.2,
             "#de77ae"
            ],
            [
             0.3,
             "#f1b6da"
            ],
            [
             0.4,
             "#fde0ef"
            ],
            [
             0.5,
             "#f7f7f7"
            ],
            [
             0.6,
             "#e6f5d0"
            ],
            [
             0.7,
             "#b8e186"
            ],
            [
             0.8,
             "#7fbc41"
            ],
            [
             0.9,
             "#4d9221"
            ],
            [
             1,
             "#276419"
            ]
           ],
           "sequential": [
            [
             0,
             "#0d0887"
            ],
            [
             0.1111111111111111,
             "#46039f"
            ],
            [
             0.2222222222222222,
             "#7201a8"
            ],
            [
             0.3333333333333333,
             "#9c179e"
            ],
            [
             0.4444444444444444,
             "#bd3786"
            ],
            [
             0.5555555555555556,
             "#d8576b"
            ],
            [
             0.6666666666666666,
             "#ed7953"
            ],
            [
             0.7777777777777778,
             "#fb9f3a"
            ],
            [
             0.8888888888888888,
             "#fdca26"
            ],
            [
             1,
             "#f0f921"
            ]
           ],
           "sequentialminus": [
            [
             0,
             "#0d0887"
            ],
            [
             0.1111111111111111,
             "#46039f"
            ],
            [
             0.2222222222222222,
             "#7201a8"
            ],
            [
             0.3333333333333333,
             "#9c179e"
            ],
            [
             0.4444444444444444,
             "#bd3786"
            ],
            [
             0.5555555555555556,
             "#d8576b"
            ],
            [
             0.6666666666666666,
             "#ed7953"
            ],
            [
             0.7777777777777778,
             "#fb9f3a"
            ],
            [
             0.8888888888888888,
             "#fdca26"
            ],
            [
             1,
             "#f0f921"
            ]
           ]
          },
          "colorway": [
           "#636efa",
           "#EF553B",
           "#00cc96",
           "#ab63fa",
           "#FFA15A",
           "#19d3f3",
           "#FF6692",
           "#B6E880",
           "#FF97FF",
           "#FECB52"
          ],
          "font": {
           "color": "#2a3f5f"
          },
          "geo": {
           "bgcolor": "white",
           "lakecolor": "white",
           "landcolor": "#E5ECF6",
           "showlakes": true,
           "showland": true,
           "subunitcolor": "white"
          },
          "hoverlabel": {
           "align": "left"
          },
          "hovermode": "closest",
          "mapbox": {
           "style": "light"
          },
          "paper_bgcolor": "white",
          "plot_bgcolor": "#E5ECF6",
          "polar": {
           "angularaxis": {
            "gridcolor": "white",
            "linecolor": "white",
            "ticks": ""
           },
           "bgcolor": "#E5ECF6",
           "radialaxis": {
            "gridcolor": "white",
            "linecolor": "white",
            "ticks": ""
           }
          },
          "scene": {
           "xaxis": {
            "backgroundcolor": "#E5ECF6",
            "gridcolor": "white",
            "gridwidth": 2,
            "linecolor": "white",
            "showbackground": true,
            "ticks": "",
            "zerolinecolor": "white"
           },
           "yaxis": {
            "backgroundcolor": "#E5ECF6",
            "gridcolor": "white",
            "gridwidth": 2,
            "linecolor": "white",
            "showbackground": true,
            "ticks": "",
            "zerolinecolor": "white"
           },
           "zaxis": {
            "backgroundcolor": "#E5ECF6",
            "gridcolor": "white",
            "gridwidth": 2,
            "linecolor": "white",
            "showbackground": true,
            "ticks": "",
            "zerolinecolor": "white"
           }
          },
          "shapedefaults": {
           "line": {
            "color": "#2a3f5f"
           }
          },
          "ternary": {
           "aaxis": {
            "gridcolor": "white",
            "linecolor": "white",
            "ticks": ""
           },
           "baxis": {
            "gridcolor": "white",
            "linecolor": "white",
            "ticks": ""
           },
           "bgcolor": "#E5ECF6",
           "caxis": {
            "gridcolor": "white",
            "linecolor": "white",
            "ticks": ""
           }
          },
          "title": {
           "x": 0.05
          },
          "xaxis": {
           "automargin": true,
           "gridcolor": "white",
           "linecolor": "white",
           "ticks": "",
           "title": {
            "standoff": 15
           },
           "zerolinecolor": "white",
           "zerolinewidth": 2
          },
          "yaxis": {
           "automargin": true,
           "gridcolor": "white",
           "linecolor": "white",
           "ticks": "",
           "title": {
            "standoff": 15
           },
           "zerolinecolor": "white",
           "zerolinewidth": 2
          }
         }
        },
        "title": {
         "font": {
          "color": "#4D5663"
         }
        },
        "xaxis": {
         "gridcolor": "#E1E5ED",
         "showgrid": true,
         "tickfont": {
          "color": "#4D5663"
         },
         "title": {
          "font": {
           "color": "#4D5663"
          },
          "text": ""
         },
         "zerolinecolor": "#E1E5ED"
        },
        "yaxis": {
         "gridcolor": "#E1E5ED",
         "showgrid": true,
         "tickfont": {
          "color": "#4D5663"
         },
         "title": {
          "font": {
           "color": "#4D5663"
          },
          "text": ""
         },
         "zerolinecolor": "#E1E5ED"
        }
       }
      },
      "text/html": [
       "<div>                            <div id=\"d526a9b0-212c-4b28-962a-3ac9adc424d0\" class=\"plotly-graph-div\" style=\"height:525px; width:100%;\"></div>            <script type=\"text/javascript\">                require([\"plotly\"], function(Plotly) {                    window.PLOTLYENV=window.PLOTLYENV || {};\n",
       "                    window.PLOTLYENV.BASE_URL='https://plot.ly';                                    if (document.getElementById(\"d526a9b0-212c-4b28-962a-3ac9adc424d0\")) {                    Plotly.newPlot(                        \"d526a9b0-212c-4b28-962a-3ac9adc424d0\",                        [{\"colorscale\":[[0.0,\"rgb(255, 153, 51)\"],[0.1111111111111111,\"rgb(55, 128, 191)\"],[0.2222222222222222,\"rgb(50, 171, 96)\"],[0.3333333333333333,\"rgb(128, 0, 128)\"],[0.4444444444444444,\"rgb(219, 64, 82)\"],[0.5555555555555556,\"rgb(0, 128, 128)\"],[0.6666666666666666,\"rgb(255, 255, 51)\"],[0.7777777777777778,\"rgb(128, 128, 0)\"],[0.8888888888888888,\"rgb(251, 128, 114)\"],[1.0,\"rgb(128, 177, 211)\"]],\"x\":[0,1,2,3,4],\"y\":[\"x\",\"y\",\"z\"],\"z\":[[1,2,3,4,5],[10,20,30,20,10],[5,4,3,2,1]],\"type\":\"surface\"}],                        {\"legend\":{\"bgcolor\":\"#F5F6F9\",\"font\":{\"color\":\"#4D5663\"}},\"paper_bgcolor\":\"#F5F6F9\",\"plot_bgcolor\":\"#F5F6F9\",\"template\":{\"data\":{\"barpolar\":[{\"marker\":{\"line\":{\"color\":\"#E5ECF6\",\"width\":0.5},\"pattern\":{\"fillmode\":\"overlay\",\"size\":10,\"solidity\":0.2}},\"type\":\"barpolar\"}],\"bar\":[{\"error_x\":{\"color\":\"#2a3f5f\"},\"error_y\":{\"color\":\"#2a3f5f\"},\"marker\":{\"line\":{\"color\":\"#E5ECF6\",\"width\":0.5},\"pattern\":{\"fillmode\":\"overlay\",\"size\":10,\"solidity\":0.2}},\"type\":\"bar\"}],\"carpet\":[{\"aaxis\":{\"endlinecolor\":\"#2a3f5f\",\"gridcolor\":\"white\",\"linecolor\":\"white\",\"minorgridcolor\":\"white\",\"startlinecolor\":\"#2a3f5f\"},\"baxis\":{\"endlinecolor\":\"#2a3f5f\",\"gridcolor\":\"white\",\"linecolor\":\"white\",\"minorgridcolor\":\"white\",\"startlinecolor\":\"#2a3f5f\"},\"type\":\"carpet\"}],\"choropleth\":[{\"colorbar\":{\"outlinewidth\":0,\"ticks\":\"\"},\"type\":\"choropleth\"}],\"contourcarpet\":[{\"colorbar\":{\"outlinewidth\":0,\"ticks\":\"\"},\"type\":\"contourcarpet\"}],\"contour\":[{\"colorbar\":{\"outlinewidth\":0,\"ticks\":\"\"},\"colorscale\":[[0.0,\"#0d0887\"],[0.1111111111111111,\"#46039f\"],[0.2222222222222222,\"#7201a8\"],[0.3333333333333333,\"#9c179e\"],[0.4444444444444444,\"#bd3786\"],[0.5555555555555556,\"#d8576b\"],[0.6666666666666666,\"#ed7953\"],[0.7777777777777778,\"#fb9f3a\"],[0.8888888888888888,\"#fdca26\"],[1.0,\"#f0f921\"]],\"type\":\"contour\"}],\"heatmapgl\":[{\"colorbar\":{\"outlinewidth\":0,\"ticks\":\"\"},\"colorscale\":[[0.0,\"#0d0887\"],[0.1111111111111111,\"#46039f\"],[0.2222222222222222,\"#7201a8\"],[0.3333333333333333,\"#9c179e\"],[0.4444444444444444,\"#bd3786\"],[0.5555555555555556,\"#d8576b\"],[0.6666666666666666,\"#ed7953\"],[0.7777777777777778,\"#fb9f3a\"],[0.8888888888888888,\"#fdca26\"],[1.0,\"#f0f921\"]],\"type\":\"heatmapgl\"}],\"heatmap\":[{\"colorbar\":{\"outlinewidth\":0,\"ticks\":\"\"},\"colorscale\":[[0.0,\"#0d0887\"],[0.1111111111111111,\"#46039f\"],[0.2222222222222222,\"#7201a8\"],[0.3333333333333333,\"#9c179e\"],[0.4444444444444444,\"#bd3786\"],[0.5555555555555556,\"#d8576b\"],[0.6666666666666666,\"#ed7953\"],[0.7777777777777778,\"#fb9f3a\"],[0.8888888888888888,\"#fdca26\"],[1.0,\"#f0f921\"]],\"type\":\"heatmap\"}],\"histogram2dcontour\":[{\"colorbar\":{\"outlinewidth\":0,\"ticks\":\"\"},\"colorscale\":[[0.0,\"#0d0887\"],[0.1111111111111111,\"#46039f\"],[0.2222222222222222,\"#7201a8\"],[0.3333333333333333,\"#9c179e\"],[0.4444444444444444,\"#bd3786\"],[0.5555555555555556,\"#d8576b\"],[0.6666666666666666,\"#ed7953\"],[0.7777777777777778,\"#fb9f3a\"],[0.8888888888888888,\"#fdca26\"],[1.0,\"#f0f921\"]],\"type\":\"histogram2dcontour\"}],\"histogram2d\":[{\"colorbar\":{\"outlinewidth\":0,\"ticks\":\"\"},\"colorscale\":[[0.0,\"#0d0887\"],[0.1111111111111111,\"#46039f\"],[0.2222222222222222,\"#7201a8\"],[0.3333333333333333,\"#9c179e\"],[0.4444444444444444,\"#bd3786\"],[0.5555555555555556,\"#d8576b\"],[0.6666666666666666,\"#ed7953\"],[0.7777777777777778,\"#fb9f3a\"],[0.8888888888888888,\"#fdca26\"],[1.0,\"#f0f921\"]],\"type\":\"histogram2d\"}],\"histogram\":[{\"marker\":{\"pattern\":{\"fillmode\":\"overlay\",\"size\":10,\"solidity\":0.2}},\"type\":\"histogram\"}],\"mesh3d\":[{\"colorbar\":{\"outlinewidth\":0,\"ticks\":\"\"},\"type\":\"mesh3d\"}],\"parcoords\":[{\"line\":{\"colorbar\":{\"outlinewidth\":0,\"ticks\":\"\"}},\"type\":\"parcoords\"}],\"pie\":[{\"automargin\":true,\"type\":\"pie\"}],\"scatter3d\":[{\"line\":{\"colorbar\":{\"outlinewidth\":0,\"ticks\":\"\"}},\"marker\":{\"colorbar\":{\"outlinewidth\":0,\"ticks\":\"\"}},\"type\":\"scatter3d\"}],\"scattercarpet\":[{\"marker\":{\"colorbar\":{\"outlinewidth\":0,\"ticks\":\"\"}},\"type\":\"scattercarpet\"}],\"scattergeo\":[{\"marker\":{\"colorbar\":{\"outlinewidth\":0,\"ticks\":\"\"}},\"type\":\"scattergeo\"}],\"scattergl\":[{\"marker\":{\"colorbar\":{\"outlinewidth\":0,\"ticks\":\"\"}},\"type\":\"scattergl\"}],\"scattermapbox\":[{\"marker\":{\"colorbar\":{\"outlinewidth\":0,\"ticks\":\"\"}},\"type\":\"scattermapbox\"}],\"scatterpolargl\":[{\"marker\":{\"colorbar\":{\"outlinewidth\":0,\"ticks\":\"\"}},\"type\":\"scatterpolargl\"}],\"scatterpolar\":[{\"marker\":{\"colorbar\":{\"outlinewidth\":0,\"ticks\":\"\"}},\"type\":\"scatterpolar\"}],\"scatter\":[{\"fillpattern\":{\"fillmode\":\"overlay\",\"size\":10,\"solidity\":0.2},\"type\":\"scatter\"}],\"scatterternary\":[{\"marker\":{\"colorbar\":{\"outlinewidth\":0,\"ticks\":\"\"}},\"type\":\"scatterternary\"}],\"surface\":[{\"colorbar\":{\"outlinewidth\":0,\"ticks\":\"\"},\"colorscale\":[[0.0,\"#0d0887\"],[0.1111111111111111,\"#46039f\"],[0.2222222222222222,\"#7201a8\"],[0.3333333333333333,\"#9c179e\"],[0.4444444444444444,\"#bd3786\"],[0.5555555555555556,\"#d8576b\"],[0.6666666666666666,\"#ed7953\"],[0.7777777777777778,\"#fb9f3a\"],[0.8888888888888888,\"#fdca26\"],[1.0,\"#f0f921\"]],\"type\":\"surface\"}],\"table\":[{\"cells\":{\"fill\":{\"color\":\"#EBF0F8\"},\"line\":{\"color\":\"white\"}},\"header\":{\"fill\":{\"color\":\"#C8D4E3\"},\"line\":{\"color\":\"white\"}},\"type\":\"table\"}]},\"layout\":{\"annotationdefaults\":{\"arrowcolor\":\"#2a3f5f\",\"arrowhead\":0,\"arrowwidth\":1},\"autotypenumbers\":\"strict\",\"coloraxis\":{\"colorbar\":{\"outlinewidth\":0,\"ticks\":\"\"}},\"colorscale\":{\"diverging\":[[0,\"#8e0152\"],[0.1,\"#c51b7d\"],[0.2,\"#de77ae\"],[0.3,\"#f1b6da\"],[0.4,\"#fde0ef\"],[0.5,\"#f7f7f7\"],[0.6,\"#e6f5d0\"],[0.7,\"#b8e186\"],[0.8,\"#7fbc41\"],[0.9,\"#4d9221\"],[1,\"#276419\"]],\"sequential\":[[0.0,\"#0d0887\"],[0.1111111111111111,\"#46039f\"],[0.2222222222222222,\"#7201a8\"],[0.3333333333333333,\"#9c179e\"],[0.4444444444444444,\"#bd3786\"],[0.5555555555555556,\"#d8576b\"],[0.6666666666666666,\"#ed7953\"],[0.7777777777777778,\"#fb9f3a\"],[0.8888888888888888,\"#fdca26\"],[1.0,\"#f0f921\"]],\"sequentialminus\":[[0.0,\"#0d0887\"],[0.1111111111111111,\"#46039f\"],[0.2222222222222222,\"#7201a8\"],[0.3333333333333333,\"#9c179e\"],[0.4444444444444444,\"#bd3786\"],[0.5555555555555556,\"#d8576b\"],[0.6666666666666666,\"#ed7953\"],[0.7777777777777778,\"#fb9f3a\"],[0.8888888888888888,\"#fdca26\"],[1.0,\"#f0f921\"]]},\"colorway\":[\"#636efa\",\"#EF553B\",\"#00cc96\",\"#ab63fa\",\"#FFA15A\",\"#19d3f3\",\"#FF6692\",\"#B6E880\",\"#FF97FF\",\"#FECB52\"],\"font\":{\"color\":\"#2a3f5f\"},\"geo\":{\"bgcolor\":\"white\",\"lakecolor\":\"white\",\"landcolor\":\"#E5ECF6\",\"showlakes\":true,\"showland\":true,\"subunitcolor\":\"white\"},\"hoverlabel\":{\"align\":\"left\"},\"hovermode\":\"closest\",\"mapbox\":{\"style\":\"light\"},\"paper_bgcolor\":\"white\",\"plot_bgcolor\":\"#E5ECF6\",\"polar\":{\"angularaxis\":{\"gridcolor\":\"white\",\"linecolor\":\"white\",\"ticks\":\"\"},\"bgcolor\":\"#E5ECF6\",\"radialaxis\":{\"gridcolor\":\"white\",\"linecolor\":\"white\",\"ticks\":\"\"}},\"scene\":{\"xaxis\":{\"backgroundcolor\":\"#E5ECF6\",\"gridcolor\":\"white\",\"gridwidth\":2,\"linecolor\":\"white\",\"showbackground\":true,\"ticks\":\"\",\"zerolinecolor\":\"white\"},\"yaxis\":{\"backgroundcolor\":\"#E5ECF6\",\"gridcolor\":\"white\",\"gridwidth\":2,\"linecolor\":\"white\",\"showbackground\":true,\"ticks\":\"\",\"zerolinecolor\":\"white\"},\"zaxis\":{\"backgroundcolor\":\"#E5ECF6\",\"gridcolor\":\"white\",\"gridwidth\":2,\"linecolor\":\"white\",\"showbackground\":true,\"ticks\":\"\",\"zerolinecolor\":\"white\"}},\"shapedefaults\":{\"line\":{\"color\":\"#2a3f5f\"}},\"ternary\":{\"aaxis\":{\"gridcolor\":\"white\",\"linecolor\":\"white\",\"ticks\":\"\"},\"baxis\":{\"gridcolor\":\"white\",\"linecolor\":\"white\",\"ticks\":\"\"},\"bgcolor\":\"#E5ECF6\",\"caxis\":{\"gridcolor\":\"white\",\"linecolor\":\"white\",\"ticks\":\"\"}},\"title\":{\"x\":0.05},\"xaxis\":{\"automargin\":true,\"gridcolor\":\"white\",\"linecolor\":\"white\",\"ticks\":\"\",\"title\":{\"standoff\":15},\"zerolinecolor\":\"white\",\"zerolinewidth\":2},\"yaxis\":{\"automargin\":true,\"gridcolor\":\"white\",\"linecolor\":\"white\",\"ticks\":\"\",\"title\":{\"standoff\":15},\"zerolinecolor\":\"white\",\"zerolinewidth\":2}}},\"title\":{\"font\":{\"color\":\"#4D5663\"}},\"xaxis\":{\"gridcolor\":\"#E1E5ED\",\"showgrid\":true,\"tickfont\":{\"color\":\"#4D5663\"},\"title\":{\"font\":{\"color\":\"#4D5663\"},\"text\":\"\"},\"zerolinecolor\":\"#E1E5ED\"},\"yaxis\":{\"gridcolor\":\"#E1E5ED\",\"showgrid\":true,\"tickfont\":{\"color\":\"#4D5663\"},\"title\":{\"font\":{\"color\":\"#4D5663\"},\"text\":\"\"},\"zerolinecolor\":\"#E1E5ED\"}},                        {\"showLink\": true, \"linkText\": \"Export to plot.ly\", \"plotlyServerURL\": \"https://plot.ly\", \"responsive\": true}                    ).then(function(){\n",
       "                            \n",
       "var gd = document.getElementById('d526a9b0-212c-4b28-962a-3ac9adc424d0');\n",
       "var x = new MutationObserver(function (mutations, observer) {{\n",
       "        var display = window.getComputedStyle(gd).display;\n",
       "        if (!display || display === 'none') {{\n",
       "            console.log([gd, 'removed!']);\n",
       "            Plotly.purge(gd);\n",
       "            observer.disconnect();\n",
       "        }}\n",
       "}});\n",
       "\n",
       "// Listen for the removal of the full notebook cells\n",
       "var notebookContainer = gd.closest('#notebook-container');\n",
       "if (notebookContainer) {{\n",
       "    x.observe(notebookContainer, {childList: true});\n",
       "}}\n",
       "\n",
       "// Listen for the clearing of the current output cell\n",
       "var outputEl = gd.closest('.output');\n",
       "if (outputEl) {{\n",
       "    x.observe(outputEl, {childList: true});\n",
       "}}\n",
       "\n",
       "                        })                };                });            </script>        </div>"
      ]
     },
     "metadata": {},
     "output_type": "display_data"
    }
   ],
   "source": [
    "df3.iplot(kind='surface')"
   ]
  },
  {
   "cell_type": "code",
   "execution_count": 38,
   "id": "8d9cc592",
   "metadata": {},
   "outputs": [
    {
     "data": {
      "application/vnd.plotly.v1+json": {
       "config": {
        "linkText": "Export to plot.ly",
        "plotlyServerURL": "https://plot.ly",
        "showLink": true
       },
       "data": [
        {
         "colorscale": [
          [
           0,
           "rgb(165,0,38)"
          ],
          [
           0.1,
           "rgb(215,48,39)"
          ],
          [
           0.2,
           "rgb(244,109,67)"
          ],
          [
           0.3,
           "rgb(253,174,97)"
          ],
          [
           0.4,
           "rgb(254,224,144)"
          ],
          [
           0.5,
           "rgb(255,255,191)"
          ],
          [
           0.6,
           "rgb(224,243,248)"
          ],
          [
           0.7,
           "rgb(171,217,233)"
          ],
          [
           0.8,
           "rgb(116,173,209)"
          ],
          [
           0.9,
           "rgb(69,117,180)"
          ],
          [
           1,
           "rgb(49,54,149)"
          ]
         ],
         "type": "surface",
         "x": [
          0,
          1,
          2,
          3,
          4
         ],
         "y": [
          "x",
          "y",
          "z"
         ],
         "z": [
          [
           1,
           2,
           3,
           4,
           5
          ],
          [
           10,
           20,
           30,
           20,
           10
          ],
          [
           5,
           4,
           3,
           2,
           1
          ]
         ]
        }
       ],
       "layout": {
        "legend": {
         "bgcolor": "#F5F6F9",
         "font": {
          "color": "#4D5663"
         }
        },
        "paper_bgcolor": "#F5F6F9",
        "plot_bgcolor": "#F5F6F9",
        "template": {
         "data": {
          "bar": [
           {
            "error_x": {
             "color": "#2a3f5f"
            },
            "error_y": {
             "color": "#2a3f5f"
            },
            "marker": {
             "line": {
              "color": "#E5ECF6",
              "width": 0.5
             },
             "pattern": {
              "fillmode": "overlay",
              "size": 10,
              "solidity": 0.2
             }
            },
            "type": "bar"
           }
          ],
          "barpolar": [
           {
            "marker": {
             "line": {
              "color": "#E5ECF6",
              "width": 0.5
             },
             "pattern": {
              "fillmode": "overlay",
              "size": 10,
              "solidity": 0.2
             }
            },
            "type": "barpolar"
           }
          ],
          "carpet": [
           {
            "aaxis": {
             "endlinecolor": "#2a3f5f",
             "gridcolor": "white",
             "linecolor": "white",
             "minorgridcolor": "white",
             "startlinecolor": "#2a3f5f"
            },
            "baxis": {
             "endlinecolor": "#2a3f5f",
             "gridcolor": "white",
             "linecolor": "white",
             "minorgridcolor": "white",
             "startlinecolor": "#2a3f5f"
            },
            "type": "carpet"
           }
          ],
          "choropleth": [
           {
            "colorbar": {
             "outlinewidth": 0,
             "ticks": ""
            },
            "type": "choropleth"
           }
          ],
          "contour": [
           {
            "colorbar": {
             "outlinewidth": 0,
             "ticks": ""
            },
            "colorscale": [
             [
              0,
              "#0d0887"
             ],
             [
              0.1111111111111111,
              "#46039f"
             ],
             [
              0.2222222222222222,
              "#7201a8"
             ],
             [
              0.3333333333333333,
              "#9c179e"
             ],
             [
              0.4444444444444444,
              "#bd3786"
             ],
             [
              0.5555555555555556,
              "#d8576b"
             ],
             [
              0.6666666666666666,
              "#ed7953"
             ],
             [
              0.7777777777777778,
              "#fb9f3a"
             ],
             [
              0.8888888888888888,
              "#fdca26"
             ],
             [
              1,
              "#f0f921"
             ]
            ],
            "type": "contour"
           }
          ],
          "contourcarpet": [
           {
            "colorbar": {
             "outlinewidth": 0,
             "ticks": ""
            },
            "type": "contourcarpet"
           }
          ],
          "heatmap": [
           {
            "colorbar": {
             "outlinewidth": 0,
             "ticks": ""
            },
            "colorscale": [
             [
              0,
              "#0d0887"
             ],
             [
              0.1111111111111111,
              "#46039f"
             ],
             [
              0.2222222222222222,
              "#7201a8"
             ],
             [
              0.3333333333333333,
              "#9c179e"
             ],
             [
              0.4444444444444444,
              "#bd3786"
             ],
             [
              0.5555555555555556,
              "#d8576b"
             ],
             [
              0.6666666666666666,
              "#ed7953"
             ],
             [
              0.7777777777777778,
              "#fb9f3a"
             ],
             [
              0.8888888888888888,
              "#fdca26"
             ],
             [
              1,
              "#f0f921"
             ]
            ],
            "type": "heatmap"
           }
          ],
          "heatmapgl": [
           {
            "colorbar": {
             "outlinewidth": 0,
             "ticks": ""
            },
            "colorscale": [
             [
              0,
              "#0d0887"
             ],
             [
              0.1111111111111111,
              "#46039f"
             ],
             [
              0.2222222222222222,
              "#7201a8"
             ],
             [
              0.3333333333333333,
              "#9c179e"
             ],
             [
              0.4444444444444444,
              "#bd3786"
             ],
             [
              0.5555555555555556,
              "#d8576b"
             ],
             [
              0.6666666666666666,
              "#ed7953"
             ],
             [
              0.7777777777777778,
              "#fb9f3a"
             ],
             [
              0.8888888888888888,
              "#fdca26"
             ],
             [
              1,
              "#f0f921"
             ]
            ],
            "type": "heatmapgl"
           }
          ],
          "histogram": [
           {
            "marker": {
             "pattern": {
              "fillmode": "overlay",
              "size": 10,
              "solidity": 0.2
             }
            },
            "type": "histogram"
           }
          ],
          "histogram2d": [
           {
            "colorbar": {
             "outlinewidth": 0,
             "ticks": ""
            },
            "colorscale": [
             [
              0,
              "#0d0887"
             ],
             [
              0.1111111111111111,
              "#46039f"
             ],
             [
              0.2222222222222222,
              "#7201a8"
             ],
             [
              0.3333333333333333,
              "#9c179e"
             ],
             [
              0.4444444444444444,
              "#bd3786"
             ],
             [
              0.5555555555555556,
              "#d8576b"
             ],
             [
              0.6666666666666666,
              "#ed7953"
             ],
             [
              0.7777777777777778,
              "#fb9f3a"
             ],
             [
              0.8888888888888888,
              "#fdca26"
             ],
             [
              1,
              "#f0f921"
             ]
            ],
            "type": "histogram2d"
           }
          ],
          "histogram2dcontour": [
           {
            "colorbar": {
             "outlinewidth": 0,
             "ticks": ""
            },
            "colorscale": [
             [
              0,
              "#0d0887"
             ],
             [
              0.1111111111111111,
              "#46039f"
             ],
             [
              0.2222222222222222,
              "#7201a8"
             ],
             [
              0.3333333333333333,
              "#9c179e"
             ],
             [
              0.4444444444444444,
              "#bd3786"
             ],
             [
              0.5555555555555556,
              "#d8576b"
             ],
             [
              0.6666666666666666,
              "#ed7953"
             ],
             [
              0.7777777777777778,
              "#fb9f3a"
             ],
             [
              0.8888888888888888,
              "#fdca26"
             ],
             [
              1,
              "#f0f921"
             ]
            ],
            "type": "histogram2dcontour"
           }
          ],
          "mesh3d": [
           {
            "colorbar": {
             "outlinewidth": 0,
             "ticks": ""
            },
            "type": "mesh3d"
           }
          ],
          "parcoords": [
           {
            "line": {
             "colorbar": {
              "outlinewidth": 0,
              "ticks": ""
             }
            },
            "type": "parcoords"
           }
          ],
          "pie": [
           {
            "automargin": true,
            "type": "pie"
           }
          ],
          "scatter": [
           {
            "fillpattern": {
             "fillmode": "overlay",
             "size": 10,
             "solidity": 0.2
            },
            "type": "scatter"
           }
          ],
          "scatter3d": [
           {
            "line": {
             "colorbar": {
              "outlinewidth": 0,
              "ticks": ""
             }
            },
            "marker": {
             "colorbar": {
              "outlinewidth": 0,
              "ticks": ""
             }
            },
            "type": "scatter3d"
           }
          ],
          "scattercarpet": [
           {
            "marker": {
             "colorbar": {
              "outlinewidth": 0,
              "ticks": ""
             }
            },
            "type": "scattercarpet"
           }
          ],
          "scattergeo": [
           {
            "marker": {
             "colorbar": {
              "outlinewidth": 0,
              "ticks": ""
             }
            },
            "type": "scattergeo"
           }
          ],
          "scattergl": [
           {
            "marker": {
             "colorbar": {
              "outlinewidth": 0,
              "ticks": ""
             }
            },
            "type": "scattergl"
           }
          ],
          "scattermapbox": [
           {
            "marker": {
             "colorbar": {
              "outlinewidth": 0,
              "ticks": ""
             }
            },
            "type": "scattermapbox"
           }
          ],
          "scatterpolar": [
           {
            "marker": {
             "colorbar": {
              "outlinewidth": 0,
              "ticks": ""
             }
            },
            "type": "scatterpolar"
           }
          ],
          "scatterpolargl": [
           {
            "marker": {
             "colorbar": {
              "outlinewidth": 0,
              "ticks": ""
             }
            },
            "type": "scatterpolargl"
           }
          ],
          "scatterternary": [
           {
            "marker": {
             "colorbar": {
              "outlinewidth": 0,
              "ticks": ""
             }
            },
            "type": "scatterternary"
           }
          ],
          "surface": [
           {
            "colorbar": {
             "outlinewidth": 0,
             "ticks": ""
            },
            "colorscale": [
             [
              0,
              "#0d0887"
             ],
             [
              0.1111111111111111,
              "#46039f"
             ],
             [
              0.2222222222222222,
              "#7201a8"
             ],
             [
              0.3333333333333333,
              "#9c179e"
             ],
             [
              0.4444444444444444,
              "#bd3786"
             ],
             [
              0.5555555555555556,
              "#d8576b"
             ],
             [
              0.6666666666666666,
              "#ed7953"
             ],
             [
              0.7777777777777778,
              "#fb9f3a"
             ],
             [
              0.8888888888888888,
              "#fdca26"
             ],
             [
              1,
              "#f0f921"
             ]
            ],
            "type": "surface"
           }
          ],
          "table": [
           {
            "cells": {
             "fill": {
              "color": "#EBF0F8"
             },
             "line": {
              "color": "white"
             }
            },
            "header": {
             "fill": {
              "color": "#C8D4E3"
             },
             "line": {
              "color": "white"
             }
            },
            "type": "table"
           }
          ]
         },
         "layout": {
          "annotationdefaults": {
           "arrowcolor": "#2a3f5f",
           "arrowhead": 0,
           "arrowwidth": 1
          },
          "autotypenumbers": "strict",
          "coloraxis": {
           "colorbar": {
            "outlinewidth": 0,
            "ticks": ""
           }
          },
          "colorscale": {
           "diverging": [
            [
             0,
             "#8e0152"
            ],
            [
             0.1,
             "#c51b7d"
            ],
            [
             0.2,
             "#de77ae"
            ],
            [
             0.3,
             "#f1b6da"
            ],
            [
             0.4,
             "#fde0ef"
            ],
            [
             0.5,
             "#f7f7f7"
            ],
            [
             0.6,
             "#e6f5d0"
            ],
            [
             0.7,
             "#b8e186"
            ],
            [
             0.8,
             "#7fbc41"
            ],
            [
             0.9,
             "#4d9221"
            ],
            [
             1,
             "#276419"
            ]
           ],
           "sequential": [
            [
             0,
             "#0d0887"
            ],
            [
             0.1111111111111111,
             "#46039f"
            ],
            [
             0.2222222222222222,
             "#7201a8"
            ],
            [
             0.3333333333333333,
             "#9c179e"
            ],
            [
             0.4444444444444444,
             "#bd3786"
            ],
            [
             0.5555555555555556,
             "#d8576b"
            ],
            [
             0.6666666666666666,
             "#ed7953"
            ],
            [
             0.7777777777777778,
             "#fb9f3a"
            ],
            [
             0.8888888888888888,
             "#fdca26"
            ],
            [
             1,
             "#f0f921"
            ]
           ],
           "sequentialminus": [
            [
             0,
             "#0d0887"
            ],
            [
             0.1111111111111111,
             "#46039f"
            ],
            [
             0.2222222222222222,
             "#7201a8"
            ],
            [
             0.3333333333333333,
             "#9c179e"
            ],
            [
             0.4444444444444444,
             "#bd3786"
            ],
            [
             0.5555555555555556,
             "#d8576b"
            ],
            [
             0.6666666666666666,
             "#ed7953"
            ],
            [
             0.7777777777777778,
             "#fb9f3a"
            ],
            [
             0.8888888888888888,
             "#fdca26"
            ],
            [
             1,
             "#f0f921"
            ]
           ]
          },
          "colorway": [
           "#636efa",
           "#EF553B",
           "#00cc96",
           "#ab63fa",
           "#FFA15A",
           "#19d3f3",
           "#FF6692",
           "#B6E880",
           "#FF97FF",
           "#FECB52"
          ],
          "font": {
           "color": "#2a3f5f"
          },
          "geo": {
           "bgcolor": "white",
           "lakecolor": "white",
           "landcolor": "#E5ECF6",
           "showlakes": true,
           "showland": true,
           "subunitcolor": "white"
          },
          "hoverlabel": {
           "align": "left"
          },
          "hovermode": "closest",
          "mapbox": {
           "style": "light"
          },
          "paper_bgcolor": "white",
          "plot_bgcolor": "#E5ECF6",
          "polar": {
           "angularaxis": {
            "gridcolor": "white",
            "linecolor": "white",
            "ticks": ""
           },
           "bgcolor": "#E5ECF6",
           "radialaxis": {
            "gridcolor": "white",
            "linecolor": "white",
            "ticks": ""
           }
          },
          "scene": {
           "xaxis": {
            "backgroundcolor": "#E5ECF6",
            "gridcolor": "white",
            "gridwidth": 2,
            "linecolor": "white",
            "showbackground": true,
            "ticks": "",
            "zerolinecolor": "white"
           },
           "yaxis": {
            "backgroundcolor": "#E5ECF6",
            "gridcolor": "white",
            "gridwidth": 2,
            "linecolor": "white",
            "showbackground": true,
            "ticks": "",
            "zerolinecolor": "white"
           },
           "zaxis": {
            "backgroundcolor": "#E5ECF6",
            "gridcolor": "white",
            "gridwidth": 2,
            "linecolor": "white",
            "showbackground": true,
            "ticks": "",
            "zerolinecolor": "white"
           }
          },
          "shapedefaults": {
           "line": {
            "color": "#2a3f5f"
           }
          },
          "ternary": {
           "aaxis": {
            "gridcolor": "white",
            "linecolor": "white",
            "ticks": ""
           },
           "baxis": {
            "gridcolor": "white",
            "linecolor": "white",
            "ticks": ""
           },
           "bgcolor": "#E5ECF6",
           "caxis": {
            "gridcolor": "white",
            "linecolor": "white",
            "ticks": ""
           }
          },
          "title": {
           "x": 0.05
          },
          "xaxis": {
           "automargin": true,
           "gridcolor": "white",
           "linecolor": "white",
           "ticks": "",
           "title": {
            "standoff": 15
           },
           "zerolinecolor": "white",
           "zerolinewidth": 2
          },
          "yaxis": {
           "automargin": true,
           "gridcolor": "white",
           "linecolor": "white",
           "ticks": "",
           "title": {
            "standoff": 15
           },
           "zerolinecolor": "white",
           "zerolinewidth": 2
          }
         }
        },
        "title": {
         "font": {
          "color": "#4D5663"
         }
        },
        "xaxis": {
         "gridcolor": "#E1E5ED",
         "showgrid": true,
         "tickfont": {
          "color": "#4D5663"
         },
         "title": {
          "font": {
           "color": "#4D5663"
          },
          "text": ""
         },
         "zerolinecolor": "#E1E5ED"
        },
        "yaxis": {
         "gridcolor": "#E1E5ED",
         "showgrid": true,
         "tickfont": {
          "color": "#4D5663"
         },
         "title": {
          "font": {
           "color": "#4D5663"
          },
          "text": ""
         },
         "zerolinecolor": "#E1E5ED"
        }
       }
      },
      "text/html": [
       "<div>                            <div id=\"507133c7-9d37-476b-b860-8045dd31ea4f\" class=\"plotly-graph-div\" style=\"height:525px; width:100%;\"></div>            <script type=\"text/javascript\">                require([\"plotly\"], function(Plotly) {                    window.PLOTLYENV=window.PLOTLYENV || {};\n",
       "                    window.PLOTLYENV.BASE_URL='https://plot.ly';                                    if (document.getElementById(\"507133c7-9d37-476b-b860-8045dd31ea4f\")) {                    Plotly.newPlot(                        \"507133c7-9d37-476b-b860-8045dd31ea4f\",                        [{\"colorscale\":[[0.0,\"rgb(165,0,38)\"],[0.1,\"rgb(215,48,39)\"],[0.2,\"rgb(244,109,67)\"],[0.3,\"rgb(253,174,97)\"],[0.4,\"rgb(254,224,144)\"],[0.5,\"rgb(255,255,191)\"],[0.6,\"rgb(224,243,248)\"],[0.7,\"rgb(171,217,233)\"],[0.8,\"rgb(116,173,209)\"],[0.9,\"rgb(69,117,180)\"],[1.0,\"rgb(49,54,149)\"]],\"x\":[0,1,2,3,4],\"y\":[\"x\",\"y\",\"z\"],\"z\":[[1,2,3,4,5],[10,20,30,20,10],[5,4,3,2,1]],\"type\":\"surface\"}],                        {\"legend\":{\"bgcolor\":\"#F5F6F9\",\"font\":{\"color\":\"#4D5663\"}},\"paper_bgcolor\":\"#F5F6F9\",\"plot_bgcolor\":\"#F5F6F9\",\"template\":{\"data\":{\"barpolar\":[{\"marker\":{\"line\":{\"color\":\"#E5ECF6\",\"width\":0.5},\"pattern\":{\"fillmode\":\"overlay\",\"size\":10,\"solidity\":0.2}},\"type\":\"barpolar\"}],\"bar\":[{\"error_x\":{\"color\":\"#2a3f5f\"},\"error_y\":{\"color\":\"#2a3f5f\"},\"marker\":{\"line\":{\"color\":\"#E5ECF6\",\"width\":0.5},\"pattern\":{\"fillmode\":\"overlay\",\"size\":10,\"solidity\":0.2}},\"type\":\"bar\"}],\"carpet\":[{\"aaxis\":{\"endlinecolor\":\"#2a3f5f\",\"gridcolor\":\"white\",\"linecolor\":\"white\",\"minorgridcolor\":\"white\",\"startlinecolor\":\"#2a3f5f\"},\"baxis\":{\"endlinecolor\":\"#2a3f5f\",\"gridcolor\":\"white\",\"linecolor\":\"white\",\"minorgridcolor\":\"white\",\"startlinecolor\":\"#2a3f5f\"},\"type\":\"carpet\"}],\"choropleth\":[{\"colorbar\":{\"outlinewidth\":0,\"ticks\":\"\"},\"type\":\"choropleth\"}],\"contourcarpet\":[{\"colorbar\":{\"outlinewidth\":0,\"ticks\":\"\"},\"type\":\"contourcarpet\"}],\"contour\":[{\"colorbar\":{\"outlinewidth\":0,\"ticks\":\"\"},\"colorscale\":[[0.0,\"#0d0887\"],[0.1111111111111111,\"#46039f\"],[0.2222222222222222,\"#7201a8\"],[0.3333333333333333,\"#9c179e\"],[0.4444444444444444,\"#bd3786\"],[0.5555555555555556,\"#d8576b\"],[0.6666666666666666,\"#ed7953\"],[0.7777777777777778,\"#fb9f3a\"],[0.8888888888888888,\"#fdca26\"],[1.0,\"#f0f921\"]],\"type\":\"contour\"}],\"heatmapgl\":[{\"colorbar\":{\"outlinewidth\":0,\"ticks\":\"\"},\"colorscale\":[[0.0,\"#0d0887\"],[0.1111111111111111,\"#46039f\"],[0.2222222222222222,\"#7201a8\"],[0.3333333333333333,\"#9c179e\"],[0.4444444444444444,\"#bd3786\"],[0.5555555555555556,\"#d8576b\"],[0.6666666666666666,\"#ed7953\"],[0.7777777777777778,\"#fb9f3a\"],[0.8888888888888888,\"#fdca26\"],[1.0,\"#f0f921\"]],\"type\":\"heatmapgl\"}],\"heatmap\":[{\"colorbar\":{\"outlinewidth\":0,\"ticks\":\"\"},\"colorscale\":[[0.0,\"#0d0887\"],[0.1111111111111111,\"#46039f\"],[0.2222222222222222,\"#7201a8\"],[0.3333333333333333,\"#9c179e\"],[0.4444444444444444,\"#bd3786\"],[0.5555555555555556,\"#d8576b\"],[0.6666666666666666,\"#ed7953\"],[0.7777777777777778,\"#fb9f3a\"],[0.8888888888888888,\"#fdca26\"],[1.0,\"#f0f921\"]],\"type\":\"heatmap\"}],\"histogram2dcontour\":[{\"colorbar\":{\"outlinewidth\":0,\"ticks\":\"\"},\"colorscale\":[[0.0,\"#0d0887\"],[0.1111111111111111,\"#46039f\"],[0.2222222222222222,\"#7201a8\"],[0.3333333333333333,\"#9c179e\"],[0.4444444444444444,\"#bd3786\"],[0.5555555555555556,\"#d8576b\"],[0.6666666666666666,\"#ed7953\"],[0.7777777777777778,\"#fb9f3a\"],[0.8888888888888888,\"#fdca26\"],[1.0,\"#f0f921\"]],\"type\":\"histogram2dcontour\"}],\"histogram2d\":[{\"colorbar\":{\"outlinewidth\":0,\"ticks\":\"\"},\"colorscale\":[[0.0,\"#0d0887\"],[0.1111111111111111,\"#46039f\"],[0.2222222222222222,\"#7201a8\"],[0.3333333333333333,\"#9c179e\"],[0.4444444444444444,\"#bd3786\"],[0.5555555555555556,\"#d8576b\"],[0.6666666666666666,\"#ed7953\"],[0.7777777777777778,\"#fb9f3a\"],[0.8888888888888888,\"#fdca26\"],[1.0,\"#f0f921\"]],\"type\":\"histogram2d\"}],\"histogram\":[{\"marker\":{\"pattern\":{\"fillmode\":\"overlay\",\"size\":10,\"solidity\":0.2}},\"type\":\"histogram\"}],\"mesh3d\":[{\"colorbar\":{\"outlinewidth\":0,\"ticks\":\"\"},\"type\":\"mesh3d\"}],\"parcoords\":[{\"line\":{\"colorbar\":{\"outlinewidth\":0,\"ticks\":\"\"}},\"type\":\"parcoords\"}],\"pie\":[{\"automargin\":true,\"type\":\"pie\"}],\"scatter3d\":[{\"line\":{\"colorbar\":{\"outlinewidth\":0,\"ticks\":\"\"}},\"marker\":{\"colorbar\":{\"outlinewidth\":0,\"ticks\":\"\"}},\"type\":\"scatter3d\"}],\"scattercarpet\":[{\"marker\":{\"colorbar\":{\"outlinewidth\":0,\"ticks\":\"\"}},\"type\":\"scattercarpet\"}],\"scattergeo\":[{\"marker\":{\"colorbar\":{\"outlinewidth\":0,\"ticks\":\"\"}},\"type\":\"scattergeo\"}],\"scattergl\":[{\"marker\":{\"colorbar\":{\"outlinewidth\":0,\"ticks\":\"\"}},\"type\":\"scattergl\"}],\"scattermapbox\":[{\"marker\":{\"colorbar\":{\"outlinewidth\":0,\"ticks\":\"\"}},\"type\":\"scattermapbox\"}],\"scatterpolargl\":[{\"marker\":{\"colorbar\":{\"outlinewidth\":0,\"ticks\":\"\"}},\"type\":\"scatterpolargl\"}],\"scatterpolar\":[{\"marker\":{\"colorbar\":{\"outlinewidth\":0,\"ticks\":\"\"}},\"type\":\"scatterpolar\"}],\"scatter\":[{\"fillpattern\":{\"fillmode\":\"overlay\",\"size\":10,\"solidity\":0.2},\"type\":\"scatter\"}],\"scatterternary\":[{\"marker\":{\"colorbar\":{\"outlinewidth\":0,\"ticks\":\"\"}},\"type\":\"scatterternary\"}],\"surface\":[{\"colorbar\":{\"outlinewidth\":0,\"ticks\":\"\"},\"colorscale\":[[0.0,\"#0d0887\"],[0.1111111111111111,\"#46039f\"],[0.2222222222222222,\"#7201a8\"],[0.3333333333333333,\"#9c179e\"],[0.4444444444444444,\"#bd3786\"],[0.5555555555555556,\"#d8576b\"],[0.6666666666666666,\"#ed7953\"],[0.7777777777777778,\"#fb9f3a\"],[0.8888888888888888,\"#fdca26\"],[1.0,\"#f0f921\"]],\"type\":\"surface\"}],\"table\":[{\"cells\":{\"fill\":{\"color\":\"#EBF0F8\"},\"line\":{\"color\":\"white\"}},\"header\":{\"fill\":{\"color\":\"#C8D4E3\"},\"line\":{\"color\":\"white\"}},\"type\":\"table\"}]},\"layout\":{\"annotationdefaults\":{\"arrowcolor\":\"#2a3f5f\",\"arrowhead\":0,\"arrowwidth\":1},\"autotypenumbers\":\"strict\",\"coloraxis\":{\"colorbar\":{\"outlinewidth\":0,\"ticks\":\"\"}},\"colorscale\":{\"diverging\":[[0,\"#8e0152\"],[0.1,\"#c51b7d\"],[0.2,\"#de77ae\"],[0.3,\"#f1b6da\"],[0.4,\"#fde0ef\"],[0.5,\"#f7f7f7\"],[0.6,\"#e6f5d0\"],[0.7,\"#b8e186\"],[0.8,\"#7fbc41\"],[0.9,\"#4d9221\"],[1,\"#276419\"]],\"sequential\":[[0.0,\"#0d0887\"],[0.1111111111111111,\"#46039f\"],[0.2222222222222222,\"#7201a8\"],[0.3333333333333333,\"#9c179e\"],[0.4444444444444444,\"#bd3786\"],[0.5555555555555556,\"#d8576b\"],[0.6666666666666666,\"#ed7953\"],[0.7777777777777778,\"#fb9f3a\"],[0.8888888888888888,\"#fdca26\"],[1.0,\"#f0f921\"]],\"sequentialminus\":[[0.0,\"#0d0887\"],[0.1111111111111111,\"#46039f\"],[0.2222222222222222,\"#7201a8\"],[0.3333333333333333,\"#9c179e\"],[0.4444444444444444,\"#bd3786\"],[0.5555555555555556,\"#d8576b\"],[0.6666666666666666,\"#ed7953\"],[0.7777777777777778,\"#fb9f3a\"],[0.8888888888888888,\"#fdca26\"],[1.0,\"#f0f921\"]]},\"colorway\":[\"#636efa\",\"#EF553B\",\"#00cc96\",\"#ab63fa\",\"#FFA15A\",\"#19d3f3\",\"#FF6692\",\"#B6E880\",\"#FF97FF\",\"#FECB52\"],\"font\":{\"color\":\"#2a3f5f\"},\"geo\":{\"bgcolor\":\"white\",\"lakecolor\":\"white\",\"landcolor\":\"#E5ECF6\",\"showlakes\":true,\"showland\":true,\"subunitcolor\":\"white\"},\"hoverlabel\":{\"align\":\"left\"},\"hovermode\":\"closest\",\"mapbox\":{\"style\":\"light\"},\"paper_bgcolor\":\"white\",\"plot_bgcolor\":\"#E5ECF6\",\"polar\":{\"angularaxis\":{\"gridcolor\":\"white\",\"linecolor\":\"white\",\"ticks\":\"\"},\"bgcolor\":\"#E5ECF6\",\"radialaxis\":{\"gridcolor\":\"white\",\"linecolor\":\"white\",\"ticks\":\"\"}},\"scene\":{\"xaxis\":{\"backgroundcolor\":\"#E5ECF6\",\"gridcolor\":\"white\",\"gridwidth\":2,\"linecolor\":\"white\",\"showbackground\":true,\"ticks\":\"\",\"zerolinecolor\":\"white\"},\"yaxis\":{\"backgroundcolor\":\"#E5ECF6\",\"gridcolor\":\"white\",\"gridwidth\":2,\"linecolor\":\"white\",\"showbackground\":true,\"ticks\":\"\",\"zerolinecolor\":\"white\"},\"zaxis\":{\"backgroundcolor\":\"#E5ECF6\",\"gridcolor\":\"white\",\"gridwidth\":2,\"linecolor\":\"white\",\"showbackground\":true,\"ticks\":\"\",\"zerolinecolor\":\"white\"}},\"shapedefaults\":{\"line\":{\"color\":\"#2a3f5f\"}},\"ternary\":{\"aaxis\":{\"gridcolor\":\"white\",\"linecolor\":\"white\",\"ticks\":\"\"},\"baxis\":{\"gridcolor\":\"white\",\"linecolor\":\"white\",\"ticks\":\"\"},\"bgcolor\":\"#E5ECF6\",\"caxis\":{\"gridcolor\":\"white\",\"linecolor\":\"white\",\"ticks\":\"\"}},\"title\":{\"x\":0.05},\"xaxis\":{\"automargin\":true,\"gridcolor\":\"white\",\"linecolor\":\"white\",\"ticks\":\"\",\"title\":{\"standoff\":15},\"zerolinecolor\":\"white\",\"zerolinewidth\":2},\"yaxis\":{\"automargin\":true,\"gridcolor\":\"white\",\"linecolor\":\"white\",\"ticks\":\"\",\"title\":{\"standoff\":15},\"zerolinecolor\":\"white\",\"zerolinewidth\":2}}},\"title\":{\"font\":{\"color\":\"#4D5663\"}},\"xaxis\":{\"gridcolor\":\"#E1E5ED\",\"showgrid\":true,\"tickfont\":{\"color\":\"#4D5663\"},\"title\":{\"font\":{\"color\":\"#4D5663\"},\"text\":\"\"},\"zerolinecolor\":\"#E1E5ED\"},\"yaxis\":{\"gridcolor\":\"#E1E5ED\",\"showgrid\":true,\"tickfont\":{\"color\":\"#4D5663\"},\"title\":{\"font\":{\"color\":\"#4D5663\"},\"text\":\"\"},\"zerolinecolor\":\"#E1E5ED\"}},                        {\"showLink\": true, \"linkText\": \"Export to plot.ly\", \"plotlyServerURL\": \"https://plot.ly\", \"responsive\": true}                    ).then(function(){\n",
       "                            \n",
       "var gd = document.getElementById('507133c7-9d37-476b-b860-8045dd31ea4f');\n",
       "var x = new MutationObserver(function (mutations, observer) {{\n",
       "        var display = window.getComputedStyle(gd).display;\n",
       "        if (!display || display === 'none') {{\n",
       "            console.log([gd, 'removed!']);\n",
       "            Plotly.purge(gd);\n",
       "            observer.disconnect();\n",
       "        }}\n",
       "}});\n",
       "\n",
       "// Listen for the removal of the full notebook cells\n",
       "var notebookContainer = gd.closest('#notebook-container');\n",
       "if (notebookContainer) {{\n",
       "    x.observe(notebookContainer, {childList: true});\n",
       "}}\n",
       "\n",
       "// Listen for the clearing of the current output cell\n",
       "var outputEl = gd.closest('.output');\n",
       "if (outputEl) {{\n",
       "    x.observe(outputEl, {childList: true});\n",
       "}}\n",
       "\n",
       "                        })                };                });            </script>        </div>"
      ]
     },
     "metadata": {},
     "output_type": "display_data"
    }
   ],
   "source": [
    "df3.iplot(kind='surface',colorscale='rdylbu')"
   ]
  },
  {
   "cell_type": "markdown",
   "id": "d392a1cc",
   "metadata": {},
   "source": [
    "## IPlot - Histogram "
   ]
  },
  {
   "cell_type": "code",
   "execution_count": 61,
   "id": "2f3ccb28",
   "metadata": {},
   "outputs": [
    {
     "data": {
      "application/vnd.plotly.v1+json": {
       "config": {
        "linkText": "Export to plot.ly",
        "plotlyServerURL": "https://plot.ly",
        "showLink": true
       },
       "data": [
        {
         "histfunc": "count",
         "histnorm": "",
         "marker": {
          "color": "rgba(255, 153, 51, 1.0)",
          "line": {
           "color": "#4D5663",
           "width": 1.3
          }
         },
         "name": "A",
         "nbinsx": 50,
         "opacity": 0.8,
         "orientation": "v",
         "type": "histogram",
         "x": [
          0.04472728291752777,
          2.0136277903577247,
          -1.9236196401519277,
          2.4911980816178194,
          -0.9967665313943013,
          -0.7951919577304543,
          1.9487063804665836,
          -2.23538159261186,
          -0.6362833050737016,
          -1.4754844608198587,
          0.011761902594940405,
          0.762460136367464,
          0.09148958294183143,
          -1.3104088928298192,
          -0.6551324495685213,
          0.4417399033234646,
          -1.0041748206612782,
          -2.1279381643445148,
          -0.33415704844100136,
          1.8822856176465037,
          -0.17436524138072843,
          0.24438741548022544,
          1.1271349499163994,
          0.12908581848119247,
          -0.5194216529893724,
          0.06933790600730215,
          -0.1604553359252777,
          0.4243007995667343,
          -1.1251252448290945,
          -1.3033981078054881,
          -0.3439484052277837,
          0.1853004778913747,
          -1.2386458788249415,
          1.5066759635136762,
          -1.5934330724746797,
          1.1466275226458311,
          -0.2998576466989392,
          -0.7564601805963426,
          -0.8075479890241387,
          0.31415964222467585,
          -1.869410364721812,
          -0.7150081458694103,
          -1.1738929577822552,
          -0.03933686859765417,
          -0.2301305754650945,
          1.077391686619631,
          1.1402657961968796,
          0.291777123552492,
          0.9600778507641592,
          -0.4263265753068178,
          -0.5520173344511742,
          0.6578707128339493,
          0.6018249253613506,
          -1.226518784319018,
          -0.10312712302438928,
          -1.0674536882407857,
          0.6482714967308668,
          0.9162266657051357,
          -0.5372298377330095,
          0.8845513154382081,
          0.8015316358892549,
          -0.7257562347588903,
          -0.8516497444356815,
          0.35510691240333075,
          -0.1602518439569381,
          0.18772635521434244,
          0.6394680450095762,
          -1.7841028128897547,
          -1.362461857419024,
          -0.9692165633965856,
          1.8623982171870008,
          1.5405117173715361,
          -1.329477243882208,
          -1.0570415503714614,
          0.8275648531322185,
          0.7174334888677107,
          -1.8407960180545033,
          -0.6327346660982492,
          -1.834893941666618,
          -1.0222932958815636,
          -0.0890975036474237,
          0.9262538909560268,
          1.587038316260175,
          1.4636701642913348,
          0.24217647988032678,
          -0.05063897611733595,
          0.723546614583445,
          -0.49758264536569463,
          0.9075802085838476,
          -1.1304087274552108,
          -1.8339112439763066,
          -1.1000414778730772,
          -1.4124638619838747,
          0.6431580778738788,
          -1.4370295309081362,
          0.6910484972701905,
          3.256655782163857,
          -0.11462551340178101,
          2.17596548950574,
          1.4596346378062068
         ]
        }
       ],
       "layout": {
        "barmode": "overlay",
        "legend": {
         "bgcolor": "#F5F6F9",
         "font": {
          "color": "#4D5663"
         }
        },
        "paper_bgcolor": "#F5F6F9",
        "plot_bgcolor": "#F5F6F9",
        "template": {
         "data": {
          "bar": [
           {
            "error_x": {
             "color": "#2a3f5f"
            },
            "error_y": {
             "color": "#2a3f5f"
            },
            "marker": {
             "line": {
              "color": "#E5ECF6",
              "width": 0.5
             },
             "pattern": {
              "fillmode": "overlay",
              "size": 10,
              "solidity": 0.2
             }
            },
            "type": "bar"
           }
          ],
          "barpolar": [
           {
            "marker": {
             "line": {
              "color": "#E5ECF6",
              "width": 0.5
             },
             "pattern": {
              "fillmode": "overlay",
              "size": 10,
              "solidity": 0.2
             }
            },
            "type": "barpolar"
           }
          ],
          "carpet": [
           {
            "aaxis": {
             "endlinecolor": "#2a3f5f",
             "gridcolor": "white",
             "linecolor": "white",
             "minorgridcolor": "white",
             "startlinecolor": "#2a3f5f"
            },
            "baxis": {
             "endlinecolor": "#2a3f5f",
             "gridcolor": "white",
             "linecolor": "white",
             "minorgridcolor": "white",
             "startlinecolor": "#2a3f5f"
            },
            "type": "carpet"
           }
          ],
          "choropleth": [
           {
            "colorbar": {
             "outlinewidth": 0,
             "ticks": ""
            },
            "type": "choropleth"
           }
          ],
          "contour": [
           {
            "colorbar": {
             "outlinewidth": 0,
             "ticks": ""
            },
            "colorscale": [
             [
              0,
              "#0d0887"
             ],
             [
              0.1111111111111111,
              "#46039f"
             ],
             [
              0.2222222222222222,
              "#7201a8"
             ],
             [
              0.3333333333333333,
              "#9c179e"
             ],
             [
              0.4444444444444444,
              "#bd3786"
             ],
             [
              0.5555555555555556,
              "#d8576b"
             ],
             [
              0.6666666666666666,
              "#ed7953"
             ],
             [
              0.7777777777777778,
              "#fb9f3a"
             ],
             [
              0.8888888888888888,
              "#fdca26"
             ],
             [
              1,
              "#f0f921"
             ]
            ],
            "type": "contour"
           }
          ],
          "contourcarpet": [
           {
            "colorbar": {
             "outlinewidth": 0,
             "ticks": ""
            },
            "type": "contourcarpet"
           }
          ],
          "heatmap": [
           {
            "colorbar": {
             "outlinewidth": 0,
             "ticks": ""
            },
            "colorscale": [
             [
              0,
              "#0d0887"
             ],
             [
              0.1111111111111111,
              "#46039f"
             ],
             [
              0.2222222222222222,
              "#7201a8"
             ],
             [
              0.3333333333333333,
              "#9c179e"
             ],
             [
              0.4444444444444444,
              "#bd3786"
             ],
             [
              0.5555555555555556,
              "#d8576b"
             ],
             [
              0.6666666666666666,
              "#ed7953"
             ],
             [
              0.7777777777777778,
              "#fb9f3a"
             ],
             [
              0.8888888888888888,
              "#fdca26"
             ],
             [
              1,
              "#f0f921"
             ]
            ],
            "type": "heatmap"
           }
          ],
          "heatmapgl": [
           {
            "colorbar": {
             "outlinewidth": 0,
             "ticks": ""
            },
            "colorscale": [
             [
              0,
              "#0d0887"
             ],
             [
              0.1111111111111111,
              "#46039f"
             ],
             [
              0.2222222222222222,
              "#7201a8"
             ],
             [
              0.3333333333333333,
              "#9c179e"
             ],
             [
              0.4444444444444444,
              "#bd3786"
             ],
             [
              0.5555555555555556,
              "#d8576b"
             ],
             [
              0.6666666666666666,
              "#ed7953"
             ],
             [
              0.7777777777777778,
              "#fb9f3a"
             ],
             [
              0.8888888888888888,
              "#fdca26"
             ],
             [
              1,
              "#f0f921"
             ]
            ],
            "type": "heatmapgl"
           }
          ],
          "histogram": [
           {
            "marker": {
             "pattern": {
              "fillmode": "overlay",
              "size": 10,
              "solidity": 0.2
             }
            },
            "type": "histogram"
           }
          ],
          "histogram2d": [
           {
            "colorbar": {
             "outlinewidth": 0,
             "ticks": ""
            },
            "colorscale": [
             [
              0,
              "#0d0887"
             ],
             [
              0.1111111111111111,
              "#46039f"
             ],
             [
              0.2222222222222222,
              "#7201a8"
             ],
             [
              0.3333333333333333,
              "#9c179e"
             ],
             [
              0.4444444444444444,
              "#bd3786"
             ],
             [
              0.5555555555555556,
              "#d8576b"
             ],
             [
              0.6666666666666666,
              "#ed7953"
             ],
             [
              0.7777777777777778,
              "#fb9f3a"
             ],
             [
              0.8888888888888888,
              "#fdca26"
             ],
             [
              1,
              "#f0f921"
             ]
            ],
            "type": "histogram2d"
           }
          ],
          "histogram2dcontour": [
           {
            "colorbar": {
             "outlinewidth": 0,
             "ticks": ""
            },
            "colorscale": [
             [
              0,
              "#0d0887"
             ],
             [
              0.1111111111111111,
              "#46039f"
             ],
             [
              0.2222222222222222,
              "#7201a8"
             ],
             [
              0.3333333333333333,
              "#9c179e"
             ],
             [
              0.4444444444444444,
              "#bd3786"
             ],
             [
              0.5555555555555556,
              "#d8576b"
             ],
             [
              0.6666666666666666,
              "#ed7953"
             ],
             [
              0.7777777777777778,
              "#fb9f3a"
             ],
             [
              0.8888888888888888,
              "#fdca26"
             ],
             [
              1,
              "#f0f921"
             ]
            ],
            "type": "histogram2dcontour"
           }
          ],
          "mesh3d": [
           {
            "colorbar": {
             "outlinewidth": 0,
             "ticks": ""
            },
            "type": "mesh3d"
           }
          ],
          "parcoords": [
           {
            "line": {
             "colorbar": {
              "outlinewidth": 0,
              "ticks": ""
             }
            },
            "type": "parcoords"
           }
          ],
          "pie": [
           {
            "automargin": true,
            "type": "pie"
           }
          ],
          "scatter": [
           {
            "fillpattern": {
             "fillmode": "overlay",
             "size": 10,
             "solidity": 0.2
            },
            "type": "scatter"
           }
          ],
          "scatter3d": [
           {
            "line": {
             "colorbar": {
              "outlinewidth": 0,
              "ticks": ""
             }
            },
            "marker": {
             "colorbar": {
              "outlinewidth": 0,
              "ticks": ""
             }
            },
            "type": "scatter3d"
           }
          ],
          "scattercarpet": [
           {
            "marker": {
             "colorbar": {
              "outlinewidth": 0,
              "ticks": ""
             }
            },
            "type": "scattercarpet"
           }
          ],
          "scattergeo": [
           {
            "marker": {
             "colorbar": {
              "outlinewidth": 0,
              "ticks": ""
             }
            },
            "type": "scattergeo"
           }
          ],
          "scattergl": [
           {
            "marker": {
             "colorbar": {
              "outlinewidth": 0,
              "ticks": ""
             }
            },
            "type": "scattergl"
           }
          ],
          "scattermapbox": [
           {
            "marker": {
             "colorbar": {
              "outlinewidth": 0,
              "ticks": ""
             }
            },
            "type": "scattermapbox"
           }
          ],
          "scatterpolar": [
           {
            "marker": {
             "colorbar": {
              "outlinewidth": 0,
              "ticks": ""
             }
            },
            "type": "scatterpolar"
           }
          ],
          "scatterpolargl": [
           {
            "marker": {
             "colorbar": {
              "outlinewidth": 0,
              "ticks": ""
             }
            },
            "type": "scatterpolargl"
           }
          ],
          "scatterternary": [
           {
            "marker": {
             "colorbar": {
              "outlinewidth": 0,
              "ticks": ""
             }
            },
            "type": "scatterternary"
           }
          ],
          "surface": [
           {
            "colorbar": {
             "outlinewidth": 0,
             "ticks": ""
            },
            "colorscale": [
             [
              0,
              "#0d0887"
             ],
             [
              0.1111111111111111,
              "#46039f"
             ],
             [
              0.2222222222222222,
              "#7201a8"
             ],
             [
              0.3333333333333333,
              "#9c179e"
             ],
             [
              0.4444444444444444,
              "#bd3786"
             ],
             [
              0.5555555555555556,
              "#d8576b"
             ],
             [
              0.6666666666666666,
              "#ed7953"
             ],
             [
              0.7777777777777778,
              "#fb9f3a"
             ],
             [
              0.8888888888888888,
              "#fdca26"
             ],
             [
              1,
              "#f0f921"
             ]
            ],
            "type": "surface"
           }
          ],
          "table": [
           {
            "cells": {
             "fill": {
              "color": "#EBF0F8"
             },
             "line": {
              "color": "white"
             }
            },
            "header": {
             "fill": {
              "color": "#C8D4E3"
             },
             "line": {
              "color": "white"
             }
            },
            "type": "table"
           }
          ]
         },
         "layout": {
          "annotationdefaults": {
           "arrowcolor": "#2a3f5f",
           "arrowhead": 0,
           "arrowwidth": 1
          },
          "autotypenumbers": "strict",
          "coloraxis": {
           "colorbar": {
            "outlinewidth": 0,
            "ticks": ""
           }
          },
          "colorscale": {
           "diverging": [
            [
             0,
             "#8e0152"
            ],
            [
             0.1,
             "#c51b7d"
            ],
            [
             0.2,
             "#de77ae"
            ],
            [
             0.3,
             "#f1b6da"
            ],
            [
             0.4,
             "#fde0ef"
            ],
            [
             0.5,
             "#f7f7f7"
            ],
            [
             0.6,
             "#e6f5d0"
            ],
            [
             0.7,
             "#b8e186"
            ],
            [
             0.8,
             "#7fbc41"
            ],
            [
             0.9,
             "#4d9221"
            ],
            [
             1,
             "#276419"
            ]
           ],
           "sequential": [
            [
             0,
             "#0d0887"
            ],
            [
             0.1111111111111111,
             "#46039f"
            ],
            [
             0.2222222222222222,
             "#7201a8"
            ],
            [
             0.3333333333333333,
             "#9c179e"
            ],
            [
             0.4444444444444444,
             "#bd3786"
            ],
            [
             0.5555555555555556,
             "#d8576b"
            ],
            [
             0.6666666666666666,
             "#ed7953"
            ],
            [
             0.7777777777777778,
             "#fb9f3a"
            ],
            [
             0.8888888888888888,
             "#fdca26"
            ],
            [
             1,
             "#f0f921"
            ]
           ],
           "sequentialminus": [
            [
             0,
             "#0d0887"
            ],
            [
             0.1111111111111111,
             "#46039f"
            ],
            [
             0.2222222222222222,
             "#7201a8"
            ],
            [
             0.3333333333333333,
             "#9c179e"
            ],
            [
             0.4444444444444444,
             "#bd3786"
            ],
            [
             0.5555555555555556,
             "#d8576b"
            ],
            [
             0.6666666666666666,
             "#ed7953"
            ],
            [
             0.7777777777777778,
             "#fb9f3a"
            ],
            [
             0.8888888888888888,
             "#fdca26"
            ],
            [
             1,
             "#f0f921"
            ]
           ]
          },
          "colorway": [
           "#636efa",
           "#EF553B",
           "#00cc96",
           "#ab63fa",
           "#FFA15A",
           "#19d3f3",
           "#FF6692",
           "#B6E880",
           "#FF97FF",
           "#FECB52"
          ],
          "font": {
           "color": "#2a3f5f"
          },
          "geo": {
           "bgcolor": "white",
           "lakecolor": "white",
           "landcolor": "#E5ECF6",
           "showlakes": true,
           "showland": true,
           "subunitcolor": "white"
          },
          "hoverlabel": {
           "align": "left"
          },
          "hovermode": "closest",
          "mapbox": {
           "style": "light"
          },
          "paper_bgcolor": "white",
          "plot_bgcolor": "#E5ECF6",
          "polar": {
           "angularaxis": {
            "gridcolor": "white",
            "linecolor": "white",
            "ticks": ""
           },
           "bgcolor": "#E5ECF6",
           "radialaxis": {
            "gridcolor": "white",
            "linecolor": "white",
            "ticks": ""
           }
          },
          "scene": {
           "xaxis": {
            "backgroundcolor": "#E5ECF6",
            "gridcolor": "white",
            "gridwidth": 2,
            "linecolor": "white",
            "showbackground": true,
            "ticks": "",
            "zerolinecolor": "white"
           },
           "yaxis": {
            "backgroundcolor": "#E5ECF6",
            "gridcolor": "white",
            "gridwidth": 2,
            "linecolor": "white",
            "showbackground": true,
            "ticks": "",
            "zerolinecolor": "white"
           },
           "zaxis": {
            "backgroundcolor": "#E5ECF6",
            "gridcolor": "white",
            "gridwidth": 2,
            "linecolor": "white",
            "showbackground": true,
            "ticks": "",
            "zerolinecolor": "white"
           }
          },
          "shapedefaults": {
           "line": {
            "color": "#2a3f5f"
           }
          },
          "ternary": {
           "aaxis": {
            "gridcolor": "white",
            "linecolor": "white",
            "ticks": ""
           },
           "baxis": {
            "gridcolor": "white",
            "linecolor": "white",
            "ticks": ""
           },
           "bgcolor": "#E5ECF6",
           "caxis": {
            "gridcolor": "white",
            "linecolor": "white",
            "ticks": ""
           }
          },
          "title": {
           "x": 0.05
          },
          "xaxis": {
           "automargin": true,
           "gridcolor": "white",
           "linecolor": "white",
           "ticks": "",
           "title": {
            "standoff": 15
           },
           "zerolinecolor": "white",
           "zerolinewidth": 2
          },
          "yaxis": {
           "automargin": true,
           "gridcolor": "white",
           "linecolor": "white",
           "ticks": "",
           "title": {
            "standoff": 15
           },
           "zerolinecolor": "white",
           "zerolinewidth": 2
          }
         }
        },
        "title": {
         "font": {
          "color": "#4D5663"
         }
        },
        "xaxis": {
         "gridcolor": "#E1E5ED",
         "showgrid": true,
         "tickfont": {
          "color": "#4D5663"
         },
         "title": {
          "font": {
           "color": "#4D5663"
          },
          "text": ""
         },
         "zerolinecolor": "#E1E5ED"
        },
        "yaxis": {
         "gridcolor": "#E1E5ED",
         "showgrid": true,
         "tickfont": {
          "color": "#4D5663"
         },
         "title": {
          "font": {
           "color": "#4D5663"
          },
          "text": ""
         },
         "zerolinecolor": "#E1E5ED"
        }
       }
      },
      "text/html": [
       "<div>                            <div id=\"2a472bf9-fcb5-41c1-ad3c-f425355e5b9f\" class=\"plotly-graph-div\" style=\"height:525px; width:100%;\"></div>            <script type=\"text/javascript\">                require([\"plotly\"], function(Plotly) {                    window.PLOTLYENV=window.PLOTLYENV || {};\n",
       "                    window.PLOTLYENV.BASE_URL='https://plot.ly';                                    if (document.getElementById(\"2a472bf9-fcb5-41c1-ad3c-f425355e5b9f\")) {                    Plotly.newPlot(                        \"2a472bf9-fcb5-41c1-ad3c-f425355e5b9f\",                        [{\"histfunc\":\"count\",\"histnorm\":\"\",\"marker\":{\"color\":\"rgba(255, 153, 51, 1.0)\",\"line\":{\"color\":\"#4D5663\",\"width\":1.3}},\"name\":\"A\",\"nbinsx\":50,\"opacity\":0.8,\"orientation\":\"v\",\"x\":[0.04472728291752777,2.0136277903577247,-1.9236196401519277,2.4911980816178194,-0.9967665313943013,-0.7951919577304543,1.9487063804665836,-2.23538159261186,-0.6362833050737016,-1.4754844608198587,0.011761902594940405,0.762460136367464,0.09148958294183143,-1.3104088928298192,-0.6551324495685213,0.4417399033234646,-1.0041748206612782,-2.1279381643445148,-0.33415704844100136,1.8822856176465037,-0.17436524138072843,0.24438741548022544,1.1271349499163994,0.12908581848119247,-0.5194216529893724,0.06933790600730215,-0.1604553359252777,0.4243007995667343,-1.1251252448290945,-1.3033981078054881,-0.3439484052277837,0.1853004778913747,-1.2386458788249415,1.5066759635136762,-1.5934330724746797,1.1466275226458311,-0.2998576466989392,-0.7564601805963426,-0.8075479890241387,0.31415964222467585,-1.869410364721812,-0.7150081458694103,-1.1738929577822552,-0.03933686859765417,-0.2301305754650945,1.077391686619631,1.1402657961968796,0.291777123552492,0.9600778507641592,-0.4263265753068178,-0.5520173344511742,0.6578707128339493,0.6018249253613506,-1.226518784319018,-0.10312712302438928,-1.0674536882407857,0.6482714967308668,0.9162266657051357,-0.5372298377330095,0.8845513154382081,0.8015316358892549,-0.7257562347588903,-0.8516497444356815,0.35510691240333075,-0.1602518439569381,0.18772635521434244,0.6394680450095762,-1.7841028128897547,-1.362461857419024,-0.9692165633965856,1.8623982171870008,1.5405117173715361,-1.329477243882208,-1.0570415503714614,0.8275648531322185,0.7174334888677107,-1.8407960180545033,-0.6327346660982492,-1.834893941666618,-1.0222932958815636,-0.0890975036474237,0.9262538909560268,1.587038316260175,1.4636701642913348,0.24217647988032678,-0.05063897611733595,0.723546614583445,-0.49758264536569463,0.9075802085838476,-1.1304087274552108,-1.8339112439763066,-1.1000414778730772,-1.4124638619838747,0.6431580778738788,-1.4370295309081362,0.6910484972701905,3.256655782163857,-0.11462551340178101,2.17596548950574,1.4596346378062068],\"type\":\"histogram\"}],                        {\"barmode\":\"overlay\",\"legend\":{\"bgcolor\":\"#F5F6F9\",\"font\":{\"color\":\"#4D5663\"}},\"paper_bgcolor\":\"#F5F6F9\",\"plot_bgcolor\":\"#F5F6F9\",\"template\":{\"data\":{\"barpolar\":[{\"marker\":{\"line\":{\"color\":\"#E5ECF6\",\"width\":0.5},\"pattern\":{\"fillmode\":\"overlay\",\"size\":10,\"solidity\":0.2}},\"type\":\"barpolar\"}],\"bar\":[{\"error_x\":{\"color\":\"#2a3f5f\"},\"error_y\":{\"color\":\"#2a3f5f\"},\"marker\":{\"line\":{\"color\":\"#E5ECF6\",\"width\":0.5},\"pattern\":{\"fillmode\":\"overlay\",\"size\":10,\"solidity\":0.2}},\"type\":\"bar\"}],\"carpet\":[{\"aaxis\":{\"endlinecolor\":\"#2a3f5f\",\"gridcolor\":\"white\",\"linecolor\":\"white\",\"minorgridcolor\":\"white\",\"startlinecolor\":\"#2a3f5f\"},\"baxis\":{\"endlinecolor\":\"#2a3f5f\",\"gridcolor\":\"white\",\"linecolor\":\"white\",\"minorgridcolor\":\"white\",\"startlinecolor\":\"#2a3f5f\"},\"type\":\"carpet\"}],\"choropleth\":[{\"colorbar\":{\"outlinewidth\":0,\"ticks\":\"\"},\"type\":\"choropleth\"}],\"contourcarpet\":[{\"colorbar\":{\"outlinewidth\":0,\"ticks\":\"\"},\"type\":\"contourcarpet\"}],\"contour\":[{\"colorbar\":{\"outlinewidth\":0,\"ticks\":\"\"},\"colorscale\":[[0.0,\"#0d0887\"],[0.1111111111111111,\"#46039f\"],[0.2222222222222222,\"#7201a8\"],[0.3333333333333333,\"#9c179e\"],[0.4444444444444444,\"#bd3786\"],[0.5555555555555556,\"#d8576b\"],[0.6666666666666666,\"#ed7953\"],[0.7777777777777778,\"#fb9f3a\"],[0.8888888888888888,\"#fdca26\"],[1.0,\"#f0f921\"]],\"type\":\"contour\"}],\"heatmapgl\":[{\"colorbar\":{\"outlinewidth\":0,\"ticks\":\"\"},\"colorscale\":[[0.0,\"#0d0887\"],[0.1111111111111111,\"#46039f\"],[0.2222222222222222,\"#7201a8\"],[0.3333333333333333,\"#9c179e\"],[0.4444444444444444,\"#bd3786\"],[0.5555555555555556,\"#d8576b\"],[0.6666666666666666,\"#ed7953\"],[0.7777777777777778,\"#fb9f3a\"],[0.8888888888888888,\"#fdca26\"],[1.0,\"#f0f921\"]],\"type\":\"heatmapgl\"}],\"heatmap\":[{\"colorbar\":{\"outlinewidth\":0,\"ticks\":\"\"},\"colorscale\":[[0.0,\"#0d0887\"],[0.1111111111111111,\"#46039f\"],[0.2222222222222222,\"#7201a8\"],[0.3333333333333333,\"#9c179e\"],[0.4444444444444444,\"#bd3786\"],[0.5555555555555556,\"#d8576b\"],[0.6666666666666666,\"#ed7953\"],[0.7777777777777778,\"#fb9f3a\"],[0.8888888888888888,\"#fdca26\"],[1.0,\"#f0f921\"]],\"type\":\"heatmap\"}],\"histogram2dcontour\":[{\"colorbar\":{\"outlinewidth\":0,\"ticks\":\"\"},\"colorscale\":[[0.0,\"#0d0887\"],[0.1111111111111111,\"#46039f\"],[0.2222222222222222,\"#7201a8\"],[0.3333333333333333,\"#9c179e\"],[0.4444444444444444,\"#bd3786\"],[0.5555555555555556,\"#d8576b\"],[0.6666666666666666,\"#ed7953\"],[0.7777777777777778,\"#fb9f3a\"],[0.8888888888888888,\"#fdca26\"],[1.0,\"#f0f921\"]],\"type\":\"histogram2dcontour\"}],\"histogram2d\":[{\"colorbar\":{\"outlinewidth\":0,\"ticks\":\"\"},\"colorscale\":[[0.0,\"#0d0887\"],[0.1111111111111111,\"#46039f\"],[0.2222222222222222,\"#7201a8\"],[0.3333333333333333,\"#9c179e\"],[0.4444444444444444,\"#bd3786\"],[0.5555555555555556,\"#d8576b\"],[0.6666666666666666,\"#ed7953\"],[0.7777777777777778,\"#fb9f3a\"],[0.8888888888888888,\"#fdca26\"],[1.0,\"#f0f921\"]],\"type\":\"histogram2d\"}],\"histogram\":[{\"marker\":{\"pattern\":{\"fillmode\":\"overlay\",\"size\":10,\"solidity\":0.2}},\"type\":\"histogram\"}],\"mesh3d\":[{\"colorbar\":{\"outlinewidth\":0,\"ticks\":\"\"},\"type\":\"mesh3d\"}],\"parcoords\":[{\"line\":{\"colorbar\":{\"outlinewidth\":0,\"ticks\":\"\"}},\"type\":\"parcoords\"}],\"pie\":[{\"automargin\":true,\"type\":\"pie\"}],\"scatter3d\":[{\"line\":{\"colorbar\":{\"outlinewidth\":0,\"ticks\":\"\"}},\"marker\":{\"colorbar\":{\"outlinewidth\":0,\"ticks\":\"\"}},\"type\":\"scatter3d\"}],\"scattercarpet\":[{\"marker\":{\"colorbar\":{\"outlinewidth\":0,\"ticks\":\"\"}},\"type\":\"scattercarpet\"}],\"scattergeo\":[{\"marker\":{\"colorbar\":{\"outlinewidth\":0,\"ticks\":\"\"}},\"type\":\"scattergeo\"}],\"scattergl\":[{\"marker\":{\"colorbar\":{\"outlinewidth\":0,\"ticks\":\"\"}},\"type\":\"scattergl\"}],\"scattermapbox\":[{\"marker\":{\"colorbar\":{\"outlinewidth\":0,\"ticks\":\"\"}},\"type\":\"scattermapbox\"}],\"scatterpolargl\":[{\"marker\":{\"colorbar\":{\"outlinewidth\":0,\"ticks\":\"\"}},\"type\":\"scatterpolargl\"}],\"scatterpolar\":[{\"marker\":{\"colorbar\":{\"outlinewidth\":0,\"ticks\":\"\"}},\"type\":\"scatterpolar\"}],\"scatter\":[{\"fillpattern\":{\"fillmode\":\"overlay\",\"size\":10,\"solidity\":0.2},\"type\":\"scatter\"}],\"scatterternary\":[{\"marker\":{\"colorbar\":{\"outlinewidth\":0,\"ticks\":\"\"}},\"type\":\"scatterternary\"}],\"surface\":[{\"colorbar\":{\"outlinewidth\":0,\"ticks\":\"\"},\"colorscale\":[[0.0,\"#0d0887\"],[0.1111111111111111,\"#46039f\"],[0.2222222222222222,\"#7201a8\"],[0.3333333333333333,\"#9c179e\"],[0.4444444444444444,\"#bd3786\"],[0.5555555555555556,\"#d8576b\"],[0.6666666666666666,\"#ed7953\"],[0.7777777777777778,\"#fb9f3a\"],[0.8888888888888888,\"#fdca26\"],[1.0,\"#f0f921\"]],\"type\":\"surface\"}],\"table\":[{\"cells\":{\"fill\":{\"color\":\"#EBF0F8\"},\"line\":{\"color\":\"white\"}},\"header\":{\"fill\":{\"color\":\"#C8D4E3\"},\"line\":{\"color\":\"white\"}},\"type\":\"table\"}]},\"layout\":{\"annotationdefaults\":{\"arrowcolor\":\"#2a3f5f\",\"arrowhead\":0,\"arrowwidth\":1},\"autotypenumbers\":\"strict\",\"coloraxis\":{\"colorbar\":{\"outlinewidth\":0,\"ticks\":\"\"}},\"colorscale\":{\"diverging\":[[0,\"#8e0152\"],[0.1,\"#c51b7d\"],[0.2,\"#de77ae\"],[0.3,\"#f1b6da\"],[0.4,\"#fde0ef\"],[0.5,\"#f7f7f7\"],[0.6,\"#e6f5d0\"],[0.7,\"#b8e186\"],[0.8,\"#7fbc41\"],[0.9,\"#4d9221\"],[1,\"#276419\"]],\"sequential\":[[0.0,\"#0d0887\"],[0.1111111111111111,\"#46039f\"],[0.2222222222222222,\"#7201a8\"],[0.3333333333333333,\"#9c179e\"],[0.4444444444444444,\"#bd3786\"],[0.5555555555555556,\"#d8576b\"],[0.6666666666666666,\"#ed7953\"],[0.7777777777777778,\"#fb9f3a\"],[0.8888888888888888,\"#fdca26\"],[1.0,\"#f0f921\"]],\"sequentialminus\":[[0.0,\"#0d0887\"],[0.1111111111111111,\"#46039f\"],[0.2222222222222222,\"#7201a8\"],[0.3333333333333333,\"#9c179e\"],[0.4444444444444444,\"#bd3786\"],[0.5555555555555556,\"#d8576b\"],[0.6666666666666666,\"#ed7953\"],[0.7777777777777778,\"#fb9f3a\"],[0.8888888888888888,\"#fdca26\"],[1.0,\"#f0f921\"]]},\"colorway\":[\"#636efa\",\"#EF553B\",\"#00cc96\",\"#ab63fa\",\"#FFA15A\",\"#19d3f3\",\"#FF6692\",\"#B6E880\",\"#FF97FF\",\"#FECB52\"],\"font\":{\"color\":\"#2a3f5f\"},\"geo\":{\"bgcolor\":\"white\",\"lakecolor\":\"white\",\"landcolor\":\"#E5ECF6\",\"showlakes\":true,\"showland\":true,\"subunitcolor\":\"white\"},\"hoverlabel\":{\"align\":\"left\"},\"hovermode\":\"closest\",\"mapbox\":{\"style\":\"light\"},\"paper_bgcolor\":\"white\",\"plot_bgcolor\":\"#E5ECF6\",\"polar\":{\"angularaxis\":{\"gridcolor\":\"white\",\"linecolor\":\"white\",\"ticks\":\"\"},\"bgcolor\":\"#E5ECF6\",\"radialaxis\":{\"gridcolor\":\"white\",\"linecolor\":\"white\",\"ticks\":\"\"}},\"scene\":{\"xaxis\":{\"backgroundcolor\":\"#E5ECF6\",\"gridcolor\":\"white\",\"gridwidth\":2,\"linecolor\":\"white\",\"showbackground\":true,\"ticks\":\"\",\"zerolinecolor\":\"white\"},\"yaxis\":{\"backgroundcolor\":\"#E5ECF6\",\"gridcolor\":\"white\",\"gridwidth\":2,\"linecolor\":\"white\",\"showbackground\":true,\"ticks\":\"\",\"zerolinecolor\":\"white\"},\"zaxis\":{\"backgroundcolor\":\"#E5ECF6\",\"gridcolor\":\"white\",\"gridwidth\":2,\"linecolor\":\"white\",\"showbackground\":true,\"ticks\":\"\",\"zerolinecolor\":\"white\"}},\"shapedefaults\":{\"line\":{\"color\":\"#2a3f5f\"}},\"ternary\":{\"aaxis\":{\"gridcolor\":\"white\",\"linecolor\":\"white\",\"ticks\":\"\"},\"baxis\":{\"gridcolor\":\"white\",\"linecolor\":\"white\",\"ticks\":\"\"},\"bgcolor\":\"#E5ECF6\",\"caxis\":{\"gridcolor\":\"white\",\"linecolor\":\"white\",\"ticks\":\"\"}},\"title\":{\"x\":0.05},\"xaxis\":{\"automargin\":true,\"gridcolor\":\"white\",\"linecolor\":\"white\",\"ticks\":\"\",\"title\":{\"standoff\":15},\"zerolinecolor\":\"white\",\"zerolinewidth\":2},\"yaxis\":{\"automargin\":true,\"gridcolor\":\"white\",\"linecolor\":\"white\",\"ticks\":\"\",\"title\":{\"standoff\":15},\"zerolinecolor\":\"white\",\"zerolinewidth\":2}}},\"title\":{\"font\":{\"color\":\"#4D5663\"}},\"xaxis\":{\"gridcolor\":\"#E1E5ED\",\"showgrid\":true,\"tickfont\":{\"color\":\"#4D5663\"},\"title\":{\"font\":{\"color\":\"#4D5663\"},\"text\":\"\"},\"zerolinecolor\":\"#E1E5ED\"},\"yaxis\":{\"gridcolor\":\"#E1E5ED\",\"showgrid\":true,\"tickfont\":{\"color\":\"#4D5663\"},\"title\":{\"font\":{\"color\":\"#4D5663\"},\"text\":\"\"},\"zerolinecolor\":\"#E1E5ED\"}},                        {\"showLink\": true, \"linkText\": \"Export to plot.ly\", \"plotlyServerURL\": \"https://plot.ly\", \"responsive\": true}                    ).then(function(){\n",
       "                            \n",
       "var gd = document.getElementById('2a472bf9-fcb5-41c1-ad3c-f425355e5b9f');\n",
       "var x = new MutationObserver(function (mutations, observer) {{\n",
       "        var display = window.getComputedStyle(gd).display;\n",
       "        if (!display || display === 'none') {{\n",
       "            console.log([gd, 'removed!']);\n",
       "            Plotly.purge(gd);\n",
       "            observer.disconnect();\n",
       "        }}\n",
       "}});\n",
       "\n",
       "// Listen for the removal of the full notebook cells\n",
       "var notebookContainer = gd.closest('#notebook-container');\n",
       "if (notebookContainer) {{\n",
       "    x.observe(notebookContainer, {childList: true});\n",
       "}}\n",
       "\n",
       "// Listen for the clearing of the current output cell\n",
       "var outputEl = gd.closest('.output');\n",
       "if (outputEl) {{\n",
       "    x.observe(outputEl, {childList: true});\n",
       "}}\n",
       "\n",
       "                        })                };                });            </script>        </div>"
      ]
     },
     "metadata": {},
     "output_type": "display_data"
    }
   ],
   "source": [
    "df['A'].iplot(kind='hist',bins =50)"
   ]
  },
  {
   "cell_type": "code",
   "execution_count": 62,
   "id": "20dd73dd",
   "metadata": {},
   "outputs": [
    {
     "data": {
      "application/vnd.plotly.v1+json": {
       "config": {
        "linkText": "Export to plot.ly",
        "plotlyServerURL": "https://plot.ly",
        "showLink": true
       },
       "data": [
        {
         "histfunc": "count",
         "histnorm": "",
         "marker": {
          "color": "rgba(255, 153, 51, 1.0)",
          "line": {
           "color": "#4D5663",
           "width": 1.3
          }
         },
         "name": "A",
         "opacity": 0.8,
         "orientation": "v",
         "type": "histogram",
         "x": [
          0.04472728291752777,
          2.0136277903577247,
          -1.9236196401519277,
          2.4911980816178194,
          -0.9967665313943013,
          -0.7951919577304543,
          1.9487063804665836,
          -2.23538159261186,
          -0.6362833050737016,
          -1.4754844608198587,
          0.011761902594940405,
          0.762460136367464,
          0.09148958294183143,
          -1.3104088928298192,
          -0.6551324495685213,
          0.4417399033234646,
          -1.0041748206612782,
          -2.1279381643445148,
          -0.33415704844100136,
          1.8822856176465037,
          -0.17436524138072843,
          0.24438741548022544,
          1.1271349499163994,
          0.12908581848119247,
          -0.5194216529893724,
          0.06933790600730215,
          -0.1604553359252777,
          0.4243007995667343,
          -1.1251252448290945,
          -1.3033981078054881,
          -0.3439484052277837,
          0.1853004778913747,
          -1.2386458788249415,
          1.5066759635136762,
          -1.5934330724746797,
          1.1466275226458311,
          -0.2998576466989392,
          -0.7564601805963426,
          -0.8075479890241387,
          0.31415964222467585,
          -1.869410364721812,
          -0.7150081458694103,
          -1.1738929577822552,
          -0.03933686859765417,
          -0.2301305754650945,
          1.077391686619631,
          1.1402657961968796,
          0.291777123552492,
          0.9600778507641592,
          -0.4263265753068178,
          -0.5520173344511742,
          0.6578707128339493,
          0.6018249253613506,
          -1.226518784319018,
          -0.10312712302438928,
          -1.0674536882407857,
          0.6482714967308668,
          0.9162266657051357,
          -0.5372298377330095,
          0.8845513154382081,
          0.8015316358892549,
          -0.7257562347588903,
          -0.8516497444356815,
          0.35510691240333075,
          -0.1602518439569381,
          0.18772635521434244,
          0.6394680450095762,
          -1.7841028128897547,
          -1.362461857419024,
          -0.9692165633965856,
          1.8623982171870008,
          1.5405117173715361,
          -1.329477243882208,
          -1.0570415503714614,
          0.8275648531322185,
          0.7174334888677107,
          -1.8407960180545033,
          -0.6327346660982492,
          -1.834893941666618,
          -1.0222932958815636,
          -0.0890975036474237,
          0.9262538909560268,
          1.587038316260175,
          1.4636701642913348,
          0.24217647988032678,
          -0.05063897611733595,
          0.723546614583445,
          -0.49758264536569463,
          0.9075802085838476,
          -1.1304087274552108,
          -1.8339112439763066,
          -1.1000414778730772,
          -1.4124638619838747,
          0.6431580778738788,
          -1.4370295309081362,
          0.6910484972701905,
          3.256655782163857,
          -0.11462551340178101,
          2.17596548950574,
          1.4596346378062068
         ]
        }
       ],
       "layout": {
        "barmode": "overlay",
        "legend": {
         "bgcolor": "#F5F6F9",
         "font": {
          "color": "#4D5663"
         }
        },
        "paper_bgcolor": "#F5F6F9",
        "plot_bgcolor": "#F5F6F9",
        "template": {
         "data": {
          "bar": [
           {
            "error_x": {
             "color": "#2a3f5f"
            },
            "error_y": {
             "color": "#2a3f5f"
            },
            "marker": {
             "line": {
              "color": "#E5ECF6",
              "width": 0.5
             },
             "pattern": {
              "fillmode": "overlay",
              "size": 10,
              "solidity": 0.2
             }
            },
            "type": "bar"
           }
          ],
          "barpolar": [
           {
            "marker": {
             "line": {
              "color": "#E5ECF6",
              "width": 0.5
             },
             "pattern": {
              "fillmode": "overlay",
              "size": 10,
              "solidity": 0.2
             }
            },
            "type": "barpolar"
           }
          ],
          "carpet": [
           {
            "aaxis": {
             "endlinecolor": "#2a3f5f",
             "gridcolor": "white",
             "linecolor": "white",
             "minorgridcolor": "white",
             "startlinecolor": "#2a3f5f"
            },
            "baxis": {
             "endlinecolor": "#2a3f5f",
             "gridcolor": "white",
             "linecolor": "white",
             "minorgridcolor": "white",
             "startlinecolor": "#2a3f5f"
            },
            "type": "carpet"
           }
          ],
          "choropleth": [
           {
            "colorbar": {
             "outlinewidth": 0,
             "ticks": ""
            },
            "type": "choropleth"
           }
          ],
          "contour": [
           {
            "colorbar": {
             "outlinewidth": 0,
             "ticks": ""
            },
            "colorscale": [
             [
              0,
              "#0d0887"
             ],
             [
              0.1111111111111111,
              "#46039f"
             ],
             [
              0.2222222222222222,
              "#7201a8"
             ],
             [
              0.3333333333333333,
              "#9c179e"
             ],
             [
              0.4444444444444444,
              "#bd3786"
             ],
             [
              0.5555555555555556,
              "#d8576b"
             ],
             [
              0.6666666666666666,
              "#ed7953"
             ],
             [
              0.7777777777777778,
              "#fb9f3a"
             ],
             [
              0.8888888888888888,
              "#fdca26"
             ],
             [
              1,
              "#f0f921"
             ]
            ],
            "type": "contour"
           }
          ],
          "contourcarpet": [
           {
            "colorbar": {
             "outlinewidth": 0,
             "ticks": ""
            },
            "type": "contourcarpet"
           }
          ],
          "heatmap": [
           {
            "colorbar": {
             "outlinewidth": 0,
             "ticks": ""
            },
            "colorscale": [
             [
              0,
              "#0d0887"
             ],
             [
              0.1111111111111111,
              "#46039f"
             ],
             [
              0.2222222222222222,
              "#7201a8"
             ],
             [
              0.3333333333333333,
              "#9c179e"
             ],
             [
              0.4444444444444444,
              "#bd3786"
             ],
             [
              0.5555555555555556,
              "#d8576b"
             ],
             [
              0.6666666666666666,
              "#ed7953"
             ],
             [
              0.7777777777777778,
              "#fb9f3a"
             ],
             [
              0.8888888888888888,
              "#fdca26"
             ],
             [
              1,
              "#f0f921"
             ]
            ],
            "type": "heatmap"
           }
          ],
          "heatmapgl": [
           {
            "colorbar": {
             "outlinewidth": 0,
             "ticks": ""
            },
            "colorscale": [
             [
              0,
              "#0d0887"
             ],
             [
              0.1111111111111111,
              "#46039f"
             ],
             [
              0.2222222222222222,
              "#7201a8"
             ],
             [
              0.3333333333333333,
              "#9c179e"
             ],
             [
              0.4444444444444444,
              "#bd3786"
             ],
             [
              0.5555555555555556,
              "#d8576b"
             ],
             [
              0.6666666666666666,
              "#ed7953"
             ],
             [
              0.7777777777777778,
              "#fb9f3a"
             ],
             [
              0.8888888888888888,
              "#fdca26"
             ],
             [
              1,
              "#f0f921"
             ]
            ],
            "type": "heatmapgl"
           }
          ],
          "histogram": [
           {
            "marker": {
             "pattern": {
              "fillmode": "overlay",
              "size": 10,
              "solidity": 0.2
             }
            },
            "type": "histogram"
           }
          ],
          "histogram2d": [
           {
            "colorbar": {
             "outlinewidth": 0,
             "ticks": ""
            },
            "colorscale": [
             [
              0,
              "#0d0887"
             ],
             [
              0.1111111111111111,
              "#46039f"
             ],
             [
              0.2222222222222222,
              "#7201a8"
             ],
             [
              0.3333333333333333,
              "#9c179e"
             ],
             [
              0.4444444444444444,
              "#bd3786"
             ],
             [
              0.5555555555555556,
              "#d8576b"
             ],
             [
              0.6666666666666666,
              "#ed7953"
             ],
             [
              0.7777777777777778,
              "#fb9f3a"
             ],
             [
              0.8888888888888888,
              "#fdca26"
             ],
             [
              1,
              "#f0f921"
             ]
            ],
            "type": "histogram2d"
           }
          ],
          "histogram2dcontour": [
           {
            "colorbar": {
             "outlinewidth": 0,
             "ticks": ""
            },
            "colorscale": [
             [
              0,
              "#0d0887"
             ],
             [
              0.1111111111111111,
              "#46039f"
             ],
             [
              0.2222222222222222,
              "#7201a8"
             ],
             [
              0.3333333333333333,
              "#9c179e"
             ],
             [
              0.4444444444444444,
              "#bd3786"
             ],
             [
              0.5555555555555556,
              "#d8576b"
             ],
             [
              0.6666666666666666,
              "#ed7953"
             ],
             [
              0.7777777777777778,
              "#fb9f3a"
             ],
             [
              0.8888888888888888,
              "#fdca26"
             ],
             [
              1,
              "#f0f921"
             ]
            ],
            "type": "histogram2dcontour"
           }
          ],
          "mesh3d": [
           {
            "colorbar": {
             "outlinewidth": 0,
             "ticks": ""
            },
            "type": "mesh3d"
           }
          ],
          "parcoords": [
           {
            "line": {
             "colorbar": {
              "outlinewidth": 0,
              "ticks": ""
             }
            },
            "type": "parcoords"
           }
          ],
          "pie": [
           {
            "automargin": true,
            "type": "pie"
           }
          ],
          "scatter": [
           {
            "fillpattern": {
             "fillmode": "overlay",
             "size": 10,
             "solidity": 0.2
            },
            "type": "scatter"
           }
          ],
          "scatter3d": [
           {
            "line": {
             "colorbar": {
              "outlinewidth": 0,
              "ticks": ""
             }
            },
            "marker": {
             "colorbar": {
              "outlinewidth": 0,
              "ticks": ""
             }
            },
            "type": "scatter3d"
           }
          ],
          "scattercarpet": [
           {
            "marker": {
             "colorbar": {
              "outlinewidth": 0,
              "ticks": ""
             }
            },
            "type": "scattercarpet"
           }
          ],
          "scattergeo": [
           {
            "marker": {
             "colorbar": {
              "outlinewidth": 0,
              "ticks": ""
             }
            },
            "type": "scattergeo"
           }
          ],
          "scattergl": [
           {
            "marker": {
             "colorbar": {
              "outlinewidth": 0,
              "ticks": ""
             }
            },
            "type": "scattergl"
           }
          ],
          "scattermapbox": [
           {
            "marker": {
             "colorbar": {
              "outlinewidth": 0,
              "ticks": ""
             }
            },
            "type": "scattermapbox"
           }
          ],
          "scatterpolar": [
           {
            "marker": {
             "colorbar": {
              "outlinewidth": 0,
              "ticks": ""
             }
            },
            "type": "scatterpolar"
           }
          ],
          "scatterpolargl": [
           {
            "marker": {
             "colorbar": {
              "outlinewidth": 0,
              "ticks": ""
             }
            },
            "type": "scatterpolargl"
           }
          ],
          "scatterternary": [
           {
            "marker": {
             "colorbar": {
              "outlinewidth": 0,
              "ticks": ""
             }
            },
            "type": "scatterternary"
           }
          ],
          "surface": [
           {
            "colorbar": {
             "outlinewidth": 0,
             "ticks": ""
            },
            "colorscale": [
             [
              0,
              "#0d0887"
             ],
             [
              0.1111111111111111,
              "#46039f"
             ],
             [
              0.2222222222222222,
              "#7201a8"
             ],
             [
              0.3333333333333333,
              "#9c179e"
             ],
             [
              0.4444444444444444,
              "#bd3786"
             ],
             [
              0.5555555555555556,
              "#d8576b"
             ],
             [
              0.6666666666666666,
              "#ed7953"
             ],
             [
              0.7777777777777778,
              "#fb9f3a"
             ],
             [
              0.8888888888888888,
              "#fdca26"
             ],
             [
              1,
              "#f0f921"
             ]
            ],
            "type": "surface"
           }
          ],
          "table": [
           {
            "cells": {
             "fill": {
              "color": "#EBF0F8"
             },
             "line": {
              "color": "white"
             }
            },
            "header": {
             "fill": {
              "color": "#C8D4E3"
             },
             "line": {
              "color": "white"
             }
            },
            "type": "table"
           }
          ]
         },
         "layout": {
          "annotationdefaults": {
           "arrowcolor": "#2a3f5f",
           "arrowhead": 0,
           "arrowwidth": 1
          },
          "autotypenumbers": "strict",
          "coloraxis": {
           "colorbar": {
            "outlinewidth": 0,
            "ticks": ""
           }
          },
          "colorscale": {
           "diverging": [
            [
             0,
             "#8e0152"
            ],
            [
             0.1,
             "#c51b7d"
            ],
            [
             0.2,
             "#de77ae"
            ],
            [
             0.3,
             "#f1b6da"
            ],
            [
             0.4,
             "#fde0ef"
            ],
            [
             0.5,
             "#f7f7f7"
            ],
            [
             0.6,
             "#e6f5d0"
            ],
            [
             0.7,
             "#b8e186"
            ],
            [
             0.8,
             "#7fbc41"
            ],
            [
             0.9,
             "#4d9221"
            ],
            [
             1,
             "#276419"
            ]
           ],
           "sequential": [
            [
             0,
             "#0d0887"
            ],
            [
             0.1111111111111111,
             "#46039f"
            ],
            [
             0.2222222222222222,
             "#7201a8"
            ],
            [
             0.3333333333333333,
             "#9c179e"
            ],
            [
             0.4444444444444444,
             "#bd3786"
            ],
            [
             0.5555555555555556,
             "#d8576b"
            ],
            [
             0.6666666666666666,
             "#ed7953"
            ],
            [
             0.7777777777777778,
             "#fb9f3a"
            ],
            [
             0.8888888888888888,
             "#fdca26"
            ],
            [
             1,
             "#f0f921"
            ]
           ],
           "sequentialminus": [
            [
             0,
             "#0d0887"
            ],
            [
             0.1111111111111111,
             "#46039f"
            ],
            [
             0.2222222222222222,
             "#7201a8"
            ],
            [
             0.3333333333333333,
             "#9c179e"
            ],
            [
             0.4444444444444444,
             "#bd3786"
            ],
            [
             0.5555555555555556,
             "#d8576b"
            ],
            [
             0.6666666666666666,
             "#ed7953"
            ],
            [
             0.7777777777777778,
             "#fb9f3a"
            ],
            [
             0.8888888888888888,
             "#fdca26"
            ],
            [
             1,
             "#f0f921"
            ]
           ]
          },
          "colorway": [
           "#636efa",
           "#EF553B",
           "#00cc96",
           "#ab63fa",
           "#FFA15A",
           "#19d3f3",
           "#FF6692",
           "#B6E880",
           "#FF97FF",
           "#FECB52"
          ],
          "font": {
           "color": "#2a3f5f"
          },
          "geo": {
           "bgcolor": "white",
           "lakecolor": "white",
           "landcolor": "#E5ECF6",
           "showlakes": true,
           "showland": true,
           "subunitcolor": "white"
          },
          "hoverlabel": {
           "align": "left"
          },
          "hovermode": "closest",
          "mapbox": {
           "style": "light"
          },
          "paper_bgcolor": "white",
          "plot_bgcolor": "#E5ECF6",
          "polar": {
           "angularaxis": {
            "gridcolor": "white",
            "linecolor": "white",
            "ticks": ""
           },
           "bgcolor": "#E5ECF6",
           "radialaxis": {
            "gridcolor": "white",
            "linecolor": "white",
            "ticks": ""
           }
          },
          "scene": {
           "xaxis": {
            "backgroundcolor": "#E5ECF6",
            "gridcolor": "white",
            "gridwidth": 2,
            "linecolor": "white",
            "showbackground": true,
            "ticks": "",
            "zerolinecolor": "white"
           },
           "yaxis": {
            "backgroundcolor": "#E5ECF6",
            "gridcolor": "white",
            "gridwidth": 2,
            "linecolor": "white",
            "showbackground": true,
            "ticks": "",
            "zerolinecolor": "white"
           },
           "zaxis": {
            "backgroundcolor": "#E5ECF6",
            "gridcolor": "white",
            "gridwidth": 2,
            "linecolor": "white",
            "showbackground": true,
            "ticks": "",
            "zerolinecolor": "white"
           }
          },
          "shapedefaults": {
           "line": {
            "color": "#2a3f5f"
           }
          },
          "ternary": {
           "aaxis": {
            "gridcolor": "white",
            "linecolor": "white",
            "ticks": ""
           },
           "baxis": {
            "gridcolor": "white",
            "linecolor": "white",
            "ticks": ""
           },
           "bgcolor": "#E5ECF6",
           "caxis": {
            "gridcolor": "white",
            "linecolor": "white",
            "ticks": ""
           }
          },
          "title": {
           "x": 0.05
          },
          "xaxis": {
           "automargin": true,
           "gridcolor": "white",
           "linecolor": "white",
           "ticks": "",
           "title": {
            "standoff": 15
           },
           "zerolinecolor": "white",
           "zerolinewidth": 2
          },
          "yaxis": {
           "automargin": true,
           "gridcolor": "white",
           "linecolor": "white",
           "ticks": "",
           "title": {
            "standoff": 15
           },
           "zerolinecolor": "white",
           "zerolinewidth": 2
          }
         }
        },
        "title": {
         "font": {
          "color": "#4D5663"
         }
        },
        "xaxis": {
         "gridcolor": "#E1E5ED",
         "showgrid": true,
         "tickfont": {
          "color": "#4D5663"
         },
         "title": {
          "font": {
           "color": "#4D5663"
          },
          "text": ""
         },
         "zerolinecolor": "#E1E5ED"
        },
        "yaxis": {
         "gridcolor": "#E1E5ED",
         "showgrid": true,
         "tickfont": {
          "color": "#4D5663"
         },
         "title": {
          "font": {
           "color": "#4D5663"
          },
          "text": ""
         },
         "zerolinecolor": "#E1E5ED"
        }
       }
      },
      "text/html": [
       "<div>                            <div id=\"699051cb-925e-4a12-8f17-8acadffb3e1e\" class=\"plotly-graph-div\" style=\"height:525px; width:100%;\"></div>            <script type=\"text/javascript\">                require([\"plotly\"], function(Plotly) {                    window.PLOTLYENV=window.PLOTLYENV || {};\n",
       "                    window.PLOTLYENV.BASE_URL='https://plot.ly';                                    if (document.getElementById(\"699051cb-925e-4a12-8f17-8acadffb3e1e\")) {                    Plotly.newPlot(                        \"699051cb-925e-4a12-8f17-8acadffb3e1e\",                        [{\"histfunc\":\"count\",\"histnorm\":\"\",\"marker\":{\"color\":\"rgba(255, 153, 51, 1.0)\",\"line\":{\"color\":\"#4D5663\",\"width\":1.3}},\"name\":\"A\",\"opacity\":0.8,\"orientation\":\"v\",\"x\":[0.04472728291752777,2.0136277903577247,-1.9236196401519277,2.4911980816178194,-0.9967665313943013,-0.7951919577304543,1.9487063804665836,-2.23538159261186,-0.6362833050737016,-1.4754844608198587,0.011761902594940405,0.762460136367464,0.09148958294183143,-1.3104088928298192,-0.6551324495685213,0.4417399033234646,-1.0041748206612782,-2.1279381643445148,-0.33415704844100136,1.8822856176465037,-0.17436524138072843,0.24438741548022544,1.1271349499163994,0.12908581848119247,-0.5194216529893724,0.06933790600730215,-0.1604553359252777,0.4243007995667343,-1.1251252448290945,-1.3033981078054881,-0.3439484052277837,0.1853004778913747,-1.2386458788249415,1.5066759635136762,-1.5934330724746797,1.1466275226458311,-0.2998576466989392,-0.7564601805963426,-0.8075479890241387,0.31415964222467585,-1.869410364721812,-0.7150081458694103,-1.1738929577822552,-0.03933686859765417,-0.2301305754650945,1.077391686619631,1.1402657961968796,0.291777123552492,0.9600778507641592,-0.4263265753068178,-0.5520173344511742,0.6578707128339493,0.6018249253613506,-1.226518784319018,-0.10312712302438928,-1.0674536882407857,0.6482714967308668,0.9162266657051357,-0.5372298377330095,0.8845513154382081,0.8015316358892549,-0.7257562347588903,-0.8516497444356815,0.35510691240333075,-0.1602518439569381,0.18772635521434244,0.6394680450095762,-1.7841028128897547,-1.362461857419024,-0.9692165633965856,1.8623982171870008,1.5405117173715361,-1.329477243882208,-1.0570415503714614,0.8275648531322185,0.7174334888677107,-1.8407960180545033,-0.6327346660982492,-1.834893941666618,-1.0222932958815636,-0.0890975036474237,0.9262538909560268,1.587038316260175,1.4636701642913348,0.24217647988032678,-0.05063897611733595,0.723546614583445,-0.49758264536569463,0.9075802085838476,-1.1304087274552108,-1.8339112439763066,-1.1000414778730772,-1.4124638619838747,0.6431580778738788,-1.4370295309081362,0.6910484972701905,3.256655782163857,-0.11462551340178101,2.17596548950574,1.4596346378062068],\"type\":\"histogram\"}],                        {\"barmode\":\"overlay\",\"legend\":{\"bgcolor\":\"#F5F6F9\",\"font\":{\"color\":\"#4D5663\"}},\"paper_bgcolor\":\"#F5F6F9\",\"plot_bgcolor\":\"#F5F6F9\",\"template\":{\"data\":{\"barpolar\":[{\"marker\":{\"line\":{\"color\":\"#E5ECF6\",\"width\":0.5},\"pattern\":{\"fillmode\":\"overlay\",\"size\":10,\"solidity\":0.2}},\"type\":\"barpolar\"}],\"bar\":[{\"error_x\":{\"color\":\"#2a3f5f\"},\"error_y\":{\"color\":\"#2a3f5f\"},\"marker\":{\"line\":{\"color\":\"#E5ECF6\",\"width\":0.5},\"pattern\":{\"fillmode\":\"overlay\",\"size\":10,\"solidity\":0.2}},\"type\":\"bar\"}],\"carpet\":[{\"aaxis\":{\"endlinecolor\":\"#2a3f5f\",\"gridcolor\":\"white\",\"linecolor\":\"white\",\"minorgridcolor\":\"white\",\"startlinecolor\":\"#2a3f5f\"},\"baxis\":{\"endlinecolor\":\"#2a3f5f\",\"gridcolor\":\"white\",\"linecolor\":\"white\",\"minorgridcolor\":\"white\",\"startlinecolor\":\"#2a3f5f\"},\"type\":\"carpet\"}],\"choropleth\":[{\"colorbar\":{\"outlinewidth\":0,\"ticks\":\"\"},\"type\":\"choropleth\"}],\"contourcarpet\":[{\"colorbar\":{\"outlinewidth\":0,\"ticks\":\"\"},\"type\":\"contourcarpet\"}],\"contour\":[{\"colorbar\":{\"outlinewidth\":0,\"ticks\":\"\"},\"colorscale\":[[0.0,\"#0d0887\"],[0.1111111111111111,\"#46039f\"],[0.2222222222222222,\"#7201a8\"],[0.3333333333333333,\"#9c179e\"],[0.4444444444444444,\"#bd3786\"],[0.5555555555555556,\"#d8576b\"],[0.6666666666666666,\"#ed7953\"],[0.7777777777777778,\"#fb9f3a\"],[0.8888888888888888,\"#fdca26\"],[1.0,\"#f0f921\"]],\"type\":\"contour\"}],\"heatmapgl\":[{\"colorbar\":{\"outlinewidth\":0,\"ticks\":\"\"},\"colorscale\":[[0.0,\"#0d0887\"],[0.1111111111111111,\"#46039f\"],[0.2222222222222222,\"#7201a8\"],[0.3333333333333333,\"#9c179e\"],[0.4444444444444444,\"#bd3786\"],[0.5555555555555556,\"#d8576b\"],[0.6666666666666666,\"#ed7953\"],[0.7777777777777778,\"#fb9f3a\"],[0.8888888888888888,\"#fdca26\"],[1.0,\"#f0f921\"]],\"type\":\"heatmapgl\"}],\"heatmap\":[{\"colorbar\":{\"outlinewidth\":0,\"ticks\":\"\"},\"colorscale\":[[0.0,\"#0d0887\"],[0.1111111111111111,\"#46039f\"],[0.2222222222222222,\"#7201a8\"],[0.3333333333333333,\"#9c179e\"],[0.4444444444444444,\"#bd3786\"],[0.5555555555555556,\"#d8576b\"],[0.6666666666666666,\"#ed7953\"],[0.7777777777777778,\"#fb9f3a\"],[0.8888888888888888,\"#fdca26\"],[1.0,\"#f0f921\"]],\"type\":\"heatmap\"}],\"histogram2dcontour\":[{\"colorbar\":{\"outlinewidth\":0,\"ticks\":\"\"},\"colorscale\":[[0.0,\"#0d0887\"],[0.1111111111111111,\"#46039f\"],[0.2222222222222222,\"#7201a8\"],[0.3333333333333333,\"#9c179e\"],[0.4444444444444444,\"#bd3786\"],[0.5555555555555556,\"#d8576b\"],[0.6666666666666666,\"#ed7953\"],[0.7777777777777778,\"#fb9f3a\"],[0.8888888888888888,\"#fdca26\"],[1.0,\"#f0f921\"]],\"type\":\"histogram2dcontour\"}],\"histogram2d\":[{\"colorbar\":{\"outlinewidth\":0,\"ticks\":\"\"},\"colorscale\":[[0.0,\"#0d0887\"],[0.1111111111111111,\"#46039f\"],[0.2222222222222222,\"#7201a8\"],[0.3333333333333333,\"#9c179e\"],[0.4444444444444444,\"#bd3786\"],[0.5555555555555556,\"#d8576b\"],[0.6666666666666666,\"#ed7953\"],[0.7777777777777778,\"#fb9f3a\"],[0.8888888888888888,\"#fdca26\"],[1.0,\"#f0f921\"]],\"type\":\"histogram2d\"}],\"histogram\":[{\"marker\":{\"pattern\":{\"fillmode\":\"overlay\",\"size\":10,\"solidity\":0.2}},\"type\":\"histogram\"}],\"mesh3d\":[{\"colorbar\":{\"outlinewidth\":0,\"ticks\":\"\"},\"type\":\"mesh3d\"}],\"parcoords\":[{\"line\":{\"colorbar\":{\"outlinewidth\":0,\"ticks\":\"\"}},\"type\":\"parcoords\"}],\"pie\":[{\"automargin\":true,\"type\":\"pie\"}],\"scatter3d\":[{\"line\":{\"colorbar\":{\"outlinewidth\":0,\"ticks\":\"\"}},\"marker\":{\"colorbar\":{\"outlinewidth\":0,\"ticks\":\"\"}},\"type\":\"scatter3d\"}],\"scattercarpet\":[{\"marker\":{\"colorbar\":{\"outlinewidth\":0,\"ticks\":\"\"}},\"type\":\"scattercarpet\"}],\"scattergeo\":[{\"marker\":{\"colorbar\":{\"outlinewidth\":0,\"ticks\":\"\"}},\"type\":\"scattergeo\"}],\"scattergl\":[{\"marker\":{\"colorbar\":{\"outlinewidth\":0,\"ticks\":\"\"}},\"type\":\"scattergl\"}],\"scattermapbox\":[{\"marker\":{\"colorbar\":{\"outlinewidth\":0,\"ticks\":\"\"}},\"type\":\"scattermapbox\"}],\"scatterpolargl\":[{\"marker\":{\"colorbar\":{\"outlinewidth\":0,\"ticks\":\"\"}},\"type\":\"scatterpolargl\"}],\"scatterpolar\":[{\"marker\":{\"colorbar\":{\"outlinewidth\":0,\"ticks\":\"\"}},\"type\":\"scatterpolar\"}],\"scatter\":[{\"fillpattern\":{\"fillmode\":\"overlay\",\"size\":10,\"solidity\":0.2},\"type\":\"scatter\"}],\"scatterternary\":[{\"marker\":{\"colorbar\":{\"outlinewidth\":0,\"ticks\":\"\"}},\"type\":\"scatterternary\"}],\"surface\":[{\"colorbar\":{\"outlinewidth\":0,\"ticks\":\"\"},\"colorscale\":[[0.0,\"#0d0887\"],[0.1111111111111111,\"#46039f\"],[0.2222222222222222,\"#7201a8\"],[0.3333333333333333,\"#9c179e\"],[0.4444444444444444,\"#bd3786\"],[0.5555555555555556,\"#d8576b\"],[0.6666666666666666,\"#ed7953\"],[0.7777777777777778,\"#fb9f3a\"],[0.8888888888888888,\"#fdca26\"],[1.0,\"#f0f921\"]],\"type\":\"surface\"}],\"table\":[{\"cells\":{\"fill\":{\"color\":\"#EBF0F8\"},\"line\":{\"color\":\"white\"}},\"header\":{\"fill\":{\"color\":\"#C8D4E3\"},\"line\":{\"color\":\"white\"}},\"type\":\"table\"}]},\"layout\":{\"annotationdefaults\":{\"arrowcolor\":\"#2a3f5f\",\"arrowhead\":0,\"arrowwidth\":1},\"autotypenumbers\":\"strict\",\"coloraxis\":{\"colorbar\":{\"outlinewidth\":0,\"ticks\":\"\"}},\"colorscale\":{\"diverging\":[[0,\"#8e0152\"],[0.1,\"#c51b7d\"],[0.2,\"#de77ae\"],[0.3,\"#f1b6da\"],[0.4,\"#fde0ef\"],[0.5,\"#f7f7f7\"],[0.6,\"#e6f5d0\"],[0.7,\"#b8e186\"],[0.8,\"#7fbc41\"],[0.9,\"#4d9221\"],[1,\"#276419\"]],\"sequential\":[[0.0,\"#0d0887\"],[0.1111111111111111,\"#46039f\"],[0.2222222222222222,\"#7201a8\"],[0.3333333333333333,\"#9c179e\"],[0.4444444444444444,\"#bd3786\"],[0.5555555555555556,\"#d8576b\"],[0.6666666666666666,\"#ed7953\"],[0.7777777777777778,\"#fb9f3a\"],[0.8888888888888888,\"#fdca26\"],[1.0,\"#f0f921\"]],\"sequentialminus\":[[0.0,\"#0d0887\"],[0.1111111111111111,\"#46039f\"],[0.2222222222222222,\"#7201a8\"],[0.3333333333333333,\"#9c179e\"],[0.4444444444444444,\"#bd3786\"],[0.5555555555555556,\"#d8576b\"],[0.6666666666666666,\"#ed7953\"],[0.7777777777777778,\"#fb9f3a\"],[0.8888888888888888,\"#fdca26\"],[1.0,\"#f0f921\"]]},\"colorway\":[\"#636efa\",\"#EF553B\",\"#00cc96\",\"#ab63fa\",\"#FFA15A\",\"#19d3f3\",\"#FF6692\",\"#B6E880\",\"#FF97FF\",\"#FECB52\"],\"font\":{\"color\":\"#2a3f5f\"},\"geo\":{\"bgcolor\":\"white\",\"lakecolor\":\"white\",\"landcolor\":\"#E5ECF6\",\"showlakes\":true,\"showland\":true,\"subunitcolor\":\"white\"},\"hoverlabel\":{\"align\":\"left\"},\"hovermode\":\"closest\",\"mapbox\":{\"style\":\"light\"},\"paper_bgcolor\":\"white\",\"plot_bgcolor\":\"#E5ECF6\",\"polar\":{\"angularaxis\":{\"gridcolor\":\"white\",\"linecolor\":\"white\",\"ticks\":\"\"},\"bgcolor\":\"#E5ECF6\",\"radialaxis\":{\"gridcolor\":\"white\",\"linecolor\":\"white\",\"ticks\":\"\"}},\"scene\":{\"xaxis\":{\"backgroundcolor\":\"#E5ECF6\",\"gridcolor\":\"white\",\"gridwidth\":2,\"linecolor\":\"white\",\"showbackground\":true,\"ticks\":\"\",\"zerolinecolor\":\"white\"},\"yaxis\":{\"backgroundcolor\":\"#E5ECF6\",\"gridcolor\":\"white\",\"gridwidth\":2,\"linecolor\":\"white\",\"showbackground\":true,\"ticks\":\"\",\"zerolinecolor\":\"white\"},\"zaxis\":{\"backgroundcolor\":\"#E5ECF6\",\"gridcolor\":\"white\",\"gridwidth\":2,\"linecolor\":\"white\",\"showbackground\":true,\"ticks\":\"\",\"zerolinecolor\":\"white\"}},\"shapedefaults\":{\"line\":{\"color\":\"#2a3f5f\"}},\"ternary\":{\"aaxis\":{\"gridcolor\":\"white\",\"linecolor\":\"white\",\"ticks\":\"\"},\"baxis\":{\"gridcolor\":\"white\",\"linecolor\":\"white\",\"ticks\":\"\"},\"bgcolor\":\"#E5ECF6\",\"caxis\":{\"gridcolor\":\"white\",\"linecolor\":\"white\",\"ticks\":\"\"}},\"title\":{\"x\":0.05},\"xaxis\":{\"automargin\":true,\"gridcolor\":\"white\",\"linecolor\":\"white\",\"ticks\":\"\",\"title\":{\"standoff\":15},\"zerolinecolor\":\"white\",\"zerolinewidth\":2},\"yaxis\":{\"automargin\":true,\"gridcolor\":\"white\",\"linecolor\":\"white\",\"ticks\":\"\",\"title\":{\"standoff\":15},\"zerolinecolor\":\"white\",\"zerolinewidth\":2}}},\"title\":{\"font\":{\"color\":\"#4D5663\"}},\"xaxis\":{\"gridcolor\":\"#E1E5ED\",\"showgrid\":true,\"tickfont\":{\"color\":\"#4D5663\"},\"title\":{\"font\":{\"color\":\"#4D5663\"},\"text\":\"\"},\"zerolinecolor\":\"#E1E5ED\"},\"yaxis\":{\"gridcolor\":\"#E1E5ED\",\"showgrid\":true,\"tickfont\":{\"color\":\"#4D5663\"},\"title\":{\"font\":{\"color\":\"#4D5663\"},\"text\":\"\"},\"zerolinecolor\":\"#E1E5ED\"}},                        {\"showLink\": true, \"linkText\": \"Export to plot.ly\", \"plotlyServerURL\": \"https://plot.ly\", \"responsive\": true}                    ).then(function(){\n",
       "                            \n",
       "var gd = document.getElementById('699051cb-925e-4a12-8f17-8acadffb3e1e');\n",
       "var x = new MutationObserver(function (mutations, observer) {{\n",
       "        var display = window.getComputedStyle(gd).display;\n",
       "        if (!display || display === 'none') {{\n",
       "            console.log([gd, 'removed!']);\n",
       "            Plotly.purge(gd);\n",
       "            observer.disconnect();\n",
       "        }}\n",
       "}});\n",
       "\n",
       "// Listen for the removal of the full notebook cells\n",
       "var notebookContainer = gd.closest('#notebook-container');\n",
       "if (notebookContainer) {{\n",
       "    x.observe(notebookContainer, {childList: true});\n",
       "}}\n",
       "\n",
       "// Listen for the clearing of the current output cell\n",
       "var outputEl = gd.closest('.output');\n",
       "if (outputEl) {{\n",
       "    x.observe(outputEl, {childList: true});\n",
       "}}\n",
       "\n",
       "                        })                };                });            </script>        </div>"
      ]
     },
     "metadata": {},
     "output_type": "display_data"
    }
   ],
   "source": [
    "df['A'].iplot(kind='hist')"
   ]
  },
  {
   "cell_type": "code",
   "execution_count": 63,
   "id": "85a55fd0",
   "metadata": {},
   "outputs": [
    {
     "data": {
      "application/vnd.plotly.v1+json": {
       "config": {
        "linkText": "Export to plot.ly",
        "plotlyServerURL": "https://plot.ly",
        "showLink": true
       },
       "data": [
        {
         "histfunc": "count",
         "histnorm": "",
         "marker": {
          "color": "rgba(255, 153, 51, 1.0)",
          "line": {
           "color": "#4D5663",
           "width": 1.3
          }
         },
         "name": "A",
         "opacity": 0.8,
         "orientation": "v",
         "type": "histogram",
         "x": [
          0.04472728291752777,
          2.0136277903577247,
          -1.9236196401519277,
          2.4911980816178194,
          -0.9967665313943013,
          -0.7951919577304543,
          1.9487063804665836,
          -2.23538159261186,
          -0.6362833050737016,
          -1.4754844608198587,
          0.011761902594940405,
          0.762460136367464,
          0.09148958294183143,
          -1.3104088928298192,
          -0.6551324495685213,
          0.4417399033234646,
          -1.0041748206612782,
          -2.1279381643445148,
          -0.33415704844100136,
          1.8822856176465037,
          -0.17436524138072843,
          0.24438741548022544,
          1.1271349499163994,
          0.12908581848119247,
          -0.5194216529893724,
          0.06933790600730215,
          -0.1604553359252777,
          0.4243007995667343,
          -1.1251252448290945,
          -1.3033981078054881,
          -0.3439484052277837,
          0.1853004778913747,
          -1.2386458788249415,
          1.5066759635136762,
          -1.5934330724746797,
          1.1466275226458311,
          -0.2998576466989392,
          -0.7564601805963426,
          -0.8075479890241387,
          0.31415964222467585,
          -1.869410364721812,
          -0.7150081458694103,
          -1.1738929577822552,
          -0.03933686859765417,
          -0.2301305754650945,
          1.077391686619631,
          1.1402657961968796,
          0.291777123552492,
          0.9600778507641592,
          -0.4263265753068178,
          -0.5520173344511742,
          0.6578707128339493,
          0.6018249253613506,
          -1.226518784319018,
          -0.10312712302438928,
          -1.0674536882407857,
          0.6482714967308668,
          0.9162266657051357,
          -0.5372298377330095,
          0.8845513154382081,
          0.8015316358892549,
          -0.7257562347588903,
          -0.8516497444356815,
          0.35510691240333075,
          -0.1602518439569381,
          0.18772635521434244,
          0.6394680450095762,
          -1.7841028128897547,
          -1.362461857419024,
          -0.9692165633965856,
          1.8623982171870008,
          1.5405117173715361,
          -1.329477243882208,
          -1.0570415503714614,
          0.8275648531322185,
          0.7174334888677107,
          -1.8407960180545033,
          -0.6327346660982492,
          -1.834893941666618,
          -1.0222932958815636,
          -0.0890975036474237,
          0.9262538909560268,
          1.587038316260175,
          1.4636701642913348,
          0.24217647988032678,
          -0.05063897611733595,
          0.723546614583445,
          -0.49758264536569463,
          0.9075802085838476,
          -1.1304087274552108,
          -1.8339112439763066,
          -1.1000414778730772,
          -1.4124638619838747,
          0.6431580778738788,
          -1.4370295309081362,
          0.6910484972701905,
          3.256655782163857,
          -0.11462551340178101,
          2.17596548950574,
          1.4596346378062068
         ]
        },
        {
         "histfunc": "count",
         "histnorm": "",
         "marker": {
          "color": "rgba(55, 128, 191, 1.0)",
          "line": {
           "color": "#4D5663",
           "width": 1.3
          }
         },
         "name": "B",
         "opacity": 0.8,
         "orientation": "v",
         "type": "histogram",
         "x": [
          -0.3581752144020478,
          -0.7438157432225722,
          -0.026352079985911398,
          -1.7030343296523238,
          -0.6804127539561089,
          -0.5742523112529103,
          -0.644070917542256,
          1.1420509381512929,
          2.102995846840507,
          0.8034327021876664,
          -0.2544097102330024,
          -0.5594592584848158,
          0.3215300951874448,
          -2.248060706625145,
          0.8510702715173849,
          0.02002817387705508,
          0.4123192990534875,
          -0.9082770377039694,
          -2.6085505772612874,
          -2.147063117352743,
          0.9535202754542268,
          -0.0073023603245049125,
          0.9538228579321008,
          1.0999244249525777,
          -1.139370634678592,
          0.2756124159103919,
          -0.6372337077181718,
          -0.36135473899091913,
          0.21164955578397002,
          -0.03099702152822309,
          -0.7316516112829898,
          0.6355425652614268,
          1.78039302465161,
          -2.0788866513236086,
          1.1491779044101635,
          -1.6641430920273568,
          -2.2000095056079068,
          -0.982006606741808,
          -1.057634337467608,
          0.5812949646110466,
          -1.4253407808509473,
          0.08339873767432296,
          1.3543453070586946,
          -0.17539272838694092,
          1.2030635329624155,
          -0.8457858322795581,
          -0.3938160616631665,
          0.4041842542547364,
          -0.22165217214236851,
          -1.1733244203373254,
          1.3750172675716983,
          0.9958795214552347,
          -0.4135630924958996,
          1.407402473250491,
          1.3153437163187505,
          -0.2337487208533535,
          -0.8143858125945819,
          1.2535849479121297,
          -1.4013077884969811,
          -0.027873794659457322,
          -1.6519261458676777,
          1.0152535488984349,
          1.6400765995653448,
          -0.13121204521055865,
          0.11617127183790316,
          1.0286285927755345,
          -0.7385281986681842,
          0.5734121298857456,
          0.561397002379349,
          -0.2949416372362533,
          0.3748451018513906,
          0.7535297542120657,
          -0.8808149739384412,
          -0.6003689995820148,
          -0.09021186742874453,
          -1.0472595114473746,
          0.3925190406471404,
          0.7868290741235954,
          -0.6101642208256651,
          2.6848305120360294,
          0.5820378711418692,
          0.01709018333611756,
          0.08485702664004978,
          1.1302744949762342,
          0.2619928493319134,
          -0.7773726420782053,
          -0.013062268486066998,
          -0.6484815907002609,
          0.15677550862065318,
          0.12088007476316984,
          -0.06528420696843706,
          0.9644951425621063,
          0.47524555244276545,
          -1.2159192117365958,
          1.102966649667511,
          0.35982432168304623,
          0.10840028329846188,
          -0.4012335082600968,
          -0.9925124577209844,
          -1.3590407654438954
         ]
        },
        {
         "histfunc": "count",
         "histnorm": "",
         "marker": {
          "color": "rgba(50, 171, 96, 1.0)",
          "line": {
           "color": "#4D5663",
           "width": 1.3
          }
         },
         "name": "C",
         "opacity": 0.8,
         "orientation": "v",
         "type": "histogram",
         "x": [
          -0.23448312426228735,
          1.1734040566324928,
          -0.10861389781654822,
          0.24027945635684297,
          -0.08794282132505515,
          0.6726391635010236,
          -0.37552541245105003,
          -0.7494796703260302,
          -1.2199073146846033,
          -1.6931654750619702,
          -1.811079365096557,
          0.020893689638700835,
          1.4440760297398576,
          2.0996733504169476,
          0.2802152532388648,
          -0.631054921461625,
          -0.05058220403933079,
          -0.40616064456808204,
          1.3328310775467256,
          -0.7952521462271923,
          1.193583854304163,
          1.2519963841369282,
          -0.9134586174239632,
          -0.8725557059242434,
          1.322184682356837,
          -0.4731022176800327,
          -0.38267636582941933,
          0.38535412701646493,
          -1.1965059878390942,
          0.19145332611762864,
          0.3566681742276206,
          -1.264716104990276,
          0.4243392705895578,
          1.352646395863531,
          -0.02021727760841491,
          -0.7085479943731398,
          -0.3513627400163215,
          0.4455970114568262,
          -0.07323231464269236,
          -0.8415162878062188,
          0.9561748628251976,
          0.8266471204039709,
          1.1931278881829999,
          -0.580958705159653,
          1.8335977808655468,
          0.42426644760194343,
          -0.7852114902855585,
          -1.0309186190380473,
          -0.5628076000169935,
          -0.6668007851181149,
          -0.47099726499280853,
          1.143799160220701,
          -1.5163084407753304,
          0.20717110610832454,
          -1.415994522288912,
          -2.220675022997926,
          0.6582443065023541,
          0.3031872325281803,
          -1.3815256248194634,
          1.297509735968905,
          -2.238715299297245,
          0.09141734497233205,
          1.286436512846688,
          -0.812447701905832,
          2.4930764402388297,
          1.0160813131560342,
          -0.024805488654926825,
          1.2411060588006042,
          -1.8717534423774491,
          -1.2780107408365775,
          0.9604418458571313,
          1.1860385241314744,
          0.2666552647328103,
          -0.5065385105511384,
          0.4729758225569982,
          -1.7988288083912745,
          0.12658581224890725,
          -0.7429979785392491,
          -0.7766302972611013,
          -0.7908572996583494,
          1.7092147797657669,
          0.3766299248489669,
          0.03407246113986779,
          0.8362003788511563,
          -1.1711334684013959,
          -0.48597338126349765,
          -2.203472995499135,
          -0.4551947366698177,
          -0.05546809983232083,
          2.2647661124262575,
          -0.18290251332336832,
          0.38311887678930373,
          0.7702053250113908,
          -1.4726452884463173,
          -0.7940794673819839,
          -1.4445383145154873,
          -1.1988936019151248,
          -0.8107991708981381,
          0.560932510068928,
          -0.5958865538256582
         ]
        },
        {
         "histfunc": "count",
         "histnorm": "",
         "marker": {
          "color": "rgba(128, 0, 128, 1.0)",
          "line": {
           "color": "#4D5663",
           "width": 1.3
          }
         },
         "name": "D",
         "opacity": 0.8,
         "orientation": "v",
         "type": "histogram",
         "x": [
          -1.5749712758367225,
          1.5279679553494656,
          0.6169188398532187,
          0.4381615389821466,
          -1.165902982861862,
          -0.16092737219826567,
          -1.7263006353744885,
          -1.582251046999577,
          0.4469798912409568,
          0.5552252020943597,
          0.33978681096646723,
          -0.26653086846945734,
          -0.18795204881984295,
          -1.196796020247596,
          0.6905438370339786,
          0.19256030671672106,
          0.40745787612123663,
          0.08118535241407211,
          -0.20116012248770837,
          -0.3616228989893024,
          1.1122414385610147,
          -0.7452604582734915,
          0.9916611852938433,
          0.06328464757229811,
          -0.40919677148805067,
          0.593866979645523,
          0.12217081381354897,
          0.8159518001549088,
          -0.7350511957390575,
          -0.22518573653845014,
          -0.08879787450644676,
          -1.795074849986664,
          0.028770762258658402,
          -1.3095779428990628,
          -0.9515379399218806,
          0.5237507118918706,
          -2.5386755453027545,
          0.2982603809537099,
          0.24602326627966442,
          -0.8077688646428979,
          -0.37370504717129976,
          1.9002888111887495,
          0.3824023297822875,
          -0.26624429103922975,
          1.987202651890973,
          2.9333929258512903,
          -0.7381720151404398,
          -1.012779611616609,
          -2.1905488232002144,
          0.17544393723866172,
          -1.0067215886285323,
          0.4753858487792162,
          1.3511332230279804,
          -1.0220811480425784,
          1.0088962206810403,
          0.5955736028083011,
          1.9310225152585656,
          -0.39994860622598055,
          0.19053885631258413,
          -0.500686573805311,
          -1.5338016430096757,
          -1.5629835931009401,
          -0.6138045856884331,
          0.28693952744716644,
          -0.18847477711654487,
          -2.20166846320593,
          2.863689176111007,
          0.42562756483126546,
          0.35399746830538176,
          0.0408933085068111,
          -0.03590807580194766,
          -0.3861647831070781,
          -0.36532724949382955,
          -1.1013570280673528,
          -0.26876016694697025,
          -0.8504890421894056,
          -0.7416937128184802,
          0.9368118692364116,
          0.033451347964105364,
          -1.533761356424725,
          -1.4756323877032957,
          -0.2628794054357832,
          0.7931820665822862,
          -0.9427961603013939,
          1.456836838293411,
          -1.372939292162019,
          -0.23505185131900733,
          1.8747775392364285,
          0.24810542774041208,
          0.741451362268954,
          -1.5167542526614488,
          0.6590929481300954,
          1.1962855891252022,
          -0.42889342349351406,
          -0.8762483646811131,
          0.7897359378126796,
          -0.8687920367555837,
          0.36314292858819397,
          1.3888598090759352,
          -0.09299929489217049
         ]
        }
       ],
       "layout": {
        "barmode": "overlay",
        "legend": {
         "bgcolor": "#F5F6F9",
         "font": {
          "color": "#4D5663"
         }
        },
        "paper_bgcolor": "#F5F6F9",
        "plot_bgcolor": "#F5F6F9",
        "template": {
         "data": {
          "bar": [
           {
            "error_x": {
             "color": "#2a3f5f"
            },
            "error_y": {
             "color": "#2a3f5f"
            },
            "marker": {
             "line": {
              "color": "#E5ECF6",
              "width": 0.5
             },
             "pattern": {
              "fillmode": "overlay",
              "size": 10,
              "solidity": 0.2
             }
            },
            "type": "bar"
           }
          ],
          "barpolar": [
           {
            "marker": {
             "line": {
              "color": "#E5ECF6",
              "width": 0.5
             },
             "pattern": {
              "fillmode": "overlay",
              "size": 10,
              "solidity": 0.2
             }
            },
            "type": "barpolar"
           }
          ],
          "carpet": [
           {
            "aaxis": {
             "endlinecolor": "#2a3f5f",
             "gridcolor": "white",
             "linecolor": "white",
             "minorgridcolor": "white",
             "startlinecolor": "#2a3f5f"
            },
            "baxis": {
             "endlinecolor": "#2a3f5f",
             "gridcolor": "white",
             "linecolor": "white",
             "minorgridcolor": "white",
             "startlinecolor": "#2a3f5f"
            },
            "type": "carpet"
           }
          ],
          "choropleth": [
           {
            "colorbar": {
             "outlinewidth": 0,
             "ticks": ""
            },
            "type": "choropleth"
           }
          ],
          "contour": [
           {
            "colorbar": {
             "outlinewidth": 0,
             "ticks": ""
            },
            "colorscale": [
             [
              0,
              "#0d0887"
             ],
             [
              0.1111111111111111,
              "#46039f"
             ],
             [
              0.2222222222222222,
              "#7201a8"
             ],
             [
              0.3333333333333333,
              "#9c179e"
             ],
             [
              0.4444444444444444,
              "#bd3786"
             ],
             [
              0.5555555555555556,
              "#d8576b"
             ],
             [
              0.6666666666666666,
              "#ed7953"
             ],
             [
              0.7777777777777778,
              "#fb9f3a"
             ],
             [
              0.8888888888888888,
              "#fdca26"
             ],
             [
              1,
              "#f0f921"
             ]
            ],
            "type": "contour"
           }
          ],
          "contourcarpet": [
           {
            "colorbar": {
             "outlinewidth": 0,
             "ticks": ""
            },
            "type": "contourcarpet"
           }
          ],
          "heatmap": [
           {
            "colorbar": {
             "outlinewidth": 0,
             "ticks": ""
            },
            "colorscale": [
             [
              0,
              "#0d0887"
             ],
             [
              0.1111111111111111,
              "#46039f"
             ],
             [
              0.2222222222222222,
              "#7201a8"
             ],
             [
              0.3333333333333333,
              "#9c179e"
             ],
             [
              0.4444444444444444,
              "#bd3786"
             ],
             [
              0.5555555555555556,
              "#d8576b"
             ],
             [
              0.6666666666666666,
              "#ed7953"
             ],
             [
              0.7777777777777778,
              "#fb9f3a"
             ],
             [
              0.8888888888888888,
              "#fdca26"
             ],
             [
              1,
              "#f0f921"
             ]
            ],
            "type": "heatmap"
           }
          ],
          "heatmapgl": [
           {
            "colorbar": {
             "outlinewidth": 0,
             "ticks": ""
            },
            "colorscale": [
             [
              0,
              "#0d0887"
             ],
             [
              0.1111111111111111,
              "#46039f"
             ],
             [
              0.2222222222222222,
              "#7201a8"
             ],
             [
              0.3333333333333333,
              "#9c179e"
             ],
             [
              0.4444444444444444,
              "#bd3786"
             ],
             [
              0.5555555555555556,
              "#d8576b"
             ],
             [
              0.6666666666666666,
              "#ed7953"
             ],
             [
              0.7777777777777778,
              "#fb9f3a"
             ],
             [
              0.8888888888888888,
              "#fdca26"
             ],
             [
              1,
              "#f0f921"
             ]
            ],
            "type": "heatmapgl"
           }
          ],
          "histogram": [
           {
            "marker": {
             "pattern": {
              "fillmode": "overlay",
              "size": 10,
              "solidity": 0.2
             }
            },
            "type": "histogram"
           }
          ],
          "histogram2d": [
           {
            "colorbar": {
             "outlinewidth": 0,
             "ticks": ""
            },
            "colorscale": [
             [
              0,
              "#0d0887"
             ],
             [
              0.1111111111111111,
              "#46039f"
             ],
             [
              0.2222222222222222,
              "#7201a8"
             ],
             [
              0.3333333333333333,
              "#9c179e"
             ],
             [
              0.4444444444444444,
              "#bd3786"
             ],
             [
              0.5555555555555556,
              "#d8576b"
             ],
             [
              0.6666666666666666,
              "#ed7953"
             ],
             [
              0.7777777777777778,
              "#fb9f3a"
             ],
             [
              0.8888888888888888,
              "#fdca26"
             ],
             [
              1,
              "#f0f921"
             ]
            ],
            "type": "histogram2d"
           }
          ],
          "histogram2dcontour": [
           {
            "colorbar": {
             "outlinewidth": 0,
             "ticks": ""
            },
            "colorscale": [
             [
              0,
              "#0d0887"
             ],
             [
              0.1111111111111111,
              "#46039f"
             ],
             [
              0.2222222222222222,
              "#7201a8"
             ],
             [
              0.3333333333333333,
              "#9c179e"
             ],
             [
              0.4444444444444444,
              "#bd3786"
             ],
             [
              0.5555555555555556,
              "#d8576b"
             ],
             [
              0.6666666666666666,
              "#ed7953"
             ],
             [
              0.7777777777777778,
              "#fb9f3a"
             ],
             [
              0.8888888888888888,
              "#fdca26"
             ],
             [
              1,
              "#f0f921"
             ]
            ],
            "type": "histogram2dcontour"
           }
          ],
          "mesh3d": [
           {
            "colorbar": {
             "outlinewidth": 0,
             "ticks": ""
            },
            "type": "mesh3d"
           }
          ],
          "parcoords": [
           {
            "line": {
             "colorbar": {
              "outlinewidth": 0,
              "ticks": ""
             }
            },
            "type": "parcoords"
           }
          ],
          "pie": [
           {
            "automargin": true,
            "type": "pie"
           }
          ],
          "scatter": [
           {
            "fillpattern": {
             "fillmode": "overlay",
             "size": 10,
             "solidity": 0.2
            },
            "type": "scatter"
           }
          ],
          "scatter3d": [
           {
            "line": {
             "colorbar": {
              "outlinewidth": 0,
              "ticks": ""
             }
            },
            "marker": {
             "colorbar": {
              "outlinewidth": 0,
              "ticks": ""
             }
            },
            "type": "scatter3d"
           }
          ],
          "scattercarpet": [
           {
            "marker": {
             "colorbar": {
              "outlinewidth": 0,
              "ticks": ""
             }
            },
            "type": "scattercarpet"
           }
          ],
          "scattergeo": [
           {
            "marker": {
             "colorbar": {
              "outlinewidth": 0,
              "ticks": ""
             }
            },
            "type": "scattergeo"
           }
          ],
          "scattergl": [
           {
            "marker": {
             "colorbar": {
              "outlinewidth": 0,
              "ticks": ""
             }
            },
            "type": "scattergl"
           }
          ],
          "scattermapbox": [
           {
            "marker": {
             "colorbar": {
              "outlinewidth": 0,
              "ticks": ""
             }
            },
            "type": "scattermapbox"
           }
          ],
          "scatterpolar": [
           {
            "marker": {
             "colorbar": {
              "outlinewidth": 0,
              "ticks": ""
             }
            },
            "type": "scatterpolar"
           }
          ],
          "scatterpolargl": [
           {
            "marker": {
             "colorbar": {
              "outlinewidth": 0,
              "ticks": ""
             }
            },
            "type": "scatterpolargl"
           }
          ],
          "scatterternary": [
           {
            "marker": {
             "colorbar": {
              "outlinewidth": 0,
              "ticks": ""
             }
            },
            "type": "scatterternary"
           }
          ],
          "surface": [
           {
            "colorbar": {
             "outlinewidth": 0,
             "ticks": ""
            },
            "colorscale": [
             [
              0,
              "#0d0887"
             ],
             [
              0.1111111111111111,
              "#46039f"
             ],
             [
              0.2222222222222222,
              "#7201a8"
             ],
             [
              0.3333333333333333,
              "#9c179e"
             ],
             [
              0.4444444444444444,
              "#bd3786"
             ],
             [
              0.5555555555555556,
              "#d8576b"
             ],
             [
              0.6666666666666666,
              "#ed7953"
             ],
             [
              0.7777777777777778,
              "#fb9f3a"
             ],
             [
              0.8888888888888888,
              "#fdca26"
             ],
             [
              1,
              "#f0f921"
             ]
            ],
            "type": "surface"
           }
          ],
          "table": [
           {
            "cells": {
             "fill": {
              "color": "#EBF0F8"
             },
             "line": {
              "color": "white"
             }
            },
            "header": {
             "fill": {
              "color": "#C8D4E3"
             },
             "line": {
              "color": "white"
             }
            },
            "type": "table"
           }
          ]
         },
         "layout": {
          "annotationdefaults": {
           "arrowcolor": "#2a3f5f",
           "arrowhead": 0,
           "arrowwidth": 1
          },
          "autotypenumbers": "strict",
          "coloraxis": {
           "colorbar": {
            "outlinewidth": 0,
            "ticks": ""
           }
          },
          "colorscale": {
           "diverging": [
            [
             0,
             "#8e0152"
            ],
            [
             0.1,
             "#c51b7d"
            ],
            [
             0.2,
             "#de77ae"
            ],
            [
             0.3,
             "#f1b6da"
            ],
            [
             0.4,
             "#fde0ef"
            ],
            [
             0.5,
             "#f7f7f7"
            ],
            [
             0.6,
             "#e6f5d0"
            ],
            [
             0.7,
             "#b8e186"
            ],
            [
             0.8,
             "#7fbc41"
            ],
            [
             0.9,
             "#4d9221"
            ],
            [
             1,
             "#276419"
            ]
           ],
           "sequential": [
            [
             0,
             "#0d0887"
            ],
            [
             0.1111111111111111,
             "#46039f"
            ],
            [
             0.2222222222222222,
             "#7201a8"
            ],
            [
             0.3333333333333333,
             "#9c179e"
            ],
            [
             0.4444444444444444,
             "#bd3786"
            ],
            [
             0.5555555555555556,
             "#d8576b"
            ],
            [
             0.6666666666666666,
             "#ed7953"
            ],
            [
             0.7777777777777778,
             "#fb9f3a"
            ],
            [
             0.8888888888888888,
             "#fdca26"
            ],
            [
             1,
             "#f0f921"
            ]
           ],
           "sequentialminus": [
            [
             0,
             "#0d0887"
            ],
            [
             0.1111111111111111,
             "#46039f"
            ],
            [
             0.2222222222222222,
             "#7201a8"
            ],
            [
             0.3333333333333333,
             "#9c179e"
            ],
            [
             0.4444444444444444,
             "#bd3786"
            ],
            [
             0.5555555555555556,
             "#d8576b"
            ],
            [
             0.6666666666666666,
             "#ed7953"
            ],
            [
             0.7777777777777778,
             "#fb9f3a"
            ],
            [
             0.8888888888888888,
             "#fdca26"
            ],
            [
             1,
             "#f0f921"
            ]
           ]
          },
          "colorway": [
           "#636efa",
           "#EF553B",
           "#00cc96",
           "#ab63fa",
           "#FFA15A",
           "#19d3f3",
           "#FF6692",
           "#B6E880",
           "#FF97FF",
           "#FECB52"
          ],
          "font": {
           "color": "#2a3f5f"
          },
          "geo": {
           "bgcolor": "white",
           "lakecolor": "white",
           "landcolor": "#E5ECF6",
           "showlakes": true,
           "showland": true,
           "subunitcolor": "white"
          },
          "hoverlabel": {
           "align": "left"
          },
          "hovermode": "closest",
          "mapbox": {
           "style": "light"
          },
          "paper_bgcolor": "white",
          "plot_bgcolor": "#E5ECF6",
          "polar": {
           "angularaxis": {
            "gridcolor": "white",
            "linecolor": "white",
            "ticks": ""
           },
           "bgcolor": "#E5ECF6",
           "radialaxis": {
            "gridcolor": "white",
            "linecolor": "white",
            "ticks": ""
           }
          },
          "scene": {
           "xaxis": {
            "backgroundcolor": "#E5ECF6",
            "gridcolor": "white",
            "gridwidth": 2,
            "linecolor": "white",
            "showbackground": true,
            "ticks": "",
            "zerolinecolor": "white"
           },
           "yaxis": {
            "backgroundcolor": "#E5ECF6",
            "gridcolor": "white",
            "gridwidth": 2,
            "linecolor": "white",
            "showbackground": true,
            "ticks": "",
            "zerolinecolor": "white"
           },
           "zaxis": {
            "backgroundcolor": "#E5ECF6",
            "gridcolor": "white",
            "gridwidth": 2,
            "linecolor": "white",
            "showbackground": true,
            "ticks": "",
            "zerolinecolor": "white"
           }
          },
          "shapedefaults": {
           "line": {
            "color": "#2a3f5f"
           }
          },
          "ternary": {
           "aaxis": {
            "gridcolor": "white",
            "linecolor": "white",
            "ticks": ""
           },
           "baxis": {
            "gridcolor": "white",
            "linecolor": "white",
            "ticks": ""
           },
           "bgcolor": "#E5ECF6",
           "caxis": {
            "gridcolor": "white",
            "linecolor": "white",
            "ticks": ""
           }
          },
          "title": {
           "x": 0.05
          },
          "xaxis": {
           "automargin": true,
           "gridcolor": "white",
           "linecolor": "white",
           "ticks": "",
           "title": {
            "standoff": 15
           },
           "zerolinecolor": "white",
           "zerolinewidth": 2
          },
          "yaxis": {
           "automargin": true,
           "gridcolor": "white",
           "linecolor": "white",
           "ticks": "",
           "title": {
            "standoff": 15
           },
           "zerolinecolor": "white",
           "zerolinewidth": 2
          }
         }
        },
        "title": {
         "font": {
          "color": "#4D5663"
         }
        },
        "xaxis": {
         "gridcolor": "#E1E5ED",
         "showgrid": true,
         "tickfont": {
          "color": "#4D5663"
         },
         "title": {
          "font": {
           "color": "#4D5663"
          },
          "text": ""
         },
         "zerolinecolor": "#E1E5ED"
        },
        "yaxis": {
         "gridcolor": "#E1E5ED",
         "showgrid": true,
         "tickfont": {
          "color": "#4D5663"
         },
         "title": {
          "font": {
           "color": "#4D5663"
          },
          "text": ""
         },
         "zerolinecolor": "#E1E5ED"
        }
       }
      },
      "text/html": [
       "<div>                            <div id=\"e1272268-35c7-4dc4-a1a9-c364e744d4e1\" class=\"plotly-graph-div\" style=\"height:525px; width:100%;\"></div>            <script type=\"text/javascript\">                require([\"plotly\"], function(Plotly) {                    window.PLOTLYENV=window.PLOTLYENV || {};\n",
       "                    window.PLOTLYENV.BASE_URL='https://plot.ly';                                    if (document.getElementById(\"e1272268-35c7-4dc4-a1a9-c364e744d4e1\")) {                    Plotly.newPlot(                        \"e1272268-35c7-4dc4-a1a9-c364e744d4e1\",                        [{\"histfunc\":\"count\",\"histnorm\":\"\",\"marker\":{\"color\":\"rgba(255, 153, 51, 1.0)\",\"line\":{\"color\":\"#4D5663\",\"width\":1.3}},\"name\":\"A\",\"opacity\":0.8,\"orientation\":\"v\",\"x\":[0.04472728291752777,2.0136277903577247,-1.9236196401519277,2.4911980816178194,-0.9967665313943013,-0.7951919577304543,1.9487063804665836,-2.23538159261186,-0.6362833050737016,-1.4754844608198587,0.011761902594940405,0.762460136367464,0.09148958294183143,-1.3104088928298192,-0.6551324495685213,0.4417399033234646,-1.0041748206612782,-2.1279381643445148,-0.33415704844100136,1.8822856176465037,-0.17436524138072843,0.24438741548022544,1.1271349499163994,0.12908581848119247,-0.5194216529893724,0.06933790600730215,-0.1604553359252777,0.4243007995667343,-1.1251252448290945,-1.3033981078054881,-0.3439484052277837,0.1853004778913747,-1.2386458788249415,1.5066759635136762,-1.5934330724746797,1.1466275226458311,-0.2998576466989392,-0.7564601805963426,-0.8075479890241387,0.31415964222467585,-1.869410364721812,-0.7150081458694103,-1.1738929577822552,-0.03933686859765417,-0.2301305754650945,1.077391686619631,1.1402657961968796,0.291777123552492,0.9600778507641592,-0.4263265753068178,-0.5520173344511742,0.6578707128339493,0.6018249253613506,-1.226518784319018,-0.10312712302438928,-1.0674536882407857,0.6482714967308668,0.9162266657051357,-0.5372298377330095,0.8845513154382081,0.8015316358892549,-0.7257562347588903,-0.8516497444356815,0.35510691240333075,-0.1602518439569381,0.18772635521434244,0.6394680450095762,-1.7841028128897547,-1.362461857419024,-0.9692165633965856,1.8623982171870008,1.5405117173715361,-1.329477243882208,-1.0570415503714614,0.8275648531322185,0.7174334888677107,-1.8407960180545033,-0.6327346660982492,-1.834893941666618,-1.0222932958815636,-0.0890975036474237,0.9262538909560268,1.587038316260175,1.4636701642913348,0.24217647988032678,-0.05063897611733595,0.723546614583445,-0.49758264536569463,0.9075802085838476,-1.1304087274552108,-1.8339112439763066,-1.1000414778730772,-1.4124638619838747,0.6431580778738788,-1.4370295309081362,0.6910484972701905,3.256655782163857,-0.11462551340178101,2.17596548950574,1.4596346378062068],\"type\":\"histogram\"},{\"histfunc\":\"count\",\"histnorm\":\"\",\"marker\":{\"color\":\"rgba(55, 128, 191, 1.0)\",\"line\":{\"color\":\"#4D5663\",\"width\":1.3}},\"name\":\"B\",\"opacity\":0.8,\"orientation\":\"v\",\"x\":[-0.3581752144020478,-0.7438157432225722,-0.026352079985911398,-1.7030343296523238,-0.6804127539561089,-0.5742523112529103,-0.644070917542256,1.1420509381512929,2.102995846840507,0.8034327021876664,-0.2544097102330024,-0.5594592584848158,0.3215300951874448,-2.248060706625145,0.8510702715173849,0.02002817387705508,0.4123192990534875,-0.9082770377039694,-2.6085505772612874,-2.147063117352743,0.9535202754542268,-0.0073023603245049125,0.9538228579321008,1.0999244249525777,-1.139370634678592,0.2756124159103919,-0.6372337077181718,-0.36135473899091913,0.21164955578397002,-0.03099702152822309,-0.7316516112829898,0.6355425652614268,1.78039302465161,-2.0788866513236086,1.1491779044101635,-1.6641430920273568,-2.2000095056079068,-0.982006606741808,-1.057634337467608,0.5812949646110466,-1.4253407808509473,0.08339873767432296,1.3543453070586946,-0.17539272838694092,1.2030635329624155,-0.8457858322795581,-0.3938160616631665,0.4041842542547364,-0.22165217214236851,-1.1733244203373254,1.3750172675716983,0.9958795214552347,-0.4135630924958996,1.407402473250491,1.3153437163187505,-0.2337487208533535,-0.8143858125945819,1.2535849479121297,-1.4013077884969811,-0.027873794659457322,-1.6519261458676777,1.0152535488984349,1.6400765995653448,-0.13121204521055865,0.11617127183790316,1.0286285927755345,-0.7385281986681842,0.5734121298857456,0.561397002379349,-0.2949416372362533,0.3748451018513906,0.7535297542120657,-0.8808149739384412,-0.6003689995820148,-0.09021186742874453,-1.0472595114473746,0.3925190406471404,0.7868290741235954,-0.6101642208256651,2.6848305120360294,0.5820378711418692,0.01709018333611756,0.08485702664004978,1.1302744949762342,0.2619928493319134,-0.7773726420782053,-0.013062268486066998,-0.6484815907002609,0.15677550862065318,0.12088007476316984,-0.06528420696843706,0.9644951425621063,0.47524555244276545,-1.2159192117365958,1.102966649667511,0.35982432168304623,0.10840028329846188,-0.4012335082600968,-0.9925124577209844,-1.3590407654438954],\"type\":\"histogram\"},{\"histfunc\":\"count\",\"histnorm\":\"\",\"marker\":{\"color\":\"rgba(50, 171, 96, 1.0)\",\"line\":{\"color\":\"#4D5663\",\"width\":1.3}},\"name\":\"C\",\"opacity\":0.8,\"orientation\":\"v\",\"x\":[-0.23448312426228735,1.1734040566324928,-0.10861389781654822,0.24027945635684297,-0.08794282132505515,0.6726391635010236,-0.37552541245105003,-0.7494796703260302,-1.2199073146846033,-1.6931654750619702,-1.811079365096557,0.020893689638700835,1.4440760297398576,2.0996733504169476,0.2802152532388648,-0.631054921461625,-0.05058220403933079,-0.40616064456808204,1.3328310775467256,-0.7952521462271923,1.193583854304163,1.2519963841369282,-0.9134586174239632,-0.8725557059242434,1.322184682356837,-0.4731022176800327,-0.38267636582941933,0.38535412701646493,-1.1965059878390942,0.19145332611762864,0.3566681742276206,-1.264716104990276,0.4243392705895578,1.352646395863531,-0.02021727760841491,-0.7085479943731398,-0.3513627400163215,0.4455970114568262,-0.07323231464269236,-0.8415162878062188,0.9561748628251976,0.8266471204039709,1.1931278881829999,-0.580958705159653,1.8335977808655468,0.42426644760194343,-0.7852114902855585,-1.0309186190380473,-0.5628076000169935,-0.6668007851181149,-0.47099726499280853,1.143799160220701,-1.5163084407753304,0.20717110610832454,-1.415994522288912,-2.220675022997926,0.6582443065023541,0.3031872325281803,-1.3815256248194634,1.297509735968905,-2.238715299297245,0.09141734497233205,1.286436512846688,-0.812447701905832,2.4930764402388297,1.0160813131560342,-0.024805488654926825,1.2411060588006042,-1.8717534423774491,-1.2780107408365775,0.9604418458571313,1.1860385241314744,0.2666552647328103,-0.5065385105511384,0.4729758225569982,-1.7988288083912745,0.12658581224890725,-0.7429979785392491,-0.7766302972611013,-0.7908572996583494,1.7092147797657669,0.3766299248489669,0.03407246113986779,0.8362003788511563,-1.1711334684013959,-0.48597338126349765,-2.203472995499135,-0.4551947366698177,-0.05546809983232083,2.2647661124262575,-0.18290251332336832,0.38311887678930373,0.7702053250113908,-1.4726452884463173,-0.7940794673819839,-1.4445383145154873,-1.1988936019151248,-0.8107991708981381,0.560932510068928,-0.5958865538256582],\"type\":\"histogram\"},{\"histfunc\":\"count\",\"histnorm\":\"\",\"marker\":{\"color\":\"rgba(128, 0, 128, 1.0)\",\"line\":{\"color\":\"#4D5663\",\"width\":1.3}},\"name\":\"D\",\"opacity\":0.8,\"orientation\":\"v\",\"x\":[-1.5749712758367225,1.5279679553494656,0.6169188398532187,0.4381615389821466,-1.165902982861862,-0.16092737219826567,-1.7263006353744885,-1.582251046999577,0.4469798912409568,0.5552252020943597,0.33978681096646723,-0.26653086846945734,-0.18795204881984295,-1.196796020247596,0.6905438370339786,0.19256030671672106,0.40745787612123663,0.08118535241407211,-0.20116012248770837,-0.3616228989893024,1.1122414385610147,-0.7452604582734915,0.9916611852938433,0.06328464757229811,-0.40919677148805067,0.593866979645523,0.12217081381354897,0.8159518001549088,-0.7350511957390575,-0.22518573653845014,-0.08879787450644676,-1.795074849986664,0.028770762258658402,-1.3095779428990628,-0.9515379399218806,0.5237507118918706,-2.5386755453027545,0.2982603809537099,0.24602326627966442,-0.8077688646428979,-0.37370504717129976,1.9002888111887495,0.3824023297822875,-0.26624429103922975,1.987202651890973,2.9333929258512903,-0.7381720151404398,-1.012779611616609,-2.1905488232002144,0.17544393723866172,-1.0067215886285323,0.4753858487792162,1.3511332230279804,-1.0220811480425784,1.0088962206810403,0.5955736028083011,1.9310225152585656,-0.39994860622598055,0.19053885631258413,-0.500686573805311,-1.5338016430096757,-1.5629835931009401,-0.6138045856884331,0.28693952744716644,-0.18847477711654487,-2.20166846320593,2.863689176111007,0.42562756483126546,0.35399746830538176,0.0408933085068111,-0.03590807580194766,-0.3861647831070781,-0.36532724949382955,-1.1013570280673528,-0.26876016694697025,-0.8504890421894056,-0.7416937128184802,0.9368118692364116,0.033451347964105364,-1.533761356424725,-1.4756323877032957,-0.2628794054357832,0.7931820665822862,-0.9427961603013939,1.456836838293411,-1.372939292162019,-0.23505185131900733,1.8747775392364285,0.24810542774041208,0.741451362268954,-1.5167542526614488,0.6590929481300954,1.1962855891252022,-0.42889342349351406,-0.8762483646811131,0.7897359378126796,-0.8687920367555837,0.36314292858819397,1.3888598090759352,-0.09299929489217049],\"type\":\"histogram\"}],                        {\"barmode\":\"overlay\",\"legend\":{\"bgcolor\":\"#F5F6F9\",\"font\":{\"color\":\"#4D5663\"}},\"paper_bgcolor\":\"#F5F6F9\",\"plot_bgcolor\":\"#F5F6F9\",\"template\":{\"data\":{\"barpolar\":[{\"marker\":{\"line\":{\"color\":\"#E5ECF6\",\"width\":0.5},\"pattern\":{\"fillmode\":\"overlay\",\"size\":10,\"solidity\":0.2}},\"type\":\"barpolar\"}],\"bar\":[{\"error_x\":{\"color\":\"#2a3f5f\"},\"error_y\":{\"color\":\"#2a3f5f\"},\"marker\":{\"line\":{\"color\":\"#E5ECF6\",\"width\":0.5},\"pattern\":{\"fillmode\":\"overlay\",\"size\":10,\"solidity\":0.2}},\"type\":\"bar\"}],\"carpet\":[{\"aaxis\":{\"endlinecolor\":\"#2a3f5f\",\"gridcolor\":\"white\",\"linecolor\":\"white\",\"minorgridcolor\":\"white\",\"startlinecolor\":\"#2a3f5f\"},\"baxis\":{\"endlinecolor\":\"#2a3f5f\",\"gridcolor\":\"white\",\"linecolor\":\"white\",\"minorgridcolor\":\"white\",\"startlinecolor\":\"#2a3f5f\"},\"type\":\"carpet\"}],\"choropleth\":[{\"colorbar\":{\"outlinewidth\":0,\"ticks\":\"\"},\"type\":\"choropleth\"}],\"contourcarpet\":[{\"colorbar\":{\"outlinewidth\":0,\"ticks\":\"\"},\"type\":\"contourcarpet\"}],\"contour\":[{\"colorbar\":{\"outlinewidth\":0,\"ticks\":\"\"},\"colorscale\":[[0.0,\"#0d0887\"],[0.1111111111111111,\"#46039f\"],[0.2222222222222222,\"#7201a8\"],[0.3333333333333333,\"#9c179e\"],[0.4444444444444444,\"#bd3786\"],[0.5555555555555556,\"#d8576b\"],[0.6666666666666666,\"#ed7953\"],[0.7777777777777778,\"#fb9f3a\"],[0.8888888888888888,\"#fdca26\"],[1.0,\"#f0f921\"]],\"type\":\"contour\"}],\"heatmapgl\":[{\"colorbar\":{\"outlinewidth\":0,\"ticks\":\"\"},\"colorscale\":[[0.0,\"#0d0887\"],[0.1111111111111111,\"#46039f\"],[0.2222222222222222,\"#7201a8\"],[0.3333333333333333,\"#9c179e\"],[0.4444444444444444,\"#bd3786\"],[0.5555555555555556,\"#d8576b\"],[0.6666666666666666,\"#ed7953\"],[0.7777777777777778,\"#fb9f3a\"],[0.8888888888888888,\"#fdca26\"],[1.0,\"#f0f921\"]],\"type\":\"heatmapgl\"}],\"heatmap\":[{\"colorbar\":{\"outlinewidth\":0,\"ticks\":\"\"},\"colorscale\":[[0.0,\"#0d0887\"],[0.1111111111111111,\"#46039f\"],[0.2222222222222222,\"#7201a8\"],[0.3333333333333333,\"#9c179e\"],[0.4444444444444444,\"#bd3786\"],[0.5555555555555556,\"#d8576b\"],[0.6666666666666666,\"#ed7953\"],[0.7777777777777778,\"#fb9f3a\"],[0.8888888888888888,\"#fdca26\"],[1.0,\"#f0f921\"]],\"type\":\"heatmap\"}],\"histogram2dcontour\":[{\"colorbar\":{\"outlinewidth\":0,\"ticks\":\"\"},\"colorscale\":[[0.0,\"#0d0887\"],[0.1111111111111111,\"#46039f\"],[0.2222222222222222,\"#7201a8\"],[0.3333333333333333,\"#9c179e\"],[0.4444444444444444,\"#bd3786\"],[0.5555555555555556,\"#d8576b\"],[0.6666666666666666,\"#ed7953\"],[0.7777777777777778,\"#fb9f3a\"],[0.8888888888888888,\"#fdca26\"],[1.0,\"#f0f921\"]],\"type\":\"histogram2dcontour\"}],\"histogram2d\":[{\"colorbar\":{\"outlinewidth\":0,\"ticks\":\"\"},\"colorscale\":[[0.0,\"#0d0887\"],[0.1111111111111111,\"#46039f\"],[0.2222222222222222,\"#7201a8\"],[0.3333333333333333,\"#9c179e\"],[0.4444444444444444,\"#bd3786\"],[0.5555555555555556,\"#d8576b\"],[0.6666666666666666,\"#ed7953\"],[0.7777777777777778,\"#fb9f3a\"],[0.8888888888888888,\"#fdca26\"],[1.0,\"#f0f921\"]],\"type\":\"histogram2d\"}],\"histogram\":[{\"marker\":{\"pattern\":{\"fillmode\":\"overlay\",\"size\":10,\"solidity\":0.2}},\"type\":\"histogram\"}],\"mesh3d\":[{\"colorbar\":{\"outlinewidth\":0,\"ticks\":\"\"},\"type\":\"mesh3d\"}],\"parcoords\":[{\"line\":{\"colorbar\":{\"outlinewidth\":0,\"ticks\":\"\"}},\"type\":\"parcoords\"}],\"pie\":[{\"automargin\":true,\"type\":\"pie\"}],\"scatter3d\":[{\"line\":{\"colorbar\":{\"outlinewidth\":0,\"ticks\":\"\"}},\"marker\":{\"colorbar\":{\"outlinewidth\":0,\"ticks\":\"\"}},\"type\":\"scatter3d\"}],\"scattercarpet\":[{\"marker\":{\"colorbar\":{\"outlinewidth\":0,\"ticks\":\"\"}},\"type\":\"scattercarpet\"}],\"scattergeo\":[{\"marker\":{\"colorbar\":{\"outlinewidth\":0,\"ticks\":\"\"}},\"type\":\"scattergeo\"}],\"scattergl\":[{\"marker\":{\"colorbar\":{\"outlinewidth\":0,\"ticks\":\"\"}},\"type\":\"scattergl\"}],\"scattermapbox\":[{\"marker\":{\"colorbar\":{\"outlinewidth\":0,\"ticks\":\"\"}},\"type\":\"scattermapbox\"}],\"scatterpolargl\":[{\"marker\":{\"colorbar\":{\"outlinewidth\":0,\"ticks\":\"\"}},\"type\":\"scatterpolargl\"}],\"scatterpolar\":[{\"marker\":{\"colorbar\":{\"outlinewidth\":0,\"ticks\":\"\"}},\"type\":\"scatterpolar\"}],\"scatter\":[{\"fillpattern\":{\"fillmode\":\"overlay\",\"size\":10,\"solidity\":0.2},\"type\":\"scatter\"}],\"scatterternary\":[{\"marker\":{\"colorbar\":{\"outlinewidth\":0,\"ticks\":\"\"}},\"type\":\"scatterternary\"}],\"surface\":[{\"colorbar\":{\"outlinewidth\":0,\"ticks\":\"\"},\"colorscale\":[[0.0,\"#0d0887\"],[0.1111111111111111,\"#46039f\"],[0.2222222222222222,\"#7201a8\"],[0.3333333333333333,\"#9c179e\"],[0.4444444444444444,\"#bd3786\"],[0.5555555555555556,\"#d8576b\"],[0.6666666666666666,\"#ed7953\"],[0.7777777777777778,\"#fb9f3a\"],[0.8888888888888888,\"#fdca26\"],[1.0,\"#f0f921\"]],\"type\":\"surface\"}],\"table\":[{\"cells\":{\"fill\":{\"color\":\"#EBF0F8\"},\"line\":{\"color\":\"white\"}},\"header\":{\"fill\":{\"color\":\"#C8D4E3\"},\"line\":{\"color\":\"white\"}},\"type\":\"table\"}]},\"layout\":{\"annotationdefaults\":{\"arrowcolor\":\"#2a3f5f\",\"arrowhead\":0,\"arrowwidth\":1},\"autotypenumbers\":\"strict\",\"coloraxis\":{\"colorbar\":{\"outlinewidth\":0,\"ticks\":\"\"}},\"colorscale\":{\"diverging\":[[0,\"#8e0152\"],[0.1,\"#c51b7d\"],[0.2,\"#de77ae\"],[0.3,\"#f1b6da\"],[0.4,\"#fde0ef\"],[0.5,\"#f7f7f7\"],[0.6,\"#e6f5d0\"],[0.7,\"#b8e186\"],[0.8,\"#7fbc41\"],[0.9,\"#4d9221\"],[1,\"#276419\"]],\"sequential\":[[0.0,\"#0d0887\"],[0.1111111111111111,\"#46039f\"],[0.2222222222222222,\"#7201a8\"],[0.3333333333333333,\"#9c179e\"],[0.4444444444444444,\"#bd3786\"],[0.5555555555555556,\"#d8576b\"],[0.6666666666666666,\"#ed7953\"],[0.7777777777777778,\"#fb9f3a\"],[0.8888888888888888,\"#fdca26\"],[1.0,\"#f0f921\"]],\"sequentialminus\":[[0.0,\"#0d0887\"],[0.1111111111111111,\"#46039f\"],[0.2222222222222222,\"#7201a8\"],[0.3333333333333333,\"#9c179e\"],[0.4444444444444444,\"#bd3786\"],[0.5555555555555556,\"#d8576b\"],[0.6666666666666666,\"#ed7953\"],[0.7777777777777778,\"#fb9f3a\"],[0.8888888888888888,\"#fdca26\"],[1.0,\"#f0f921\"]]},\"colorway\":[\"#636efa\",\"#EF553B\",\"#00cc96\",\"#ab63fa\",\"#FFA15A\",\"#19d3f3\",\"#FF6692\",\"#B6E880\",\"#FF97FF\",\"#FECB52\"],\"font\":{\"color\":\"#2a3f5f\"},\"geo\":{\"bgcolor\":\"white\",\"lakecolor\":\"white\",\"landcolor\":\"#E5ECF6\",\"showlakes\":true,\"showland\":true,\"subunitcolor\":\"white\"},\"hoverlabel\":{\"align\":\"left\"},\"hovermode\":\"closest\",\"mapbox\":{\"style\":\"light\"},\"paper_bgcolor\":\"white\",\"plot_bgcolor\":\"#E5ECF6\",\"polar\":{\"angularaxis\":{\"gridcolor\":\"white\",\"linecolor\":\"white\",\"ticks\":\"\"},\"bgcolor\":\"#E5ECF6\",\"radialaxis\":{\"gridcolor\":\"white\",\"linecolor\":\"white\",\"ticks\":\"\"}},\"scene\":{\"xaxis\":{\"backgroundcolor\":\"#E5ECF6\",\"gridcolor\":\"white\",\"gridwidth\":2,\"linecolor\":\"white\",\"showbackground\":true,\"ticks\":\"\",\"zerolinecolor\":\"white\"},\"yaxis\":{\"backgroundcolor\":\"#E5ECF6\",\"gridcolor\":\"white\",\"gridwidth\":2,\"linecolor\":\"white\",\"showbackground\":true,\"ticks\":\"\",\"zerolinecolor\":\"white\"},\"zaxis\":{\"backgroundcolor\":\"#E5ECF6\",\"gridcolor\":\"white\",\"gridwidth\":2,\"linecolor\":\"white\",\"showbackground\":true,\"ticks\":\"\",\"zerolinecolor\":\"white\"}},\"shapedefaults\":{\"line\":{\"color\":\"#2a3f5f\"}},\"ternary\":{\"aaxis\":{\"gridcolor\":\"white\",\"linecolor\":\"white\",\"ticks\":\"\"},\"baxis\":{\"gridcolor\":\"white\",\"linecolor\":\"white\",\"ticks\":\"\"},\"bgcolor\":\"#E5ECF6\",\"caxis\":{\"gridcolor\":\"white\",\"linecolor\":\"white\",\"ticks\":\"\"}},\"title\":{\"x\":0.05},\"xaxis\":{\"automargin\":true,\"gridcolor\":\"white\",\"linecolor\":\"white\",\"ticks\":\"\",\"title\":{\"standoff\":15},\"zerolinecolor\":\"white\",\"zerolinewidth\":2},\"yaxis\":{\"automargin\":true,\"gridcolor\":\"white\",\"linecolor\":\"white\",\"ticks\":\"\",\"title\":{\"standoff\":15},\"zerolinecolor\":\"white\",\"zerolinewidth\":2}}},\"title\":{\"font\":{\"color\":\"#4D5663\"}},\"xaxis\":{\"gridcolor\":\"#E1E5ED\",\"showgrid\":true,\"tickfont\":{\"color\":\"#4D5663\"},\"title\":{\"font\":{\"color\":\"#4D5663\"},\"text\":\"\"},\"zerolinecolor\":\"#E1E5ED\"},\"yaxis\":{\"gridcolor\":\"#E1E5ED\",\"showgrid\":true,\"tickfont\":{\"color\":\"#4D5663\"},\"title\":{\"font\":{\"color\":\"#4D5663\"},\"text\":\"\"},\"zerolinecolor\":\"#E1E5ED\"}},                        {\"showLink\": true, \"linkText\": \"Export to plot.ly\", \"plotlyServerURL\": \"https://plot.ly\", \"responsive\": true}                    ).then(function(){\n",
       "                            \n",
       "var gd = document.getElementById('e1272268-35c7-4dc4-a1a9-c364e744d4e1');\n",
       "var x = new MutationObserver(function (mutations, observer) {{\n",
       "        var display = window.getComputedStyle(gd).display;\n",
       "        if (!display || display === 'none') {{\n",
       "            console.log([gd, 'removed!']);\n",
       "            Plotly.purge(gd);\n",
       "            observer.disconnect();\n",
       "        }}\n",
       "}});\n",
       "\n",
       "// Listen for the removal of the full notebook cells\n",
       "var notebookContainer = gd.closest('#notebook-container');\n",
       "if (notebookContainer) {{\n",
       "    x.observe(notebookContainer, {childList: true});\n",
       "}}\n",
       "\n",
       "// Listen for the clearing of the current output cell\n",
       "var outputEl = gd.closest('.output');\n",
       "if (outputEl) {{\n",
       "    x.observe(outputEl, {childList: true});\n",
       "}}\n",
       "\n",
       "                        })                };                });            </script>        </div>"
      ]
     },
     "metadata": {},
     "output_type": "display_data"
    }
   ],
   "source": [
    "df.iplot(kind='hist')"
   ]
  },
  {
   "cell_type": "markdown",
   "id": "b9fb6065",
   "metadata": {},
   "source": [
    "## IPlot - SpreadPlot "
   ]
  },
  {
   "cell_type": "code",
   "execution_count": 66,
   "id": "e2f8365d",
   "metadata": {},
   "outputs": [
    {
     "data": {
      "application/vnd.plotly.v1+json": {
       "config": {
        "linkText": "Export to plot.ly",
        "plotlyServerURL": "https://plot.ly",
        "showLink": true
       },
       "data": [
        {
         "line": {
          "color": "rgba(255, 153, 51, 1.0)",
          "dash": "solid",
          "shape": "linear",
          "width": 1.3
         },
         "mode": "lines",
         "name": "A",
         "text": "",
         "type": "scatter",
         "x": [
          0,
          1,
          2,
          3,
          4,
          5,
          6,
          7,
          8,
          9,
          10,
          11,
          12,
          13,
          14,
          15,
          16,
          17,
          18,
          19,
          20,
          21,
          22,
          23,
          24,
          25,
          26,
          27,
          28,
          29,
          30,
          31,
          32,
          33,
          34,
          35,
          36,
          37,
          38,
          39,
          40,
          41,
          42,
          43,
          44,
          45,
          46,
          47,
          48,
          49,
          50,
          51,
          52,
          53,
          54,
          55,
          56,
          57,
          58,
          59,
          60,
          61,
          62,
          63,
          64,
          65,
          66,
          67,
          68,
          69,
          70,
          71,
          72,
          73,
          74,
          75,
          76,
          77,
          78,
          79,
          80,
          81,
          82,
          83,
          84,
          85,
          86,
          87,
          88,
          89,
          90,
          91,
          92,
          93,
          94,
          95,
          96,
          97,
          98,
          99
         ],
         "y": [
          0.04472728291752777,
          2.0136277903577247,
          -1.9236196401519277,
          2.4911980816178194,
          -0.9967665313943013,
          -0.7951919577304543,
          1.9487063804665836,
          -2.23538159261186,
          -0.6362833050737016,
          -1.4754844608198587,
          0.011761902594940405,
          0.762460136367464,
          0.09148958294183143,
          -1.3104088928298192,
          -0.6551324495685213,
          0.4417399033234646,
          -1.0041748206612782,
          -2.1279381643445148,
          -0.33415704844100136,
          1.8822856176465037,
          -0.17436524138072843,
          0.24438741548022544,
          1.1271349499163994,
          0.12908581848119247,
          -0.5194216529893724,
          0.06933790600730215,
          -0.1604553359252777,
          0.4243007995667343,
          -1.1251252448290945,
          -1.3033981078054881,
          -0.3439484052277837,
          0.1853004778913747,
          -1.2386458788249415,
          1.5066759635136762,
          -1.5934330724746797,
          1.1466275226458311,
          -0.2998576466989392,
          -0.7564601805963426,
          -0.8075479890241387,
          0.31415964222467585,
          -1.869410364721812,
          -0.7150081458694103,
          -1.1738929577822552,
          -0.03933686859765417,
          -0.2301305754650945,
          1.077391686619631,
          1.1402657961968796,
          0.291777123552492,
          0.9600778507641592,
          -0.4263265753068178,
          -0.5520173344511742,
          0.6578707128339493,
          0.6018249253613506,
          -1.226518784319018,
          -0.10312712302438928,
          -1.0674536882407857,
          0.6482714967308668,
          0.9162266657051357,
          -0.5372298377330095,
          0.8845513154382081,
          0.8015316358892549,
          -0.7257562347588903,
          -0.8516497444356815,
          0.35510691240333075,
          -0.1602518439569381,
          0.18772635521434244,
          0.6394680450095762,
          -1.7841028128897547,
          -1.362461857419024,
          -0.9692165633965856,
          1.8623982171870008,
          1.5405117173715361,
          -1.329477243882208,
          -1.0570415503714614,
          0.8275648531322185,
          0.7174334888677107,
          -1.8407960180545033,
          -0.6327346660982492,
          -1.834893941666618,
          -1.0222932958815636,
          -0.0890975036474237,
          0.9262538909560268,
          1.587038316260175,
          1.4636701642913348,
          0.24217647988032678,
          -0.05063897611733595,
          0.723546614583445,
          -0.49758264536569463,
          0.9075802085838476,
          -1.1304087274552108,
          -1.8339112439763066,
          -1.1000414778730772,
          -1.4124638619838747,
          0.6431580778738788,
          -1.4370295309081362,
          0.6910484972701905,
          3.256655782163857,
          -0.11462551340178101,
          2.17596548950574,
          1.4596346378062068
         ]
        },
        {
         "line": {
          "color": "rgba(55, 128, 191, 1.0)",
          "dash": "solid",
          "shape": "linear",
          "width": 1.3
         },
         "mode": "lines",
         "name": "B",
         "text": "",
         "type": "scatter",
         "x": [
          0,
          1,
          2,
          3,
          4,
          5,
          6,
          7,
          8,
          9,
          10,
          11,
          12,
          13,
          14,
          15,
          16,
          17,
          18,
          19,
          20,
          21,
          22,
          23,
          24,
          25,
          26,
          27,
          28,
          29,
          30,
          31,
          32,
          33,
          34,
          35,
          36,
          37,
          38,
          39,
          40,
          41,
          42,
          43,
          44,
          45,
          46,
          47,
          48,
          49,
          50,
          51,
          52,
          53,
          54,
          55,
          56,
          57,
          58,
          59,
          60,
          61,
          62,
          63,
          64,
          65,
          66,
          67,
          68,
          69,
          70,
          71,
          72,
          73,
          74,
          75,
          76,
          77,
          78,
          79,
          80,
          81,
          82,
          83,
          84,
          85,
          86,
          87,
          88,
          89,
          90,
          91,
          92,
          93,
          94,
          95,
          96,
          97,
          98,
          99
         ],
         "y": [
          -0.3581752144020478,
          -0.7438157432225722,
          -0.026352079985911398,
          -1.7030343296523238,
          -0.6804127539561089,
          -0.5742523112529103,
          -0.644070917542256,
          1.1420509381512929,
          2.102995846840507,
          0.8034327021876664,
          -0.2544097102330024,
          -0.5594592584848158,
          0.3215300951874448,
          -2.248060706625145,
          0.8510702715173849,
          0.02002817387705508,
          0.4123192990534875,
          -0.9082770377039694,
          -2.6085505772612874,
          -2.147063117352743,
          0.9535202754542268,
          -0.0073023603245049125,
          0.9538228579321008,
          1.0999244249525777,
          -1.139370634678592,
          0.2756124159103919,
          -0.6372337077181718,
          -0.36135473899091913,
          0.21164955578397002,
          -0.03099702152822309,
          -0.7316516112829898,
          0.6355425652614268,
          1.78039302465161,
          -2.0788866513236086,
          1.1491779044101635,
          -1.6641430920273568,
          -2.2000095056079068,
          -0.982006606741808,
          -1.057634337467608,
          0.5812949646110466,
          -1.4253407808509473,
          0.08339873767432296,
          1.3543453070586946,
          -0.17539272838694092,
          1.2030635329624155,
          -0.8457858322795581,
          -0.3938160616631665,
          0.4041842542547364,
          -0.22165217214236851,
          -1.1733244203373254,
          1.3750172675716983,
          0.9958795214552347,
          -0.4135630924958996,
          1.407402473250491,
          1.3153437163187505,
          -0.2337487208533535,
          -0.8143858125945819,
          1.2535849479121297,
          -1.4013077884969811,
          -0.027873794659457322,
          -1.6519261458676777,
          1.0152535488984349,
          1.6400765995653448,
          -0.13121204521055865,
          0.11617127183790316,
          1.0286285927755345,
          -0.7385281986681842,
          0.5734121298857456,
          0.561397002379349,
          -0.2949416372362533,
          0.3748451018513906,
          0.7535297542120657,
          -0.8808149739384412,
          -0.6003689995820148,
          -0.09021186742874453,
          -1.0472595114473746,
          0.3925190406471404,
          0.7868290741235954,
          -0.6101642208256651,
          2.6848305120360294,
          0.5820378711418692,
          0.01709018333611756,
          0.08485702664004978,
          1.1302744949762342,
          0.2619928493319134,
          -0.7773726420782053,
          -0.013062268486066998,
          -0.6484815907002609,
          0.15677550862065318,
          0.12088007476316984,
          -0.06528420696843706,
          0.9644951425621063,
          0.47524555244276545,
          -1.2159192117365958,
          1.102966649667511,
          0.35982432168304623,
          0.10840028329846188,
          -0.4012335082600968,
          -0.9925124577209844,
          -1.3590407654438954
         ]
        },
        {
         "connectgaps": false,
         "fill": "tozeroy",
         "line": {
          "color": "green",
          "dash": "solid",
          "shape": "linear",
          "width": 0.5
         },
         "mode": "lines",
         "name": "Spread",
         "showlegend": false,
         "type": "scatter",
         "x": [
          0,
          1,
          2,
          3,
          4,
          5,
          6,
          7,
          8,
          9,
          10,
          11,
          12,
          13,
          14,
          15,
          16,
          17,
          18,
          19,
          20,
          21,
          22,
          23,
          24,
          25,
          26,
          27,
          28,
          29,
          30,
          31,
          32,
          33,
          34,
          35,
          36,
          37,
          38,
          39,
          40,
          41,
          42,
          43,
          44,
          45,
          46,
          47,
          48,
          49,
          50,
          51,
          52,
          53,
          54,
          55,
          56,
          57,
          58,
          59,
          60,
          61,
          62,
          63,
          64,
          65,
          66,
          67,
          68,
          69,
          70,
          71,
          72,
          73,
          74,
          75,
          76,
          77,
          78,
          79,
          80,
          81,
          82,
          83,
          84,
          85,
          86,
          87,
          88,
          89,
          90,
          91,
          92,
          93,
          94,
          95,
          96,
          97,
          98,
          99
         ],
         "xaxis": "x2",
         "y": [
          0.40290249731957556,
          2.7574435335802967,
          "",
          4.194232411270143,
          "",
          "",
          2.5927772980088397,
          "",
          "",
          "",
          0.2661716128279428,
          1.3219193948522798,
          "",
          0.9376518137953256,
          "",
          0.4217117294464095,
          "",
          "",
          2.274393528820286,
          4.029348734999246,
          "",
          0.25168977580473034,
          0.17331209198429864,
          "",
          0.6199489816892195,
          "",
          0.47677837179289406,
          0.7856555385576534,
          "",
          "",
          0.38770320605520614,
          "",
          "",
          3.5855626148372846,
          "",
          2.8107706146731877,
          1.9001518589089677,
          0.22554642614546538,
          0.25008634844346933,
          "",
          "",
          "",
          "",
          0.13605585978928675,
          "",
          1.9231775188991889,
          1.5340818578600461,
          "",
          1.1817300229065277,
          0.7469978450305077,
          "",
          "",
          1.01538801785725,
          "",
          "",
          "",
          1.4626573093254487,
          "",
          0.8640779507639716,
          0.9124251100976654,
          2.4534577817569327,
          "",
          "",
          0.48631895761388944,
          "",
          "",
          1.3779962436777604,
          "",
          "",
          "",
          1.4875531153356103,
          0.7869819631594704,
          "",
          "",
          0.917776720560963,
          1.7646930003150854,
          "",
          "",
          "",
          "",
          "",
          0.9091637076199093,
          1.5021812896201254,
          0.33339566931510056,
          "",
          0.7267336659608694,
          0.736608883069512,
          0.15089894533456627,
          0.7508046999631944,
          "",
          "",
          "",
          "",
          1.8590772896104746,
          "",
          0.33122417558714423,
          3.148255498865395,
          0.2866079948583158,
          3.1684779472267244,
          2.8186754032501025
         ],
         "yaxis": "y2"
        },
        {
         "connectgaps": false,
         "fill": "tozeroy",
         "line": {
          "color": "red",
          "dash": "solid",
          "shape": "linear",
          "width": 0.5
         },
         "mode": "lines",
         "name": "Spread",
         "showlegend": false,
         "type": "scatter",
         "x": [
          0,
          1,
          2,
          3,
          4,
          5,
          6,
          7,
          8,
          9,
          10,
          11,
          12,
          13,
          14,
          15,
          16,
          17,
          18,
          19,
          20,
          21,
          22,
          23,
          24,
          25,
          26,
          27,
          28,
          29,
          30,
          31,
          32,
          33,
          34,
          35,
          36,
          37,
          38,
          39,
          40,
          41,
          42,
          43,
          44,
          45,
          46,
          47,
          48,
          49,
          50,
          51,
          52,
          53,
          54,
          55,
          56,
          57,
          58,
          59,
          60,
          61,
          62,
          63,
          64,
          65,
          66,
          67,
          68,
          69,
          70,
          71,
          72,
          73,
          74,
          75,
          76,
          77,
          78,
          79,
          80,
          81,
          82,
          83,
          84,
          85,
          86,
          87,
          88,
          89,
          90,
          91,
          92,
          93,
          94,
          95,
          96,
          97,
          98,
          99
         ],
         "xaxis": "x2",
         "y": [
          "",
          "",
          -1.8972675601660163,
          "",
          -0.3163537774381924,
          -0.22093964647754394,
          "",
          -3.3774325307631528,
          -2.7392791519142086,
          -2.278917163007525,
          "",
          "",
          -0.23004051224561337,
          "",
          -1.5062027210859061,
          "",
          -1.4164941197147658,
          -1.2196611266405455,
          "",
          "",
          -1.1278855168349553,
          "",
          "",
          -0.9708386064713852,
          "",
          -0.2062745099030897,
          "",
          "",
          -1.3367748006130644,
          -1.272401086277265,
          "",
          -0.4502420873700521,
          -3.0190389034765515,
          "",
          -2.7426109768848432,
          "",
          "",
          "",
          "",
          -0.2671353223863707,
          -0.4440695838708648,
          -0.7984068835437332,
          -2.52823826484095,
          "",
          -1.43319410842751,
          "",
          "",
          -0.1124071307022444,
          "",
          "",
          -1.9270346020228724,
          -0.33800880862128546,
          "",
          -2.633921257569509,
          -1.4184708393431398,
          -0.8337049673874322,
          "",
          -0.33735828220699404,
          "",
          "",
          "",
          -1.7410097836573253,
          -2.491726344001026,
          "",
          -0.27642311579484125,
          -0.8409022375611921,
          "",
          -2.3575149427755004,
          -1.923858859798373,
          -0.6742749261603322,
          "",
          "",
          -0.4486622699437668,
          -0.4566725507894466,
          "",
          "",
          -2.2333150587016437,
          -1.4195637402218446,
          -1.2247297208409527,
          -3.707123807917593,
          -0.671135374789293,
          "",
          "",
          "",
          -0.01981636945158663,
          "",
          "",
          "",
          "",
          -1.2512888022183806,
          -1.7686270370078696,
          -2.0645366204351836,
          -1.8877094144266402,
          "",
          -2.5399961805756472,
          "",
          "",
          "",
          "",
          ""
         ],
         "yaxis": "y2"
        }
       ],
       "layout": {
        "hovermode": "x",
        "legend": {
         "bgcolor": "#F5F6F9",
         "font": {
          "color": "#4D5663"
         }
        },
        "paper_bgcolor": "#F5F6F9",
        "plot_bgcolor": "#F5F6F9",
        "template": {
         "data": {
          "bar": [
           {
            "error_x": {
             "color": "#2a3f5f"
            },
            "error_y": {
             "color": "#2a3f5f"
            },
            "marker": {
             "line": {
              "color": "#E5ECF6",
              "width": 0.5
             },
             "pattern": {
              "fillmode": "overlay",
              "size": 10,
              "solidity": 0.2
             }
            },
            "type": "bar"
           }
          ],
          "barpolar": [
           {
            "marker": {
             "line": {
              "color": "#E5ECF6",
              "width": 0.5
             },
             "pattern": {
              "fillmode": "overlay",
              "size": 10,
              "solidity": 0.2
             }
            },
            "type": "barpolar"
           }
          ],
          "carpet": [
           {
            "aaxis": {
             "endlinecolor": "#2a3f5f",
             "gridcolor": "white",
             "linecolor": "white",
             "minorgridcolor": "white",
             "startlinecolor": "#2a3f5f"
            },
            "baxis": {
             "endlinecolor": "#2a3f5f",
             "gridcolor": "white",
             "linecolor": "white",
             "minorgridcolor": "white",
             "startlinecolor": "#2a3f5f"
            },
            "type": "carpet"
           }
          ],
          "choropleth": [
           {
            "colorbar": {
             "outlinewidth": 0,
             "ticks": ""
            },
            "type": "choropleth"
           }
          ],
          "contour": [
           {
            "colorbar": {
             "outlinewidth": 0,
             "ticks": ""
            },
            "colorscale": [
             [
              0,
              "#0d0887"
             ],
             [
              0.1111111111111111,
              "#46039f"
             ],
             [
              0.2222222222222222,
              "#7201a8"
             ],
             [
              0.3333333333333333,
              "#9c179e"
             ],
             [
              0.4444444444444444,
              "#bd3786"
             ],
             [
              0.5555555555555556,
              "#d8576b"
             ],
             [
              0.6666666666666666,
              "#ed7953"
             ],
             [
              0.7777777777777778,
              "#fb9f3a"
             ],
             [
              0.8888888888888888,
              "#fdca26"
             ],
             [
              1,
              "#f0f921"
             ]
            ],
            "type": "contour"
           }
          ],
          "contourcarpet": [
           {
            "colorbar": {
             "outlinewidth": 0,
             "ticks": ""
            },
            "type": "contourcarpet"
           }
          ],
          "heatmap": [
           {
            "colorbar": {
             "outlinewidth": 0,
             "ticks": ""
            },
            "colorscale": [
             [
              0,
              "#0d0887"
             ],
             [
              0.1111111111111111,
              "#46039f"
             ],
             [
              0.2222222222222222,
              "#7201a8"
             ],
             [
              0.3333333333333333,
              "#9c179e"
             ],
             [
              0.4444444444444444,
              "#bd3786"
             ],
             [
              0.5555555555555556,
              "#d8576b"
             ],
             [
              0.6666666666666666,
              "#ed7953"
             ],
             [
              0.7777777777777778,
              "#fb9f3a"
             ],
             [
              0.8888888888888888,
              "#fdca26"
             ],
             [
              1,
              "#f0f921"
             ]
            ],
            "type": "heatmap"
           }
          ],
          "heatmapgl": [
           {
            "colorbar": {
             "outlinewidth": 0,
             "ticks": ""
            },
            "colorscale": [
             [
              0,
              "#0d0887"
             ],
             [
              0.1111111111111111,
              "#46039f"
             ],
             [
              0.2222222222222222,
              "#7201a8"
             ],
             [
              0.3333333333333333,
              "#9c179e"
             ],
             [
              0.4444444444444444,
              "#bd3786"
             ],
             [
              0.5555555555555556,
              "#d8576b"
             ],
             [
              0.6666666666666666,
              "#ed7953"
             ],
             [
              0.7777777777777778,
              "#fb9f3a"
             ],
             [
              0.8888888888888888,
              "#fdca26"
             ],
             [
              1,
              "#f0f921"
             ]
            ],
            "type": "heatmapgl"
           }
          ],
          "histogram": [
           {
            "marker": {
             "pattern": {
              "fillmode": "overlay",
              "size": 10,
              "solidity": 0.2
             }
            },
            "type": "histogram"
           }
          ],
          "histogram2d": [
           {
            "colorbar": {
             "outlinewidth": 0,
             "ticks": ""
            },
            "colorscale": [
             [
              0,
              "#0d0887"
             ],
             [
              0.1111111111111111,
              "#46039f"
             ],
             [
              0.2222222222222222,
              "#7201a8"
             ],
             [
              0.3333333333333333,
              "#9c179e"
             ],
             [
              0.4444444444444444,
              "#bd3786"
             ],
             [
              0.5555555555555556,
              "#d8576b"
             ],
             [
              0.6666666666666666,
              "#ed7953"
             ],
             [
              0.7777777777777778,
              "#fb9f3a"
             ],
             [
              0.8888888888888888,
              "#fdca26"
             ],
             [
              1,
              "#f0f921"
             ]
            ],
            "type": "histogram2d"
           }
          ],
          "histogram2dcontour": [
           {
            "colorbar": {
             "outlinewidth": 0,
             "ticks": ""
            },
            "colorscale": [
             [
              0,
              "#0d0887"
             ],
             [
              0.1111111111111111,
              "#46039f"
             ],
             [
              0.2222222222222222,
              "#7201a8"
             ],
             [
              0.3333333333333333,
              "#9c179e"
             ],
             [
              0.4444444444444444,
              "#bd3786"
             ],
             [
              0.5555555555555556,
              "#d8576b"
             ],
             [
              0.6666666666666666,
              "#ed7953"
             ],
             [
              0.7777777777777778,
              "#fb9f3a"
             ],
             [
              0.8888888888888888,
              "#fdca26"
             ],
             [
              1,
              "#f0f921"
             ]
            ],
            "type": "histogram2dcontour"
           }
          ],
          "mesh3d": [
           {
            "colorbar": {
             "outlinewidth": 0,
             "ticks": ""
            },
            "type": "mesh3d"
           }
          ],
          "parcoords": [
           {
            "line": {
             "colorbar": {
              "outlinewidth": 0,
              "ticks": ""
             }
            },
            "type": "parcoords"
           }
          ],
          "pie": [
           {
            "automargin": true,
            "type": "pie"
           }
          ],
          "scatter": [
           {
            "fillpattern": {
             "fillmode": "overlay",
             "size": 10,
             "solidity": 0.2
            },
            "type": "scatter"
           }
          ],
          "scatter3d": [
           {
            "line": {
             "colorbar": {
              "outlinewidth": 0,
              "ticks": ""
             }
            },
            "marker": {
             "colorbar": {
              "outlinewidth": 0,
              "ticks": ""
             }
            },
            "type": "scatter3d"
           }
          ],
          "scattercarpet": [
           {
            "marker": {
             "colorbar": {
              "outlinewidth": 0,
              "ticks": ""
             }
            },
            "type": "scattercarpet"
           }
          ],
          "scattergeo": [
           {
            "marker": {
             "colorbar": {
              "outlinewidth": 0,
              "ticks": ""
             }
            },
            "type": "scattergeo"
           }
          ],
          "scattergl": [
           {
            "marker": {
             "colorbar": {
              "outlinewidth": 0,
              "ticks": ""
             }
            },
            "type": "scattergl"
           }
          ],
          "scattermapbox": [
           {
            "marker": {
             "colorbar": {
              "outlinewidth": 0,
              "ticks": ""
             }
            },
            "type": "scattermapbox"
           }
          ],
          "scatterpolar": [
           {
            "marker": {
             "colorbar": {
              "outlinewidth": 0,
              "ticks": ""
             }
            },
            "type": "scatterpolar"
           }
          ],
          "scatterpolargl": [
           {
            "marker": {
             "colorbar": {
              "outlinewidth": 0,
              "ticks": ""
             }
            },
            "type": "scatterpolargl"
           }
          ],
          "scatterternary": [
           {
            "marker": {
             "colorbar": {
              "outlinewidth": 0,
              "ticks": ""
             }
            },
            "type": "scatterternary"
           }
          ],
          "surface": [
           {
            "colorbar": {
             "outlinewidth": 0,
             "ticks": ""
            },
            "colorscale": [
             [
              0,
              "#0d0887"
             ],
             [
              0.1111111111111111,
              "#46039f"
             ],
             [
              0.2222222222222222,
              "#7201a8"
             ],
             [
              0.3333333333333333,
              "#9c179e"
             ],
             [
              0.4444444444444444,
              "#bd3786"
             ],
             [
              0.5555555555555556,
              "#d8576b"
             ],
             [
              0.6666666666666666,
              "#ed7953"
             ],
             [
              0.7777777777777778,
              "#fb9f3a"
             ],
             [
              0.8888888888888888,
              "#fdca26"
             ],
             [
              1,
              "#f0f921"
             ]
            ],
            "type": "surface"
           }
          ],
          "table": [
           {
            "cells": {
             "fill": {
              "color": "#EBF0F8"
             },
             "line": {
              "color": "white"
             }
            },
            "header": {
             "fill": {
              "color": "#C8D4E3"
             },
             "line": {
              "color": "white"
             }
            },
            "type": "table"
           }
          ]
         },
         "layout": {
          "annotationdefaults": {
           "arrowcolor": "#2a3f5f",
           "arrowhead": 0,
           "arrowwidth": 1
          },
          "autotypenumbers": "strict",
          "coloraxis": {
           "colorbar": {
            "outlinewidth": 0,
            "ticks": ""
           }
          },
          "colorscale": {
           "diverging": [
            [
             0,
             "#8e0152"
            ],
            [
             0.1,
             "#c51b7d"
            ],
            [
             0.2,
             "#de77ae"
            ],
            [
             0.3,
             "#f1b6da"
            ],
            [
             0.4,
             "#fde0ef"
            ],
            [
             0.5,
             "#f7f7f7"
            ],
            [
             0.6,
             "#e6f5d0"
            ],
            [
             0.7,
             "#b8e186"
            ],
            [
             0.8,
             "#7fbc41"
            ],
            [
             0.9,
             "#4d9221"
            ],
            [
             1,
             "#276419"
            ]
           ],
           "sequential": [
            [
             0,
             "#0d0887"
            ],
            [
             0.1111111111111111,
             "#46039f"
            ],
            [
             0.2222222222222222,
             "#7201a8"
            ],
            [
             0.3333333333333333,
             "#9c179e"
            ],
            [
             0.4444444444444444,
             "#bd3786"
            ],
            [
             0.5555555555555556,
             "#d8576b"
            ],
            [
             0.6666666666666666,
             "#ed7953"
            ],
            [
             0.7777777777777778,
             "#fb9f3a"
            ],
            [
             0.8888888888888888,
             "#fdca26"
            ],
            [
             1,
             "#f0f921"
            ]
           ],
           "sequentialminus": [
            [
             0,
             "#0d0887"
            ],
            [
             0.1111111111111111,
             "#46039f"
            ],
            [
             0.2222222222222222,
             "#7201a8"
            ],
            [
             0.3333333333333333,
             "#9c179e"
            ],
            [
             0.4444444444444444,
             "#bd3786"
            ],
            [
             0.5555555555555556,
             "#d8576b"
            ],
            [
             0.6666666666666666,
             "#ed7953"
            ],
            [
             0.7777777777777778,
             "#fb9f3a"
            ],
            [
             0.8888888888888888,
             "#fdca26"
            ],
            [
             1,
             "#f0f921"
            ]
           ]
          },
          "colorway": [
           "#636efa",
           "#EF553B",
           "#00cc96",
           "#ab63fa",
           "#FFA15A",
           "#19d3f3",
           "#FF6692",
           "#B6E880",
           "#FF97FF",
           "#FECB52"
          ],
          "font": {
           "color": "#2a3f5f"
          },
          "geo": {
           "bgcolor": "white",
           "lakecolor": "white",
           "landcolor": "#E5ECF6",
           "showlakes": true,
           "showland": true,
           "subunitcolor": "white"
          },
          "hoverlabel": {
           "align": "left"
          },
          "hovermode": "closest",
          "mapbox": {
           "style": "light"
          },
          "paper_bgcolor": "white",
          "plot_bgcolor": "#E5ECF6",
          "polar": {
           "angularaxis": {
            "gridcolor": "white",
            "linecolor": "white",
            "ticks": ""
           },
           "bgcolor": "#E5ECF6",
           "radialaxis": {
            "gridcolor": "white",
            "linecolor": "white",
            "ticks": ""
           }
          },
          "scene": {
           "xaxis": {
            "backgroundcolor": "#E5ECF6",
            "gridcolor": "white",
            "gridwidth": 2,
            "linecolor": "white",
            "showbackground": true,
            "ticks": "",
            "zerolinecolor": "white"
           },
           "yaxis": {
            "backgroundcolor": "#E5ECF6",
            "gridcolor": "white",
            "gridwidth": 2,
            "linecolor": "white",
            "showbackground": true,
            "ticks": "",
            "zerolinecolor": "white"
           },
           "zaxis": {
            "backgroundcolor": "#E5ECF6",
            "gridcolor": "white",
            "gridwidth": 2,
            "linecolor": "white",
            "showbackground": true,
            "ticks": "",
            "zerolinecolor": "white"
           }
          },
          "shapedefaults": {
           "line": {
            "color": "#2a3f5f"
           }
          },
          "ternary": {
           "aaxis": {
            "gridcolor": "white",
            "linecolor": "white",
            "ticks": ""
           },
           "baxis": {
            "gridcolor": "white",
            "linecolor": "white",
            "ticks": ""
           },
           "bgcolor": "#E5ECF6",
           "caxis": {
            "gridcolor": "white",
            "linecolor": "white",
            "ticks": ""
           }
          },
          "title": {
           "x": 0.05
          },
          "xaxis": {
           "automargin": true,
           "gridcolor": "white",
           "linecolor": "white",
           "ticks": "",
           "title": {
            "standoff": 15
           },
           "zerolinecolor": "white",
           "zerolinewidth": 2
          },
          "yaxis": {
           "automargin": true,
           "gridcolor": "white",
           "linecolor": "white",
           "ticks": "",
           "title": {
            "standoff": 15
           },
           "zerolinecolor": "white",
           "zerolinewidth": 2
          }
         }
        },
        "title": {
         "font": {
          "color": "#4D5663"
         }
        },
        "xaxis": {
         "gridcolor": "#E1E5ED",
         "showgrid": true,
         "tickfont": {
          "color": "#4D5663"
         },
         "title": {
          "font": {
           "color": "#4D5663"
          },
          "text": ""
         },
         "zerolinecolor": "#E1E5ED"
        },
        "xaxis2": {
         "anchor": "y2",
         "gridcolor": "#E1E5ED",
         "showgrid": true,
         "showticklabels": false,
         "tickfont": {
          "color": "#4D5663"
         },
         "title": {
          "font": {
           "color": "#4D5663"
          },
          "text": ""
         },
         "zerolinecolor": "#E1E5ED"
        },
        "yaxis": {
         "domain": [
          0.3,
          1
         ],
         "gridcolor": "#E1E5ED",
         "showgrid": true,
         "tickfont": {
          "color": "#4D5663"
         },
         "title": {
          "font": {
           "color": "#4D5663"
          },
          "text": ""
         },
         "zerolinecolor": "#E1E5ED"
        },
        "yaxis2": {
         "domain": [
          0,
          0.25
         ],
         "gridcolor": "#E1E5ED",
         "showgrid": true,
         "tickfont": {
          "color": "#4D5663"
         },
         "title": {
          "font": {
           "color": "#4D5663"
          },
          "text": "Spread"
         },
         "zerolinecolor": "#E1E5ED"
        }
       }
      },
      "text/html": [
       "<div>                            <div id=\"55ed6e59-49d2-4b02-b9f3-e70898512e32\" class=\"plotly-graph-div\" style=\"height:525px; width:100%;\"></div>            <script type=\"text/javascript\">                require([\"plotly\"], function(Plotly) {                    window.PLOTLYENV=window.PLOTLYENV || {};\n",
       "                    window.PLOTLYENV.BASE_URL='https://plot.ly';                                    if (document.getElementById(\"55ed6e59-49d2-4b02-b9f3-e70898512e32\")) {                    Plotly.newPlot(                        \"55ed6e59-49d2-4b02-b9f3-e70898512e32\",                        [{\"line\":{\"color\":\"rgba(255, 153, 51, 1.0)\",\"dash\":\"solid\",\"shape\":\"linear\",\"width\":1.3},\"mode\":\"lines\",\"name\":\"A\",\"text\":\"\",\"x\":[0,1,2,3,4,5,6,7,8,9,10,11,12,13,14,15,16,17,18,19,20,21,22,23,24,25,26,27,28,29,30,31,32,33,34,35,36,37,38,39,40,41,42,43,44,45,46,47,48,49,50,51,52,53,54,55,56,57,58,59,60,61,62,63,64,65,66,67,68,69,70,71,72,73,74,75,76,77,78,79,80,81,82,83,84,85,86,87,88,89,90,91,92,93,94,95,96,97,98,99],\"y\":[0.04472728291752777,2.0136277903577247,-1.9236196401519277,2.4911980816178194,-0.9967665313943013,-0.7951919577304543,1.9487063804665836,-2.23538159261186,-0.6362833050737016,-1.4754844608198587,0.011761902594940405,0.762460136367464,0.09148958294183143,-1.3104088928298192,-0.6551324495685213,0.4417399033234646,-1.0041748206612782,-2.1279381643445148,-0.33415704844100136,1.8822856176465037,-0.17436524138072843,0.24438741548022544,1.1271349499163994,0.12908581848119247,-0.5194216529893724,0.06933790600730215,-0.1604553359252777,0.4243007995667343,-1.1251252448290945,-1.3033981078054881,-0.3439484052277837,0.1853004778913747,-1.2386458788249415,1.5066759635136762,-1.5934330724746797,1.1466275226458311,-0.2998576466989392,-0.7564601805963426,-0.8075479890241387,0.31415964222467585,-1.869410364721812,-0.7150081458694103,-1.1738929577822552,-0.03933686859765417,-0.2301305754650945,1.077391686619631,1.1402657961968796,0.291777123552492,0.9600778507641592,-0.4263265753068178,-0.5520173344511742,0.6578707128339493,0.6018249253613506,-1.226518784319018,-0.10312712302438928,-1.0674536882407857,0.6482714967308668,0.9162266657051357,-0.5372298377330095,0.8845513154382081,0.8015316358892549,-0.7257562347588903,-0.8516497444356815,0.35510691240333075,-0.1602518439569381,0.18772635521434244,0.6394680450095762,-1.7841028128897547,-1.362461857419024,-0.9692165633965856,1.8623982171870008,1.5405117173715361,-1.329477243882208,-1.0570415503714614,0.8275648531322185,0.7174334888677107,-1.8407960180545033,-0.6327346660982492,-1.834893941666618,-1.0222932958815636,-0.0890975036474237,0.9262538909560268,1.587038316260175,1.4636701642913348,0.24217647988032678,-0.05063897611733595,0.723546614583445,-0.49758264536569463,0.9075802085838476,-1.1304087274552108,-1.8339112439763066,-1.1000414778730772,-1.4124638619838747,0.6431580778738788,-1.4370295309081362,0.6910484972701905,3.256655782163857,-0.11462551340178101,2.17596548950574,1.4596346378062068],\"type\":\"scatter\"},{\"line\":{\"color\":\"rgba(55, 128, 191, 1.0)\",\"dash\":\"solid\",\"shape\":\"linear\",\"width\":1.3},\"mode\":\"lines\",\"name\":\"B\",\"text\":\"\",\"x\":[0,1,2,3,4,5,6,7,8,9,10,11,12,13,14,15,16,17,18,19,20,21,22,23,24,25,26,27,28,29,30,31,32,33,34,35,36,37,38,39,40,41,42,43,44,45,46,47,48,49,50,51,52,53,54,55,56,57,58,59,60,61,62,63,64,65,66,67,68,69,70,71,72,73,74,75,76,77,78,79,80,81,82,83,84,85,86,87,88,89,90,91,92,93,94,95,96,97,98,99],\"y\":[-0.3581752144020478,-0.7438157432225722,-0.026352079985911398,-1.7030343296523238,-0.6804127539561089,-0.5742523112529103,-0.644070917542256,1.1420509381512929,2.102995846840507,0.8034327021876664,-0.2544097102330024,-0.5594592584848158,0.3215300951874448,-2.248060706625145,0.8510702715173849,0.02002817387705508,0.4123192990534875,-0.9082770377039694,-2.6085505772612874,-2.147063117352743,0.9535202754542268,-0.0073023603245049125,0.9538228579321008,1.0999244249525777,-1.139370634678592,0.2756124159103919,-0.6372337077181718,-0.36135473899091913,0.21164955578397002,-0.03099702152822309,-0.7316516112829898,0.6355425652614268,1.78039302465161,-2.0788866513236086,1.1491779044101635,-1.6641430920273568,-2.2000095056079068,-0.982006606741808,-1.057634337467608,0.5812949646110466,-1.4253407808509473,0.08339873767432296,1.3543453070586946,-0.17539272838694092,1.2030635329624155,-0.8457858322795581,-0.3938160616631665,0.4041842542547364,-0.22165217214236851,-1.1733244203373254,1.3750172675716983,0.9958795214552347,-0.4135630924958996,1.407402473250491,1.3153437163187505,-0.2337487208533535,-0.8143858125945819,1.2535849479121297,-1.4013077884969811,-0.027873794659457322,-1.6519261458676777,1.0152535488984349,1.6400765995653448,-0.13121204521055865,0.11617127183790316,1.0286285927755345,-0.7385281986681842,0.5734121298857456,0.561397002379349,-0.2949416372362533,0.3748451018513906,0.7535297542120657,-0.8808149739384412,-0.6003689995820148,-0.09021186742874453,-1.0472595114473746,0.3925190406471404,0.7868290741235954,-0.6101642208256651,2.6848305120360294,0.5820378711418692,0.01709018333611756,0.08485702664004978,1.1302744949762342,0.2619928493319134,-0.7773726420782053,-0.013062268486066998,-0.6484815907002609,0.15677550862065318,0.12088007476316984,-0.06528420696843706,0.9644951425621063,0.47524555244276545,-1.2159192117365958,1.102966649667511,0.35982432168304623,0.10840028329846188,-0.4012335082600968,-0.9925124577209844,-1.3590407654438954],\"type\":\"scatter\"},{\"connectgaps\":false,\"fill\":\"tozeroy\",\"line\":{\"color\":\"green\",\"dash\":\"solid\",\"shape\":\"linear\",\"width\":0.5},\"mode\":\"lines\",\"name\":\"Spread\",\"showlegend\":false,\"x\":[0,1,2,3,4,5,6,7,8,9,10,11,12,13,14,15,16,17,18,19,20,21,22,23,24,25,26,27,28,29,30,31,32,33,34,35,36,37,38,39,40,41,42,43,44,45,46,47,48,49,50,51,52,53,54,55,56,57,58,59,60,61,62,63,64,65,66,67,68,69,70,71,72,73,74,75,76,77,78,79,80,81,82,83,84,85,86,87,88,89,90,91,92,93,94,95,96,97,98,99],\"xaxis\":\"x2\",\"y\":[0.40290249731957556,2.7574435335802967,\"\",4.194232411270143,\"\",\"\",2.5927772980088397,\"\",\"\",\"\",0.2661716128279428,1.3219193948522798,\"\",0.9376518137953256,\"\",0.4217117294464095,\"\",\"\",2.274393528820286,4.029348734999246,\"\",0.25168977580473034,0.17331209198429864,\"\",0.6199489816892195,\"\",0.47677837179289406,0.7856555385576534,\"\",\"\",0.38770320605520614,\"\",\"\",3.5855626148372846,\"\",2.8107706146731877,1.9001518589089677,0.22554642614546538,0.25008634844346933,\"\",\"\",\"\",\"\",0.13605585978928675,\"\",1.9231775188991889,1.5340818578600461,\"\",1.1817300229065277,0.7469978450305077,\"\",\"\",1.01538801785725,\"\",\"\",\"\",1.4626573093254487,\"\",0.8640779507639716,0.9124251100976654,2.4534577817569327,\"\",\"\",0.48631895761388944,\"\",\"\",1.3779962436777604,\"\",\"\",\"\",1.4875531153356103,0.7869819631594704,\"\",\"\",0.917776720560963,1.7646930003150854,\"\",\"\",\"\",\"\",\"\",0.9091637076199093,1.5021812896201254,0.33339566931510056,\"\",0.7267336659608694,0.736608883069512,0.15089894533456627,0.7508046999631944,\"\",\"\",\"\",\"\",1.8590772896104746,\"\",0.33122417558714423,3.148255498865395,0.2866079948583158,3.1684779472267244,2.8186754032501025],\"yaxis\":\"y2\",\"type\":\"scatter\"},{\"connectgaps\":false,\"fill\":\"tozeroy\",\"line\":{\"color\":\"red\",\"dash\":\"solid\",\"shape\":\"linear\",\"width\":0.5},\"mode\":\"lines\",\"name\":\"Spread\",\"showlegend\":false,\"x\":[0,1,2,3,4,5,6,7,8,9,10,11,12,13,14,15,16,17,18,19,20,21,22,23,24,25,26,27,28,29,30,31,32,33,34,35,36,37,38,39,40,41,42,43,44,45,46,47,48,49,50,51,52,53,54,55,56,57,58,59,60,61,62,63,64,65,66,67,68,69,70,71,72,73,74,75,76,77,78,79,80,81,82,83,84,85,86,87,88,89,90,91,92,93,94,95,96,97,98,99],\"xaxis\":\"x2\",\"y\":[\"\",\"\",-1.8972675601660163,\"\",-0.3163537774381924,-0.22093964647754394,\"\",-3.3774325307631528,-2.7392791519142086,-2.278917163007525,\"\",\"\",-0.23004051224561337,\"\",-1.5062027210859061,\"\",-1.4164941197147658,-1.2196611266405455,\"\",\"\",-1.1278855168349553,\"\",\"\",-0.9708386064713852,\"\",-0.2062745099030897,\"\",\"\",-1.3367748006130644,-1.272401086277265,\"\",-0.4502420873700521,-3.0190389034765515,\"\",-2.7426109768848432,\"\",\"\",\"\",\"\",-0.2671353223863707,-0.4440695838708648,-0.7984068835437332,-2.52823826484095,\"\",-1.43319410842751,\"\",\"\",-0.1124071307022444,\"\",\"\",-1.9270346020228724,-0.33800880862128546,\"\",-2.633921257569509,-1.4184708393431398,-0.8337049673874322,\"\",-0.33735828220699404,\"\",\"\",\"\",-1.7410097836573253,-2.491726344001026,\"\",-0.27642311579484125,-0.8409022375611921,\"\",-2.3575149427755004,-1.923858859798373,-0.6742749261603322,\"\",\"\",-0.4486622699437668,-0.4566725507894466,\"\",\"\",-2.2333150587016437,-1.4195637402218446,-1.2247297208409527,-3.707123807917593,-0.671135374789293,\"\",\"\",\"\",-0.01981636945158663,\"\",\"\",\"\",\"\",-1.2512888022183806,-1.7686270370078696,-2.0645366204351836,-1.8877094144266402,\"\",-2.5399961805756472,\"\",\"\",\"\",\"\",\"\"],\"yaxis\":\"y2\",\"type\":\"scatter\"}],                        {\"hovermode\":\"x\",\"legend\":{\"bgcolor\":\"#F5F6F9\",\"font\":{\"color\":\"#4D5663\"}},\"paper_bgcolor\":\"#F5F6F9\",\"plot_bgcolor\":\"#F5F6F9\",\"template\":{\"data\":{\"barpolar\":[{\"marker\":{\"line\":{\"color\":\"#E5ECF6\",\"width\":0.5},\"pattern\":{\"fillmode\":\"overlay\",\"size\":10,\"solidity\":0.2}},\"type\":\"barpolar\"}],\"bar\":[{\"error_x\":{\"color\":\"#2a3f5f\"},\"error_y\":{\"color\":\"#2a3f5f\"},\"marker\":{\"line\":{\"color\":\"#E5ECF6\",\"width\":0.5},\"pattern\":{\"fillmode\":\"overlay\",\"size\":10,\"solidity\":0.2}},\"type\":\"bar\"}],\"carpet\":[{\"aaxis\":{\"endlinecolor\":\"#2a3f5f\",\"gridcolor\":\"white\",\"linecolor\":\"white\",\"minorgridcolor\":\"white\",\"startlinecolor\":\"#2a3f5f\"},\"baxis\":{\"endlinecolor\":\"#2a3f5f\",\"gridcolor\":\"white\",\"linecolor\":\"white\",\"minorgridcolor\":\"white\",\"startlinecolor\":\"#2a3f5f\"},\"type\":\"carpet\"}],\"choropleth\":[{\"colorbar\":{\"outlinewidth\":0,\"ticks\":\"\"},\"type\":\"choropleth\"}],\"contourcarpet\":[{\"colorbar\":{\"outlinewidth\":0,\"ticks\":\"\"},\"type\":\"contourcarpet\"}],\"contour\":[{\"colorbar\":{\"outlinewidth\":0,\"ticks\":\"\"},\"colorscale\":[[0.0,\"#0d0887\"],[0.1111111111111111,\"#46039f\"],[0.2222222222222222,\"#7201a8\"],[0.3333333333333333,\"#9c179e\"],[0.4444444444444444,\"#bd3786\"],[0.5555555555555556,\"#d8576b\"],[0.6666666666666666,\"#ed7953\"],[0.7777777777777778,\"#fb9f3a\"],[0.8888888888888888,\"#fdca26\"],[1.0,\"#f0f921\"]],\"type\":\"contour\"}],\"heatmapgl\":[{\"colorbar\":{\"outlinewidth\":0,\"ticks\":\"\"},\"colorscale\":[[0.0,\"#0d0887\"],[0.1111111111111111,\"#46039f\"],[0.2222222222222222,\"#7201a8\"],[0.3333333333333333,\"#9c179e\"],[0.4444444444444444,\"#bd3786\"],[0.5555555555555556,\"#d8576b\"],[0.6666666666666666,\"#ed7953\"],[0.7777777777777778,\"#fb9f3a\"],[0.8888888888888888,\"#fdca26\"],[1.0,\"#f0f921\"]],\"type\":\"heatmapgl\"}],\"heatmap\":[{\"colorbar\":{\"outlinewidth\":0,\"ticks\":\"\"},\"colorscale\":[[0.0,\"#0d0887\"],[0.1111111111111111,\"#46039f\"],[0.2222222222222222,\"#7201a8\"],[0.3333333333333333,\"#9c179e\"],[0.4444444444444444,\"#bd3786\"],[0.5555555555555556,\"#d8576b\"],[0.6666666666666666,\"#ed7953\"],[0.7777777777777778,\"#fb9f3a\"],[0.8888888888888888,\"#fdca26\"],[1.0,\"#f0f921\"]],\"type\":\"heatmap\"}],\"histogram2dcontour\":[{\"colorbar\":{\"outlinewidth\":0,\"ticks\":\"\"},\"colorscale\":[[0.0,\"#0d0887\"],[0.1111111111111111,\"#46039f\"],[0.2222222222222222,\"#7201a8\"],[0.3333333333333333,\"#9c179e\"],[0.4444444444444444,\"#bd3786\"],[0.5555555555555556,\"#d8576b\"],[0.6666666666666666,\"#ed7953\"],[0.7777777777777778,\"#fb9f3a\"],[0.8888888888888888,\"#fdca26\"],[1.0,\"#f0f921\"]],\"type\":\"histogram2dcontour\"}],\"histogram2d\":[{\"colorbar\":{\"outlinewidth\":0,\"ticks\":\"\"},\"colorscale\":[[0.0,\"#0d0887\"],[0.1111111111111111,\"#46039f\"],[0.2222222222222222,\"#7201a8\"],[0.3333333333333333,\"#9c179e\"],[0.4444444444444444,\"#bd3786\"],[0.5555555555555556,\"#d8576b\"],[0.6666666666666666,\"#ed7953\"],[0.7777777777777778,\"#fb9f3a\"],[0.8888888888888888,\"#fdca26\"],[1.0,\"#f0f921\"]],\"type\":\"histogram2d\"}],\"histogram\":[{\"marker\":{\"pattern\":{\"fillmode\":\"overlay\",\"size\":10,\"solidity\":0.2}},\"type\":\"histogram\"}],\"mesh3d\":[{\"colorbar\":{\"outlinewidth\":0,\"ticks\":\"\"},\"type\":\"mesh3d\"}],\"parcoords\":[{\"line\":{\"colorbar\":{\"outlinewidth\":0,\"ticks\":\"\"}},\"type\":\"parcoords\"}],\"pie\":[{\"automargin\":true,\"type\":\"pie\"}],\"scatter3d\":[{\"line\":{\"colorbar\":{\"outlinewidth\":0,\"ticks\":\"\"}},\"marker\":{\"colorbar\":{\"outlinewidth\":0,\"ticks\":\"\"}},\"type\":\"scatter3d\"}],\"scattercarpet\":[{\"marker\":{\"colorbar\":{\"outlinewidth\":0,\"ticks\":\"\"}},\"type\":\"scattercarpet\"}],\"scattergeo\":[{\"marker\":{\"colorbar\":{\"outlinewidth\":0,\"ticks\":\"\"}},\"type\":\"scattergeo\"}],\"scattergl\":[{\"marker\":{\"colorbar\":{\"outlinewidth\":0,\"ticks\":\"\"}},\"type\":\"scattergl\"}],\"scattermapbox\":[{\"marker\":{\"colorbar\":{\"outlinewidth\":0,\"ticks\":\"\"}},\"type\":\"scattermapbox\"}],\"scatterpolargl\":[{\"marker\":{\"colorbar\":{\"outlinewidth\":0,\"ticks\":\"\"}},\"type\":\"scatterpolargl\"}],\"scatterpolar\":[{\"marker\":{\"colorbar\":{\"outlinewidth\":0,\"ticks\":\"\"}},\"type\":\"scatterpolar\"}],\"scatter\":[{\"fillpattern\":{\"fillmode\":\"overlay\",\"size\":10,\"solidity\":0.2},\"type\":\"scatter\"}],\"scatterternary\":[{\"marker\":{\"colorbar\":{\"outlinewidth\":0,\"ticks\":\"\"}},\"type\":\"scatterternary\"}],\"surface\":[{\"colorbar\":{\"outlinewidth\":0,\"ticks\":\"\"},\"colorscale\":[[0.0,\"#0d0887\"],[0.1111111111111111,\"#46039f\"],[0.2222222222222222,\"#7201a8\"],[0.3333333333333333,\"#9c179e\"],[0.4444444444444444,\"#bd3786\"],[0.5555555555555556,\"#d8576b\"],[0.6666666666666666,\"#ed7953\"],[0.7777777777777778,\"#fb9f3a\"],[0.8888888888888888,\"#fdca26\"],[1.0,\"#f0f921\"]],\"type\":\"surface\"}],\"table\":[{\"cells\":{\"fill\":{\"color\":\"#EBF0F8\"},\"line\":{\"color\":\"white\"}},\"header\":{\"fill\":{\"color\":\"#C8D4E3\"},\"line\":{\"color\":\"white\"}},\"type\":\"table\"}]},\"layout\":{\"annotationdefaults\":{\"arrowcolor\":\"#2a3f5f\",\"arrowhead\":0,\"arrowwidth\":1},\"autotypenumbers\":\"strict\",\"coloraxis\":{\"colorbar\":{\"outlinewidth\":0,\"ticks\":\"\"}},\"colorscale\":{\"diverging\":[[0,\"#8e0152\"],[0.1,\"#c51b7d\"],[0.2,\"#de77ae\"],[0.3,\"#f1b6da\"],[0.4,\"#fde0ef\"],[0.5,\"#f7f7f7\"],[0.6,\"#e6f5d0\"],[0.7,\"#b8e186\"],[0.8,\"#7fbc41\"],[0.9,\"#4d9221\"],[1,\"#276419\"]],\"sequential\":[[0.0,\"#0d0887\"],[0.1111111111111111,\"#46039f\"],[0.2222222222222222,\"#7201a8\"],[0.3333333333333333,\"#9c179e\"],[0.4444444444444444,\"#bd3786\"],[0.5555555555555556,\"#d8576b\"],[0.6666666666666666,\"#ed7953\"],[0.7777777777777778,\"#fb9f3a\"],[0.8888888888888888,\"#fdca26\"],[1.0,\"#f0f921\"]],\"sequentialminus\":[[0.0,\"#0d0887\"],[0.1111111111111111,\"#46039f\"],[0.2222222222222222,\"#7201a8\"],[0.3333333333333333,\"#9c179e\"],[0.4444444444444444,\"#bd3786\"],[0.5555555555555556,\"#d8576b\"],[0.6666666666666666,\"#ed7953\"],[0.7777777777777778,\"#fb9f3a\"],[0.8888888888888888,\"#fdca26\"],[1.0,\"#f0f921\"]]},\"colorway\":[\"#636efa\",\"#EF553B\",\"#00cc96\",\"#ab63fa\",\"#FFA15A\",\"#19d3f3\",\"#FF6692\",\"#B6E880\",\"#FF97FF\",\"#FECB52\"],\"font\":{\"color\":\"#2a3f5f\"},\"geo\":{\"bgcolor\":\"white\",\"lakecolor\":\"white\",\"landcolor\":\"#E5ECF6\",\"showlakes\":true,\"showland\":true,\"subunitcolor\":\"white\"},\"hoverlabel\":{\"align\":\"left\"},\"hovermode\":\"closest\",\"mapbox\":{\"style\":\"light\"},\"paper_bgcolor\":\"white\",\"plot_bgcolor\":\"#E5ECF6\",\"polar\":{\"angularaxis\":{\"gridcolor\":\"white\",\"linecolor\":\"white\",\"ticks\":\"\"},\"bgcolor\":\"#E5ECF6\",\"radialaxis\":{\"gridcolor\":\"white\",\"linecolor\":\"white\",\"ticks\":\"\"}},\"scene\":{\"xaxis\":{\"backgroundcolor\":\"#E5ECF6\",\"gridcolor\":\"white\",\"gridwidth\":2,\"linecolor\":\"white\",\"showbackground\":true,\"ticks\":\"\",\"zerolinecolor\":\"white\"},\"yaxis\":{\"backgroundcolor\":\"#E5ECF6\",\"gridcolor\":\"white\",\"gridwidth\":2,\"linecolor\":\"white\",\"showbackground\":true,\"ticks\":\"\",\"zerolinecolor\":\"white\"},\"zaxis\":{\"backgroundcolor\":\"#E5ECF6\",\"gridcolor\":\"white\",\"gridwidth\":2,\"linecolor\":\"white\",\"showbackground\":true,\"ticks\":\"\",\"zerolinecolor\":\"white\"}},\"shapedefaults\":{\"line\":{\"color\":\"#2a3f5f\"}},\"ternary\":{\"aaxis\":{\"gridcolor\":\"white\",\"linecolor\":\"white\",\"ticks\":\"\"},\"baxis\":{\"gridcolor\":\"white\",\"linecolor\":\"white\",\"ticks\":\"\"},\"bgcolor\":\"#E5ECF6\",\"caxis\":{\"gridcolor\":\"white\",\"linecolor\":\"white\",\"ticks\":\"\"}},\"title\":{\"x\":0.05},\"xaxis\":{\"automargin\":true,\"gridcolor\":\"white\",\"linecolor\":\"white\",\"ticks\":\"\",\"title\":{\"standoff\":15},\"zerolinecolor\":\"white\",\"zerolinewidth\":2},\"yaxis\":{\"automargin\":true,\"gridcolor\":\"white\",\"linecolor\":\"white\",\"ticks\":\"\",\"title\":{\"standoff\":15},\"zerolinecolor\":\"white\",\"zerolinewidth\":2}}},\"title\":{\"font\":{\"color\":\"#4D5663\"}},\"xaxis\":{\"gridcolor\":\"#E1E5ED\",\"showgrid\":true,\"tickfont\":{\"color\":\"#4D5663\"},\"title\":{\"font\":{\"color\":\"#4D5663\"},\"text\":\"\"},\"zerolinecolor\":\"#E1E5ED\"},\"yaxis\":{\"domain\":[0.3,1],\"gridcolor\":\"#E1E5ED\",\"showgrid\":true,\"tickfont\":{\"color\":\"#4D5663\"},\"title\":{\"font\":{\"color\":\"#4D5663\"},\"text\":\"\"},\"zerolinecolor\":\"#E1E5ED\"},\"yaxis2\":{\"domain\":[0,0.25],\"gridcolor\":\"#E1E5ED\",\"showgrid\":true,\"tickfont\":{\"color\":\"#4D5663\"},\"title\":{\"font\":{\"color\":\"#4D5663\"},\"text\":\"Spread\"},\"zerolinecolor\":\"#E1E5ED\"},\"xaxis2\":{\"anchor\":\"y2\",\"gridcolor\":\"#E1E5ED\",\"showgrid\":true,\"showticklabels\":false,\"tickfont\":{\"color\":\"#4D5663\"},\"title\":{\"font\":{\"color\":\"#4D5663\"},\"text\":\"\"},\"zerolinecolor\":\"#E1E5ED\"}},                        {\"showLink\": true, \"linkText\": \"Export to plot.ly\", \"plotlyServerURL\": \"https://plot.ly\", \"responsive\": true}                    ).then(function(){\n",
       "                            \n",
       "var gd = document.getElementById('55ed6e59-49d2-4b02-b9f3-e70898512e32');\n",
       "var x = new MutationObserver(function (mutations, observer) {{\n",
       "        var display = window.getComputedStyle(gd).display;\n",
       "        if (!display || display === 'none') {{\n",
       "            console.log([gd, 'removed!']);\n",
       "            Plotly.purge(gd);\n",
       "            observer.disconnect();\n",
       "        }}\n",
       "}});\n",
       "\n",
       "// Listen for the removal of the full notebook cells\n",
       "var notebookContainer = gd.closest('#notebook-container');\n",
       "if (notebookContainer) {{\n",
       "    x.observe(notebookContainer, {childList: true});\n",
       "}}\n",
       "\n",
       "// Listen for the clearing of the current output cell\n",
       "var outputEl = gd.closest('.output');\n",
       "if (outputEl) {{\n",
       "    x.observe(outputEl, {childList: true});\n",
       "}}\n",
       "\n",
       "                        })                };                });            </script>        </div>"
      ]
     },
     "metadata": {},
     "output_type": "display_data"
    }
   ],
   "source": [
    "%%capture --no-display\n",
    "df[['A','B']].iplot(kind='spread')"
   ]
  },
  {
   "cell_type": "markdown",
   "id": "1b511ff3",
   "metadata": {},
   "source": [
    "## IPlot - BubblePlot "
   ]
  },
  {
   "cell_type": "code",
   "execution_count": 43,
   "id": "9942439f",
   "metadata": {},
   "outputs": [
    {
     "data": {
      "application/vnd.plotly.v1+json": {
       "config": {
        "linkText": "Export to plot.ly",
        "plotlyServerURL": "https://plot.ly",
        "showLink": true
       },
       "data": [
        {
         "marker": {
          "color": [
           "rgb(255, 153, 51)",
           "rgb(55, 128, 191)",
           "rgb(50, 171, 96)",
           "rgb(128, 0, 128)",
           "rgb(219, 64, 82)",
           "rgb(0, 128, 128)",
           "rgb(255, 255, 51)",
           "rgb(128, 128, 0)",
           "rgb(251, 128, 114)",
           "rgb(128, 177, 211)"
          ],
          "line": {
           "width": 1.3
          },
          "size": [
           52,
           28,
           56,
           71,
           66,
           88,
           14,
           64,
           53,
           48,
           88,
           112,
           60,
           34,
           49,
           54,
           54,
           51,
           68,
           35,
           37,
           77,
           12,
           41,
           39,
           42,
           53,
           53,
           83,
           100,
           96,
           34,
           62,
           63,
           32,
           94,
           49,
           53,
           32,
           66,
           38,
           43,
           51,
           51,
           53,
           64,
           44,
           77,
           92,
           40,
           46,
           38,
           31,
           48,
           63,
           48,
           57,
           71,
           56,
           71,
           67,
           28,
           63,
           88,
           72,
           84,
           52,
           41,
           28,
           67,
           48,
           51,
           52,
           49,
           64,
           48,
           47,
           13,
           53,
           61,
           80,
           47,
           44,
           36,
           36,
           34,
           26,
           22,
           39,
           70,
           40,
           19,
           39,
           58,
           12,
           31,
           72,
           55,
           37,
           63
          ],
          "symbol": "circle"
         },
         "mode": "markers",
         "text": "",
         "type": "scatter",
         "x": [
          0.6867770234399924,
          0.6683921551017072,
          1.4411533697513295,
          1.9814409657559837,
          1.3297210445147463,
          -0.7454371355133094,
          1.6054355600955885,
          0.25685192250655775,
          0.7681629728758927,
          0.26631449845872057,
          0.4874681369848982,
          0.5926917529590866,
          0.2600543069693062,
          0.5981599021953241,
          -0.8029300893067477,
          -0.45520706587696247,
          -1.162274945071763,
          1.4873869734593488,
          -0.5074535841763738,
          -1.5980862260744064,
          -0.7981607121132976,
          -0.5821172949528158,
          -1.309959299850956,
          1.1040129420665168,
          0.20044545239276854,
          1.111659057314797,
          -0.5443350342537964,
          -0.674078570415267,
          0.5308378767773303,
          1.5819011229061855,
          -0.6585024130960088,
          0.3039520125964033,
          0.49178893328258966,
          0.6064506592926233,
          -1.8484992585717293,
          -0.9198261432231457,
          -0.11505254536924395,
          0.17643085744403872,
          1.3606433706436278,
          0.027154200137313286,
          -1.8977140908651022,
          -0.09063800461185963,
          -1.0704299475843002,
          0.7757697807985183,
          0.25620904731821176,
          0.5127127140350655,
          -2.343472112268618,
          -0.06805977415418642,
          -0.39528344371093654,
          1.1711076522338058,
          -0.7025279613218357,
          0.557651577469672,
          0.12477374102015629,
          -1.0577545085081579,
          -0.43019701926306725,
          1.2069421851749134,
          -0.7791923704708045,
          1.0135088763041744,
          0.28223482982016257,
          -0.3776366587228701,
          0.28480979254795213,
          -0.4689099355954037,
          -0.2704403487847361,
          -0.7461871425208925,
          0.02979897428197944,
          0.3550996012408532,
          -0.23337710901946604,
          1.2265202923846001,
          0.22289684777333957,
          0.7130236092487747,
          1.090319553484314,
          -0.1259374555010921,
          0.6755857513941631,
          0.846150006174834,
          -1.9735613019687583,
          0.1248457641479048,
          -0.4503405044647784,
          2.1319321399103885,
          -0.05482518418863648,
          0.3591864789455423,
          0.29013706613646145,
          -1.1674264558216436,
          1.263060648457533,
          -0.4283697681280546,
          -1.1169311139072653,
          2.2871338492187223,
          -0.8022165210911054,
          0.4801854271748392,
          -0.20279369249553533,
          0.7932384948888824,
          0.12368988105696019,
          -0.6658885104786149,
          -0.8535879634111915,
          0.6691566943053116,
          1.3778781097188044,
          -0.40096783731574775,
          0.5365602358752499,
          -0.9340021510793627,
          0.768674087497113,
          1.1628853316271177
         ],
         "y": [
          -0.13317250955058804,
          1.1469483703411436,
          -0.3369160573996035,
          0.9345628575145157,
          0.026618136876677242,
          0.43602774098502156,
          0.36541834437429854,
          0.34920285959226127,
          1.035547613876929,
          0.09682355007368777,
          -1.5845154423925458,
          -0.33346814170282074,
          1.875935261774552,
          -0.6146734310685307,
          -0.9502418622919613,
          -0.2413147838233888,
          -1.1905874087159456,
          -0.9074266548477595,
          -0.07544356091382087,
          0.11456747562593982,
          -0.6029179064378459,
          0.13977738162235842,
          -0.5309511232759857,
          0.23252760667885658,
          -0.2379396513741157,
          0.13486859538005608,
          -0.9595455583635307,
          0.9991707111940493,
          0.9426854823503447,
          -1.6287601170248207,
          0.5285082467342825,
          -1.1045862862583906,
          -1.625668376153862,
          -0.27566813178861027,
          1.073418349384924,
          0.34193548324245226,
          0.4134700026634259,
          1.7234145326150183,
          0.32607620486216227,
          -0.5034845578483993,
          0.3595217976687179,
          -0.2350353681971456,
          0.13542555229421763,
          -1.210728851690674,
          -0.21862258085247968,
          0.5287209500685007,
          -0.9818716938700952,
          -0.9700692902538947,
          -0.21062493798041515,
          -2.623632077276048,
          -1.6771077561187702,
          0.6273357676959612,
          1.340676445494298,
          0.858101859934823,
          0.09187899143646375,
          -1.8014366059262978,
          1.4651367616278217,
          -1.0407002209311496,
          1.5678780367087326,
          0.04413441282943161,
          0.46303916712438187,
          -2.2362121515048985,
          -0.10186430992083725,
          -0.0901160414451153,
          -0.7584346104142148,
          -1.1437998725917586,
          0.36384151964499556,
          -1.5608581277636375,
          -0.22363566152366238,
          0.6044865056870309,
          -0.4171815130511632,
          -0.8145273398208088,
          0.4235969843982873,
          -1.6056108511836462,
          1.109545071680009,
          1.605903064802739,
          -0.30045111312116185,
          0.9143362367789264,
          0.0763392435861955,
          0.39808389415265155,
          0.49236247904288005,
          -0.6538455665233687,
          0.620145973703499,
          0.45786964565424904,
          1.2698143686321746,
          -1.1929860667813577,
          0.9276466017795602,
          1.3841826482362374,
          -1.541241948974734,
          -0.8887221411527173,
          0.4612604209234516,
          0.9583990585918534,
          1.0762796941834432,
          0.24531025847474772,
          -0.8329708040181879,
          -1.6532076570394758,
          1.1764349620768106,
          0.2769488477876356,
          -0.7830798045923495,
          -0.43233533459943146
         ]
        }
       ],
       "layout": {
        "legend": {
         "bgcolor": "#F5F6F9",
         "font": {
          "color": "#4D5663"
         }
        },
        "paper_bgcolor": "#F5F6F9",
        "plot_bgcolor": "#F5F6F9",
        "template": {
         "data": {
          "bar": [
           {
            "error_x": {
             "color": "#2a3f5f"
            },
            "error_y": {
             "color": "#2a3f5f"
            },
            "marker": {
             "line": {
              "color": "#E5ECF6",
              "width": 0.5
             },
             "pattern": {
              "fillmode": "overlay",
              "size": 10,
              "solidity": 0.2
             }
            },
            "type": "bar"
           }
          ],
          "barpolar": [
           {
            "marker": {
             "line": {
              "color": "#E5ECF6",
              "width": 0.5
             },
             "pattern": {
              "fillmode": "overlay",
              "size": 10,
              "solidity": 0.2
             }
            },
            "type": "barpolar"
           }
          ],
          "carpet": [
           {
            "aaxis": {
             "endlinecolor": "#2a3f5f",
             "gridcolor": "white",
             "linecolor": "white",
             "minorgridcolor": "white",
             "startlinecolor": "#2a3f5f"
            },
            "baxis": {
             "endlinecolor": "#2a3f5f",
             "gridcolor": "white",
             "linecolor": "white",
             "minorgridcolor": "white",
             "startlinecolor": "#2a3f5f"
            },
            "type": "carpet"
           }
          ],
          "choropleth": [
           {
            "colorbar": {
             "outlinewidth": 0,
             "ticks": ""
            },
            "type": "choropleth"
           }
          ],
          "contour": [
           {
            "colorbar": {
             "outlinewidth": 0,
             "ticks": ""
            },
            "colorscale": [
             [
              0,
              "#0d0887"
             ],
             [
              0.1111111111111111,
              "#46039f"
             ],
             [
              0.2222222222222222,
              "#7201a8"
             ],
             [
              0.3333333333333333,
              "#9c179e"
             ],
             [
              0.4444444444444444,
              "#bd3786"
             ],
             [
              0.5555555555555556,
              "#d8576b"
             ],
             [
              0.6666666666666666,
              "#ed7953"
             ],
             [
              0.7777777777777778,
              "#fb9f3a"
             ],
             [
              0.8888888888888888,
              "#fdca26"
             ],
             [
              1,
              "#f0f921"
             ]
            ],
            "type": "contour"
           }
          ],
          "contourcarpet": [
           {
            "colorbar": {
             "outlinewidth": 0,
             "ticks": ""
            },
            "type": "contourcarpet"
           }
          ],
          "heatmap": [
           {
            "colorbar": {
             "outlinewidth": 0,
             "ticks": ""
            },
            "colorscale": [
             [
              0,
              "#0d0887"
             ],
             [
              0.1111111111111111,
              "#46039f"
             ],
             [
              0.2222222222222222,
              "#7201a8"
             ],
             [
              0.3333333333333333,
              "#9c179e"
             ],
             [
              0.4444444444444444,
              "#bd3786"
             ],
             [
              0.5555555555555556,
              "#d8576b"
             ],
             [
              0.6666666666666666,
              "#ed7953"
             ],
             [
              0.7777777777777778,
              "#fb9f3a"
             ],
             [
              0.8888888888888888,
              "#fdca26"
             ],
             [
              1,
              "#f0f921"
             ]
            ],
            "type": "heatmap"
           }
          ],
          "heatmapgl": [
           {
            "colorbar": {
             "outlinewidth": 0,
             "ticks": ""
            },
            "colorscale": [
             [
              0,
              "#0d0887"
             ],
             [
              0.1111111111111111,
              "#46039f"
             ],
             [
              0.2222222222222222,
              "#7201a8"
             ],
             [
              0.3333333333333333,
              "#9c179e"
             ],
             [
              0.4444444444444444,
              "#bd3786"
             ],
             [
              0.5555555555555556,
              "#d8576b"
             ],
             [
              0.6666666666666666,
              "#ed7953"
             ],
             [
              0.7777777777777778,
              "#fb9f3a"
             ],
             [
              0.8888888888888888,
              "#fdca26"
             ],
             [
              1,
              "#f0f921"
             ]
            ],
            "type": "heatmapgl"
           }
          ],
          "histogram": [
           {
            "marker": {
             "pattern": {
              "fillmode": "overlay",
              "size": 10,
              "solidity": 0.2
             }
            },
            "type": "histogram"
           }
          ],
          "histogram2d": [
           {
            "colorbar": {
             "outlinewidth": 0,
             "ticks": ""
            },
            "colorscale": [
             [
              0,
              "#0d0887"
             ],
             [
              0.1111111111111111,
              "#46039f"
             ],
             [
              0.2222222222222222,
              "#7201a8"
             ],
             [
              0.3333333333333333,
              "#9c179e"
             ],
             [
              0.4444444444444444,
              "#bd3786"
             ],
             [
              0.5555555555555556,
              "#d8576b"
             ],
             [
              0.6666666666666666,
              "#ed7953"
             ],
             [
              0.7777777777777778,
              "#fb9f3a"
             ],
             [
              0.8888888888888888,
              "#fdca26"
             ],
             [
              1,
              "#f0f921"
             ]
            ],
            "type": "histogram2d"
           }
          ],
          "histogram2dcontour": [
           {
            "colorbar": {
             "outlinewidth": 0,
             "ticks": ""
            },
            "colorscale": [
             [
              0,
              "#0d0887"
             ],
             [
              0.1111111111111111,
              "#46039f"
             ],
             [
              0.2222222222222222,
              "#7201a8"
             ],
             [
              0.3333333333333333,
              "#9c179e"
             ],
             [
              0.4444444444444444,
              "#bd3786"
             ],
             [
              0.5555555555555556,
              "#d8576b"
             ],
             [
              0.6666666666666666,
              "#ed7953"
             ],
             [
              0.7777777777777778,
              "#fb9f3a"
             ],
             [
              0.8888888888888888,
              "#fdca26"
             ],
             [
              1,
              "#f0f921"
             ]
            ],
            "type": "histogram2dcontour"
           }
          ],
          "mesh3d": [
           {
            "colorbar": {
             "outlinewidth": 0,
             "ticks": ""
            },
            "type": "mesh3d"
           }
          ],
          "parcoords": [
           {
            "line": {
             "colorbar": {
              "outlinewidth": 0,
              "ticks": ""
             }
            },
            "type": "parcoords"
           }
          ],
          "pie": [
           {
            "automargin": true,
            "type": "pie"
           }
          ],
          "scatter": [
           {
            "fillpattern": {
             "fillmode": "overlay",
             "size": 10,
             "solidity": 0.2
            },
            "type": "scatter"
           }
          ],
          "scatter3d": [
           {
            "line": {
             "colorbar": {
              "outlinewidth": 0,
              "ticks": ""
             }
            },
            "marker": {
             "colorbar": {
              "outlinewidth": 0,
              "ticks": ""
             }
            },
            "type": "scatter3d"
           }
          ],
          "scattercarpet": [
           {
            "marker": {
             "colorbar": {
              "outlinewidth": 0,
              "ticks": ""
             }
            },
            "type": "scattercarpet"
           }
          ],
          "scattergeo": [
           {
            "marker": {
             "colorbar": {
              "outlinewidth": 0,
              "ticks": ""
             }
            },
            "type": "scattergeo"
           }
          ],
          "scattergl": [
           {
            "marker": {
             "colorbar": {
              "outlinewidth": 0,
              "ticks": ""
             }
            },
            "type": "scattergl"
           }
          ],
          "scattermapbox": [
           {
            "marker": {
             "colorbar": {
              "outlinewidth": 0,
              "ticks": ""
             }
            },
            "type": "scattermapbox"
           }
          ],
          "scatterpolar": [
           {
            "marker": {
             "colorbar": {
              "outlinewidth": 0,
              "ticks": ""
             }
            },
            "type": "scatterpolar"
           }
          ],
          "scatterpolargl": [
           {
            "marker": {
             "colorbar": {
              "outlinewidth": 0,
              "ticks": ""
             }
            },
            "type": "scatterpolargl"
           }
          ],
          "scatterternary": [
           {
            "marker": {
             "colorbar": {
              "outlinewidth": 0,
              "ticks": ""
             }
            },
            "type": "scatterternary"
           }
          ],
          "surface": [
           {
            "colorbar": {
             "outlinewidth": 0,
             "ticks": ""
            },
            "colorscale": [
             [
              0,
              "#0d0887"
             ],
             [
              0.1111111111111111,
              "#46039f"
             ],
             [
              0.2222222222222222,
              "#7201a8"
             ],
             [
              0.3333333333333333,
              "#9c179e"
             ],
             [
              0.4444444444444444,
              "#bd3786"
             ],
             [
              0.5555555555555556,
              "#d8576b"
             ],
             [
              0.6666666666666666,
              "#ed7953"
             ],
             [
              0.7777777777777778,
              "#fb9f3a"
             ],
             [
              0.8888888888888888,
              "#fdca26"
             ],
             [
              1,
              "#f0f921"
             ]
            ],
            "type": "surface"
           }
          ],
          "table": [
           {
            "cells": {
             "fill": {
              "color": "#EBF0F8"
             },
             "line": {
              "color": "white"
             }
            },
            "header": {
             "fill": {
              "color": "#C8D4E3"
             },
             "line": {
              "color": "white"
             }
            },
            "type": "table"
           }
          ]
         },
         "layout": {
          "annotationdefaults": {
           "arrowcolor": "#2a3f5f",
           "arrowhead": 0,
           "arrowwidth": 1
          },
          "autotypenumbers": "strict",
          "coloraxis": {
           "colorbar": {
            "outlinewidth": 0,
            "ticks": ""
           }
          },
          "colorscale": {
           "diverging": [
            [
             0,
             "#8e0152"
            ],
            [
             0.1,
             "#c51b7d"
            ],
            [
             0.2,
             "#de77ae"
            ],
            [
             0.3,
             "#f1b6da"
            ],
            [
             0.4,
             "#fde0ef"
            ],
            [
             0.5,
             "#f7f7f7"
            ],
            [
             0.6,
             "#e6f5d0"
            ],
            [
             0.7,
             "#b8e186"
            ],
            [
             0.8,
             "#7fbc41"
            ],
            [
             0.9,
             "#4d9221"
            ],
            [
             1,
             "#276419"
            ]
           ],
           "sequential": [
            [
             0,
             "#0d0887"
            ],
            [
             0.1111111111111111,
             "#46039f"
            ],
            [
             0.2222222222222222,
             "#7201a8"
            ],
            [
             0.3333333333333333,
             "#9c179e"
            ],
            [
             0.4444444444444444,
             "#bd3786"
            ],
            [
             0.5555555555555556,
             "#d8576b"
            ],
            [
             0.6666666666666666,
             "#ed7953"
            ],
            [
             0.7777777777777778,
             "#fb9f3a"
            ],
            [
             0.8888888888888888,
             "#fdca26"
            ],
            [
             1,
             "#f0f921"
            ]
           ],
           "sequentialminus": [
            [
             0,
             "#0d0887"
            ],
            [
             0.1111111111111111,
             "#46039f"
            ],
            [
             0.2222222222222222,
             "#7201a8"
            ],
            [
             0.3333333333333333,
             "#9c179e"
            ],
            [
             0.4444444444444444,
             "#bd3786"
            ],
            [
             0.5555555555555556,
             "#d8576b"
            ],
            [
             0.6666666666666666,
             "#ed7953"
            ],
            [
             0.7777777777777778,
             "#fb9f3a"
            ],
            [
             0.8888888888888888,
             "#fdca26"
            ],
            [
             1,
             "#f0f921"
            ]
           ]
          },
          "colorway": [
           "#636efa",
           "#EF553B",
           "#00cc96",
           "#ab63fa",
           "#FFA15A",
           "#19d3f3",
           "#FF6692",
           "#B6E880",
           "#FF97FF",
           "#FECB52"
          ],
          "font": {
           "color": "#2a3f5f"
          },
          "geo": {
           "bgcolor": "white",
           "lakecolor": "white",
           "landcolor": "#E5ECF6",
           "showlakes": true,
           "showland": true,
           "subunitcolor": "white"
          },
          "hoverlabel": {
           "align": "left"
          },
          "hovermode": "closest",
          "mapbox": {
           "style": "light"
          },
          "paper_bgcolor": "white",
          "plot_bgcolor": "#E5ECF6",
          "polar": {
           "angularaxis": {
            "gridcolor": "white",
            "linecolor": "white",
            "ticks": ""
           },
           "bgcolor": "#E5ECF6",
           "radialaxis": {
            "gridcolor": "white",
            "linecolor": "white",
            "ticks": ""
           }
          },
          "scene": {
           "xaxis": {
            "backgroundcolor": "#E5ECF6",
            "gridcolor": "white",
            "gridwidth": 2,
            "linecolor": "white",
            "showbackground": true,
            "ticks": "",
            "zerolinecolor": "white"
           },
           "yaxis": {
            "backgroundcolor": "#E5ECF6",
            "gridcolor": "white",
            "gridwidth": 2,
            "linecolor": "white",
            "showbackground": true,
            "ticks": "",
            "zerolinecolor": "white"
           },
           "zaxis": {
            "backgroundcolor": "#E5ECF6",
            "gridcolor": "white",
            "gridwidth": 2,
            "linecolor": "white",
            "showbackground": true,
            "ticks": "",
            "zerolinecolor": "white"
           }
          },
          "shapedefaults": {
           "line": {
            "color": "#2a3f5f"
           }
          },
          "ternary": {
           "aaxis": {
            "gridcolor": "white",
            "linecolor": "white",
            "ticks": ""
           },
           "baxis": {
            "gridcolor": "white",
            "linecolor": "white",
            "ticks": ""
           },
           "bgcolor": "#E5ECF6",
           "caxis": {
            "gridcolor": "white",
            "linecolor": "white",
            "ticks": ""
           }
          },
          "title": {
           "x": 0.05
          },
          "xaxis": {
           "automargin": true,
           "gridcolor": "white",
           "linecolor": "white",
           "ticks": "",
           "title": {
            "standoff": 15
           },
           "zerolinecolor": "white",
           "zerolinewidth": 2
          },
          "yaxis": {
           "automargin": true,
           "gridcolor": "white",
           "linecolor": "white",
           "ticks": "",
           "title": {
            "standoff": 15
           },
           "zerolinecolor": "white",
           "zerolinewidth": 2
          }
         }
        },
        "title": {
         "font": {
          "color": "#4D5663"
         }
        },
        "xaxis": {
         "gridcolor": "#E1E5ED",
         "showgrid": true,
         "tickfont": {
          "color": "#4D5663"
         },
         "title": {
          "font": {
           "color": "#4D5663"
          },
          "text": ""
         },
         "zerolinecolor": "#E1E5ED"
        },
        "yaxis": {
         "gridcolor": "#E1E5ED",
         "showgrid": true,
         "tickfont": {
          "color": "#4D5663"
         },
         "title": {
          "font": {
           "color": "#4D5663"
          },
          "text": ""
         },
         "zerolinecolor": "#E1E5ED"
        }
       }
      },
      "text/html": [
       "<div>                            <div id=\"a4c1b6b4-ec98-4617-85c2-49f2159b492c\" class=\"plotly-graph-div\" style=\"height:525px; width:100%;\"></div>            <script type=\"text/javascript\">                require([\"plotly\"], function(Plotly) {                    window.PLOTLYENV=window.PLOTLYENV || {};\n",
       "                    window.PLOTLYENV.BASE_URL='https://plot.ly';                                    if (document.getElementById(\"a4c1b6b4-ec98-4617-85c2-49f2159b492c\")) {                    Plotly.newPlot(                        \"a4c1b6b4-ec98-4617-85c2-49f2159b492c\",                        [{\"marker\":{\"color\":[\"rgb(255, 153, 51)\",\"rgb(55, 128, 191)\",\"rgb(50, 171, 96)\",\"rgb(128, 0, 128)\",\"rgb(219, 64, 82)\",\"rgb(0, 128, 128)\",\"rgb(255, 255, 51)\",\"rgb(128, 128, 0)\",\"rgb(251, 128, 114)\",\"rgb(128, 177, 211)\"],\"line\":{\"width\":1.3},\"size\":[52,28,56,71,66,88,14,64,53,48,88,112,60,34,49,54,54,51,68,35,37,77,12,41,39,42,53,53,83,100,96,34,62,63,32,94,49,53,32,66,38,43,51,51,53,64,44,77,92,40,46,38,31,48,63,48,57,71,56,71,67,28,63,88,72,84,52,41,28,67,48,51,52,49,64,48,47,13,53,61,80,47,44,36,36,34,26,22,39,70,40,19,39,58,12,31,72,55,37,63],\"symbol\":\"circle\"},\"mode\":\"markers\",\"text\":\"\",\"x\":[0.6867770234399924,0.6683921551017072,1.4411533697513295,1.9814409657559837,1.3297210445147463,-0.7454371355133094,1.6054355600955885,0.25685192250655775,0.7681629728758927,0.26631449845872057,0.4874681369848982,0.5926917529590866,0.2600543069693062,0.5981599021953241,-0.8029300893067477,-0.45520706587696247,-1.162274945071763,1.4873869734593488,-0.5074535841763738,-1.5980862260744064,-0.7981607121132976,-0.5821172949528158,-1.309959299850956,1.1040129420665168,0.20044545239276854,1.111659057314797,-0.5443350342537964,-0.674078570415267,0.5308378767773303,1.5819011229061855,-0.6585024130960088,0.3039520125964033,0.49178893328258966,0.6064506592926233,-1.8484992585717293,-0.9198261432231457,-0.11505254536924395,0.17643085744403872,1.3606433706436278,0.027154200137313286,-1.8977140908651022,-0.09063800461185963,-1.0704299475843002,0.7757697807985183,0.25620904731821176,0.5127127140350655,-2.343472112268618,-0.06805977415418642,-0.39528344371093654,1.1711076522338058,-0.7025279613218357,0.557651577469672,0.12477374102015629,-1.0577545085081579,-0.43019701926306725,1.2069421851749134,-0.7791923704708045,1.0135088763041744,0.28223482982016257,-0.3776366587228701,0.28480979254795213,-0.4689099355954037,-0.2704403487847361,-0.7461871425208925,0.02979897428197944,0.3550996012408532,-0.23337710901946604,1.2265202923846001,0.22289684777333957,0.7130236092487747,1.090319553484314,-0.1259374555010921,0.6755857513941631,0.846150006174834,-1.9735613019687583,0.1248457641479048,-0.4503405044647784,2.1319321399103885,-0.05482518418863648,0.3591864789455423,0.29013706613646145,-1.1674264558216436,1.263060648457533,-0.4283697681280546,-1.1169311139072653,2.2871338492187223,-0.8022165210911054,0.4801854271748392,-0.20279369249553533,0.7932384948888824,0.12368988105696019,-0.6658885104786149,-0.8535879634111915,0.6691566943053116,1.3778781097188044,-0.40096783731574775,0.5365602358752499,-0.9340021510793627,0.768674087497113,1.1628853316271177],\"y\":[-0.13317250955058804,1.1469483703411436,-0.3369160573996035,0.9345628575145157,0.026618136876677242,0.43602774098502156,0.36541834437429854,0.34920285959226127,1.035547613876929,0.09682355007368777,-1.5845154423925458,-0.33346814170282074,1.875935261774552,-0.6146734310685307,-0.9502418622919613,-0.2413147838233888,-1.1905874087159456,-0.9074266548477595,-0.07544356091382087,0.11456747562593982,-0.6029179064378459,0.13977738162235842,-0.5309511232759857,0.23252760667885658,-0.2379396513741157,0.13486859538005608,-0.9595455583635307,0.9991707111940493,0.9426854823503447,-1.6287601170248207,0.5285082467342825,-1.1045862862583906,-1.625668376153862,-0.27566813178861027,1.073418349384924,0.34193548324245226,0.4134700026634259,1.7234145326150183,0.32607620486216227,-0.5034845578483993,0.3595217976687179,-0.2350353681971456,0.13542555229421763,-1.210728851690674,-0.21862258085247968,0.5287209500685007,-0.9818716938700952,-0.9700692902538947,-0.21062493798041515,-2.623632077276048,-1.6771077561187702,0.6273357676959612,1.340676445494298,0.858101859934823,0.09187899143646375,-1.8014366059262978,1.4651367616278217,-1.0407002209311496,1.5678780367087326,0.04413441282943161,0.46303916712438187,-2.2362121515048985,-0.10186430992083725,-0.0901160414451153,-0.7584346104142148,-1.1437998725917586,0.36384151964499556,-1.5608581277636375,-0.22363566152366238,0.6044865056870309,-0.4171815130511632,-0.8145273398208088,0.4235969843982873,-1.6056108511836462,1.109545071680009,1.605903064802739,-0.30045111312116185,0.9143362367789264,0.0763392435861955,0.39808389415265155,0.49236247904288005,-0.6538455665233687,0.620145973703499,0.45786964565424904,1.2698143686321746,-1.1929860667813577,0.9276466017795602,1.3841826482362374,-1.541241948974734,-0.8887221411527173,0.4612604209234516,0.9583990585918534,1.0762796941834432,0.24531025847474772,-0.8329708040181879,-1.6532076570394758,1.1764349620768106,0.2769488477876356,-0.7830798045923495,-0.43233533459943146],\"type\":\"scatter\"}],                        {\"legend\":{\"bgcolor\":\"#F5F6F9\",\"font\":{\"color\":\"#4D5663\"}},\"paper_bgcolor\":\"#F5F6F9\",\"plot_bgcolor\":\"#F5F6F9\",\"template\":{\"data\":{\"barpolar\":[{\"marker\":{\"line\":{\"color\":\"#E5ECF6\",\"width\":0.5},\"pattern\":{\"fillmode\":\"overlay\",\"size\":10,\"solidity\":0.2}},\"type\":\"barpolar\"}],\"bar\":[{\"error_x\":{\"color\":\"#2a3f5f\"},\"error_y\":{\"color\":\"#2a3f5f\"},\"marker\":{\"line\":{\"color\":\"#E5ECF6\",\"width\":0.5},\"pattern\":{\"fillmode\":\"overlay\",\"size\":10,\"solidity\":0.2}},\"type\":\"bar\"}],\"carpet\":[{\"aaxis\":{\"endlinecolor\":\"#2a3f5f\",\"gridcolor\":\"white\",\"linecolor\":\"white\",\"minorgridcolor\":\"white\",\"startlinecolor\":\"#2a3f5f\"},\"baxis\":{\"endlinecolor\":\"#2a3f5f\",\"gridcolor\":\"white\",\"linecolor\":\"white\",\"minorgridcolor\":\"white\",\"startlinecolor\":\"#2a3f5f\"},\"type\":\"carpet\"}],\"choropleth\":[{\"colorbar\":{\"outlinewidth\":0,\"ticks\":\"\"},\"type\":\"choropleth\"}],\"contourcarpet\":[{\"colorbar\":{\"outlinewidth\":0,\"ticks\":\"\"},\"type\":\"contourcarpet\"}],\"contour\":[{\"colorbar\":{\"outlinewidth\":0,\"ticks\":\"\"},\"colorscale\":[[0.0,\"#0d0887\"],[0.1111111111111111,\"#46039f\"],[0.2222222222222222,\"#7201a8\"],[0.3333333333333333,\"#9c179e\"],[0.4444444444444444,\"#bd3786\"],[0.5555555555555556,\"#d8576b\"],[0.6666666666666666,\"#ed7953\"],[0.7777777777777778,\"#fb9f3a\"],[0.8888888888888888,\"#fdca26\"],[1.0,\"#f0f921\"]],\"type\":\"contour\"}],\"heatmapgl\":[{\"colorbar\":{\"outlinewidth\":0,\"ticks\":\"\"},\"colorscale\":[[0.0,\"#0d0887\"],[0.1111111111111111,\"#46039f\"],[0.2222222222222222,\"#7201a8\"],[0.3333333333333333,\"#9c179e\"],[0.4444444444444444,\"#bd3786\"],[0.5555555555555556,\"#d8576b\"],[0.6666666666666666,\"#ed7953\"],[0.7777777777777778,\"#fb9f3a\"],[0.8888888888888888,\"#fdca26\"],[1.0,\"#f0f921\"]],\"type\":\"heatmapgl\"}],\"heatmap\":[{\"colorbar\":{\"outlinewidth\":0,\"ticks\":\"\"},\"colorscale\":[[0.0,\"#0d0887\"],[0.1111111111111111,\"#46039f\"],[0.2222222222222222,\"#7201a8\"],[0.3333333333333333,\"#9c179e\"],[0.4444444444444444,\"#bd3786\"],[0.5555555555555556,\"#d8576b\"],[0.6666666666666666,\"#ed7953\"],[0.7777777777777778,\"#fb9f3a\"],[0.8888888888888888,\"#fdca26\"],[1.0,\"#f0f921\"]],\"type\":\"heatmap\"}],\"histogram2dcontour\":[{\"colorbar\":{\"outlinewidth\":0,\"ticks\":\"\"},\"colorscale\":[[0.0,\"#0d0887\"],[0.1111111111111111,\"#46039f\"],[0.2222222222222222,\"#7201a8\"],[0.3333333333333333,\"#9c179e\"],[0.4444444444444444,\"#bd3786\"],[0.5555555555555556,\"#d8576b\"],[0.6666666666666666,\"#ed7953\"],[0.7777777777777778,\"#fb9f3a\"],[0.8888888888888888,\"#fdca26\"],[1.0,\"#f0f921\"]],\"type\":\"histogram2dcontour\"}],\"histogram2d\":[{\"colorbar\":{\"outlinewidth\":0,\"ticks\":\"\"},\"colorscale\":[[0.0,\"#0d0887\"],[0.1111111111111111,\"#46039f\"],[0.2222222222222222,\"#7201a8\"],[0.3333333333333333,\"#9c179e\"],[0.4444444444444444,\"#bd3786\"],[0.5555555555555556,\"#d8576b\"],[0.6666666666666666,\"#ed7953\"],[0.7777777777777778,\"#fb9f3a\"],[0.8888888888888888,\"#fdca26\"],[1.0,\"#f0f921\"]],\"type\":\"histogram2d\"}],\"histogram\":[{\"marker\":{\"pattern\":{\"fillmode\":\"overlay\",\"size\":10,\"solidity\":0.2}},\"type\":\"histogram\"}],\"mesh3d\":[{\"colorbar\":{\"outlinewidth\":0,\"ticks\":\"\"},\"type\":\"mesh3d\"}],\"parcoords\":[{\"line\":{\"colorbar\":{\"outlinewidth\":0,\"ticks\":\"\"}},\"type\":\"parcoords\"}],\"pie\":[{\"automargin\":true,\"type\":\"pie\"}],\"scatter3d\":[{\"line\":{\"colorbar\":{\"outlinewidth\":0,\"ticks\":\"\"}},\"marker\":{\"colorbar\":{\"outlinewidth\":0,\"ticks\":\"\"}},\"type\":\"scatter3d\"}],\"scattercarpet\":[{\"marker\":{\"colorbar\":{\"outlinewidth\":0,\"ticks\":\"\"}},\"type\":\"scattercarpet\"}],\"scattergeo\":[{\"marker\":{\"colorbar\":{\"outlinewidth\":0,\"ticks\":\"\"}},\"type\":\"scattergeo\"}],\"scattergl\":[{\"marker\":{\"colorbar\":{\"outlinewidth\":0,\"ticks\":\"\"}},\"type\":\"scattergl\"}],\"scattermapbox\":[{\"marker\":{\"colorbar\":{\"outlinewidth\":0,\"ticks\":\"\"}},\"type\":\"scattermapbox\"}],\"scatterpolargl\":[{\"marker\":{\"colorbar\":{\"outlinewidth\":0,\"ticks\":\"\"}},\"type\":\"scatterpolargl\"}],\"scatterpolar\":[{\"marker\":{\"colorbar\":{\"outlinewidth\":0,\"ticks\":\"\"}},\"type\":\"scatterpolar\"}],\"scatter\":[{\"fillpattern\":{\"fillmode\":\"overlay\",\"size\":10,\"solidity\":0.2},\"type\":\"scatter\"}],\"scatterternary\":[{\"marker\":{\"colorbar\":{\"outlinewidth\":0,\"ticks\":\"\"}},\"type\":\"scatterternary\"}],\"surface\":[{\"colorbar\":{\"outlinewidth\":0,\"ticks\":\"\"},\"colorscale\":[[0.0,\"#0d0887\"],[0.1111111111111111,\"#46039f\"],[0.2222222222222222,\"#7201a8\"],[0.3333333333333333,\"#9c179e\"],[0.4444444444444444,\"#bd3786\"],[0.5555555555555556,\"#d8576b\"],[0.6666666666666666,\"#ed7953\"],[0.7777777777777778,\"#fb9f3a\"],[0.8888888888888888,\"#fdca26\"],[1.0,\"#f0f921\"]],\"type\":\"surface\"}],\"table\":[{\"cells\":{\"fill\":{\"color\":\"#EBF0F8\"},\"line\":{\"color\":\"white\"}},\"header\":{\"fill\":{\"color\":\"#C8D4E3\"},\"line\":{\"color\":\"white\"}},\"type\":\"table\"}]},\"layout\":{\"annotationdefaults\":{\"arrowcolor\":\"#2a3f5f\",\"arrowhead\":0,\"arrowwidth\":1},\"autotypenumbers\":\"strict\",\"coloraxis\":{\"colorbar\":{\"outlinewidth\":0,\"ticks\":\"\"}},\"colorscale\":{\"diverging\":[[0,\"#8e0152\"],[0.1,\"#c51b7d\"],[0.2,\"#de77ae\"],[0.3,\"#f1b6da\"],[0.4,\"#fde0ef\"],[0.5,\"#f7f7f7\"],[0.6,\"#e6f5d0\"],[0.7,\"#b8e186\"],[0.8,\"#7fbc41\"],[0.9,\"#4d9221\"],[1,\"#276419\"]],\"sequential\":[[0.0,\"#0d0887\"],[0.1111111111111111,\"#46039f\"],[0.2222222222222222,\"#7201a8\"],[0.3333333333333333,\"#9c179e\"],[0.4444444444444444,\"#bd3786\"],[0.5555555555555556,\"#d8576b\"],[0.6666666666666666,\"#ed7953\"],[0.7777777777777778,\"#fb9f3a\"],[0.8888888888888888,\"#fdca26\"],[1.0,\"#f0f921\"]],\"sequentialminus\":[[0.0,\"#0d0887\"],[0.1111111111111111,\"#46039f\"],[0.2222222222222222,\"#7201a8\"],[0.3333333333333333,\"#9c179e\"],[0.4444444444444444,\"#bd3786\"],[0.5555555555555556,\"#d8576b\"],[0.6666666666666666,\"#ed7953\"],[0.7777777777777778,\"#fb9f3a\"],[0.8888888888888888,\"#fdca26\"],[1.0,\"#f0f921\"]]},\"colorway\":[\"#636efa\",\"#EF553B\",\"#00cc96\",\"#ab63fa\",\"#FFA15A\",\"#19d3f3\",\"#FF6692\",\"#B6E880\",\"#FF97FF\",\"#FECB52\"],\"font\":{\"color\":\"#2a3f5f\"},\"geo\":{\"bgcolor\":\"white\",\"lakecolor\":\"white\",\"landcolor\":\"#E5ECF6\",\"showlakes\":true,\"showland\":true,\"subunitcolor\":\"white\"},\"hoverlabel\":{\"align\":\"left\"},\"hovermode\":\"closest\",\"mapbox\":{\"style\":\"light\"},\"paper_bgcolor\":\"white\",\"plot_bgcolor\":\"#E5ECF6\",\"polar\":{\"angularaxis\":{\"gridcolor\":\"white\",\"linecolor\":\"white\",\"ticks\":\"\"},\"bgcolor\":\"#E5ECF6\",\"radialaxis\":{\"gridcolor\":\"white\",\"linecolor\":\"white\",\"ticks\":\"\"}},\"scene\":{\"xaxis\":{\"backgroundcolor\":\"#E5ECF6\",\"gridcolor\":\"white\",\"gridwidth\":2,\"linecolor\":\"white\",\"showbackground\":true,\"ticks\":\"\",\"zerolinecolor\":\"white\"},\"yaxis\":{\"backgroundcolor\":\"#E5ECF6\",\"gridcolor\":\"white\",\"gridwidth\":2,\"linecolor\":\"white\",\"showbackground\":true,\"ticks\":\"\",\"zerolinecolor\":\"white\"},\"zaxis\":{\"backgroundcolor\":\"#E5ECF6\",\"gridcolor\":\"white\",\"gridwidth\":2,\"linecolor\":\"white\",\"showbackground\":true,\"ticks\":\"\",\"zerolinecolor\":\"white\"}},\"shapedefaults\":{\"line\":{\"color\":\"#2a3f5f\"}},\"ternary\":{\"aaxis\":{\"gridcolor\":\"white\",\"linecolor\":\"white\",\"ticks\":\"\"},\"baxis\":{\"gridcolor\":\"white\",\"linecolor\":\"white\",\"ticks\":\"\"},\"bgcolor\":\"#E5ECF6\",\"caxis\":{\"gridcolor\":\"white\",\"linecolor\":\"white\",\"ticks\":\"\"}},\"title\":{\"x\":0.05},\"xaxis\":{\"automargin\":true,\"gridcolor\":\"white\",\"linecolor\":\"white\",\"ticks\":\"\",\"title\":{\"standoff\":15},\"zerolinecolor\":\"white\",\"zerolinewidth\":2},\"yaxis\":{\"automargin\":true,\"gridcolor\":\"white\",\"linecolor\":\"white\",\"ticks\":\"\",\"title\":{\"standoff\":15},\"zerolinecolor\":\"white\",\"zerolinewidth\":2}}},\"title\":{\"font\":{\"color\":\"#4D5663\"}},\"xaxis\":{\"gridcolor\":\"#E1E5ED\",\"showgrid\":true,\"tickfont\":{\"color\":\"#4D5663\"},\"title\":{\"font\":{\"color\":\"#4D5663\"},\"text\":\"\"},\"zerolinecolor\":\"#E1E5ED\"},\"yaxis\":{\"gridcolor\":\"#E1E5ED\",\"showgrid\":true,\"tickfont\":{\"color\":\"#4D5663\"},\"title\":{\"font\":{\"color\":\"#4D5663\"},\"text\":\"\"},\"zerolinecolor\":\"#E1E5ED\"}},                        {\"showLink\": true, \"linkText\": \"Export to plot.ly\", \"plotlyServerURL\": \"https://plot.ly\", \"responsive\": true}                    ).then(function(){\n",
       "                            \n",
       "var gd = document.getElementById('a4c1b6b4-ec98-4617-85c2-49f2159b492c');\n",
       "var x = new MutationObserver(function (mutations, observer) {{\n",
       "        var display = window.getComputedStyle(gd).display;\n",
       "        if (!display || display === 'none') {{\n",
       "            console.log([gd, 'removed!']);\n",
       "            Plotly.purge(gd);\n",
       "            observer.disconnect();\n",
       "        }}\n",
       "}});\n",
       "\n",
       "// Listen for the removal of the full notebook cells\n",
       "var notebookContainer = gd.closest('#notebook-container');\n",
       "if (notebookContainer) {{\n",
       "    x.observe(notebookContainer, {childList: true});\n",
       "}}\n",
       "\n",
       "// Listen for the clearing of the current output cell\n",
       "var outputEl = gd.closest('.output');\n",
       "if (outputEl) {{\n",
       "    x.observe(outputEl, {childList: true});\n",
       "}}\n",
       "\n",
       "                        })                };                });            </script>        </div>"
      ]
     },
     "metadata": {},
     "output_type": "display_data"
    }
   ],
   "source": [
    "df.iplot(kind='bubble',x='A',y='B',size='C')"
   ]
  },
  {
   "cell_type": "markdown",
   "id": "327e3969",
   "metadata": {},
   "source": [
    "## IPlot - ScatterMatrix"
   ]
  },
  {
   "cell_type": "code",
   "execution_count": 65,
   "id": "078f2561",
   "metadata": {},
   "outputs": [
    {
     "data": {
      "application/vnd.plotly.v1+json": {
       "config": {
        "linkText": "Export to plot.ly",
        "plotlyServerURL": "https://plot.ly",
        "showLink": true
       },
       "data": [
        {
         "histfunc": "count",
         "histnorm": "",
         "marker": {
          "color": "rgba(255, 153, 51, 1.0)",
          "line": {
           "color": "#4D5663",
           "width": 1.3
          }
         },
         "name": "A",
         "nbinsx": 10,
         "opacity": 0.8,
         "orientation": "v",
         "type": "histogram",
         "x": [
          0.04472728291752777,
          2.0136277903577247,
          -1.9236196401519277,
          2.4911980816178194,
          -0.9967665313943013,
          -0.7951919577304543,
          1.9487063804665836,
          -2.23538159261186,
          -0.6362833050737016,
          -1.4754844608198587,
          0.011761902594940405,
          0.762460136367464,
          0.09148958294183143,
          -1.3104088928298192,
          -0.6551324495685213,
          0.4417399033234646,
          -1.0041748206612782,
          -2.1279381643445148,
          -0.33415704844100136,
          1.8822856176465037,
          -0.17436524138072843,
          0.24438741548022544,
          1.1271349499163994,
          0.12908581848119247,
          -0.5194216529893724,
          0.06933790600730215,
          -0.1604553359252777,
          0.4243007995667343,
          -1.1251252448290945,
          -1.3033981078054881,
          -0.3439484052277837,
          0.1853004778913747,
          -1.2386458788249415,
          1.5066759635136762,
          -1.5934330724746797,
          1.1466275226458311,
          -0.2998576466989392,
          -0.7564601805963426,
          -0.8075479890241387,
          0.31415964222467585,
          -1.869410364721812,
          -0.7150081458694103,
          -1.1738929577822552,
          -0.03933686859765417,
          -0.2301305754650945,
          1.077391686619631,
          1.1402657961968796,
          0.291777123552492,
          0.9600778507641592,
          -0.4263265753068178,
          -0.5520173344511742,
          0.6578707128339493,
          0.6018249253613506,
          -1.226518784319018,
          -0.10312712302438928,
          -1.0674536882407857,
          0.6482714967308668,
          0.9162266657051357,
          -0.5372298377330095,
          0.8845513154382081,
          0.8015316358892549,
          -0.7257562347588903,
          -0.8516497444356815,
          0.35510691240333075,
          -0.1602518439569381,
          0.18772635521434244,
          0.6394680450095762,
          -1.7841028128897547,
          -1.362461857419024,
          -0.9692165633965856,
          1.8623982171870008,
          1.5405117173715361,
          -1.329477243882208,
          -1.0570415503714614,
          0.8275648531322185,
          0.7174334888677107,
          -1.8407960180545033,
          -0.6327346660982492,
          -1.834893941666618,
          -1.0222932958815636,
          -0.0890975036474237,
          0.9262538909560268,
          1.587038316260175,
          1.4636701642913348,
          0.24217647988032678,
          -0.05063897611733595,
          0.723546614583445,
          -0.49758264536569463,
          0.9075802085838476,
          -1.1304087274552108,
          -1.8339112439763066,
          -1.1000414778730772,
          -1.4124638619838747,
          0.6431580778738788,
          -1.4370295309081362,
          0.6910484972701905,
          3.256655782163857,
          -0.11462551340178101,
          2.17596548950574,
          1.4596346378062068
         ],
         "xaxis": "x",
         "yaxis": "y"
        },
        {
         "line": {
          "color": "rgba(128, 128, 128, 1.0)",
          "dash": "solid",
          "shape": "linear",
          "width": 1.3
         },
         "marker": {
          "size": 2,
          "symbol": "circle"
         },
         "mode": "markers",
         "name": "A",
         "text": "",
         "type": "scatter",
         "x": [
          -0.3581752144020478,
          -0.7438157432225722,
          -0.026352079985911398,
          -1.7030343296523238,
          -0.6804127539561089,
          -0.5742523112529103,
          -0.644070917542256,
          1.1420509381512929,
          2.102995846840507,
          0.8034327021876664,
          -0.2544097102330024,
          -0.5594592584848158,
          0.3215300951874448,
          -2.248060706625145,
          0.8510702715173849,
          0.02002817387705508,
          0.4123192990534875,
          -0.9082770377039694,
          -2.6085505772612874,
          -2.147063117352743,
          0.9535202754542268,
          -0.0073023603245049125,
          0.9538228579321008,
          1.0999244249525777,
          -1.139370634678592,
          0.2756124159103919,
          -0.6372337077181718,
          -0.36135473899091913,
          0.21164955578397002,
          -0.03099702152822309,
          -0.7316516112829898,
          0.6355425652614268,
          1.78039302465161,
          -2.0788866513236086,
          1.1491779044101635,
          -1.6641430920273568,
          -2.2000095056079068,
          -0.982006606741808,
          -1.057634337467608,
          0.5812949646110466,
          -1.4253407808509473,
          0.08339873767432296,
          1.3543453070586946,
          -0.17539272838694092,
          1.2030635329624155,
          -0.8457858322795581,
          -0.3938160616631665,
          0.4041842542547364,
          -0.22165217214236851,
          -1.1733244203373254,
          1.3750172675716983,
          0.9958795214552347,
          -0.4135630924958996,
          1.407402473250491,
          1.3153437163187505,
          -0.2337487208533535,
          -0.8143858125945819,
          1.2535849479121297,
          -1.4013077884969811,
          -0.027873794659457322,
          -1.6519261458676777,
          1.0152535488984349,
          1.6400765995653448,
          -0.13121204521055865,
          0.11617127183790316,
          1.0286285927755345,
          -0.7385281986681842,
          0.5734121298857456,
          0.561397002379349,
          -0.2949416372362533,
          0.3748451018513906,
          0.7535297542120657,
          -0.8808149739384412,
          -0.6003689995820148,
          -0.09021186742874453,
          -1.0472595114473746,
          0.3925190406471404,
          0.7868290741235954,
          -0.6101642208256651,
          2.6848305120360294,
          0.5820378711418692,
          0.01709018333611756,
          0.08485702664004978,
          1.1302744949762342,
          0.2619928493319134,
          -0.7773726420782053,
          -0.013062268486066998,
          -0.6484815907002609,
          0.15677550862065318,
          0.12088007476316984,
          -0.06528420696843706,
          0.9644951425621063,
          0.47524555244276545,
          -1.2159192117365958,
          1.102966649667511,
          0.35982432168304623,
          0.10840028329846188,
          -0.4012335082600968,
          -0.9925124577209844,
          -1.3590407654438954
         ],
         "xaxis": "x2",
         "y": [
          0.04472728291752777,
          2.0136277903577247,
          -1.9236196401519277,
          2.4911980816178194,
          -0.9967665313943013,
          -0.7951919577304543,
          1.9487063804665836,
          -2.23538159261186,
          -0.6362833050737016,
          -1.4754844608198587,
          0.011761902594940405,
          0.762460136367464,
          0.09148958294183143,
          -1.3104088928298192,
          -0.6551324495685213,
          0.4417399033234646,
          -1.0041748206612782,
          -2.1279381643445148,
          -0.33415704844100136,
          1.8822856176465037,
          -0.17436524138072843,
          0.24438741548022544,
          1.1271349499163994,
          0.12908581848119247,
          -0.5194216529893724,
          0.06933790600730215,
          -0.1604553359252777,
          0.4243007995667343,
          -1.1251252448290945,
          -1.3033981078054881,
          -0.3439484052277837,
          0.1853004778913747,
          -1.2386458788249415,
          1.5066759635136762,
          -1.5934330724746797,
          1.1466275226458311,
          -0.2998576466989392,
          -0.7564601805963426,
          -0.8075479890241387,
          0.31415964222467585,
          -1.869410364721812,
          -0.7150081458694103,
          -1.1738929577822552,
          -0.03933686859765417,
          -0.2301305754650945,
          1.077391686619631,
          1.1402657961968796,
          0.291777123552492,
          0.9600778507641592,
          -0.4263265753068178,
          -0.5520173344511742,
          0.6578707128339493,
          0.6018249253613506,
          -1.226518784319018,
          -0.10312712302438928,
          -1.0674536882407857,
          0.6482714967308668,
          0.9162266657051357,
          -0.5372298377330095,
          0.8845513154382081,
          0.8015316358892549,
          -0.7257562347588903,
          -0.8516497444356815,
          0.35510691240333075,
          -0.1602518439569381,
          0.18772635521434244,
          0.6394680450095762,
          -1.7841028128897547,
          -1.362461857419024,
          -0.9692165633965856,
          1.8623982171870008,
          1.5405117173715361,
          -1.329477243882208,
          -1.0570415503714614,
          0.8275648531322185,
          0.7174334888677107,
          -1.8407960180545033,
          -0.6327346660982492,
          -1.834893941666618,
          -1.0222932958815636,
          -0.0890975036474237,
          0.9262538909560268,
          1.587038316260175,
          1.4636701642913348,
          0.24217647988032678,
          -0.05063897611733595,
          0.723546614583445,
          -0.49758264536569463,
          0.9075802085838476,
          -1.1304087274552108,
          -1.8339112439763066,
          -1.1000414778730772,
          -1.4124638619838747,
          0.6431580778738788,
          -1.4370295309081362,
          0.6910484972701905,
          3.256655782163857,
          -0.11462551340178101,
          2.17596548950574,
          1.4596346378062068
         ],
         "yaxis": "y2"
        },
        {
         "line": {
          "color": "rgba(128, 128, 128, 1.0)",
          "dash": "solid",
          "shape": "linear",
          "width": 1.3
         },
         "marker": {
          "size": 2,
          "symbol": "circle"
         },
         "mode": "markers",
         "name": "A",
         "text": "",
         "type": "scatter",
         "x": [
          -0.23448312426228735,
          1.1734040566324928,
          -0.10861389781654822,
          0.24027945635684297,
          -0.08794282132505515,
          0.6726391635010236,
          -0.37552541245105003,
          -0.7494796703260302,
          -1.2199073146846033,
          -1.6931654750619702,
          -1.811079365096557,
          0.020893689638700835,
          1.4440760297398576,
          2.0996733504169476,
          0.2802152532388648,
          -0.631054921461625,
          -0.05058220403933079,
          -0.40616064456808204,
          1.3328310775467256,
          -0.7952521462271923,
          1.193583854304163,
          1.2519963841369282,
          -0.9134586174239632,
          -0.8725557059242434,
          1.322184682356837,
          -0.4731022176800327,
          -0.38267636582941933,
          0.38535412701646493,
          -1.1965059878390942,
          0.19145332611762864,
          0.3566681742276206,
          -1.264716104990276,
          0.4243392705895578,
          1.352646395863531,
          -0.02021727760841491,
          -0.7085479943731398,
          -0.3513627400163215,
          0.4455970114568262,
          -0.07323231464269236,
          -0.8415162878062188,
          0.9561748628251976,
          0.8266471204039709,
          1.1931278881829999,
          -0.580958705159653,
          1.8335977808655468,
          0.42426644760194343,
          -0.7852114902855585,
          -1.0309186190380473,
          -0.5628076000169935,
          -0.6668007851181149,
          -0.47099726499280853,
          1.143799160220701,
          -1.5163084407753304,
          0.20717110610832454,
          -1.415994522288912,
          -2.220675022997926,
          0.6582443065023541,
          0.3031872325281803,
          -1.3815256248194634,
          1.297509735968905,
          -2.238715299297245,
          0.09141734497233205,
          1.286436512846688,
          -0.812447701905832,
          2.4930764402388297,
          1.0160813131560342,
          -0.024805488654926825,
          1.2411060588006042,
          -1.8717534423774491,
          -1.2780107408365775,
          0.9604418458571313,
          1.1860385241314744,
          0.2666552647328103,
          -0.5065385105511384,
          0.4729758225569982,
          -1.7988288083912745,
          0.12658581224890725,
          -0.7429979785392491,
          -0.7766302972611013,
          -0.7908572996583494,
          1.7092147797657669,
          0.3766299248489669,
          0.03407246113986779,
          0.8362003788511563,
          -1.1711334684013959,
          -0.48597338126349765,
          -2.203472995499135,
          -0.4551947366698177,
          -0.05546809983232083,
          2.2647661124262575,
          -0.18290251332336832,
          0.38311887678930373,
          0.7702053250113908,
          -1.4726452884463173,
          -0.7940794673819839,
          -1.4445383145154873,
          -1.1988936019151248,
          -0.8107991708981381,
          0.560932510068928,
          -0.5958865538256582
         ],
         "xaxis": "x3",
         "y": [
          0.04472728291752777,
          2.0136277903577247,
          -1.9236196401519277,
          2.4911980816178194,
          -0.9967665313943013,
          -0.7951919577304543,
          1.9487063804665836,
          -2.23538159261186,
          -0.6362833050737016,
          -1.4754844608198587,
          0.011761902594940405,
          0.762460136367464,
          0.09148958294183143,
          -1.3104088928298192,
          -0.6551324495685213,
          0.4417399033234646,
          -1.0041748206612782,
          -2.1279381643445148,
          -0.33415704844100136,
          1.8822856176465037,
          -0.17436524138072843,
          0.24438741548022544,
          1.1271349499163994,
          0.12908581848119247,
          -0.5194216529893724,
          0.06933790600730215,
          -0.1604553359252777,
          0.4243007995667343,
          -1.1251252448290945,
          -1.3033981078054881,
          -0.3439484052277837,
          0.1853004778913747,
          -1.2386458788249415,
          1.5066759635136762,
          -1.5934330724746797,
          1.1466275226458311,
          -0.2998576466989392,
          -0.7564601805963426,
          -0.8075479890241387,
          0.31415964222467585,
          -1.869410364721812,
          -0.7150081458694103,
          -1.1738929577822552,
          -0.03933686859765417,
          -0.2301305754650945,
          1.077391686619631,
          1.1402657961968796,
          0.291777123552492,
          0.9600778507641592,
          -0.4263265753068178,
          -0.5520173344511742,
          0.6578707128339493,
          0.6018249253613506,
          -1.226518784319018,
          -0.10312712302438928,
          -1.0674536882407857,
          0.6482714967308668,
          0.9162266657051357,
          -0.5372298377330095,
          0.8845513154382081,
          0.8015316358892549,
          -0.7257562347588903,
          -0.8516497444356815,
          0.35510691240333075,
          -0.1602518439569381,
          0.18772635521434244,
          0.6394680450095762,
          -1.7841028128897547,
          -1.362461857419024,
          -0.9692165633965856,
          1.8623982171870008,
          1.5405117173715361,
          -1.329477243882208,
          -1.0570415503714614,
          0.8275648531322185,
          0.7174334888677107,
          -1.8407960180545033,
          -0.6327346660982492,
          -1.834893941666618,
          -1.0222932958815636,
          -0.0890975036474237,
          0.9262538909560268,
          1.587038316260175,
          1.4636701642913348,
          0.24217647988032678,
          -0.05063897611733595,
          0.723546614583445,
          -0.49758264536569463,
          0.9075802085838476,
          -1.1304087274552108,
          -1.8339112439763066,
          -1.1000414778730772,
          -1.4124638619838747,
          0.6431580778738788,
          -1.4370295309081362,
          0.6910484972701905,
          3.256655782163857,
          -0.11462551340178101,
          2.17596548950574,
          1.4596346378062068
         ],
         "yaxis": "y3"
        },
        {
         "line": {
          "color": "rgba(128, 128, 128, 1.0)",
          "dash": "solid",
          "shape": "linear",
          "width": 1.3
         },
         "marker": {
          "size": 2,
          "symbol": "circle"
         },
         "mode": "markers",
         "name": "A",
         "text": "",
         "type": "scatter",
         "x": [
          -1.5749712758367225,
          1.5279679553494656,
          0.6169188398532187,
          0.4381615389821466,
          -1.165902982861862,
          -0.16092737219826567,
          -1.7263006353744885,
          -1.582251046999577,
          0.4469798912409568,
          0.5552252020943597,
          0.33978681096646723,
          -0.26653086846945734,
          -0.18795204881984295,
          -1.196796020247596,
          0.6905438370339786,
          0.19256030671672106,
          0.40745787612123663,
          0.08118535241407211,
          -0.20116012248770837,
          -0.3616228989893024,
          1.1122414385610147,
          -0.7452604582734915,
          0.9916611852938433,
          0.06328464757229811,
          -0.40919677148805067,
          0.593866979645523,
          0.12217081381354897,
          0.8159518001549088,
          -0.7350511957390575,
          -0.22518573653845014,
          -0.08879787450644676,
          -1.795074849986664,
          0.028770762258658402,
          -1.3095779428990628,
          -0.9515379399218806,
          0.5237507118918706,
          -2.5386755453027545,
          0.2982603809537099,
          0.24602326627966442,
          -0.8077688646428979,
          -0.37370504717129976,
          1.9002888111887495,
          0.3824023297822875,
          -0.26624429103922975,
          1.987202651890973,
          2.9333929258512903,
          -0.7381720151404398,
          -1.012779611616609,
          -2.1905488232002144,
          0.17544393723866172,
          -1.0067215886285323,
          0.4753858487792162,
          1.3511332230279804,
          -1.0220811480425784,
          1.0088962206810403,
          0.5955736028083011,
          1.9310225152585656,
          -0.39994860622598055,
          0.19053885631258413,
          -0.500686573805311,
          -1.5338016430096757,
          -1.5629835931009401,
          -0.6138045856884331,
          0.28693952744716644,
          -0.18847477711654487,
          -2.20166846320593,
          2.863689176111007,
          0.42562756483126546,
          0.35399746830538176,
          0.0408933085068111,
          -0.03590807580194766,
          -0.3861647831070781,
          -0.36532724949382955,
          -1.1013570280673528,
          -0.26876016694697025,
          -0.8504890421894056,
          -0.7416937128184802,
          0.9368118692364116,
          0.033451347964105364,
          -1.533761356424725,
          -1.4756323877032957,
          -0.2628794054357832,
          0.7931820665822862,
          -0.9427961603013939,
          1.456836838293411,
          -1.372939292162019,
          -0.23505185131900733,
          1.8747775392364285,
          0.24810542774041208,
          0.741451362268954,
          -1.5167542526614488,
          0.6590929481300954,
          1.1962855891252022,
          -0.42889342349351406,
          -0.8762483646811131,
          0.7897359378126796,
          -0.8687920367555837,
          0.36314292858819397,
          1.3888598090759352,
          -0.09299929489217049
         ],
         "xaxis": "x4",
         "y": [
          0.04472728291752777,
          2.0136277903577247,
          -1.9236196401519277,
          2.4911980816178194,
          -0.9967665313943013,
          -0.7951919577304543,
          1.9487063804665836,
          -2.23538159261186,
          -0.6362833050737016,
          -1.4754844608198587,
          0.011761902594940405,
          0.762460136367464,
          0.09148958294183143,
          -1.3104088928298192,
          -0.6551324495685213,
          0.4417399033234646,
          -1.0041748206612782,
          -2.1279381643445148,
          -0.33415704844100136,
          1.8822856176465037,
          -0.17436524138072843,
          0.24438741548022544,
          1.1271349499163994,
          0.12908581848119247,
          -0.5194216529893724,
          0.06933790600730215,
          -0.1604553359252777,
          0.4243007995667343,
          -1.1251252448290945,
          -1.3033981078054881,
          -0.3439484052277837,
          0.1853004778913747,
          -1.2386458788249415,
          1.5066759635136762,
          -1.5934330724746797,
          1.1466275226458311,
          -0.2998576466989392,
          -0.7564601805963426,
          -0.8075479890241387,
          0.31415964222467585,
          -1.869410364721812,
          -0.7150081458694103,
          -1.1738929577822552,
          -0.03933686859765417,
          -0.2301305754650945,
          1.077391686619631,
          1.1402657961968796,
          0.291777123552492,
          0.9600778507641592,
          -0.4263265753068178,
          -0.5520173344511742,
          0.6578707128339493,
          0.6018249253613506,
          -1.226518784319018,
          -0.10312712302438928,
          -1.0674536882407857,
          0.6482714967308668,
          0.9162266657051357,
          -0.5372298377330095,
          0.8845513154382081,
          0.8015316358892549,
          -0.7257562347588903,
          -0.8516497444356815,
          0.35510691240333075,
          -0.1602518439569381,
          0.18772635521434244,
          0.6394680450095762,
          -1.7841028128897547,
          -1.362461857419024,
          -0.9692165633965856,
          1.8623982171870008,
          1.5405117173715361,
          -1.329477243882208,
          -1.0570415503714614,
          0.8275648531322185,
          0.7174334888677107,
          -1.8407960180545033,
          -0.6327346660982492,
          -1.834893941666618,
          -1.0222932958815636,
          -0.0890975036474237,
          0.9262538909560268,
          1.587038316260175,
          1.4636701642913348,
          0.24217647988032678,
          -0.05063897611733595,
          0.723546614583445,
          -0.49758264536569463,
          0.9075802085838476,
          -1.1304087274552108,
          -1.8339112439763066,
          -1.1000414778730772,
          -1.4124638619838747,
          0.6431580778738788,
          -1.4370295309081362,
          0.6910484972701905,
          3.256655782163857,
          -0.11462551340178101,
          2.17596548950574,
          1.4596346378062068
         ],
         "yaxis": "y4"
        },
        {
         "line": {
          "color": "rgba(128, 128, 128, 1.0)",
          "dash": "solid",
          "shape": "linear",
          "width": 1.3
         },
         "marker": {
          "size": 2,
          "symbol": "circle"
         },
         "mode": "markers",
         "name": "B",
         "text": "",
         "type": "scatter",
         "x": [
          0.04472728291752777,
          2.0136277903577247,
          -1.9236196401519277,
          2.4911980816178194,
          -0.9967665313943013,
          -0.7951919577304543,
          1.9487063804665836,
          -2.23538159261186,
          -0.6362833050737016,
          -1.4754844608198587,
          0.011761902594940405,
          0.762460136367464,
          0.09148958294183143,
          -1.3104088928298192,
          -0.6551324495685213,
          0.4417399033234646,
          -1.0041748206612782,
          -2.1279381643445148,
          -0.33415704844100136,
          1.8822856176465037,
          -0.17436524138072843,
          0.24438741548022544,
          1.1271349499163994,
          0.12908581848119247,
          -0.5194216529893724,
          0.06933790600730215,
          -0.1604553359252777,
          0.4243007995667343,
          -1.1251252448290945,
          -1.3033981078054881,
          -0.3439484052277837,
          0.1853004778913747,
          -1.2386458788249415,
          1.5066759635136762,
          -1.5934330724746797,
          1.1466275226458311,
          -0.2998576466989392,
          -0.7564601805963426,
          -0.8075479890241387,
          0.31415964222467585,
          -1.869410364721812,
          -0.7150081458694103,
          -1.1738929577822552,
          -0.03933686859765417,
          -0.2301305754650945,
          1.077391686619631,
          1.1402657961968796,
          0.291777123552492,
          0.9600778507641592,
          -0.4263265753068178,
          -0.5520173344511742,
          0.6578707128339493,
          0.6018249253613506,
          -1.226518784319018,
          -0.10312712302438928,
          -1.0674536882407857,
          0.6482714967308668,
          0.9162266657051357,
          -0.5372298377330095,
          0.8845513154382081,
          0.8015316358892549,
          -0.7257562347588903,
          -0.8516497444356815,
          0.35510691240333075,
          -0.1602518439569381,
          0.18772635521434244,
          0.6394680450095762,
          -1.7841028128897547,
          -1.362461857419024,
          -0.9692165633965856,
          1.8623982171870008,
          1.5405117173715361,
          -1.329477243882208,
          -1.0570415503714614,
          0.8275648531322185,
          0.7174334888677107,
          -1.8407960180545033,
          -0.6327346660982492,
          -1.834893941666618,
          -1.0222932958815636,
          -0.0890975036474237,
          0.9262538909560268,
          1.587038316260175,
          1.4636701642913348,
          0.24217647988032678,
          -0.05063897611733595,
          0.723546614583445,
          -0.49758264536569463,
          0.9075802085838476,
          -1.1304087274552108,
          -1.8339112439763066,
          -1.1000414778730772,
          -1.4124638619838747,
          0.6431580778738788,
          -1.4370295309081362,
          0.6910484972701905,
          3.256655782163857,
          -0.11462551340178101,
          2.17596548950574,
          1.4596346378062068
         ],
         "xaxis": "x5",
         "y": [
          -0.3581752144020478,
          -0.7438157432225722,
          -0.026352079985911398,
          -1.7030343296523238,
          -0.6804127539561089,
          -0.5742523112529103,
          -0.644070917542256,
          1.1420509381512929,
          2.102995846840507,
          0.8034327021876664,
          -0.2544097102330024,
          -0.5594592584848158,
          0.3215300951874448,
          -2.248060706625145,
          0.8510702715173849,
          0.02002817387705508,
          0.4123192990534875,
          -0.9082770377039694,
          -2.6085505772612874,
          -2.147063117352743,
          0.9535202754542268,
          -0.0073023603245049125,
          0.9538228579321008,
          1.0999244249525777,
          -1.139370634678592,
          0.2756124159103919,
          -0.6372337077181718,
          -0.36135473899091913,
          0.21164955578397002,
          -0.03099702152822309,
          -0.7316516112829898,
          0.6355425652614268,
          1.78039302465161,
          -2.0788866513236086,
          1.1491779044101635,
          -1.6641430920273568,
          -2.2000095056079068,
          -0.982006606741808,
          -1.057634337467608,
          0.5812949646110466,
          -1.4253407808509473,
          0.08339873767432296,
          1.3543453070586946,
          -0.17539272838694092,
          1.2030635329624155,
          -0.8457858322795581,
          -0.3938160616631665,
          0.4041842542547364,
          -0.22165217214236851,
          -1.1733244203373254,
          1.3750172675716983,
          0.9958795214552347,
          -0.4135630924958996,
          1.407402473250491,
          1.3153437163187505,
          -0.2337487208533535,
          -0.8143858125945819,
          1.2535849479121297,
          -1.4013077884969811,
          -0.027873794659457322,
          -1.6519261458676777,
          1.0152535488984349,
          1.6400765995653448,
          -0.13121204521055865,
          0.11617127183790316,
          1.0286285927755345,
          -0.7385281986681842,
          0.5734121298857456,
          0.561397002379349,
          -0.2949416372362533,
          0.3748451018513906,
          0.7535297542120657,
          -0.8808149739384412,
          -0.6003689995820148,
          -0.09021186742874453,
          -1.0472595114473746,
          0.3925190406471404,
          0.7868290741235954,
          -0.6101642208256651,
          2.6848305120360294,
          0.5820378711418692,
          0.01709018333611756,
          0.08485702664004978,
          1.1302744949762342,
          0.2619928493319134,
          -0.7773726420782053,
          -0.013062268486066998,
          -0.6484815907002609,
          0.15677550862065318,
          0.12088007476316984,
          -0.06528420696843706,
          0.9644951425621063,
          0.47524555244276545,
          -1.2159192117365958,
          1.102966649667511,
          0.35982432168304623,
          0.10840028329846188,
          -0.4012335082600968,
          -0.9925124577209844,
          -1.3590407654438954
         ],
         "yaxis": "y5"
        },
        {
         "histfunc": "count",
         "histnorm": "",
         "marker": {
          "color": "rgba(55, 128, 191, 1.0)",
          "line": {
           "color": "#4D5663",
           "width": 1.3
          }
         },
         "name": "B",
         "nbinsx": 10,
         "opacity": 0.8,
         "orientation": "v",
         "type": "histogram",
         "x": [
          -0.3581752144020478,
          -0.7438157432225722,
          -0.026352079985911398,
          -1.7030343296523238,
          -0.6804127539561089,
          -0.5742523112529103,
          -0.644070917542256,
          1.1420509381512929,
          2.102995846840507,
          0.8034327021876664,
          -0.2544097102330024,
          -0.5594592584848158,
          0.3215300951874448,
          -2.248060706625145,
          0.8510702715173849,
          0.02002817387705508,
          0.4123192990534875,
          -0.9082770377039694,
          -2.6085505772612874,
          -2.147063117352743,
          0.9535202754542268,
          -0.0073023603245049125,
          0.9538228579321008,
          1.0999244249525777,
          -1.139370634678592,
          0.2756124159103919,
          -0.6372337077181718,
          -0.36135473899091913,
          0.21164955578397002,
          -0.03099702152822309,
          -0.7316516112829898,
          0.6355425652614268,
          1.78039302465161,
          -2.0788866513236086,
          1.1491779044101635,
          -1.6641430920273568,
          -2.2000095056079068,
          -0.982006606741808,
          -1.057634337467608,
          0.5812949646110466,
          -1.4253407808509473,
          0.08339873767432296,
          1.3543453070586946,
          -0.17539272838694092,
          1.2030635329624155,
          -0.8457858322795581,
          -0.3938160616631665,
          0.4041842542547364,
          -0.22165217214236851,
          -1.1733244203373254,
          1.3750172675716983,
          0.9958795214552347,
          -0.4135630924958996,
          1.407402473250491,
          1.3153437163187505,
          -0.2337487208533535,
          -0.8143858125945819,
          1.2535849479121297,
          -1.4013077884969811,
          -0.027873794659457322,
          -1.6519261458676777,
          1.0152535488984349,
          1.6400765995653448,
          -0.13121204521055865,
          0.11617127183790316,
          1.0286285927755345,
          -0.7385281986681842,
          0.5734121298857456,
          0.561397002379349,
          -0.2949416372362533,
          0.3748451018513906,
          0.7535297542120657,
          -0.8808149739384412,
          -0.6003689995820148,
          -0.09021186742874453,
          -1.0472595114473746,
          0.3925190406471404,
          0.7868290741235954,
          -0.6101642208256651,
          2.6848305120360294,
          0.5820378711418692,
          0.01709018333611756,
          0.08485702664004978,
          1.1302744949762342,
          0.2619928493319134,
          -0.7773726420782053,
          -0.013062268486066998,
          -0.6484815907002609,
          0.15677550862065318,
          0.12088007476316984,
          -0.06528420696843706,
          0.9644951425621063,
          0.47524555244276545,
          -1.2159192117365958,
          1.102966649667511,
          0.35982432168304623,
          0.10840028329846188,
          -0.4012335082600968,
          -0.9925124577209844,
          -1.3590407654438954
         ],
         "xaxis": "x6",
         "yaxis": "y6"
        },
        {
         "line": {
          "color": "rgba(128, 128, 128, 1.0)",
          "dash": "solid",
          "shape": "linear",
          "width": 1.3
         },
         "marker": {
          "size": 2,
          "symbol": "circle"
         },
         "mode": "markers",
         "name": "B",
         "text": "",
         "type": "scatter",
         "x": [
          -0.23448312426228735,
          1.1734040566324928,
          -0.10861389781654822,
          0.24027945635684297,
          -0.08794282132505515,
          0.6726391635010236,
          -0.37552541245105003,
          -0.7494796703260302,
          -1.2199073146846033,
          -1.6931654750619702,
          -1.811079365096557,
          0.020893689638700835,
          1.4440760297398576,
          2.0996733504169476,
          0.2802152532388648,
          -0.631054921461625,
          -0.05058220403933079,
          -0.40616064456808204,
          1.3328310775467256,
          -0.7952521462271923,
          1.193583854304163,
          1.2519963841369282,
          -0.9134586174239632,
          -0.8725557059242434,
          1.322184682356837,
          -0.4731022176800327,
          -0.38267636582941933,
          0.38535412701646493,
          -1.1965059878390942,
          0.19145332611762864,
          0.3566681742276206,
          -1.264716104990276,
          0.4243392705895578,
          1.352646395863531,
          -0.02021727760841491,
          -0.7085479943731398,
          -0.3513627400163215,
          0.4455970114568262,
          -0.07323231464269236,
          -0.8415162878062188,
          0.9561748628251976,
          0.8266471204039709,
          1.1931278881829999,
          -0.580958705159653,
          1.8335977808655468,
          0.42426644760194343,
          -0.7852114902855585,
          -1.0309186190380473,
          -0.5628076000169935,
          -0.6668007851181149,
          -0.47099726499280853,
          1.143799160220701,
          -1.5163084407753304,
          0.20717110610832454,
          -1.415994522288912,
          -2.220675022997926,
          0.6582443065023541,
          0.3031872325281803,
          -1.3815256248194634,
          1.297509735968905,
          -2.238715299297245,
          0.09141734497233205,
          1.286436512846688,
          -0.812447701905832,
          2.4930764402388297,
          1.0160813131560342,
          -0.024805488654926825,
          1.2411060588006042,
          -1.8717534423774491,
          -1.2780107408365775,
          0.9604418458571313,
          1.1860385241314744,
          0.2666552647328103,
          -0.5065385105511384,
          0.4729758225569982,
          -1.7988288083912745,
          0.12658581224890725,
          -0.7429979785392491,
          -0.7766302972611013,
          -0.7908572996583494,
          1.7092147797657669,
          0.3766299248489669,
          0.03407246113986779,
          0.8362003788511563,
          -1.1711334684013959,
          -0.48597338126349765,
          -2.203472995499135,
          -0.4551947366698177,
          -0.05546809983232083,
          2.2647661124262575,
          -0.18290251332336832,
          0.38311887678930373,
          0.7702053250113908,
          -1.4726452884463173,
          -0.7940794673819839,
          -1.4445383145154873,
          -1.1988936019151248,
          -0.8107991708981381,
          0.560932510068928,
          -0.5958865538256582
         ],
         "xaxis": "x7",
         "y": [
          -0.3581752144020478,
          -0.7438157432225722,
          -0.026352079985911398,
          -1.7030343296523238,
          -0.6804127539561089,
          -0.5742523112529103,
          -0.644070917542256,
          1.1420509381512929,
          2.102995846840507,
          0.8034327021876664,
          -0.2544097102330024,
          -0.5594592584848158,
          0.3215300951874448,
          -2.248060706625145,
          0.8510702715173849,
          0.02002817387705508,
          0.4123192990534875,
          -0.9082770377039694,
          -2.6085505772612874,
          -2.147063117352743,
          0.9535202754542268,
          -0.0073023603245049125,
          0.9538228579321008,
          1.0999244249525777,
          -1.139370634678592,
          0.2756124159103919,
          -0.6372337077181718,
          -0.36135473899091913,
          0.21164955578397002,
          -0.03099702152822309,
          -0.7316516112829898,
          0.6355425652614268,
          1.78039302465161,
          -2.0788866513236086,
          1.1491779044101635,
          -1.6641430920273568,
          -2.2000095056079068,
          -0.982006606741808,
          -1.057634337467608,
          0.5812949646110466,
          -1.4253407808509473,
          0.08339873767432296,
          1.3543453070586946,
          -0.17539272838694092,
          1.2030635329624155,
          -0.8457858322795581,
          -0.3938160616631665,
          0.4041842542547364,
          -0.22165217214236851,
          -1.1733244203373254,
          1.3750172675716983,
          0.9958795214552347,
          -0.4135630924958996,
          1.407402473250491,
          1.3153437163187505,
          -0.2337487208533535,
          -0.8143858125945819,
          1.2535849479121297,
          -1.4013077884969811,
          -0.027873794659457322,
          -1.6519261458676777,
          1.0152535488984349,
          1.6400765995653448,
          -0.13121204521055865,
          0.11617127183790316,
          1.0286285927755345,
          -0.7385281986681842,
          0.5734121298857456,
          0.561397002379349,
          -0.2949416372362533,
          0.3748451018513906,
          0.7535297542120657,
          -0.8808149739384412,
          -0.6003689995820148,
          -0.09021186742874453,
          -1.0472595114473746,
          0.3925190406471404,
          0.7868290741235954,
          -0.6101642208256651,
          2.6848305120360294,
          0.5820378711418692,
          0.01709018333611756,
          0.08485702664004978,
          1.1302744949762342,
          0.2619928493319134,
          -0.7773726420782053,
          -0.013062268486066998,
          -0.6484815907002609,
          0.15677550862065318,
          0.12088007476316984,
          -0.06528420696843706,
          0.9644951425621063,
          0.47524555244276545,
          -1.2159192117365958,
          1.102966649667511,
          0.35982432168304623,
          0.10840028329846188,
          -0.4012335082600968,
          -0.9925124577209844,
          -1.3590407654438954
         ],
         "yaxis": "y7"
        },
        {
         "line": {
          "color": "rgba(128, 128, 128, 1.0)",
          "dash": "solid",
          "shape": "linear",
          "width": 1.3
         },
         "marker": {
          "size": 2,
          "symbol": "circle"
         },
         "mode": "markers",
         "name": "B",
         "text": "",
         "type": "scatter",
         "x": [
          -1.5749712758367225,
          1.5279679553494656,
          0.6169188398532187,
          0.4381615389821466,
          -1.165902982861862,
          -0.16092737219826567,
          -1.7263006353744885,
          -1.582251046999577,
          0.4469798912409568,
          0.5552252020943597,
          0.33978681096646723,
          -0.26653086846945734,
          -0.18795204881984295,
          -1.196796020247596,
          0.6905438370339786,
          0.19256030671672106,
          0.40745787612123663,
          0.08118535241407211,
          -0.20116012248770837,
          -0.3616228989893024,
          1.1122414385610147,
          -0.7452604582734915,
          0.9916611852938433,
          0.06328464757229811,
          -0.40919677148805067,
          0.593866979645523,
          0.12217081381354897,
          0.8159518001549088,
          -0.7350511957390575,
          -0.22518573653845014,
          -0.08879787450644676,
          -1.795074849986664,
          0.028770762258658402,
          -1.3095779428990628,
          -0.9515379399218806,
          0.5237507118918706,
          -2.5386755453027545,
          0.2982603809537099,
          0.24602326627966442,
          -0.8077688646428979,
          -0.37370504717129976,
          1.9002888111887495,
          0.3824023297822875,
          -0.26624429103922975,
          1.987202651890973,
          2.9333929258512903,
          -0.7381720151404398,
          -1.012779611616609,
          -2.1905488232002144,
          0.17544393723866172,
          -1.0067215886285323,
          0.4753858487792162,
          1.3511332230279804,
          -1.0220811480425784,
          1.0088962206810403,
          0.5955736028083011,
          1.9310225152585656,
          -0.39994860622598055,
          0.19053885631258413,
          -0.500686573805311,
          -1.5338016430096757,
          -1.5629835931009401,
          -0.6138045856884331,
          0.28693952744716644,
          -0.18847477711654487,
          -2.20166846320593,
          2.863689176111007,
          0.42562756483126546,
          0.35399746830538176,
          0.0408933085068111,
          -0.03590807580194766,
          -0.3861647831070781,
          -0.36532724949382955,
          -1.1013570280673528,
          -0.26876016694697025,
          -0.8504890421894056,
          -0.7416937128184802,
          0.9368118692364116,
          0.033451347964105364,
          -1.533761356424725,
          -1.4756323877032957,
          -0.2628794054357832,
          0.7931820665822862,
          -0.9427961603013939,
          1.456836838293411,
          -1.372939292162019,
          -0.23505185131900733,
          1.8747775392364285,
          0.24810542774041208,
          0.741451362268954,
          -1.5167542526614488,
          0.6590929481300954,
          1.1962855891252022,
          -0.42889342349351406,
          -0.8762483646811131,
          0.7897359378126796,
          -0.8687920367555837,
          0.36314292858819397,
          1.3888598090759352,
          -0.09299929489217049
         ],
         "xaxis": "x8",
         "y": [
          -0.3581752144020478,
          -0.7438157432225722,
          -0.026352079985911398,
          -1.7030343296523238,
          -0.6804127539561089,
          -0.5742523112529103,
          -0.644070917542256,
          1.1420509381512929,
          2.102995846840507,
          0.8034327021876664,
          -0.2544097102330024,
          -0.5594592584848158,
          0.3215300951874448,
          -2.248060706625145,
          0.8510702715173849,
          0.02002817387705508,
          0.4123192990534875,
          -0.9082770377039694,
          -2.6085505772612874,
          -2.147063117352743,
          0.9535202754542268,
          -0.0073023603245049125,
          0.9538228579321008,
          1.0999244249525777,
          -1.139370634678592,
          0.2756124159103919,
          -0.6372337077181718,
          -0.36135473899091913,
          0.21164955578397002,
          -0.03099702152822309,
          -0.7316516112829898,
          0.6355425652614268,
          1.78039302465161,
          -2.0788866513236086,
          1.1491779044101635,
          -1.6641430920273568,
          -2.2000095056079068,
          -0.982006606741808,
          -1.057634337467608,
          0.5812949646110466,
          -1.4253407808509473,
          0.08339873767432296,
          1.3543453070586946,
          -0.17539272838694092,
          1.2030635329624155,
          -0.8457858322795581,
          -0.3938160616631665,
          0.4041842542547364,
          -0.22165217214236851,
          -1.1733244203373254,
          1.3750172675716983,
          0.9958795214552347,
          -0.4135630924958996,
          1.407402473250491,
          1.3153437163187505,
          -0.2337487208533535,
          -0.8143858125945819,
          1.2535849479121297,
          -1.4013077884969811,
          -0.027873794659457322,
          -1.6519261458676777,
          1.0152535488984349,
          1.6400765995653448,
          -0.13121204521055865,
          0.11617127183790316,
          1.0286285927755345,
          -0.7385281986681842,
          0.5734121298857456,
          0.561397002379349,
          -0.2949416372362533,
          0.3748451018513906,
          0.7535297542120657,
          -0.8808149739384412,
          -0.6003689995820148,
          -0.09021186742874453,
          -1.0472595114473746,
          0.3925190406471404,
          0.7868290741235954,
          -0.6101642208256651,
          2.6848305120360294,
          0.5820378711418692,
          0.01709018333611756,
          0.08485702664004978,
          1.1302744949762342,
          0.2619928493319134,
          -0.7773726420782053,
          -0.013062268486066998,
          -0.6484815907002609,
          0.15677550862065318,
          0.12088007476316984,
          -0.06528420696843706,
          0.9644951425621063,
          0.47524555244276545,
          -1.2159192117365958,
          1.102966649667511,
          0.35982432168304623,
          0.10840028329846188,
          -0.4012335082600968,
          -0.9925124577209844,
          -1.3590407654438954
         ],
         "yaxis": "y8"
        },
        {
         "line": {
          "color": "rgba(128, 128, 128, 1.0)",
          "dash": "solid",
          "shape": "linear",
          "width": 1.3
         },
         "marker": {
          "size": 2,
          "symbol": "circle"
         },
         "mode": "markers",
         "name": "C",
         "text": "",
         "type": "scatter",
         "x": [
          0.04472728291752777,
          2.0136277903577247,
          -1.9236196401519277,
          2.4911980816178194,
          -0.9967665313943013,
          -0.7951919577304543,
          1.9487063804665836,
          -2.23538159261186,
          -0.6362833050737016,
          -1.4754844608198587,
          0.011761902594940405,
          0.762460136367464,
          0.09148958294183143,
          -1.3104088928298192,
          -0.6551324495685213,
          0.4417399033234646,
          -1.0041748206612782,
          -2.1279381643445148,
          -0.33415704844100136,
          1.8822856176465037,
          -0.17436524138072843,
          0.24438741548022544,
          1.1271349499163994,
          0.12908581848119247,
          -0.5194216529893724,
          0.06933790600730215,
          -0.1604553359252777,
          0.4243007995667343,
          -1.1251252448290945,
          -1.3033981078054881,
          -0.3439484052277837,
          0.1853004778913747,
          -1.2386458788249415,
          1.5066759635136762,
          -1.5934330724746797,
          1.1466275226458311,
          -0.2998576466989392,
          -0.7564601805963426,
          -0.8075479890241387,
          0.31415964222467585,
          -1.869410364721812,
          -0.7150081458694103,
          -1.1738929577822552,
          -0.03933686859765417,
          -0.2301305754650945,
          1.077391686619631,
          1.1402657961968796,
          0.291777123552492,
          0.9600778507641592,
          -0.4263265753068178,
          -0.5520173344511742,
          0.6578707128339493,
          0.6018249253613506,
          -1.226518784319018,
          -0.10312712302438928,
          -1.0674536882407857,
          0.6482714967308668,
          0.9162266657051357,
          -0.5372298377330095,
          0.8845513154382081,
          0.8015316358892549,
          -0.7257562347588903,
          -0.8516497444356815,
          0.35510691240333075,
          -0.1602518439569381,
          0.18772635521434244,
          0.6394680450095762,
          -1.7841028128897547,
          -1.362461857419024,
          -0.9692165633965856,
          1.8623982171870008,
          1.5405117173715361,
          -1.329477243882208,
          -1.0570415503714614,
          0.8275648531322185,
          0.7174334888677107,
          -1.8407960180545033,
          -0.6327346660982492,
          -1.834893941666618,
          -1.0222932958815636,
          -0.0890975036474237,
          0.9262538909560268,
          1.587038316260175,
          1.4636701642913348,
          0.24217647988032678,
          -0.05063897611733595,
          0.723546614583445,
          -0.49758264536569463,
          0.9075802085838476,
          -1.1304087274552108,
          -1.8339112439763066,
          -1.1000414778730772,
          -1.4124638619838747,
          0.6431580778738788,
          -1.4370295309081362,
          0.6910484972701905,
          3.256655782163857,
          -0.11462551340178101,
          2.17596548950574,
          1.4596346378062068
         ],
         "xaxis": "x9",
         "y": [
          -0.23448312426228735,
          1.1734040566324928,
          -0.10861389781654822,
          0.24027945635684297,
          -0.08794282132505515,
          0.6726391635010236,
          -0.37552541245105003,
          -0.7494796703260302,
          -1.2199073146846033,
          -1.6931654750619702,
          -1.811079365096557,
          0.020893689638700835,
          1.4440760297398576,
          2.0996733504169476,
          0.2802152532388648,
          -0.631054921461625,
          -0.05058220403933079,
          -0.40616064456808204,
          1.3328310775467256,
          -0.7952521462271923,
          1.193583854304163,
          1.2519963841369282,
          -0.9134586174239632,
          -0.8725557059242434,
          1.322184682356837,
          -0.4731022176800327,
          -0.38267636582941933,
          0.38535412701646493,
          -1.1965059878390942,
          0.19145332611762864,
          0.3566681742276206,
          -1.264716104990276,
          0.4243392705895578,
          1.352646395863531,
          -0.02021727760841491,
          -0.7085479943731398,
          -0.3513627400163215,
          0.4455970114568262,
          -0.07323231464269236,
          -0.8415162878062188,
          0.9561748628251976,
          0.8266471204039709,
          1.1931278881829999,
          -0.580958705159653,
          1.8335977808655468,
          0.42426644760194343,
          -0.7852114902855585,
          -1.0309186190380473,
          -0.5628076000169935,
          -0.6668007851181149,
          -0.47099726499280853,
          1.143799160220701,
          -1.5163084407753304,
          0.20717110610832454,
          -1.415994522288912,
          -2.220675022997926,
          0.6582443065023541,
          0.3031872325281803,
          -1.3815256248194634,
          1.297509735968905,
          -2.238715299297245,
          0.09141734497233205,
          1.286436512846688,
          -0.812447701905832,
          2.4930764402388297,
          1.0160813131560342,
          -0.024805488654926825,
          1.2411060588006042,
          -1.8717534423774491,
          -1.2780107408365775,
          0.9604418458571313,
          1.1860385241314744,
          0.2666552647328103,
          -0.5065385105511384,
          0.4729758225569982,
          -1.7988288083912745,
          0.12658581224890725,
          -0.7429979785392491,
          -0.7766302972611013,
          -0.7908572996583494,
          1.7092147797657669,
          0.3766299248489669,
          0.03407246113986779,
          0.8362003788511563,
          -1.1711334684013959,
          -0.48597338126349765,
          -2.203472995499135,
          -0.4551947366698177,
          -0.05546809983232083,
          2.2647661124262575,
          -0.18290251332336832,
          0.38311887678930373,
          0.7702053250113908,
          -1.4726452884463173,
          -0.7940794673819839,
          -1.4445383145154873,
          -1.1988936019151248,
          -0.8107991708981381,
          0.560932510068928,
          -0.5958865538256582
         ],
         "yaxis": "y9"
        },
        {
         "line": {
          "color": "rgba(128, 128, 128, 1.0)",
          "dash": "solid",
          "shape": "linear",
          "width": 1.3
         },
         "marker": {
          "size": 2,
          "symbol": "circle"
         },
         "mode": "markers",
         "name": "C",
         "text": "",
         "type": "scatter",
         "x": [
          -0.3581752144020478,
          -0.7438157432225722,
          -0.026352079985911398,
          -1.7030343296523238,
          -0.6804127539561089,
          -0.5742523112529103,
          -0.644070917542256,
          1.1420509381512929,
          2.102995846840507,
          0.8034327021876664,
          -0.2544097102330024,
          -0.5594592584848158,
          0.3215300951874448,
          -2.248060706625145,
          0.8510702715173849,
          0.02002817387705508,
          0.4123192990534875,
          -0.9082770377039694,
          -2.6085505772612874,
          -2.147063117352743,
          0.9535202754542268,
          -0.0073023603245049125,
          0.9538228579321008,
          1.0999244249525777,
          -1.139370634678592,
          0.2756124159103919,
          -0.6372337077181718,
          -0.36135473899091913,
          0.21164955578397002,
          -0.03099702152822309,
          -0.7316516112829898,
          0.6355425652614268,
          1.78039302465161,
          -2.0788866513236086,
          1.1491779044101635,
          -1.6641430920273568,
          -2.2000095056079068,
          -0.982006606741808,
          -1.057634337467608,
          0.5812949646110466,
          -1.4253407808509473,
          0.08339873767432296,
          1.3543453070586946,
          -0.17539272838694092,
          1.2030635329624155,
          -0.8457858322795581,
          -0.3938160616631665,
          0.4041842542547364,
          -0.22165217214236851,
          -1.1733244203373254,
          1.3750172675716983,
          0.9958795214552347,
          -0.4135630924958996,
          1.407402473250491,
          1.3153437163187505,
          -0.2337487208533535,
          -0.8143858125945819,
          1.2535849479121297,
          -1.4013077884969811,
          -0.027873794659457322,
          -1.6519261458676777,
          1.0152535488984349,
          1.6400765995653448,
          -0.13121204521055865,
          0.11617127183790316,
          1.0286285927755345,
          -0.7385281986681842,
          0.5734121298857456,
          0.561397002379349,
          -0.2949416372362533,
          0.3748451018513906,
          0.7535297542120657,
          -0.8808149739384412,
          -0.6003689995820148,
          -0.09021186742874453,
          -1.0472595114473746,
          0.3925190406471404,
          0.7868290741235954,
          -0.6101642208256651,
          2.6848305120360294,
          0.5820378711418692,
          0.01709018333611756,
          0.08485702664004978,
          1.1302744949762342,
          0.2619928493319134,
          -0.7773726420782053,
          -0.013062268486066998,
          -0.6484815907002609,
          0.15677550862065318,
          0.12088007476316984,
          -0.06528420696843706,
          0.9644951425621063,
          0.47524555244276545,
          -1.2159192117365958,
          1.102966649667511,
          0.35982432168304623,
          0.10840028329846188,
          -0.4012335082600968,
          -0.9925124577209844,
          -1.3590407654438954
         ],
         "xaxis": "x10",
         "y": [
          -0.23448312426228735,
          1.1734040566324928,
          -0.10861389781654822,
          0.24027945635684297,
          -0.08794282132505515,
          0.6726391635010236,
          -0.37552541245105003,
          -0.7494796703260302,
          -1.2199073146846033,
          -1.6931654750619702,
          -1.811079365096557,
          0.020893689638700835,
          1.4440760297398576,
          2.0996733504169476,
          0.2802152532388648,
          -0.631054921461625,
          -0.05058220403933079,
          -0.40616064456808204,
          1.3328310775467256,
          -0.7952521462271923,
          1.193583854304163,
          1.2519963841369282,
          -0.9134586174239632,
          -0.8725557059242434,
          1.322184682356837,
          -0.4731022176800327,
          -0.38267636582941933,
          0.38535412701646493,
          -1.1965059878390942,
          0.19145332611762864,
          0.3566681742276206,
          -1.264716104990276,
          0.4243392705895578,
          1.352646395863531,
          -0.02021727760841491,
          -0.7085479943731398,
          -0.3513627400163215,
          0.4455970114568262,
          -0.07323231464269236,
          -0.8415162878062188,
          0.9561748628251976,
          0.8266471204039709,
          1.1931278881829999,
          -0.580958705159653,
          1.8335977808655468,
          0.42426644760194343,
          -0.7852114902855585,
          -1.0309186190380473,
          -0.5628076000169935,
          -0.6668007851181149,
          -0.47099726499280853,
          1.143799160220701,
          -1.5163084407753304,
          0.20717110610832454,
          -1.415994522288912,
          -2.220675022997926,
          0.6582443065023541,
          0.3031872325281803,
          -1.3815256248194634,
          1.297509735968905,
          -2.238715299297245,
          0.09141734497233205,
          1.286436512846688,
          -0.812447701905832,
          2.4930764402388297,
          1.0160813131560342,
          -0.024805488654926825,
          1.2411060588006042,
          -1.8717534423774491,
          -1.2780107408365775,
          0.9604418458571313,
          1.1860385241314744,
          0.2666552647328103,
          -0.5065385105511384,
          0.4729758225569982,
          -1.7988288083912745,
          0.12658581224890725,
          -0.7429979785392491,
          -0.7766302972611013,
          -0.7908572996583494,
          1.7092147797657669,
          0.3766299248489669,
          0.03407246113986779,
          0.8362003788511563,
          -1.1711334684013959,
          -0.48597338126349765,
          -2.203472995499135,
          -0.4551947366698177,
          -0.05546809983232083,
          2.2647661124262575,
          -0.18290251332336832,
          0.38311887678930373,
          0.7702053250113908,
          -1.4726452884463173,
          -0.7940794673819839,
          -1.4445383145154873,
          -1.1988936019151248,
          -0.8107991708981381,
          0.560932510068928,
          -0.5958865538256582
         ],
         "yaxis": "y10"
        },
        {
         "histfunc": "count",
         "histnorm": "",
         "marker": {
          "color": "rgba(50, 171, 96, 1.0)",
          "line": {
           "color": "#4D5663",
           "width": 1.3
          }
         },
         "name": "C",
         "nbinsx": 10,
         "opacity": 0.8,
         "orientation": "v",
         "type": "histogram",
         "x": [
          -0.23448312426228735,
          1.1734040566324928,
          -0.10861389781654822,
          0.24027945635684297,
          -0.08794282132505515,
          0.6726391635010236,
          -0.37552541245105003,
          -0.7494796703260302,
          -1.2199073146846033,
          -1.6931654750619702,
          -1.811079365096557,
          0.020893689638700835,
          1.4440760297398576,
          2.0996733504169476,
          0.2802152532388648,
          -0.631054921461625,
          -0.05058220403933079,
          -0.40616064456808204,
          1.3328310775467256,
          -0.7952521462271923,
          1.193583854304163,
          1.2519963841369282,
          -0.9134586174239632,
          -0.8725557059242434,
          1.322184682356837,
          -0.4731022176800327,
          -0.38267636582941933,
          0.38535412701646493,
          -1.1965059878390942,
          0.19145332611762864,
          0.3566681742276206,
          -1.264716104990276,
          0.4243392705895578,
          1.352646395863531,
          -0.02021727760841491,
          -0.7085479943731398,
          -0.3513627400163215,
          0.4455970114568262,
          -0.07323231464269236,
          -0.8415162878062188,
          0.9561748628251976,
          0.8266471204039709,
          1.1931278881829999,
          -0.580958705159653,
          1.8335977808655468,
          0.42426644760194343,
          -0.7852114902855585,
          -1.0309186190380473,
          -0.5628076000169935,
          -0.6668007851181149,
          -0.47099726499280853,
          1.143799160220701,
          -1.5163084407753304,
          0.20717110610832454,
          -1.415994522288912,
          -2.220675022997926,
          0.6582443065023541,
          0.3031872325281803,
          -1.3815256248194634,
          1.297509735968905,
          -2.238715299297245,
          0.09141734497233205,
          1.286436512846688,
          -0.812447701905832,
          2.4930764402388297,
          1.0160813131560342,
          -0.024805488654926825,
          1.2411060588006042,
          -1.8717534423774491,
          -1.2780107408365775,
          0.9604418458571313,
          1.1860385241314744,
          0.2666552647328103,
          -0.5065385105511384,
          0.4729758225569982,
          -1.7988288083912745,
          0.12658581224890725,
          -0.7429979785392491,
          -0.7766302972611013,
          -0.7908572996583494,
          1.7092147797657669,
          0.3766299248489669,
          0.03407246113986779,
          0.8362003788511563,
          -1.1711334684013959,
          -0.48597338126349765,
          -2.203472995499135,
          -0.4551947366698177,
          -0.05546809983232083,
          2.2647661124262575,
          -0.18290251332336832,
          0.38311887678930373,
          0.7702053250113908,
          -1.4726452884463173,
          -0.7940794673819839,
          -1.4445383145154873,
          -1.1988936019151248,
          -0.8107991708981381,
          0.560932510068928,
          -0.5958865538256582
         ],
         "xaxis": "x11",
         "yaxis": "y11"
        },
        {
         "line": {
          "color": "rgba(128, 128, 128, 1.0)",
          "dash": "solid",
          "shape": "linear",
          "width": 1.3
         },
         "marker": {
          "size": 2,
          "symbol": "circle"
         },
         "mode": "markers",
         "name": "C",
         "text": "",
         "type": "scatter",
         "x": [
          -1.5749712758367225,
          1.5279679553494656,
          0.6169188398532187,
          0.4381615389821466,
          -1.165902982861862,
          -0.16092737219826567,
          -1.7263006353744885,
          -1.582251046999577,
          0.4469798912409568,
          0.5552252020943597,
          0.33978681096646723,
          -0.26653086846945734,
          -0.18795204881984295,
          -1.196796020247596,
          0.6905438370339786,
          0.19256030671672106,
          0.40745787612123663,
          0.08118535241407211,
          -0.20116012248770837,
          -0.3616228989893024,
          1.1122414385610147,
          -0.7452604582734915,
          0.9916611852938433,
          0.06328464757229811,
          -0.40919677148805067,
          0.593866979645523,
          0.12217081381354897,
          0.8159518001549088,
          -0.7350511957390575,
          -0.22518573653845014,
          -0.08879787450644676,
          -1.795074849986664,
          0.028770762258658402,
          -1.3095779428990628,
          -0.9515379399218806,
          0.5237507118918706,
          -2.5386755453027545,
          0.2982603809537099,
          0.24602326627966442,
          -0.8077688646428979,
          -0.37370504717129976,
          1.9002888111887495,
          0.3824023297822875,
          -0.26624429103922975,
          1.987202651890973,
          2.9333929258512903,
          -0.7381720151404398,
          -1.012779611616609,
          -2.1905488232002144,
          0.17544393723866172,
          -1.0067215886285323,
          0.4753858487792162,
          1.3511332230279804,
          -1.0220811480425784,
          1.0088962206810403,
          0.5955736028083011,
          1.9310225152585656,
          -0.39994860622598055,
          0.19053885631258413,
          -0.500686573805311,
          -1.5338016430096757,
          -1.5629835931009401,
          -0.6138045856884331,
          0.28693952744716644,
          -0.18847477711654487,
          -2.20166846320593,
          2.863689176111007,
          0.42562756483126546,
          0.35399746830538176,
          0.0408933085068111,
          -0.03590807580194766,
          -0.3861647831070781,
          -0.36532724949382955,
          -1.1013570280673528,
          -0.26876016694697025,
          -0.8504890421894056,
          -0.7416937128184802,
          0.9368118692364116,
          0.033451347964105364,
          -1.533761356424725,
          -1.4756323877032957,
          -0.2628794054357832,
          0.7931820665822862,
          -0.9427961603013939,
          1.456836838293411,
          -1.372939292162019,
          -0.23505185131900733,
          1.8747775392364285,
          0.24810542774041208,
          0.741451362268954,
          -1.5167542526614488,
          0.6590929481300954,
          1.1962855891252022,
          -0.42889342349351406,
          -0.8762483646811131,
          0.7897359378126796,
          -0.8687920367555837,
          0.36314292858819397,
          1.3888598090759352,
          -0.09299929489217049
         ],
         "xaxis": "x12",
         "y": [
          -0.23448312426228735,
          1.1734040566324928,
          -0.10861389781654822,
          0.24027945635684297,
          -0.08794282132505515,
          0.6726391635010236,
          -0.37552541245105003,
          -0.7494796703260302,
          -1.2199073146846033,
          -1.6931654750619702,
          -1.811079365096557,
          0.020893689638700835,
          1.4440760297398576,
          2.0996733504169476,
          0.2802152532388648,
          -0.631054921461625,
          -0.05058220403933079,
          -0.40616064456808204,
          1.3328310775467256,
          -0.7952521462271923,
          1.193583854304163,
          1.2519963841369282,
          -0.9134586174239632,
          -0.8725557059242434,
          1.322184682356837,
          -0.4731022176800327,
          -0.38267636582941933,
          0.38535412701646493,
          -1.1965059878390942,
          0.19145332611762864,
          0.3566681742276206,
          -1.264716104990276,
          0.4243392705895578,
          1.352646395863531,
          -0.02021727760841491,
          -0.7085479943731398,
          -0.3513627400163215,
          0.4455970114568262,
          -0.07323231464269236,
          -0.8415162878062188,
          0.9561748628251976,
          0.8266471204039709,
          1.1931278881829999,
          -0.580958705159653,
          1.8335977808655468,
          0.42426644760194343,
          -0.7852114902855585,
          -1.0309186190380473,
          -0.5628076000169935,
          -0.6668007851181149,
          -0.47099726499280853,
          1.143799160220701,
          -1.5163084407753304,
          0.20717110610832454,
          -1.415994522288912,
          -2.220675022997926,
          0.6582443065023541,
          0.3031872325281803,
          -1.3815256248194634,
          1.297509735968905,
          -2.238715299297245,
          0.09141734497233205,
          1.286436512846688,
          -0.812447701905832,
          2.4930764402388297,
          1.0160813131560342,
          -0.024805488654926825,
          1.2411060588006042,
          -1.8717534423774491,
          -1.2780107408365775,
          0.9604418458571313,
          1.1860385241314744,
          0.2666552647328103,
          -0.5065385105511384,
          0.4729758225569982,
          -1.7988288083912745,
          0.12658581224890725,
          -0.7429979785392491,
          -0.7766302972611013,
          -0.7908572996583494,
          1.7092147797657669,
          0.3766299248489669,
          0.03407246113986779,
          0.8362003788511563,
          -1.1711334684013959,
          -0.48597338126349765,
          -2.203472995499135,
          -0.4551947366698177,
          -0.05546809983232083,
          2.2647661124262575,
          -0.18290251332336832,
          0.38311887678930373,
          0.7702053250113908,
          -1.4726452884463173,
          -0.7940794673819839,
          -1.4445383145154873,
          -1.1988936019151248,
          -0.8107991708981381,
          0.560932510068928,
          -0.5958865538256582
         ],
         "yaxis": "y12"
        },
        {
         "line": {
          "color": "rgba(128, 128, 128, 1.0)",
          "dash": "solid",
          "shape": "linear",
          "width": 1.3
         },
         "marker": {
          "size": 2,
          "symbol": "circle"
         },
         "mode": "markers",
         "name": "D",
         "text": "",
         "type": "scatter",
         "x": [
          0.04472728291752777,
          2.0136277903577247,
          -1.9236196401519277,
          2.4911980816178194,
          -0.9967665313943013,
          -0.7951919577304543,
          1.9487063804665836,
          -2.23538159261186,
          -0.6362833050737016,
          -1.4754844608198587,
          0.011761902594940405,
          0.762460136367464,
          0.09148958294183143,
          -1.3104088928298192,
          -0.6551324495685213,
          0.4417399033234646,
          -1.0041748206612782,
          -2.1279381643445148,
          -0.33415704844100136,
          1.8822856176465037,
          -0.17436524138072843,
          0.24438741548022544,
          1.1271349499163994,
          0.12908581848119247,
          -0.5194216529893724,
          0.06933790600730215,
          -0.1604553359252777,
          0.4243007995667343,
          -1.1251252448290945,
          -1.3033981078054881,
          -0.3439484052277837,
          0.1853004778913747,
          -1.2386458788249415,
          1.5066759635136762,
          -1.5934330724746797,
          1.1466275226458311,
          -0.2998576466989392,
          -0.7564601805963426,
          -0.8075479890241387,
          0.31415964222467585,
          -1.869410364721812,
          -0.7150081458694103,
          -1.1738929577822552,
          -0.03933686859765417,
          -0.2301305754650945,
          1.077391686619631,
          1.1402657961968796,
          0.291777123552492,
          0.9600778507641592,
          -0.4263265753068178,
          -0.5520173344511742,
          0.6578707128339493,
          0.6018249253613506,
          -1.226518784319018,
          -0.10312712302438928,
          -1.0674536882407857,
          0.6482714967308668,
          0.9162266657051357,
          -0.5372298377330095,
          0.8845513154382081,
          0.8015316358892549,
          -0.7257562347588903,
          -0.8516497444356815,
          0.35510691240333075,
          -0.1602518439569381,
          0.18772635521434244,
          0.6394680450095762,
          -1.7841028128897547,
          -1.362461857419024,
          -0.9692165633965856,
          1.8623982171870008,
          1.5405117173715361,
          -1.329477243882208,
          -1.0570415503714614,
          0.8275648531322185,
          0.7174334888677107,
          -1.8407960180545033,
          -0.6327346660982492,
          -1.834893941666618,
          -1.0222932958815636,
          -0.0890975036474237,
          0.9262538909560268,
          1.587038316260175,
          1.4636701642913348,
          0.24217647988032678,
          -0.05063897611733595,
          0.723546614583445,
          -0.49758264536569463,
          0.9075802085838476,
          -1.1304087274552108,
          -1.8339112439763066,
          -1.1000414778730772,
          -1.4124638619838747,
          0.6431580778738788,
          -1.4370295309081362,
          0.6910484972701905,
          3.256655782163857,
          -0.11462551340178101,
          2.17596548950574,
          1.4596346378062068
         ],
         "xaxis": "x13",
         "y": [
          -1.5749712758367225,
          1.5279679553494656,
          0.6169188398532187,
          0.4381615389821466,
          -1.165902982861862,
          -0.16092737219826567,
          -1.7263006353744885,
          -1.582251046999577,
          0.4469798912409568,
          0.5552252020943597,
          0.33978681096646723,
          -0.26653086846945734,
          -0.18795204881984295,
          -1.196796020247596,
          0.6905438370339786,
          0.19256030671672106,
          0.40745787612123663,
          0.08118535241407211,
          -0.20116012248770837,
          -0.3616228989893024,
          1.1122414385610147,
          -0.7452604582734915,
          0.9916611852938433,
          0.06328464757229811,
          -0.40919677148805067,
          0.593866979645523,
          0.12217081381354897,
          0.8159518001549088,
          -0.7350511957390575,
          -0.22518573653845014,
          -0.08879787450644676,
          -1.795074849986664,
          0.028770762258658402,
          -1.3095779428990628,
          -0.9515379399218806,
          0.5237507118918706,
          -2.5386755453027545,
          0.2982603809537099,
          0.24602326627966442,
          -0.8077688646428979,
          -0.37370504717129976,
          1.9002888111887495,
          0.3824023297822875,
          -0.26624429103922975,
          1.987202651890973,
          2.9333929258512903,
          -0.7381720151404398,
          -1.012779611616609,
          -2.1905488232002144,
          0.17544393723866172,
          -1.0067215886285323,
          0.4753858487792162,
          1.3511332230279804,
          -1.0220811480425784,
          1.0088962206810403,
          0.5955736028083011,
          1.9310225152585656,
          -0.39994860622598055,
          0.19053885631258413,
          -0.500686573805311,
          -1.5338016430096757,
          -1.5629835931009401,
          -0.6138045856884331,
          0.28693952744716644,
          -0.18847477711654487,
          -2.20166846320593,
          2.863689176111007,
          0.42562756483126546,
          0.35399746830538176,
          0.0408933085068111,
          -0.03590807580194766,
          -0.3861647831070781,
          -0.36532724949382955,
          -1.1013570280673528,
          -0.26876016694697025,
          -0.8504890421894056,
          -0.7416937128184802,
          0.9368118692364116,
          0.033451347964105364,
          -1.533761356424725,
          -1.4756323877032957,
          -0.2628794054357832,
          0.7931820665822862,
          -0.9427961603013939,
          1.456836838293411,
          -1.372939292162019,
          -0.23505185131900733,
          1.8747775392364285,
          0.24810542774041208,
          0.741451362268954,
          -1.5167542526614488,
          0.6590929481300954,
          1.1962855891252022,
          -0.42889342349351406,
          -0.8762483646811131,
          0.7897359378126796,
          -0.8687920367555837,
          0.36314292858819397,
          1.3888598090759352,
          -0.09299929489217049
         ],
         "yaxis": "y13"
        },
        {
         "line": {
          "color": "rgba(128, 128, 128, 1.0)",
          "dash": "solid",
          "shape": "linear",
          "width": 1.3
         },
         "marker": {
          "size": 2,
          "symbol": "circle"
         },
         "mode": "markers",
         "name": "D",
         "text": "",
         "type": "scatter",
         "x": [
          -0.3581752144020478,
          -0.7438157432225722,
          -0.026352079985911398,
          -1.7030343296523238,
          -0.6804127539561089,
          -0.5742523112529103,
          -0.644070917542256,
          1.1420509381512929,
          2.102995846840507,
          0.8034327021876664,
          -0.2544097102330024,
          -0.5594592584848158,
          0.3215300951874448,
          -2.248060706625145,
          0.8510702715173849,
          0.02002817387705508,
          0.4123192990534875,
          -0.9082770377039694,
          -2.6085505772612874,
          -2.147063117352743,
          0.9535202754542268,
          -0.0073023603245049125,
          0.9538228579321008,
          1.0999244249525777,
          -1.139370634678592,
          0.2756124159103919,
          -0.6372337077181718,
          -0.36135473899091913,
          0.21164955578397002,
          -0.03099702152822309,
          -0.7316516112829898,
          0.6355425652614268,
          1.78039302465161,
          -2.0788866513236086,
          1.1491779044101635,
          -1.6641430920273568,
          -2.2000095056079068,
          -0.982006606741808,
          -1.057634337467608,
          0.5812949646110466,
          -1.4253407808509473,
          0.08339873767432296,
          1.3543453070586946,
          -0.17539272838694092,
          1.2030635329624155,
          -0.8457858322795581,
          -0.3938160616631665,
          0.4041842542547364,
          -0.22165217214236851,
          -1.1733244203373254,
          1.3750172675716983,
          0.9958795214552347,
          -0.4135630924958996,
          1.407402473250491,
          1.3153437163187505,
          -0.2337487208533535,
          -0.8143858125945819,
          1.2535849479121297,
          -1.4013077884969811,
          -0.027873794659457322,
          -1.6519261458676777,
          1.0152535488984349,
          1.6400765995653448,
          -0.13121204521055865,
          0.11617127183790316,
          1.0286285927755345,
          -0.7385281986681842,
          0.5734121298857456,
          0.561397002379349,
          -0.2949416372362533,
          0.3748451018513906,
          0.7535297542120657,
          -0.8808149739384412,
          -0.6003689995820148,
          -0.09021186742874453,
          -1.0472595114473746,
          0.3925190406471404,
          0.7868290741235954,
          -0.6101642208256651,
          2.6848305120360294,
          0.5820378711418692,
          0.01709018333611756,
          0.08485702664004978,
          1.1302744949762342,
          0.2619928493319134,
          -0.7773726420782053,
          -0.013062268486066998,
          -0.6484815907002609,
          0.15677550862065318,
          0.12088007476316984,
          -0.06528420696843706,
          0.9644951425621063,
          0.47524555244276545,
          -1.2159192117365958,
          1.102966649667511,
          0.35982432168304623,
          0.10840028329846188,
          -0.4012335082600968,
          -0.9925124577209844,
          -1.3590407654438954
         ],
         "xaxis": "x14",
         "y": [
          -1.5749712758367225,
          1.5279679553494656,
          0.6169188398532187,
          0.4381615389821466,
          -1.165902982861862,
          -0.16092737219826567,
          -1.7263006353744885,
          -1.582251046999577,
          0.4469798912409568,
          0.5552252020943597,
          0.33978681096646723,
          -0.26653086846945734,
          -0.18795204881984295,
          -1.196796020247596,
          0.6905438370339786,
          0.19256030671672106,
          0.40745787612123663,
          0.08118535241407211,
          -0.20116012248770837,
          -0.3616228989893024,
          1.1122414385610147,
          -0.7452604582734915,
          0.9916611852938433,
          0.06328464757229811,
          -0.40919677148805067,
          0.593866979645523,
          0.12217081381354897,
          0.8159518001549088,
          -0.7350511957390575,
          -0.22518573653845014,
          -0.08879787450644676,
          -1.795074849986664,
          0.028770762258658402,
          -1.3095779428990628,
          -0.9515379399218806,
          0.5237507118918706,
          -2.5386755453027545,
          0.2982603809537099,
          0.24602326627966442,
          -0.8077688646428979,
          -0.37370504717129976,
          1.9002888111887495,
          0.3824023297822875,
          -0.26624429103922975,
          1.987202651890973,
          2.9333929258512903,
          -0.7381720151404398,
          -1.012779611616609,
          -2.1905488232002144,
          0.17544393723866172,
          -1.0067215886285323,
          0.4753858487792162,
          1.3511332230279804,
          -1.0220811480425784,
          1.0088962206810403,
          0.5955736028083011,
          1.9310225152585656,
          -0.39994860622598055,
          0.19053885631258413,
          -0.500686573805311,
          -1.5338016430096757,
          -1.5629835931009401,
          -0.6138045856884331,
          0.28693952744716644,
          -0.18847477711654487,
          -2.20166846320593,
          2.863689176111007,
          0.42562756483126546,
          0.35399746830538176,
          0.0408933085068111,
          -0.03590807580194766,
          -0.3861647831070781,
          -0.36532724949382955,
          -1.1013570280673528,
          -0.26876016694697025,
          -0.8504890421894056,
          -0.7416937128184802,
          0.9368118692364116,
          0.033451347964105364,
          -1.533761356424725,
          -1.4756323877032957,
          -0.2628794054357832,
          0.7931820665822862,
          -0.9427961603013939,
          1.456836838293411,
          -1.372939292162019,
          -0.23505185131900733,
          1.8747775392364285,
          0.24810542774041208,
          0.741451362268954,
          -1.5167542526614488,
          0.6590929481300954,
          1.1962855891252022,
          -0.42889342349351406,
          -0.8762483646811131,
          0.7897359378126796,
          -0.8687920367555837,
          0.36314292858819397,
          1.3888598090759352,
          -0.09299929489217049
         ],
         "yaxis": "y14"
        },
        {
         "line": {
          "color": "rgba(128, 128, 128, 1.0)",
          "dash": "solid",
          "shape": "linear",
          "width": 1.3
         },
         "marker": {
          "size": 2,
          "symbol": "circle"
         },
         "mode": "markers",
         "name": "D",
         "text": "",
         "type": "scatter",
         "x": [
          -0.23448312426228735,
          1.1734040566324928,
          -0.10861389781654822,
          0.24027945635684297,
          -0.08794282132505515,
          0.6726391635010236,
          -0.37552541245105003,
          -0.7494796703260302,
          -1.2199073146846033,
          -1.6931654750619702,
          -1.811079365096557,
          0.020893689638700835,
          1.4440760297398576,
          2.0996733504169476,
          0.2802152532388648,
          -0.631054921461625,
          -0.05058220403933079,
          -0.40616064456808204,
          1.3328310775467256,
          -0.7952521462271923,
          1.193583854304163,
          1.2519963841369282,
          -0.9134586174239632,
          -0.8725557059242434,
          1.322184682356837,
          -0.4731022176800327,
          -0.38267636582941933,
          0.38535412701646493,
          -1.1965059878390942,
          0.19145332611762864,
          0.3566681742276206,
          -1.264716104990276,
          0.4243392705895578,
          1.352646395863531,
          -0.02021727760841491,
          -0.7085479943731398,
          -0.3513627400163215,
          0.4455970114568262,
          -0.07323231464269236,
          -0.8415162878062188,
          0.9561748628251976,
          0.8266471204039709,
          1.1931278881829999,
          -0.580958705159653,
          1.8335977808655468,
          0.42426644760194343,
          -0.7852114902855585,
          -1.0309186190380473,
          -0.5628076000169935,
          -0.6668007851181149,
          -0.47099726499280853,
          1.143799160220701,
          -1.5163084407753304,
          0.20717110610832454,
          -1.415994522288912,
          -2.220675022997926,
          0.6582443065023541,
          0.3031872325281803,
          -1.3815256248194634,
          1.297509735968905,
          -2.238715299297245,
          0.09141734497233205,
          1.286436512846688,
          -0.812447701905832,
          2.4930764402388297,
          1.0160813131560342,
          -0.024805488654926825,
          1.2411060588006042,
          -1.8717534423774491,
          -1.2780107408365775,
          0.9604418458571313,
          1.1860385241314744,
          0.2666552647328103,
          -0.5065385105511384,
          0.4729758225569982,
          -1.7988288083912745,
          0.12658581224890725,
          -0.7429979785392491,
          -0.7766302972611013,
          -0.7908572996583494,
          1.7092147797657669,
          0.3766299248489669,
          0.03407246113986779,
          0.8362003788511563,
          -1.1711334684013959,
          -0.48597338126349765,
          -2.203472995499135,
          -0.4551947366698177,
          -0.05546809983232083,
          2.2647661124262575,
          -0.18290251332336832,
          0.38311887678930373,
          0.7702053250113908,
          -1.4726452884463173,
          -0.7940794673819839,
          -1.4445383145154873,
          -1.1988936019151248,
          -0.8107991708981381,
          0.560932510068928,
          -0.5958865538256582
         ],
         "xaxis": "x15",
         "y": [
          -1.5749712758367225,
          1.5279679553494656,
          0.6169188398532187,
          0.4381615389821466,
          -1.165902982861862,
          -0.16092737219826567,
          -1.7263006353744885,
          -1.582251046999577,
          0.4469798912409568,
          0.5552252020943597,
          0.33978681096646723,
          -0.26653086846945734,
          -0.18795204881984295,
          -1.196796020247596,
          0.6905438370339786,
          0.19256030671672106,
          0.40745787612123663,
          0.08118535241407211,
          -0.20116012248770837,
          -0.3616228989893024,
          1.1122414385610147,
          -0.7452604582734915,
          0.9916611852938433,
          0.06328464757229811,
          -0.40919677148805067,
          0.593866979645523,
          0.12217081381354897,
          0.8159518001549088,
          -0.7350511957390575,
          -0.22518573653845014,
          -0.08879787450644676,
          -1.795074849986664,
          0.028770762258658402,
          -1.3095779428990628,
          -0.9515379399218806,
          0.5237507118918706,
          -2.5386755453027545,
          0.2982603809537099,
          0.24602326627966442,
          -0.8077688646428979,
          -0.37370504717129976,
          1.9002888111887495,
          0.3824023297822875,
          -0.26624429103922975,
          1.987202651890973,
          2.9333929258512903,
          -0.7381720151404398,
          -1.012779611616609,
          -2.1905488232002144,
          0.17544393723866172,
          -1.0067215886285323,
          0.4753858487792162,
          1.3511332230279804,
          -1.0220811480425784,
          1.0088962206810403,
          0.5955736028083011,
          1.9310225152585656,
          -0.39994860622598055,
          0.19053885631258413,
          -0.500686573805311,
          -1.5338016430096757,
          -1.5629835931009401,
          -0.6138045856884331,
          0.28693952744716644,
          -0.18847477711654487,
          -2.20166846320593,
          2.863689176111007,
          0.42562756483126546,
          0.35399746830538176,
          0.0408933085068111,
          -0.03590807580194766,
          -0.3861647831070781,
          -0.36532724949382955,
          -1.1013570280673528,
          -0.26876016694697025,
          -0.8504890421894056,
          -0.7416937128184802,
          0.9368118692364116,
          0.033451347964105364,
          -1.533761356424725,
          -1.4756323877032957,
          -0.2628794054357832,
          0.7931820665822862,
          -0.9427961603013939,
          1.456836838293411,
          -1.372939292162019,
          -0.23505185131900733,
          1.8747775392364285,
          0.24810542774041208,
          0.741451362268954,
          -1.5167542526614488,
          0.6590929481300954,
          1.1962855891252022,
          -0.42889342349351406,
          -0.8762483646811131,
          0.7897359378126796,
          -0.8687920367555837,
          0.36314292858819397,
          1.3888598090759352,
          -0.09299929489217049
         ],
         "yaxis": "y15"
        },
        {
         "histfunc": "count",
         "histnorm": "",
         "marker": {
          "color": "rgba(128, 0, 128, 1.0)",
          "line": {
           "color": "#4D5663",
           "width": 1.3
          }
         },
         "name": "D",
         "nbinsx": 10,
         "opacity": 0.8,
         "orientation": "v",
         "type": "histogram",
         "x": [
          -1.5749712758367225,
          1.5279679553494656,
          0.6169188398532187,
          0.4381615389821466,
          -1.165902982861862,
          -0.16092737219826567,
          -1.7263006353744885,
          -1.582251046999577,
          0.4469798912409568,
          0.5552252020943597,
          0.33978681096646723,
          -0.26653086846945734,
          -0.18795204881984295,
          -1.196796020247596,
          0.6905438370339786,
          0.19256030671672106,
          0.40745787612123663,
          0.08118535241407211,
          -0.20116012248770837,
          -0.3616228989893024,
          1.1122414385610147,
          -0.7452604582734915,
          0.9916611852938433,
          0.06328464757229811,
          -0.40919677148805067,
          0.593866979645523,
          0.12217081381354897,
          0.8159518001549088,
          -0.7350511957390575,
          -0.22518573653845014,
          -0.08879787450644676,
          -1.795074849986664,
          0.028770762258658402,
          -1.3095779428990628,
          -0.9515379399218806,
          0.5237507118918706,
          -2.5386755453027545,
          0.2982603809537099,
          0.24602326627966442,
          -0.8077688646428979,
          -0.37370504717129976,
          1.9002888111887495,
          0.3824023297822875,
          -0.26624429103922975,
          1.987202651890973,
          2.9333929258512903,
          -0.7381720151404398,
          -1.012779611616609,
          -2.1905488232002144,
          0.17544393723866172,
          -1.0067215886285323,
          0.4753858487792162,
          1.3511332230279804,
          -1.0220811480425784,
          1.0088962206810403,
          0.5955736028083011,
          1.9310225152585656,
          -0.39994860622598055,
          0.19053885631258413,
          -0.500686573805311,
          -1.5338016430096757,
          -1.5629835931009401,
          -0.6138045856884331,
          0.28693952744716644,
          -0.18847477711654487,
          -2.20166846320593,
          2.863689176111007,
          0.42562756483126546,
          0.35399746830538176,
          0.0408933085068111,
          -0.03590807580194766,
          -0.3861647831070781,
          -0.36532724949382955,
          -1.1013570280673528,
          -0.26876016694697025,
          -0.8504890421894056,
          -0.7416937128184802,
          0.9368118692364116,
          0.033451347964105364,
          -1.533761356424725,
          -1.4756323877032957,
          -0.2628794054357832,
          0.7931820665822862,
          -0.9427961603013939,
          1.456836838293411,
          -1.372939292162019,
          -0.23505185131900733,
          1.8747775392364285,
          0.24810542774041208,
          0.741451362268954,
          -1.5167542526614488,
          0.6590929481300954,
          1.1962855891252022,
          -0.42889342349351406,
          -0.8762483646811131,
          0.7897359378126796,
          -0.8687920367555837,
          0.36314292858819397,
          1.3888598090759352,
          -0.09299929489217049
         ],
         "xaxis": "x16",
         "yaxis": "y16"
        }
       ],
       "layout": {
        "bargap": 0.02,
        "legend": {
         "bgcolor": "#F5F6F9",
         "font": {
          "color": "#4D5663"
         }
        },
        "paper_bgcolor": "#F5F6F9",
        "plot_bgcolor": "#F5F6F9",
        "showlegend": false,
        "template": {
         "data": {
          "bar": [
           {
            "error_x": {
             "color": "#2a3f5f"
            },
            "error_y": {
             "color": "#2a3f5f"
            },
            "marker": {
             "line": {
              "color": "#E5ECF6",
              "width": 0.5
             },
             "pattern": {
              "fillmode": "overlay",
              "size": 10,
              "solidity": 0.2
             }
            },
            "type": "bar"
           }
          ],
          "barpolar": [
           {
            "marker": {
             "line": {
              "color": "#E5ECF6",
              "width": 0.5
             },
             "pattern": {
              "fillmode": "overlay",
              "size": 10,
              "solidity": 0.2
             }
            },
            "type": "barpolar"
           }
          ],
          "carpet": [
           {
            "aaxis": {
             "endlinecolor": "#2a3f5f",
             "gridcolor": "white",
             "linecolor": "white",
             "minorgridcolor": "white",
             "startlinecolor": "#2a3f5f"
            },
            "baxis": {
             "endlinecolor": "#2a3f5f",
             "gridcolor": "white",
             "linecolor": "white",
             "minorgridcolor": "white",
             "startlinecolor": "#2a3f5f"
            },
            "type": "carpet"
           }
          ],
          "choropleth": [
           {
            "colorbar": {
             "outlinewidth": 0,
             "ticks": ""
            },
            "type": "choropleth"
           }
          ],
          "contour": [
           {
            "colorbar": {
             "outlinewidth": 0,
             "ticks": ""
            },
            "colorscale": [
             [
              0,
              "#0d0887"
             ],
             [
              0.1111111111111111,
              "#46039f"
             ],
             [
              0.2222222222222222,
              "#7201a8"
             ],
             [
              0.3333333333333333,
              "#9c179e"
             ],
             [
              0.4444444444444444,
              "#bd3786"
             ],
             [
              0.5555555555555556,
              "#d8576b"
             ],
             [
              0.6666666666666666,
              "#ed7953"
             ],
             [
              0.7777777777777778,
              "#fb9f3a"
             ],
             [
              0.8888888888888888,
              "#fdca26"
             ],
             [
              1,
              "#f0f921"
             ]
            ],
            "type": "contour"
           }
          ],
          "contourcarpet": [
           {
            "colorbar": {
             "outlinewidth": 0,
             "ticks": ""
            },
            "type": "contourcarpet"
           }
          ],
          "heatmap": [
           {
            "colorbar": {
             "outlinewidth": 0,
             "ticks": ""
            },
            "colorscale": [
             [
              0,
              "#0d0887"
             ],
             [
              0.1111111111111111,
              "#46039f"
             ],
             [
              0.2222222222222222,
              "#7201a8"
             ],
             [
              0.3333333333333333,
              "#9c179e"
             ],
             [
              0.4444444444444444,
              "#bd3786"
             ],
             [
              0.5555555555555556,
              "#d8576b"
             ],
             [
              0.6666666666666666,
              "#ed7953"
             ],
             [
              0.7777777777777778,
              "#fb9f3a"
             ],
             [
              0.8888888888888888,
              "#fdca26"
             ],
             [
              1,
              "#f0f921"
             ]
            ],
            "type": "heatmap"
           }
          ],
          "heatmapgl": [
           {
            "colorbar": {
             "outlinewidth": 0,
             "ticks": ""
            },
            "colorscale": [
             [
              0,
              "#0d0887"
             ],
             [
              0.1111111111111111,
              "#46039f"
             ],
             [
              0.2222222222222222,
              "#7201a8"
             ],
             [
              0.3333333333333333,
              "#9c179e"
             ],
             [
              0.4444444444444444,
              "#bd3786"
             ],
             [
              0.5555555555555556,
              "#d8576b"
             ],
             [
              0.6666666666666666,
              "#ed7953"
             ],
             [
              0.7777777777777778,
              "#fb9f3a"
             ],
             [
              0.8888888888888888,
              "#fdca26"
             ],
             [
              1,
              "#f0f921"
             ]
            ],
            "type": "heatmapgl"
           }
          ],
          "histogram": [
           {
            "marker": {
             "pattern": {
              "fillmode": "overlay",
              "size": 10,
              "solidity": 0.2
             }
            },
            "type": "histogram"
           }
          ],
          "histogram2d": [
           {
            "colorbar": {
             "outlinewidth": 0,
             "ticks": ""
            },
            "colorscale": [
             [
              0,
              "#0d0887"
             ],
             [
              0.1111111111111111,
              "#46039f"
             ],
             [
              0.2222222222222222,
              "#7201a8"
             ],
             [
              0.3333333333333333,
              "#9c179e"
             ],
             [
              0.4444444444444444,
              "#bd3786"
             ],
             [
              0.5555555555555556,
              "#d8576b"
             ],
             [
              0.6666666666666666,
              "#ed7953"
             ],
             [
              0.7777777777777778,
              "#fb9f3a"
             ],
             [
              0.8888888888888888,
              "#fdca26"
             ],
             [
              1,
              "#f0f921"
             ]
            ],
            "type": "histogram2d"
           }
          ],
          "histogram2dcontour": [
           {
            "colorbar": {
             "outlinewidth": 0,
             "ticks": ""
            },
            "colorscale": [
             [
              0,
              "#0d0887"
             ],
             [
              0.1111111111111111,
              "#46039f"
             ],
             [
              0.2222222222222222,
              "#7201a8"
             ],
             [
              0.3333333333333333,
              "#9c179e"
             ],
             [
              0.4444444444444444,
              "#bd3786"
             ],
             [
              0.5555555555555556,
              "#d8576b"
             ],
             [
              0.6666666666666666,
              "#ed7953"
             ],
             [
              0.7777777777777778,
              "#fb9f3a"
             ],
             [
              0.8888888888888888,
              "#fdca26"
             ],
             [
              1,
              "#f0f921"
             ]
            ],
            "type": "histogram2dcontour"
           }
          ],
          "mesh3d": [
           {
            "colorbar": {
             "outlinewidth": 0,
             "ticks": ""
            },
            "type": "mesh3d"
           }
          ],
          "parcoords": [
           {
            "line": {
             "colorbar": {
              "outlinewidth": 0,
              "ticks": ""
             }
            },
            "type": "parcoords"
           }
          ],
          "pie": [
           {
            "automargin": true,
            "type": "pie"
           }
          ],
          "scatter": [
           {
            "fillpattern": {
             "fillmode": "overlay",
             "size": 10,
             "solidity": 0.2
            },
            "type": "scatter"
           }
          ],
          "scatter3d": [
           {
            "line": {
             "colorbar": {
              "outlinewidth": 0,
              "ticks": ""
             }
            },
            "marker": {
             "colorbar": {
              "outlinewidth": 0,
              "ticks": ""
             }
            },
            "type": "scatter3d"
           }
          ],
          "scattercarpet": [
           {
            "marker": {
             "colorbar": {
              "outlinewidth": 0,
              "ticks": ""
             }
            },
            "type": "scattercarpet"
           }
          ],
          "scattergeo": [
           {
            "marker": {
             "colorbar": {
              "outlinewidth": 0,
              "ticks": ""
             }
            },
            "type": "scattergeo"
           }
          ],
          "scattergl": [
           {
            "marker": {
             "colorbar": {
              "outlinewidth": 0,
              "ticks": ""
             }
            },
            "type": "scattergl"
           }
          ],
          "scattermapbox": [
           {
            "marker": {
             "colorbar": {
              "outlinewidth": 0,
              "ticks": ""
             }
            },
            "type": "scattermapbox"
           }
          ],
          "scatterpolar": [
           {
            "marker": {
             "colorbar": {
              "outlinewidth": 0,
              "ticks": ""
             }
            },
            "type": "scatterpolar"
           }
          ],
          "scatterpolargl": [
           {
            "marker": {
             "colorbar": {
              "outlinewidth": 0,
              "ticks": ""
             }
            },
            "type": "scatterpolargl"
           }
          ],
          "scatterternary": [
           {
            "marker": {
             "colorbar": {
              "outlinewidth": 0,
              "ticks": ""
             }
            },
            "type": "scatterternary"
           }
          ],
          "surface": [
           {
            "colorbar": {
             "outlinewidth": 0,
             "ticks": ""
            },
            "colorscale": [
             [
              0,
              "#0d0887"
             ],
             [
              0.1111111111111111,
              "#46039f"
             ],
             [
              0.2222222222222222,
              "#7201a8"
             ],
             [
              0.3333333333333333,
              "#9c179e"
             ],
             [
              0.4444444444444444,
              "#bd3786"
             ],
             [
              0.5555555555555556,
              "#d8576b"
             ],
             [
              0.6666666666666666,
              "#ed7953"
             ],
             [
              0.7777777777777778,
              "#fb9f3a"
             ],
             [
              0.8888888888888888,
              "#fdca26"
             ],
             [
              1,
              "#f0f921"
             ]
            ],
            "type": "surface"
           }
          ],
          "table": [
           {
            "cells": {
             "fill": {
              "color": "#EBF0F8"
             },
             "line": {
              "color": "white"
             }
            },
            "header": {
             "fill": {
              "color": "#C8D4E3"
             },
             "line": {
              "color": "white"
             }
            },
            "type": "table"
           }
          ]
         },
         "layout": {
          "annotationdefaults": {
           "arrowcolor": "#2a3f5f",
           "arrowhead": 0,
           "arrowwidth": 1
          },
          "autotypenumbers": "strict",
          "coloraxis": {
           "colorbar": {
            "outlinewidth": 0,
            "ticks": ""
           }
          },
          "colorscale": {
           "diverging": [
            [
             0,
             "#8e0152"
            ],
            [
             0.1,
             "#c51b7d"
            ],
            [
             0.2,
             "#de77ae"
            ],
            [
             0.3,
             "#f1b6da"
            ],
            [
             0.4,
             "#fde0ef"
            ],
            [
             0.5,
             "#f7f7f7"
            ],
            [
             0.6,
             "#e6f5d0"
            ],
            [
             0.7,
             "#b8e186"
            ],
            [
             0.8,
             "#7fbc41"
            ],
            [
             0.9,
             "#4d9221"
            ],
            [
             1,
             "#276419"
            ]
           ],
           "sequential": [
            [
             0,
             "#0d0887"
            ],
            [
             0.1111111111111111,
             "#46039f"
            ],
            [
             0.2222222222222222,
             "#7201a8"
            ],
            [
             0.3333333333333333,
             "#9c179e"
            ],
            [
             0.4444444444444444,
             "#bd3786"
            ],
            [
             0.5555555555555556,
             "#d8576b"
            ],
            [
             0.6666666666666666,
             "#ed7953"
            ],
            [
             0.7777777777777778,
             "#fb9f3a"
            ],
            [
             0.8888888888888888,
             "#fdca26"
            ],
            [
             1,
             "#f0f921"
            ]
           ],
           "sequentialminus": [
            [
             0,
             "#0d0887"
            ],
            [
             0.1111111111111111,
             "#46039f"
            ],
            [
             0.2222222222222222,
             "#7201a8"
            ],
            [
             0.3333333333333333,
             "#9c179e"
            ],
            [
             0.4444444444444444,
             "#bd3786"
            ],
            [
             0.5555555555555556,
             "#d8576b"
            ],
            [
             0.6666666666666666,
             "#ed7953"
            ],
            [
             0.7777777777777778,
             "#fb9f3a"
            ],
            [
             0.8888888888888888,
             "#fdca26"
            ],
            [
             1,
             "#f0f921"
            ]
           ]
          },
          "colorway": [
           "#636efa",
           "#EF553B",
           "#00cc96",
           "#ab63fa",
           "#FFA15A",
           "#19d3f3",
           "#FF6692",
           "#B6E880",
           "#FF97FF",
           "#FECB52"
          ],
          "font": {
           "color": "#2a3f5f"
          },
          "geo": {
           "bgcolor": "white",
           "lakecolor": "white",
           "landcolor": "#E5ECF6",
           "showlakes": true,
           "showland": true,
           "subunitcolor": "white"
          },
          "hoverlabel": {
           "align": "left"
          },
          "hovermode": "closest",
          "mapbox": {
           "style": "light"
          },
          "paper_bgcolor": "white",
          "plot_bgcolor": "#E5ECF6",
          "polar": {
           "angularaxis": {
            "gridcolor": "white",
            "linecolor": "white",
            "ticks": ""
           },
           "bgcolor": "#E5ECF6",
           "radialaxis": {
            "gridcolor": "white",
            "linecolor": "white",
            "ticks": ""
           }
          },
          "scene": {
           "xaxis": {
            "backgroundcolor": "#E5ECF6",
            "gridcolor": "white",
            "gridwidth": 2,
            "linecolor": "white",
            "showbackground": true,
            "ticks": "",
            "zerolinecolor": "white"
           },
           "yaxis": {
            "backgroundcolor": "#E5ECF6",
            "gridcolor": "white",
            "gridwidth": 2,
            "linecolor": "white",
            "showbackground": true,
            "ticks": "",
            "zerolinecolor": "white"
           },
           "zaxis": {
            "backgroundcolor": "#E5ECF6",
            "gridcolor": "white",
            "gridwidth": 2,
            "linecolor": "white",
            "showbackground": true,
            "ticks": "",
            "zerolinecolor": "white"
           }
          },
          "shapedefaults": {
           "line": {
            "color": "#2a3f5f"
           }
          },
          "ternary": {
           "aaxis": {
            "gridcolor": "white",
            "linecolor": "white",
            "ticks": ""
           },
           "baxis": {
            "gridcolor": "white",
            "linecolor": "white",
            "ticks": ""
           },
           "bgcolor": "#E5ECF6",
           "caxis": {
            "gridcolor": "white",
            "linecolor": "white",
            "ticks": ""
           }
          },
          "title": {
           "x": 0.05
          },
          "xaxis": {
           "automargin": true,
           "gridcolor": "white",
           "linecolor": "white",
           "ticks": "",
           "title": {
            "standoff": 15
           },
           "zerolinecolor": "white",
           "zerolinewidth": 2
          },
          "yaxis": {
           "automargin": true,
           "gridcolor": "white",
           "linecolor": "white",
           "ticks": "",
           "title": {
            "standoff": 15
           },
           "zerolinecolor": "white",
           "zerolinewidth": 2
          }
         }
        },
        "title": {
         "font": {
          "color": "#4D5663"
         }
        },
        "xaxis": {
         "anchor": "y",
         "domain": [
          0,
          0.2125
         ],
         "gridcolor": "#E1E5ED",
         "showgrid": false,
         "tickfont": {
          "color": "#4D5663"
         },
         "title": {
          "font": {
           "color": "#4D5663"
          },
          "text": ""
         },
         "zerolinecolor": "#E1E5ED"
        },
        "xaxis10": {
         "anchor": "y10",
         "domain": [
          0.2625,
          0.475
         ],
         "gridcolor": "#E1E5ED",
         "showgrid": false,
         "tickfont": {
          "color": "#4D5663"
         },
         "title": {
          "font": {
           "color": "#4D5663"
          },
          "text": ""
         },
         "zerolinecolor": "#E1E5ED"
        },
        "xaxis11": {
         "anchor": "y11",
         "domain": [
          0.525,
          0.7375
         ],
         "gridcolor": "#E1E5ED",
         "showgrid": false,
         "tickfont": {
          "color": "#4D5663"
         },
         "title": {
          "font": {
           "color": "#4D5663"
          },
          "text": ""
         },
         "zerolinecolor": "#E1E5ED"
        },
        "xaxis12": {
         "anchor": "y12",
         "domain": [
          0.7875,
          1
         ],
         "gridcolor": "#E1E5ED",
         "showgrid": false,
         "tickfont": {
          "color": "#4D5663"
         },
         "title": {
          "font": {
           "color": "#4D5663"
          },
          "text": ""
         },
         "zerolinecolor": "#E1E5ED"
        },
        "xaxis13": {
         "anchor": "y13",
         "domain": [
          0,
          0.2125
         ],
         "gridcolor": "#E1E5ED",
         "showgrid": false,
         "tickfont": {
          "color": "#4D5663"
         },
         "title": {
          "font": {
           "color": "#4D5663"
          },
          "text": ""
         },
         "zerolinecolor": "#E1E5ED"
        },
        "xaxis14": {
         "anchor": "y14",
         "domain": [
          0.2625,
          0.475
         ],
         "gridcolor": "#E1E5ED",
         "showgrid": false,
         "tickfont": {
          "color": "#4D5663"
         },
         "title": {
          "font": {
           "color": "#4D5663"
          },
          "text": ""
         },
         "zerolinecolor": "#E1E5ED"
        },
        "xaxis15": {
         "anchor": "y15",
         "domain": [
          0.525,
          0.7375
         ],
         "gridcolor": "#E1E5ED",
         "showgrid": false,
         "tickfont": {
          "color": "#4D5663"
         },
         "title": {
          "font": {
           "color": "#4D5663"
          },
          "text": ""
         },
         "zerolinecolor": "#E1E5ED"
        },
        "xaxis16": {
         "anchor": "y16",
         "domain": [
          0.7875,
          1
         ],
         "gridcolor": "#E1E5ED",
         "showgrid": false,
         "tickfont": {
          "color": "#4D5663"
         },
         "title": {
          "font": {
           "color": "#4D5663"
          },
          "text": ""
         },
         "zerolinecolor": "#E1E5ED"
        },
        "xaxis2": {
         "anchor": "y2",
         "domain": [
          0.2625,
          0.475
         ],
         "gridcolor": "#E1E5ED",
         "showgrid": false,
         "tickfont": {
          "color": "#4D5663"
         },
         "title": {
          "font": {
           "color": "#4D5663"
          },
          "text": ""
         },
         "zerolinecolor": "#E1E5ED"
        },
        "xaxis3": {
         "anchor": "y3",
         "domain": [
          0.525,
          0.7375
         ],
         "gridcolor": "#E1E5ED",
         "showgrid": false,
         "tickfont": {
          "color": "#4D5663"
         },
         "title": {
          "font": {
           "color": "#4D5663"
          },
          "text": ""
         },
         "zerolinecolor": "#E1E5ED"
        },
        "xaxis4": {
         "anchor": "y4",
         "domain": [
          0.7875,
          1
         ],
         "gridcolor": "#E1E5ED",
         "showgrid": false,
         "tickfont": {
          "color": "#4D5663"
         },
         "title": {
          "font": {
           "color": "#4D5663"
          },
          "text": ""
         },
         "zerolinecolor": "#E1E5ED"
        },
        "xaxis5": {
         "anchor": "y5",
         "domain": [
          0,
          0.2125
         ],
         "gridcolor": "#E1E5ED",
         "showgrid": false,
         "tickfont": {
          "color": "#4D5663"
         },
         "title": {
          "font": {
           "color": "#4D5663"
          },
          "text": ""
         },
         "zerolinecolor": "#E1E5ED"
        },
        "xaxis6": {
         "anchor": "y6",
         "domain": [
          0.2625,
          0.475
         ],
         "gridcolor": "#E1E5ED",
         "showgrid": false,
         "tickfont": {
          "color": "#4D5663"
         },
         "title": {
          "font": {
           "color": "#4D5663"
          },
          "text": ""
         },
         "zerolinecolor": "#E1E5ED"
        },
        "xaxis7": {
         "anchor": "y7",
         "domain": [
          0.525,
          0.7375
         ],
         "gridcolor": "#E1E5ED",
         "showgrid": false,
         "tickfont": {
          "color": "#4D5663"
         },
         "title": {
          "font": {
           "color": "#4D5663"
          },
          "text": ""
         },
         "zerolinecolor": "#E1E5ED"
        },
        "xaxis8": {
         "anchor": "y8",
         "domain": [
          0.7875,
          1
         ],
         "gridcolor": "#E1E5ED",
         "showgrid": false,
         "tickfont": {
          "color": "#4D5663"
         },
         "title": {
          "font": {
           "color": "#4D5663"
          },
          "text": ""
         },
         "zerolinecolor": "#E1E5ED"
        },
        "xaxis9": {
         "anchor": "y9",
         "domain": [
          0,
          0.2125
         ],
         "gridcolor": "#E1E5ED",
         "showgrid": false,
         "tickfont": {
          "color": "#4D5663"
         },
         "title": {
          "font": {
           "color": "#4D5663"
          },
          "text": ""
         },
         "zerolinecolor": "#E1E5ED"
        },
        "yaxis": {
         "anchor": "x",
         "domain": [
          0.8025,
          1
         ],
         "gridcolor": "#E1E5ED",
         "showgrid": false,
         "tickfont": {
          "color": "#4D5663"
         },
         "title": {
          "font": {
           "color": "#4D5663"
          },
          "text": ""
         },
         "zerolinecolor": "#E1E5ED"
        },
        "yaxis10": {
         "anchor": "x10",
         "domain": [
          0.2675,
          0.465
         ],
         "gridcolor": "#E1E5ED",
         "showgrid": false,
         "tickfont": {
          "color": "#4D5663"
         },
         "title": {
          "font": {
           "color": "#4D5663"
          },
          "text": ""
         },
         "zerolinecolor": "#E1E5ED"
        },
        "yaxis11": {
         "anchor": "x11",
         "domain": [
          0.2675,
          0.465
         ],
         "gridcolor": "#E1E5ED",
         "showgrid": false,
         "tickfont": {
          "color": "#4D5663"
         },
         "title": {
          "font": {
           "color": "#4D5663"
          },
          "text": ""
         },
         "zerolinecolor": "#E1E5ED"
        },
        "yaxis12": {
         "anchor": "x12",
         "domain": [
          0.2675,
          0.465
         ],
         "gridcolor": "#E1E5ED",
         "showgrid": false,
         "tickfont": {
          "color": "#4D5663"
         },
         "title": {
          "font": {
           "color": "#4D5663"
          },
          "text": ""
         },
         "zerolinecolor": "#E1E5ED"
        },
        "yaxis13": {
         "anchor": "x13",
         "domain": [
          0,
          0.1975
         ],
         "gridcolor": "#E1E5ED",
         "showgrid": false,
         "tickfont": {
          "color": "#4D5663"
         },
         "title": {
          "font": {
           "color": "#4D5663"
          },
          "text": ""
         },
         "zerolinecolor": "#E1E5ED"
        },
        "yaxis14": {
         "anchor": "x14",
         "domain": [
          0,
          0.1975
         ],
         "gridcolor": "#E1E5ED",
         "showgrid": false,
         "tickfont": {
          "color": "#4D5663"
         },
         "title": {
          "font": {
           "color": "#4D5663"
          },
          "text": ""
         },
         "zerolinecolor": "#E1E5ED"
        },
        "yaxis15": {
         "anchor": "x15",
         "domain": [
          0,
          0.1975
         ],
         "gridcolor": "#E1E5ED",
         "showgrid": false,
         "tickfont": {
          "color": "#4D5663"
         },
         "title": {
          "font": {
           "color": "#4D5663"
          },
          "text": ""
         },
         "zerolinecolor": "#E1E5ED"
        },
        "yaxis16": {
         "anchor": "x16",
         "domain": [
          0,
          0.1975
         ],
         "gridcolor": "#E1E5ED",
         "showgrid": false,
         "tickfont": {
          "color": "#4D5663"
         },
         "title": {
          "font": {
           "color": "#4D5663"
          },
          "text": ""
         },
         "zerolinecolor": "#E1E5ED"
        },
        "yaxis2": {
         "anchor": "x2",
         "domain": [
          0.8025,
          1
         ],
         "gridcolor": "#E1E5ED",
         "showgrid": false,
         "tickfont": {
          "color": "#4D5663"
         },
         "title": {
          "font": {
           "color": "#4D5663"
          },
          "text": ""
         },
         "zerolinecolor": "#E1E5ED"
        },
        "yaxis3": {
         "anchor": "x3",
         "domain": [
          0.8025,
          1
         ],
         "gridcolor": "#E1E5ED",
         "showgrid": false,
         "tickfont": {
          "color": "#4D5663"
         },
         "title": {
          "font": {
           "color": "#4D5663"
          },
          "text": ""
         },
         "zerolinecolor": "#E1E5ED"
        },
        "yaxis4": {
         "anchor": "x4",
         "domain": [
          0.8025,
          1
         ],
         "gridcolor": "#E1E5ED",
         "showgrid": false,
         "tickfont": {
          "color": "#4D5663"
         },
         "title": {
          "font": {
           "color": "#4D5663"
          },
          "text": ""
         },
         "zerolinecolor": "#E1E5ED"
        },
        "yaxis5": {
         "anchor": "x5",
         "domain": [
          0.535,
          0.7325
         ],
         "gridcolor": "#E1E5ED",
         "showgrid": false,
         "tickfont": {
          "color": "#4D5663"
         },
         "title": {
          "font": {
           "color": "#4D5663"
          },
          "text": ""
         },
         "zerolinecolor": "#E1E5ED"
        },
        "yaxis6": {
         "anchor": "x6",
         "domain": [
          0.535,
          0.7325
         ],
         "gridcolor": "#E1E5ED",
         "showgrid": false,
         "tickfont": {
          "color": "#4D5663"
         },
         "title": {
          "font": {
           "color": "#4D5663"
          },
          "text": ""
         },
         "zerolinecolor": "#E1E5ED"
        },
        "yaxis7": {
         "anchor": "x7",
         "domain": [
          0.535,
          0.7325
         ],
         "gridcolor": "#E1E5ED",
         "showgrid": false,
         "tickfont": {
          "color": "#4D5663"
         },
         "title": {
          "font": {
           "color": "#4D5663"
          },
          "text": ""
         },
         "zerolinecolor": "#E1E5ED"
        },
        "yaxis8": {
         "anchor": "x8",
         "domain": [
          0.535,
          0.7325
         ],
         "gridcolor": "#E1E5ED",
         "showgrid": false,
         "tickfont": {
          "color": "#4D5663"
         },
         "title": {
          "font": {
           "color": "#4D5663"
          },
          "text": ""
         },
         "zerolinecolor": "#E1E5ED"
        },
        "yaxis9": {
         "anchor": "x9",
         "domain": [
          0.2675,
          0.465
         ],
         "gridcolor": "#E1E5ED",
         "showgrid": false,
         "tickfont": {
          "color": "#4D5663"
         },
         "title": {
          "font": {
           "color": "#4D5663"
          },
          "text": ""
         },
         "zerolinecolor": "#E1E5ED"
        }
       }
      },
      "text/html": [
       "<div>                            <div id=\"4a8bbf01-0373-4e4a-a255-f6dbb6b07ecd\" class=\"plotly-graph-div\" style=\"height:525px; width:100%;\"></div>            <script type=\"text/javascript\">                require([\"plotly\"], function(Plotly) {                    window.PLOTLYENV=window.PLOTLYENV || {};\n",
       "                    window.PLOTLYENV.BASE_URL='https://plot.ly';                                    if (document.getElementById(\"4a8bbf01-0373-4e4a-a255-f6dbb6b07ecd\")) {                    Plotly.newPlot(                        \"4a8bbf01-0373-4e4a-a255-f6dbb6b07ecd\",                        [{\"histfunc\":\"count\",\"histnorm\":\"\",\"marker\":{\"color\":\"rgba(255, 153, 51, 1.0)\",\"line\":{\"color\":\"#4D5663\",\"width\":1.3}},\"name\":\"A\",\"nbinsx\":10,\"opacity\":0.8,\"orientation\":\"v\",\"x\":[0.04472728291752777,2.0136277903577247,-1.9236196401519277,2.4911980816178194,-0.9967665313943013,-0.7951919577304543,1.9487063804665836,-2.23538159261186,-0.6362833050737016,-1.4754844608198587,0.011761902594940405,0.762460136367464,0.09148958294183143,-1.3104088928298192,-0.6551324495685213,0.4417399033234646,-1.0041748206612782,-2.1279381643445148,-0.33415704844100136,1.8822856176465037,-0.17436524138072843,0.24438741548022544,1.1271349499163994,0.12908581848119247,-0.5194216529893724,0.06933790600730215,-0.1604553359252777,0.4243007995667343,-1.1251252448290945,-1.3033981078054881,-0.3439484052277837,0.1853004778913747,-1.2386458788249415,1.5066759635136762,-1.5934330724746797,1.1466275226458311,-0.2998576466989392,-0.7564601805963426,-0.8075479890241387,0.31415964222467585,-1.869410364721812,-0.7150081458694103,-1.1738929577822552,-0.03933686859765417,-0.2301305754650945,1.077391686619631,1.1402657961968796,0.291777123552492,0.9600778507641592,-0.4263265753068178,-0.5520173344511742,0.6578707128339493,0.6018249253613506,-1.226518784319018,-0.10312712302438928,-1.0674536882407857,0.6482714967308668,0.9162266657051357,-0.5372298377330095,0.8845513154382081,0.8015316358892549,-0.7257562347588903,-0.8516497444356815,0.35510691240333075,-0.1602518439569381,0.18772635521434244,0.6394680450095762,-1.7841028128897547,-1.362461857419024,-0.9692165633965856,1.8623982171870008,1.5405117173715361,-1.329477243882208,-1.0570415503714614,0.8275648531322185,0.7174334888677107,-1.8407960180545033,-0.6327346660982492,-1.834893941666618,-1.0222932958815636,-0.0890975036474237,0.9262538909560268,1.587038316260175,1.4636701642913348,0.24217647988032678,-0.05063897611733595,0.723546614583445,-0.49758264536569463,0.9075802085838476,-1.1304087274552108,-1.8339112439763066,-1.1000414778730772,-1.4124638619838747,0.6431580778738788,-1.4370295309081362,0.6910484972701905,3.256655782163857,-0.11462551340178101,2.17596548950574,1.4596346378062068],\"xaxis\":\"x\",\"yaxis\":\"y\",\"type\":\"histogram\"},{\"line\":{\"color\":\"rgba(128, 128, 128, 1.0)\",\"dash\":\"solid\",\"shape\":\"linear\",\"width\":1.3},\"marker\":{\"size\":2,\"symbol\":\"circle\"},\"mode\":\"markers\",\"name\":\"A\",\"text\":\"\",\"x\":[-0.3581752144020478,-0.7438157432225722,-0.026352079985911398,-1.7030343296523238,-0.6804127539561089,-0.5742523112529103,-0.644070917542256,1.1420509381512929,2.102995846840507,0.8034327021876664,-0.2544097102330024,-0.5594592584848158,0.3215300951874448,-2.248060706625145,0.8510702715173849,0.02002817387705508,0.4123192990534875,-0.9082770377039694,-2.6085505772612874,-2.147063117352743,0.9535202754542268,-0.0073023603245049125,0.9538228579321008,1.0999244249525777,-1.139370634678592,0.2756124159103919,-0.6372337077181718,-0.36135473899091913,0.21164955578397002,-0.03099702152822309,-0.7316516112829898,0.6355425652614268,1.78039302465161,-2.0788866513236086,1.1491779044101635,-1.6641430920273568,-2.2000095056079068,-0.982006606741808,-1.057634337467608,0.5812949646110466,-1.4253407808509473,0.08339873767432296,1.3543453070586946,-0.17539272838694092,1.2030635329624155,-0.8457858322795581,-0.3938160616631665,0.4041842542547364,-0.22165217214236851,-1.1733244203373254,1.3750172675716983,0.9958795214552347,-0.4135630924958996,1.407402473250491,1.3153437163187505,-0.2337487208533535,-0.8143858125945819,1.2535849479121297,-1.4013077884969811,-0.027873794659457322,-1.6519261458676777,1.0152535488984349,1.6400765995653448,-0.13121204521055865,0.11617127183790316,1.0286285927755345,-0.7385281986681842,0.5734121298857456,0.561397002379349,-0.2949416372362533,0.3748451018513906,0.7535297542120657,-0.8808149739384412,-0.6003689995820148,-0.09021186742874453,-1.0472595114473746,0.3925190406471404,0.7868290741235954,-0.6101642208256651,2.6848305120360294,0.5820378711418692,0.01709018333611756,0.08485702664004978,1.1302744949762342,0.2619928493319134,-0.7773726420782053,-0.013062268486066998,-0.6484815907002609,0.15677550862065318,0.12088007476316984,-0.06528420696843706,0.9644951425621063,0.47524555244276545,-1.2159192117365958,1.102966649667511,0.35982432168304623,0.10840028329846188,-0.4012335082600968,-0.9925124577209844,-1.3590407654438954],\"xaxis\":\"x2\",\"y\":[0.04472728291752777,2.0136277903577247,-1.9236196401519277,2.4911980816178194,-0.9967665313943013,-0.7951919577304543,1.9487063804665836,-2.23538159261186,-0.6362833050737016,-1.4754844608198587,0.011761902594940405,0.762460136367464,0.09148958294183143,-1.3104088928298192,-0.6551324495685213,0.4417399033234646,-1.0041748206612782,-2.1279381643445148,-0.33415704844100136,1.8822856176465037,-0.17436524138072843,0.24438741548022544,1.1271349499163994,0.12908581848119247,-0.5194216529893724,0.06933790600730215,-0.1604553359252777,0.4243007995667343,-1.1251252448290945,-1.3033981078054881,-0.3439484052277837,0.1853004778913747,-1.2386458788249415,1.5066759635136762,-1.5934330724746797,1.1466275226458311,-0.2998576466989392,-0.7564601805963426,-0.8075479890241387,0.31415964222467585,-1.869410364721812,-0.7150081458694103,-1.1738929577822552,-0.03933686859765417,-0.2301305754650945,1.077391686619631,1.1402657961968796,0.291777123552492,0.9600778507641592,-0.4263265753068178,-0.5520173344511742,0.6578707128339493,0.6018249253613506,-1.226518784319018,-0.10312712302438928,-1.0674536882407857,0.6482714967308668,0.9162266657051357,-0.5372298377330095,0.8845513154382081,0.8015316358892549,-0.7257562347588903,-0.8516497444356815,0.35510691240333075,-0.1602518439569381,0.18772635521434244,0.6394680450095762,-1.7841028128897547,-1.362461857419024,-0.9692165633965856,1.8623982171870008,1.5405117173715361,-1.329477243882208,-1.0570415503714614,0.8275648531322185,0.7174334888677107,-1.8407960180545033,-0.6327346660982492,-1.834893941666618,-1.0222932958815636,-0.0890975036474237,0.9262538909560268,1.587038316260175,1.4636701642913348,0.24217647988032678,-0.05063897611733595,0.723546614583445,-0.49758264536569463,0.9075802085838476,-1.1304087274552108,-1.8339112439763066,-1.1000414778730772,-1.4124638619838747,0.6431580778738788,-1.4370295309081362,0.6910484972701905,3.256655782163857,-0.11462551340178101,2.17596548950574,1.4596346378062068],\"yaxis\":\"y2\",\"type\":\"scatter\"},{\"line\":{\"color\":\"rgba(128, 128, 128, 1.0)\",\"dash\":\"solid\",\"shape\":\"linear\",\"width\":1.3},\"marker\":{\"size\":2,\"symbol\":\"circle\"},\"mode\":\"markers\",\"name\":\"A\",\"text\":\"\",\"x\":[-0.23448312426228735,1.1734040566324928,-0.10861389781654822,0.24027945635684297,-0.08794282132505515,0.6726391635010236,-0.37552541245105003,-0.7494796703260302,-1.2199073146846033,-1.6931654750619702,-1.811079365096557,0.020893689638700835,1.4440760297398576,2.0996733504169476,0.2802152532388648,-0.631054921461625,-0.05058220403933079,-0.40616064456808204,1.3328310775467256,-0.7952521462271923,1.193583854304163,1.2519963841369282,-0.9134586174239632,-0.8725557059242434,1.322184682356837,-0.4731022176800327,-0.38267636582941933,0.38535412701646493,-1.1965059878390942,0.19145332611762864,0.3566681742276206,-1.264716104990276,0.4243392705895578,1.352646395863531,-0.02021727760841491,-0.7085479943731398,-0.3513627400163215,0.4455970114568262,-0.07323231464269236,-0.8415162878062188,0.9561748628251976,0.8266471204039709,1.1931278881829999,-0.580958705159653,1.8335977808655468,0.42426644760194343,-0.7852114902855585,-1.0309186190380473,-0.5628076000169935,-0.6668007851181149,-0.47099726499280853,1.143799160220701,-1.5163084407753304,0.20717110610832454,-1.415994522288912,-2.220675022997926,0.6582443065023541,0.3031872325281803,-1.3815256248194634,1.297509735968905,-2.238715299297245,0.09141734497233205,1.286436512846688,-0.812447701905832,2.4930764402388297,1.0160813131560342,-0.024805488654926825,1.2411060588006042,-1.8717534423774491,-1.2780107408365775,0.9604418458571313,1.1860385241314744,0.2666552647328103,-0.5065385105511384,0.4729758225569982,-1.7988288083912745,0.12658581224890725,-0.7429979785392491,-0.7766302972611013,-0.7908572996583494,1.7092147797657669,0.3766299248489669,0.03407246113986779,0.8362003788511563,-1.1711334684013959,-0.48597338126349765,-2.203472995499135,-0.4551947366698177,-0.05546809983232083,2.2647661124262575,-0.18290251332336832,0.38311887678930373,0.7702053250113908,-1.4726452884463173,-0.7940794673819839,-1.4445383145154873,-1.1988936019151248,-0.8107991708981381,0.560932510068928,-0.5958865538256582],\"xaxis\":\"x3\",\"y\":[0.04472728291752777,2.0136277903577247,-1.9236196401519277,2.4911980816178194,-0.9967665313943013,-0.7951919577304543,1.9487063804665836,-2.23538159261186,-0.6362833050737016,-1.4754844608198587,0.011761902594940405,0.762460136367464,0.09148958294183143,-1.3104088928298192,-0.6551324495685213,0.4417399033234646,-1.0041748206612782,-2.1279381643445148,-0.33415704844100136,1.8822856176465037,-0.17436524138072843,0.24438741548022544,1.1271349499163994,0.12908581848119247,-0.5194216529893724,0.06933790600730215,-0.1604553359252777,0.4243007995667343,-1.1251252448290945,-1.3033981078054881,-0.3439484052277837,0.1853004778913747,-1.2386458788249415,1.5066759635136762,-1.5934330724746797,1.1466275226458311,-0.2998576466989392,-0.7564601805963426,-0.8075479890241387,0.31415964222467585,-1.869410364721812,-0.7150081458694103,-1.1738929577822552,-0.03933686859765417,-0.2301305754650945,1.077391686619631,1.1402657961968796,0.291777123552492,0.9600778507641592,-0.4263265753068178,-0.5520173344511742,0.6578707128339493,0.6018249253613506,-1.226518784319018,-0.10312712302438928,-1.0674536882407857,0.6482714967308668,0.9162266657051357,-0.5372298377330095,0.8845513154382081,0.8015316358892549,-0.7257562347588903,-0.8516497444356815,0.35510691240333075,-0.1602518439569381,0.18772635521434244,0.6394680450095762,-1.7841028128897547,-1.362461857419024,-0.9692165633965856,1.8623982171870008,1.5405117173715361,-1.329477243882208,-1.0570415503714614,0.8275648531322185,0.7174334888677107,-1.8407960180545033,-0.6327346660982492,-1.834893941666618,-1.0222932958815636,-0.0890975036474237,0.9262538909560268,1.587038316260175,1.4636701642913348,0.24217647988032678,-0.05063897611733595,0.723546614583445,-0.49758264536569463,0.9075802085838476,-1.1304087274552108,-1.8339112439763066,-1.1000414778730772,-1.4124638619838747,0.6431580778738788,-1.4370295309081362,0.6910484972701905,3.256655782163857,-0.11462551340178101,2.17596548950574,1.4596346378062068],\"yaxis\":\"y3\",\"type\":\"scatter\"},{\"line\":{\"color\":\"rgba(128, 128, 128, 1.0)\",\"dash\":\"solid\",\"shape\":\"linear\",\"width\":1.3},\"marker\":{\"size\":2,\"symbol\":\"circle\"},\"mode\":\"markers\",\"name\":\"A\",\"text\":\"\",\"x\":[-1.5749712758367225,1.5279679553494656,0.6169188398532187,0.4381615389821466,-1.165902982861862,-0.16092737219826567,-1.7263006353744885,-1.582251046999577,0.4469798912409568,0.5552252020943597,0.33978681096646723,-0.26653086846945734,-0.18795204881984295,-1.196796020247596,0.6905438370339786,0.19256030671672106,0.40745787612123663,0.08118535241407211,-0.20116012248770837,-0.3616228989893024,1.1122414385610147,-0.7452604582734915,0.9916611852938433,0.06328464757229811,-0.40919677148805067,0.593866979645523,0.12217081381354897,0.8159518001549088,-0.7350511957390575,-0.22518573653845014,-0.08879787450644676,-1.795074849986664,0.028770762258658402,-1.3095779428990628,-0.9515379399218806,0.5237507118918706,-2.5386755453027545,0.2982603809537099,0.24602326627966442,-0.8077688646428979,-0.37370504717129976,1.9002888111887495,0.3824023297822875,-0.26624429103922975,1.987202651890973,2.9333929258512903,-0.7381720151404398,-1.012779611616609,-2.1905488232002144,0.17544393723866172,-1.0067215886285323,0.4753858487792162,1.3511332230279804,-1.0220811480425784,1.0088962206810403,0.5955736028083011,1.9310225152585656,-0.39994860622598055,0.19053885631258413,-0.500686573805311,-1.5338016430096757,-1.5629835931009401,-0.6138045856884331,0.28693952744716644,-0.18847477711654487,-2.20166846320593,2.863689176111007,0.42562756483126546,0.35399746830538176,0.0408933085068111,-0.03590807580194766,-0.3861647831070781,-0.36532724949382955,-1.1013570280673528,-0.26876016694697025,-0.8504890421894056,-0.7416937128184802,0.9368118692364116,0.033451347964105364,-1.533761356424725,-1.4756323877032957,-0.2628794054357832,0.7931820665822862,-0.9427961603013939,1.456836838293411,-1.372939292162019,-0.23505185131900733,1.8747775392364285,0.24810542774041208,0.741451362268954,-1.5167542526614488,0.6590929481300954,1.1962855891252022,-0.42889342349351406,-0.8762483646811131,0.7897359378126796,-0.8687920367555837,0.36314292858819397,1.3888598090759352,-0.09299929489217049],\"xaxis\":\"x4\",\"y\":[0.04472728291752777,2.0136277903577247,-1.9236196401519277,2.4911980816178194,-0.9967665313943013,-0.7951919577304543,1.9487063804665836,-2.23538159261186,-0.6362833050737016,-1.4754844608198587,0.011761902594940405,0.762460136367464,0.09148958294183143,-1.3104088928298192,-0.6551324495685213,0.4417399033234646,-1.0041748206612782,-2.1279381643445148,-0.33415704844100136,1.8822856176465037,-0.17436524138072843,0.24438741548022544,1.1271349499163994,0.12908581848119247,-0.5194216529893724,0.06933790600730215,-0.1604553359252777,0.4243007995667343,-1.1251252448290945,-1.3033981078054881,-0.3439484052277837,0.1853004778913747,-1.2386458788249415,1.5066759635136762,-1.5934330724746797,1.1466275226458311,-0.2998576466989392,-0.7564601805963426,-0.8075479890241387,0.31415964222467585,-1.869410364721812,-0.7150081458694103,-1.1738929577822552,-0.03933686859765417,-0.2301305754650945,1.077391686619631,1.1402657961968796,0.291777123552492,0.9600778507641592,-0.4263265753068178,-0.5520173344511742,0.6578707128339493,0.6018249253613506,-1.226518784319018,-0.10312712302438928,-1.0674536882407857,0.6482714967308668,0.9162266657051357,-0.5372298377330095,0.8845513154382081,0.8015316358892549,-0.7257562347588903,-0.8516497444356815,0.35510691240333075,-0.1602518439569381,0.18772635521434244,0.6394680450095762,-1.7841028128897547,-1.362461857419024,-0.9692165633965856,1.8623982171870008,1.5405117173715361,-1.329477243882208,-1.0570415503714614,0.8275648531322185,0.7174334888677107,-1.8407960180545033,-0.6327346660982492,-1.834893941666618,-1.0222932958815636,-0.0890975036474237,0.9262538909560268,1.587038316260175,1.4636701642913348,0.24217647988032678,-0.05063897611733595,0.723546614583445,-0.49758264536569463,0.9075802085838476,-1.1304087274552108,-1.8339112439763066,-1.1000414778730772,-1.4124638619838747,0.6431580778738788,-1.4370295309081362,0.6910484972701905,3.256655782163857,-0.11462551340178101,2.17596548950574,1.4596346378062068],\"yaxis\":\"y4\",\"type\":\"scatter\"},{\"line\":{\"color\":\"rgba(128, 128, 128, 1.0)\",\"dash\":\"solid\",\"shape\":\"linear\",\"width\":1.3},\"marker\":{\"size\":2,\"symbol\":\"circle\"},\"mode\":\"markers\",\"name\":\"B\",\"text\":\"\",\"x\":[0.04472728291752777,2.0136277903577247,-1.9236196401519277,2.4911980816178194,-0.9967665313943013,-0.7951919577304543,1.9487063804665836,-2.23538159261186,-0.6362833050737016,-1.4754844608198587,0.011761902594940405,0.762460136367464,0.09148958294183143,-1.3104088928298192,-0.6551324495685213,0.4417399033234646,-1.0041748206612782,-2.1279381643445148,-0.33415704844100136,1.8822856176465037,-0.17436524138072843,0.24438741548022544,1.1271349499163994,0.12908581848119247,-0.5194216529893724,0.06933790600730215,-0.1604553359252777,0.4243007995667343,-1.1251252448290945,-1.3033981078054881,-0.3439484052277837,0.1853004778913747,-1.2386458788249415,1.5066759635136762,-1.5934330724746797,1.1466275226458311,-0.2998576466989392,-0.7564601805963426,-0.8075479890241387,0.31415964222467585,-1.869410364721812,-0.7150081458694103,-1.1738929577822552,-0.03933686859765417,-0.2301305754650945,1.077391686619631,1.1402657961968796,0.291777123552492,0.9600778507641592,-0.4263265753068178,-0.5520173344511742,0.6578707128339493,0.6018249253613506,-1.226518784319018,-0.10312712302438928,-1.0674536882407857,0.6482714967308668,0.9162266657051357,-0.5372298377330095,0.8845513154382081,0.8015316358892549,-0.7257562347588903,-0.8516497444356815,0.35510691240333075,-0.1602518439569381,0.18772635521434244,0.6394680450095762,-1.7841028128897547,-1.362461857419024,-0.9692165633965856,1.8623982171870008,1.5405117173715361,-1.329477243882208,-1.0570415503714614,0.8275648531322185,0.7174334888677107,-1.8407960180545033,-0.6327346660982492,-1.834893941666618,-1.0222932958815636,-0.0890975036474237,0.9262538909560268,1.587038316260175,1.4636701642913348,0.24217647988032678,-0.05063897611733595,0.723546614583445,-0.49758264536569463,0.9075802085838476,-1.1304087274552108,-1.8339112439763066,-1.1000414778730772,-1.4124638619838747,0.6431580778738788,-1.4370295309081362,0.6910484972701905,3.256655782163857,-0.11462551340178101,2.17596548950574,1.4596346378062068],\"xaxis\":\"x5\",\"y\":[-0.3581752144020478,-0.7438157432225722,-0.026352079985911398,-1.7030343296523238,-0.6804127539561089,-0.5742523112529103,-0.644070917542256,1.1420509381512929,2.102995846840507,0.8034327021876664,-0.2544097102330024,-0.5594592584848158,0.3215300951874448,-2.248060706625145,0.8510702715173849,0.02002817387705508,0.4123192990534875,-0.9082770377039694,-2.6085505772612874,-2.147063117352743,0.9535202754542268,-0.0073023603245049125,0.9538228579321008,1.0999244249525777,-1.139370634678592,0.2756124159103919,-0.6372337077181718,-0.36135473899091913,0.21164955578397002,-0.03099702152822309,-0.7316516112829898,0.6355425652614268,1.78039302465161,-2.0788866513236086,1.1491779044101635,-1.6641430920273568,-2.2000095056079068,-0.982006606741808,-1.057634337467608,0.5812949646110466,-1.4253407808509473,0.08339873767432296,1.3543453070586946,-0.17539272838694092,1.2030635329624155,-0.8457858322795581,-0.3938160616631665,0.4041842542547364,-0.22165217214236851,-1.1733244203373254,1.3750172675716983,0.9958795214552347,-0.4135630924958996,1.407402473250491,1.3153437163187505,-0.2337487208533535,-0.8143858125945819,1.2535849479121297,-1.4013077884969811,-0.027873794659457322,-1.6519261458676777,1.0152535488984349,1.6400765995653448,-0.13121204521055865,0.11617127183790316,1.0286285927755345,-0.7385281986681842,0.5734121298857456,0.561397002379349,-0.2949416372362533,0.3748451018513906,0.7535297542120657,-0.8808149739384412,-0.6003689995820148,-0.09021186742874453,-1.0472595114473746,0.3925190406471404,0.7868290741235954,-0.6101642208256651,2.6848305120360294,0.5820378711418692,0.01709018333611756,0.08485702664004978,1.1302744949762342,0.2619928493319134,-0.7773726420782053,-0.013062268486066998,-0.6484815907002609,0.15677550862065318,0.12088007476316984,-0.06528420696843706,0.9644951425621063,0.47524555244276545,-1.2159192117365958,1.102966649667511,0.35982432168304623,0.10840028329846188,-0.4012335082600968,-0.9925124577209844,-1.3590407654438954],\"yaxis\":\"y5\",\"type\":\"scatter\"},{\"histfunc\":\"count\",\"histnorm\":\"\",\"marker\":{\"color\":\"rgba(55, 128, 191, 1.0)\",\"line\":{\"color\":\"#4D5663\",\"width\":1.3}},\"name\":\"B\",\"nbinsx\":10,\"opacity\":0.8,\"orientation\":\"v\",\"x\":[-0.3581752144020478,-0.7438157432225722,-0.026352079985911398,-1.7030343296523238,-0.6804127539561089,-0.5742523112529103,-0.644070917542256,1.1420509381512929,2.102995846840507,0.8034327021876664,-0.2544097102330024,-0.5594592584848158,0.3215300951874448,-2.248060706625145,0.8510702715173849,0.02002817387705508,0.4123192990534875,-0.9082770377039694,-2.6085505772612874,-2.147063117352743,0.9535202754542268,-0.0073023603245049125,0.9538228579321008,1.0999244249525777,-1.139370634678592,0.2756124159103919,-0.6372337077181718,-0.36135473899091913,0.21164955578397002,-0.03099702152822309,-0.7316516112829898,0.6355425652614268,1.78039302465161,-2.0788866513236086,1.1491779044101635,-1.6641430920273568,-2.2000095056079068,-0.982006606741808,-1.057634337467608,0.5812949646110466,-1.4253407808509473,0.08339873767432296,1.3543453070586946,-0.17539272838694092,1.2030635329624155,-0.8457858322795581,-0.3938160616631665,0.4041842542547364,-0.22165217214236851,-1.1733244203373254,1.3750172675716983,0.9958795214552347,-0.4135630924958996,1.407402473250491,1.3153437163187505,-0.2337487208533535,-0.8143858125945819,1.2535849479121297,-1.4013077884969811,-0.027873794659457322,-1.6519261458676777,1.0152535488984349,1.6400765995653448,-0.13121204521055865,0.11617127183790316,1.0286285927755345,-0.7385281986681842,0.5734121298857456,0.561397002379349,-0.2949416372362533,0.3748451018513906,0.7535297542120657,-0.8808149739384412,-0.6003689995820148,-0.09021186742874453,-1.0472595114473746,0.3925190406471404,0.7868290741235954,-0.6101642208256651,2.6848305120360294,0.5820378711418692,0.01709018333611756,0.08485702664004978,1.1302744949762342,0.2619928493319134,-0.7773726420782053,-0.013062268486066998,-0.6484815907002609,0.15677550862065318,0.12088007476316984,-0.06528420696843706,0.9644951425621063,0.47524555244276545,-1.2159192117365958,1.102966649667511,0.35982432168304623,0.10840028329846188,-0.4012335082600968,-0.9925124577209844,-1.3590407654438954],\"xaxis\":\"x6\",\"yaxis\":\"y6\",\"type\":\"histogram\"},{\"line\":{\"color\":\"rgba(128, 128, 128, 1.0)\",\"dash\":\"solid\",\"shape\":\"linear\",\"width\":1.3},\"marker\":{\"size\":2,\"symbol\":\"circle\"},\"mode\":\"markers\",\"name\":\"B\",\"text\":\"\",\"x\":[-0.23448312426228735,1.1734040566324928,-0.10861389781654822,0.24027945635684297,-0.08794282132505515,0.6726391635010236,-0.37552541245105003,-0.7494796703260302,-1.2199073146846033,-1.6931654750619702,-1.811079365096557,0.020893689638700835,1.4440760297398576,2.0996733504169476,0.2802152532388648,-0.631054921461625,-0.05058220403933079,-0.40616064456808204,1.3328310775467256,-0.7952521462271923,1.193583854304163,1.2519963841369282,-0.9134586174239632,-0.8725557059242434,1.322184682356837,-0.4731022176800327,-0.38267636582941933,0.38535412701646493,-1.1965059878390942,0.19145332611762864,0.3566681742276206,-1.264716104990276,0.4243392705895578,1.352646395863531,-0.02021727760841491,-0.7085479943731398,-0.3513627400163215,0.4455970114568262,-0.07323231464269236,-0.8415162878062188,0.9561748628251976,0.8266471204039709,1.1931278881829999,-0.580958705159653,1.8335977808655468,0.42426644760194343,-0.7852114902855585,-1.0309186190380473,-0.5628076000169935,-0.6668007851181149,-0.47099726499280853,1.143799160220701,-1.5163084407753304,0.20717110610832454,-1.415994522288912,-2.220675022997926,0.6582443065023541,0.3031872325281803,-1.3815256248194634,1.297509735968905,-2.238715299297245,0.09141734497233205,1.286436512846688,-0.812447701905832,2.4930764402388297,1.0160813131560342,-0.024805488654926825,1.2411060588006042,-1.8717534423774491,-1.2780107408365775,0.9604418458571313,1.1860385241314744,0.2666552647328103,-0.5065385105511384,0.4729758225569982,-1.7988288083912745,0.12658581224890725,-0.7429979785392491,-0.7766302972611013,-0.7908572996583494,1.7092147797657669,0.3766299248489669,0.03407246113986779,0.8362003788511563,-1.1711334684013959,-0.48597338126349765,-2.203472995499135,-0.4551947366698177,-0.05546809983232083,2.2647661124262575,-0.18290251332336832,0.38311887678930373,0.7702053250113908,-1.4726452884463173,-0.7940794673819839,-1.4445383145154873,-1.1988936019151248,-0.8107991708981381,0.560932510068928,-0.5958865538256582],\"xaxis\":\"x7\",\"y\":[-0.3581752144020478,-0.7438157432225722,-0.026352079985911398,-1.7030343296523238,-0.6804127539561089,-0.5742523112529103,-0.644070917542256,1.1420509381512929,2.102995846840507,0.8034327021876664,-0.2544097102330024,-0.5594592584848158,0.3215300951874448,-2.248060706625145,0.8510702715173849,0.02002817387705508,0.4123192990534875,-0.9082770377039694,-2.6085505772612874,-2.147063117352743,0.9535202754542268,-0.0073023603245049125,0.9538228579321008,1.0999244249525777,-1.139370634678592,0.2756124159103919,-0.6372337077181718,-0.36135473899091913,0.21164955578397002,-0.03099702152822309,-0.7316516112829898,0.6355425652614268,1.78039302465161,-2.0788866513236086,1.1491779044101635,-1.6641430920273568,-2.2000095056079068,-0.982006606741808,-1.057634337467608,0.5812949646110466,-1.4253407808509473,0.08339873767432296,1.3543453070586946,-0.17539272838694092,1.2030635329624155,-0.8457858322795581,-0.3938160616631665,0.4041842542547364,-0.22165217214236851,-1.1733244203373254,1.3750172675716983,0.9958795214552347,-0.4135630924958996,1.407402473250491,1.3153437163187505,-0.2337487208533535,-0.8143858125945819,1.2535849479121297,-1.4013077884969811,-0.027873794659457322,-1.6519261458676777,1.0152535488984349,1.6400765995653448,-0.13121204521055865,0.11617127183790316,1.0286285927755345,-0.7385281986681842,0.5734121298857456,0.561397002379349,-0.2949416372362533,0.3748451018513906,0.7535297542120657,-0.8808149739384412,-0.6003689995820148,-0.09021186742874453,-1.0472595114473746,0.3925190406471404,0.7868290741235954,-0.6101642208256651,2.6848305120360294,0.5820378711418692,0.01709018333611756,0.08485702664004978,1.1302744949762342,0.2619928493319134,-0.7773726420782053,-0.013062268486066998,-0.6484815907002609,0.15677550862065318,0.12088007476316984,-0.06528420696843706,0.9644951425621063,0.47524555244276545,-1.2159192117365958,1.102966649667511,0.35982432168304623,0.10840028329846188,-0.4012335082600968,-0.9925124577209844,-1.3590407654438954],\"yaxis\":\"y7\",\"type\":\"scatter\"},{\"line\":{\"color\":\"rgba(128, 128, 128, 1.0)\",\"dash\":\"solid\",\"shape\":\"linear\",\"width\":1.3},\"marker\":{\"size\":2,\"symbol\":\"circle\"},\"mode\":\"markers\",\"name\":\"B\",\"text\":\"\",\"x\":[-1.5749712758367225,1.5279679553494656,0.6169188398532187,0.4381615389821466,-1.165902982861862,-0.16092737219826567,-1.7263006353744885,-1.582251046999577,0.4469798912409568,0.5552252020943597,0.33978681096646723,-0.26653086846945734,-0.18795204881984295,-1.196796020247596,0.6905438370339786,0.19256030671672106,0.40745787612123663,0.08118535241407211,-0.20116012248770837,-0.3616228989893024,1.1122414385610147,-0.7452604582734915,0.9916611852938433,0.06328464757229811,-0.40919677148805067,0.593866979645523,0.12217081381354897,0.8159518001549088,-0.7350511957390575,-0.22518573653845014,-0.08879787450644676,-1.795074849986664,0.028770762258658402,-1.3095779428990628,-0.9515379399218806,0.5237507118918706,-2.5386755453027545,0.2982603809537099,0.24602326627966442,-0.8077688646428979,-0.37370504717129976,1.9002888111887495,0.3824023297822875,-0.26624429103922975,1.987202651890973,2.9333929258512903,-0.7381720151404398,-1.012779611616609,-2.1905488232002144,0.17544393723866172,-1.0067215886285323,0.4753858487792162,1.3511332230279804,-1.0220811480425784,1.0088962206810403,0.5955736028083011,1.9310225152585656,-0.39994860622598055,0.19053885631258413,-0.500686573805311,-1.5338016430096757,-1.5629835931009401,-0.6138045856884331,0.28693952744716644,-0.18847477711654487,-2.20166846320593,2.863689176111007,0.42562756483126546,0.35399746830538176,0.0408933085068111,-0.03590807580194766,-0.3861647831070781,-0.36532724949382955,-1.1013570280673528,-0.26876016694697025,-0.8504890421894056,-0.7416937128184802,0.9368118692364116,0.033451347964105364,-1.533761356424725,-1.4756323877032957,-0.2628794054357832,0.7931820665822862,-0.9427961603013939,1.456836838293411,-1.372939292162019,-0.23505185131900733,1.8747775392364285,0.24810542774041208,0.741451362268954,-1.5167542526614488,0.6590929481300954,1.1962855891252022,-0.42889342349351406,-0.8762483646811131,0.7897359378126796,-0.8687920367555837,0.36314292858819397,1.3888598090759352,-0.09299929489217049],\"xaxis\":\"x8\",\"y\":[-0.3581752144020478,-0.7438157432225722,-0.026352079985911398,-1.7030343296523238,-0.6804127539561089,-0.5742523112529103,-0.644070917542256,1.1420509381512929,2.102995846840507,0.8034327021876664,-0.2544097102330024,-0.5594592584848158,0.3215300951874448,-2.248060706625145,0.8510702715173849,0.02002817387705508,0.4123192990534875,-0.9082770377039694,-2.6085505772612874,-2.147063117352743,0.9535202754542268,-0.0073023603245049125,0.9538228579321008,1.0999244249525777,-1.139370634678592,0.2756124159103919,-0.6372337077181718,-0.36135473899091913,0.21164955578397002,-0.03099702152822309,-0.7316516112829898,0.6355425652614268,1.78039302465161,-2.0788866513236086,1.1491779044101635,-1.6641430920273568,-2.2000095056079068,-0.982006606741808,-1.057634337467608,0.5812949646110466,-1.4253407808509473,0.08339873767432296,1.3543453070586946,-0.17539272838694092,1.2030635329624155,-0.8457858322795581,-0.3938160616631665,0.4041842542547364,-0.22165217214236851,-1.1733244203373254,1.3750172675716983,0.9958795214552347,-0.4135630924958996,1.407402473250491,1.3153437163187505,-0.2337487208533535,-0.8143858125945819,1.2535849479121297,-1.4013077884969811,-0.027873794659457322,-1.6519261458676777,1.0152535488984349,1.6400765995653448,-0.13121204521055865,0.11617127183790316,1.0286285927755345,-0.7385281986681842,0.5734121298857456,0.561397002379349,-0.2949416372362533,0.3748451018513906,0.7535297542120657,-0.8808149739384412,-0.6003689995820148,-0.09021186742874453,-1.0472595114473746,0.3925190406471404,0.7868290741235954,-0.6101642208256651,2.6848305120360294,0.5820378711418692,0.01709018333611756,0.08485702664004978,1.1302744949762342,0.2619928493319134,-0.7773726420782053,-0.013062268486066998,-0.6484815907002609,0.15677550862065318,0.12088007476316984,-0.06528420696843706,0.9644951425621063,0.47524555244276545,-1.2159192117365958,1.102966649667511,0.35982432168304623,0.10840028329846188,-0.4012335082600968,-0.9925124577209844,-1.3590407654438954],\"yaxis\":\"y8\",\"type\":\"scatter\"},{\"line\":{\"color\":\"rgba(128, 128, 128, 1.0)\",\"dash\":\"solid\",\"shape\":\"linear\",\"width\":1.3},\"marker\":{\"size\":2,\"symbol\":\"circle\"},\"mode\":\"markers\",\"name\":\"C\",\"text\":\"\",\"x\":[0.04472728291752777,2.0136277903577247,-1.9236196401519277,2.4911980816178194,-0.9967665313943013,-0.7951919577304543,1.9487063804665836,-2.23538159261186,-0.6362833050737016,-1.4754844608198587,0.011761902594940405,0.762460136367464,0.09148958294183143,-1.3104088928298192,-0.6551324495685213,0.4417399033234646,-1.0041748206612782,-2.1279381643445148,-0.33415704844100136,1.8822856176465037,-0.17436524138072843,0.24438741548022544,1.1271349499163994,0.12908581848119247,-0.5194216529893724,0.06933790600730215,-0.1604553359252777,0.4243007995667343,-1.1251252448290945,-1.3033981078054881,-0.3439484052277837,0.1853004778913747,-1.2386458788249415,1.5066759635136762,-1.5934330724746797,1.1466275226458311,-0.2998576466989392,-0.7564601805963426,-0.8075479890241387,0.31415964222467585,-1.869410364721812,-0.7150081458694103,-1.1738929577822552,-0.03933686859765417,-0.2301305754650945,1.077391686619631,1.1402657961968796,0.291777123552492,0.9600778507641592,-0.4263265753068178,-0.5520173344511742,0.6578707128339493,0.6018249253613506,-1.226518784319018,-0.10312712302438928,-1.0674536882407857,0.6482714967308668,0.9162266657051357,-0.5372298377330095,0.8845513154382081,0.8015316358892549,-0.7257562347588903,-0.8516497444356815,0.35510691240333075,-0.1602518439569381,0.18772635521434244,0.6394680450095762,-1.7841028128897547,-1.362461857419024,-0.9692165633965856,1.8623982171870008,1.5405117173715361,-1.329477243882208,-1.0570415503714614,0.8275648531322185,0.7174334888677107,-1.8407960180545033,-0.6327346660982492,-1.834893941666618,-1.0222932958815636,-0.0890975036474237,0.9262538909560268,1.587038316260175,1.4636701642913348,0.24217647988032678,-0.05063897611733595,0.723546614583445,-0.49758264536569463,0.9075802085838476,-1.1304087274552108,-1.8339112439763066,-1.1000414778730772,-1.4124638619838747,0.6431580778738788,-1.4370295309081362,0.6910484972701905,3.256655782163857,-0.11462551340178101,2.17596548950574,1.4596346378062068],\"xaxis\":\"x9\",\"y\":[-0.23448312426228735,1.1734040566324928,-0.10861389781654822,0.24027945635684297,-0.08794282132505515,0.6726391635010236,-0.37552541245105003,-0.7494796703260302,-1.2199073146846033,-1.6931654750619702,-1.811079365096557,0.020893689638700835,1.4440760297398576,2.0996733504169476,0.2802152532388648,-0.631054921461625,-0.05058220403933079,-0.40616064456808204,1.3328310775467256,-0.7952521462271923,1.193583854304163,1.2519963841369282,-0.9134586174239632,-0.8725557059242434,1.322184682356837,-0.4731022176800327,-0.38267636582941933,0.38535412701646493,-1.1965059878390942,0.19145332611762864,0.3566681742276206,-1.264716104990276,0.4243392705895578,1.352646395863531,-0.02021727760841491,-0.7085479943731398,-0.3513627400163215,0.4455970114568262,-0.07323231464269236,-0.8415162878062188,0.9561748628251976,0.8266471204039709,1.1931278881829999,-0.580958705159653,1.8335977808655468,0.42426644760194343,-0.7852114902855585,-1.0309186190380473,-0.5628076000169935,-0.6668007851181149,-0.47099726499280853,1.143799160220701,-1.5163084407753304,0.20717110610832454,-1.415994522288912,-2.220675022997926,0.6582443065023541,0.3031872325281803,-1.3815256248194634,1.297509735968905,-2.238715299297245,0.09141734497233205,1.286436512846688,-0.812447701905832,2.4930764402388297,1.0160813131560342,-0.024805488654926825,1.2411060588006042,-1.8717534423774491,-1.2780107408365775,0.9604418458571313,1.1860385241314744,0.2666552647328103,-0.5065385105511384,0.4729758225569982,-1.7988288083912745,0.12658581224890725,-0.7429979785392491,-0.7766302972611013,-0.7908572996583494,1.7092147797657669,0.3766299248489669,0.03407246113986779,0.8362003788511563,-1.1711334684013959,-0.48597338126349765,-2.203472995499135,-0.4551947366698177,-0.05546809983232083,2.2647661124262575,-0.18290251332336832,0.38311887678930373,0.7702053250113908,-1.4726452884463173,-0.7940794673819839,-1.4445383145154873,-1.1988936019151248,-0.8107991708981381,0.560932510068928,-0.5958865538256582],\"yaxis\":\"y9\",\"type\":\"scatter\"},{\"line\":{\"color\":\"rgba(128, 128, 128, 1.0)\",\"dash\":\"solid\",\"shape\":\"linear\",\"width\":1.3},\"marker\":{\"size\":2,\"symbol\":\"circle\"},\"mode\":\"markers\",\"name\":\"C\",\"text\":\"\",\"x\":[-0.3581752144020478,-0.7438157432225722,-0.026352079985911398,-1.7030343296523238,-0.6804127539561089,-0.5742523112529103,-0.644070917542256,1.1420509381512929,2.102995846840507,0.8034327021876664,-0.2544097102330024,-0.5594592584848158,0.3215300951874448,-2.248060706625145,0.8510702715173849,0.02002817387705508,0.4123192990534875,-0.9082770377039694,-2.6085505772612874,-2.147063117352743,0.9535202754542268,-0.0073023603245049125,0.9538228579321008,1.0999244249525777,-1.139370634678592,0.2756124159103919,-0.6372337077181718,-0.36135473899091913,0.21164955578397002,-0.03099702152822309,-0.7316516112829898,0.6355425652614268,1.78039302465161,-2.0788866513236086,1.1491779044101635,-1.6641430920273568,-2.2000095056079068,-0.982006606741808,-1.057634337467608,0.5812949646110466,-1.4253407808509473,0.08339873767432296,1.3543453070586946,-0.17539272838694092,1.2030635329624155,-0.8457858322795581,-0.3938160616631665,0.4041842542547364,-0.22165217214236851,-1.1733244203373254,1.3750172675716983,0.9958795214552347,-0.4135630924958996,1.407402473250491,1.3153437163187505,-0.2337487208533535,-0.8143858125945819,1.2535849479121297,-1.4013077884969811,-0.027873794659457322,-1.6519261458676777,1.0152535488984349,1.6400765995653448,-0.13121204521055865,0.11617127183790316,1.0286285927755345,-0.7385281986681842,0.5734121298857456,0.561397002379349,-0.2949416372362533,0.3748451018513906,0.7535297542120657,-0.8808149739384412,-0.6003689995820148,-0.09021186742874453,-1.0472595114473746,0.3925190406471404,0.7868290741235954,-0.6101642208256651,2.6848305120360294,0.5820378711418692,0.01709018333611756,0.08485702664004978,1.1302744949762342,0.2619928493319134,-0.7773726420782053,-0.013062268486066998,-0.6484815907002609,0.15677550862065318,0.12088007476316984,-0.06528420696843706,0.9644951425621063,0.47524555244276545,-1.2159192117365958,1.102966649667511,0.35982432168304623,0.10840028329846188,-0.4012335082600968,-0.9925124577209844,-1.3590407654438954],\"xaxis\":\"x10\",\"y\":[-0.23448312426228735,1.1734040566324928,-0.10861389781654822,0.24027945635684297,-0.08794282132505515,0.6726391635010236,-0.37552541245105003,-0.7494796703260302,-1.2199073146846033,-1.6931654750619702,-1.811079365096557,0.020893689638700835,1.4440760297398576,2.0996733504169476,0.2802152532388648,-0.631054921461625,-0.05058220403933079,-0.40616064456808204,1.3328310775467256,-0.7952521462271923,1.193583854304163,1.2519963841369282,-0.9134586174239632,-0.8725557059242434,1.322184682356837,-0.4731022176800327,-0.38267636582941933,0.38535412701646493,-1.1965059878390942,0.19145332611762864,0.3566681742276206,-1.264716104990276,0.4243392705895578,1.352646395863531,-0.02021727760841491,-0.7085479943731398,-0.3513627400163215,0.4455970114568262,-0.07323231464269236,-0.8415162878062188,0.9561748628251976,0.8266471204039709,1.1931278881829999,-0.580958705159653,1.8335977808655468,0.42426644760194343,-0.7852114902855585,-1.0309186190380473,-0.5628076000169935,-0.6668007851181149,-0.47099726499280853,1.143799160220701,-1.5163084407753304,0.20717110610832454,-1.415994522288912,-2.220675022997926,0.6582443065023541,0.3031872325281803,-1.3815256248194634,1.297509735968905,-2.238715299297245,0.09141734497233205,1.286436512846688,-0.812447701905832,2.4930764402388297,1.0160813131560342,-0.024805488654926825,1.2411060588006042,-1.8717534423774491,-1.2780107408365775,0.9604418458571313,1.1860385241314744,0.2666552647328103,-0.5065385105511384,0.4729758225569982,-1.7988288083912745,0.12658581224890725,-0.7429979785392491,-0.7766302972611013,-0.7908572996583494,1.7092147797657669,0.3766299248489669,0.03407246113986779,0.8362003788511563,-1.1711334684013959,-0.48597338126349765,-2.203472995499135,-0.4551947366698177,-0.05546809983232083,2.2647661124262575,-0.18290251332336832,0.38311887678930373,0.7702053250113908,-1.4726452884463173,-0.7940794673819839,-1.4445383145154873,-1.1988936019151248,-0.8107991708981381,0.560932510068928,-0.5958865538256582],\"yaxis\":\"y10\",\"type\":\"scatter\"},{\"histfunc\":\"count\",\"histnorm\":\"\",\"marker\":{\"color\":\"rgba(50, 171, 96, 1.0)\",\"line\":{\"color\":\"#4D5663\",\"width\":1.3}},\"name\":\"C\",\"nbinsx\":10,\"opacity\":0.8,\"orientation\":\"v\",\"x\":[-0.23448312426228735,1.1734040566324928,-0.10861389781654822,0.24027945635684297,-0.08794282132505515,0.6726391635010236,-0.37552541245105003,-0.7494796703260302,-1.2199073146846033,-1.6931654750619702,-1.811079365096557,0.020893689638700835,1.4440760297398576,2.0996733504169476,0.2802152532388648,-0.631054921461625,-0.05058220403933079,-0.40616064456808204,1.3328310775467256,-0.7952521462271923,1.193583854304163,1.2519963841369282,-0.9134586174239632,-0.8725557059242434,1.322184682356837,-0.4731022176800327,-0.38267636582941933,0.38535412701646493,-1.1965059878390942,0.19145332611762864,0.3566681742276206,-1.264716104990276,0.4243392705895578,1.352646395863531,-0.02021727760841491,-0.7085479943731398,-0.3513627400163215,0.4455970114568262,-0.07323231464269236,-0.8415162878062188,0.9561748628251976,0.8266471204039709,1.1931278881829999,-0.580958705159653,1.8335977808655468,0.42426644760194343,-0.7852114902855585,-1.0309186190380473,-0.5628076000169935,-0.6668007851181149,-0.47099726499280853,1.143799160220701,-1.5163084407753304,0.20717110610832454,-1.415994522288912,-2.220675022997926,0.6582443065023541,0.3031872325281803,-1.3815256248194634,1.297509735968905,-2.238715299297245,0.09141734497233205,1.286436512846688,-0.812447701905832,2.4930764402388297,1.0160813131560342,-0.024805488654926825,1.2411060588006042,-1.8717534423774491,-1.2780107408365775,0.9604418458571313,1.1860385241314744,0.2666552647328103,-0.5065385105511384,0.4729758225569982,-1.7988288083912745,0.12658581224890725,-0.7429979785392491,-0.7766302972611013,-0.7908572996583494,1.7092147797657669,0.3766299248489669,0.03407246113986779,0.8362003788511563,-1.1711334684013959,-0.48597338126349765,-2.203472995499135,-0.4551947366698177,-0.05546809983232083,2.2647661124262575,-0.18290251332336832,0.38311887678930373,0.7702053250113908,-1.4726452884463173,-0.7940794673819839,-1.4445383145154873,-1.1988936019151248,-0.8107991708981381,0.560932510068928,-0.5958865538256582],\"xaxis\":\"x11\",\"yaxis\":\"y11\",\"type\":\"histogram\"},{\"line\":{\"color\":\"rgba(128, 128, 128, 1.0)\",\"dash\":\"solid\",\"shape\":\"linear\",\"width\":1.3},\"marker\":{\"size\":2,\"symbol\":\"circle\"},\"mode\":\"markers\",\"name\":\"C\",\"text\":\"\",\"x\":[-1.5749712758367225,1.5279679553494656,0.6169188398532187,0.4381615389821466,-1.165902982861862,-0.16092737219826567,-1.7263006353744885,-1.582251046999577,0.4469798912409568,0.5552252020943597,0.33978681096646723,-0.26653086846945734,-0.18795204881984295,-1.196796020247596,0.6905438370339786,0.19256030671672106,0.40745787612123663,0.08118535241407211,-0.20116012248770837,-0.3616228989893024,1.1122414385610147,-0.7452604582734915,0.9916611852938433,0.06328464757229811,-0.40919677148805067,0.593866979645523,0.12217081381354897,0.8159518001549088,-0.7350511957390575,-0.22518573653845014,-0.08879787450644676,-1.795074849986664,0.028770762258658402,-1.3095779428990628,-0.9515379399218806,0.5237507118918706,-2.5386755453027545,0.2982603809537099,0.24602326627966442,-0.8077688646428979,-0.37370504717129976,1.9002888111887495,0.3824023297822875,-0.26624429103922975,1.987202651890973,2.9333929258512903,-0.7381720151404398,-1.012779611616609,-2.1905488232002144,0.17544393723866172,-1.0067215886285323,0.4753858487792162,1.3511332230279804,-1.0220811480425784,1.0088962206810403,0.5955736028083011,1.9310225152585656,-0.39994860622598055,0.19053885631258413,-0.500686573805311,-1.5338016430096757,-1.5629835931009401,-0.6138045856884331,0.28693952744716644,-0.18847477711654487,-2.20166846320593,2.863689176111007,0.42562756483126546,0.35399746830538176,0.0408933085068111,-0.03590807580194766,-0.3861647831070781,-0.36532724949382955,-1.1013570280673528,-0.26876016694697025,-0.8504890421894056,-0.7416937128184802,0.9368118692364116,0.033451347964105364,-1.533761356424725,-1.4756323877032957,-0.2628794054357832,0.7931820665822862,-0.9427961603013939,1.456836838293411,-1.372939292162019,-0.23505185131900733,1.8747775392364285,0.24810542774041208,0.741451362268954,-1.5167542526614488,0.6590929481300954,1.1962855891252022,-0.42889342349351406,-0.8762483646811131,0.7897359378126796,-0.8687920367555837,0.36314292858819397,1.3888598090759352,-0.09299929489217049],\"xaxis\":\"x12\",\"y\":[-0.23448312426228735,1.1734040566324928,-0.10861389781654822,0.24027945635684297,-0.08794282132505515,0.6726391635010236,-0.37552541245105003,-0.7494796703260302,-1.2199073146846033,-1.6931654750619702,-1.811079365096557,0.020893689638700835,1.4440760297398576,2.0996733504169476,0.2802152532388648,-0.631054921461625,-0.05058220403933079,-0.40616064456808204,1.3328310775467256,-0.7952521462271923,1.193583854304163,1.2519963841369282,-0.9134586174239632,-0.8725557059242434,1.322184682356837,-0.4731022176800327,-0.38267636582941933,0.38535412701646493,-1.1965059878390942,0.19145332611762864,0.3566681742276206,-1.264716104990276,0.4243392705895578,1.352646395863531,-0.02021727760841491,-0.7085479943731398,-0.3513627400163215,0.4455970114568262,-0.07323231464269236,-0.8415162878062188,0.9561748628251976,0.8266471204039709,1.1931278881829999,-0.580958705159653,1.8335977808655468,0.42426644760194343,-0.7852114902855585,-1.0309186190380473,-0.5628076000169935,-0.6668007851181149,-0.47099726499280853,1.143799160220701,-1.5163084407753304,0.20717110610832454,-1.415994522288912,-2.220675022997926,0.6582443065023541,0.3031872325281803,-1.3815256248194634,1.297509735968905,-2.238715299297245,0.09141734497233205,1.286436512846688,-0.812447701905832,2.4930764402388297,1.0160813131560342,-0.024805488654926825,1.2411060588006042,-1.8717534423774491,-1.2780107408365775,0.9604418458571313,1.1860385241314744,0.2666552647328103,-0.5065385105511384,0.4729758225569982,-1.7988288083912745,0.12658581224890725,-0.7429979785392491,-0.7766302972611013,-0.7908572996583494,1.7092147797657669,0.3766299248489669,0.03407246113986779,0.8362003788511563,-1.1711334684013959,-0.48597338126349765,-2.203472995499135,-0.4551947366698177,-0.05546809983232083,2.2647661124262575,-0.18290251332336832,0.38311887678930373,0.7702053250113908,-1.4726452884463173,-0.7940794673819839,-1.4445383145154873,-1.1988936019151248,-0.8107991708981381,0.560932510068928,-0.5958865538256582],\"yaxis\":\"y12\",\"type\":\"scatter\"},{\"line\":{\"color\":\"rgba(128, 128, 128, 1.0)\",\"dash\":\"solid\",\"shape\":\"linear\",\"width\":1.3},\"marker\":{\"size\":2,\"symbol\":\"circle\"},\"mode\":\"markers\",\"name\":\"D\",\"text\":\"\",\"x\":[0.04472728291752777,2.0136277903577247,-1.9236196401519277,2.4911980816178194,-0.9967665313943013,-0.7951919577304543,1.9487063804665836,-2.23538159261186,-0.6362833050737016,-1.4754844608198587,0.011761902594940405,0.762460136367464,0.09148958294183143,-1.3104088928298192,-0.6551324495685213,0.4417399033234646,-1.0041748206612782,-2.1279381643445148,-0.33415704844100136,1.8822856176465037,-0.17436524138072843,0.24438741548022544,1.1271349499163994,0.12908581848119247,-0.5194216529893724,0.06933790600730215,-0.1604553359252777,0.4243007995667343,-1.1251252448290945,-1.3033981078054881,-0.3439484052277837,0.1853004778913747,-1.2386458788249415,1.5066759635136762,-1.5934330724746797,1.1466275226458311,-0.2998576466989392,-0.7564601805963426,-0.8075479890241387,0.31415964222467585,-1.869410364721812,-0.7150081458694103,-1.1738929577822552,-0.03933686859765417,-0.2301305754650945,1.077391686619631,1.1402657961968796,0.291777123552492,0.9600778507641592,-0.4263265753068178,-0.5520173344511742,0.6578707128339493,0.6018249253613506,-1.226518784319018,-0.10312712302438928,-1.0674536882407857,0.6482714967308668,0.9162266657051357,-0.5372298377330095,0.8845513154382081,0.8015316358892549,-0.7257562347588903,-0.8516497444356815,0.35510691240333075,-0.1602518439569381,0.18772635521434244,0.6394680450095762,-1.7841028128897547,-1.362461857419024,-0.9692165633965856,1.8623982171870008,1.5405117173715361,-1.329477243882208,-1.0570415503714614,0.8275648531322185,0.7174334888677107,-1.8407960180545033,-0.6327346660982492,-1.834893941666618,-1.0222932958815636,-0.0890975036474237,0.9262538909560268,1.587038316260175,1.4636701642913348,0.24217647988032678,-0.05063897611733595,0.723546614583445,-0.49758264536569463,0.9075802085838476,-1.1304087274552108,-1.8339112439763066,-1.1000414778730772,-1.4124638619838747,0.6431580778738788,-1.4370295309081362,0.6910484972701905,3.256655782163857,-0.11462551340178101,2.17596548950574,1.4596346378062068],\"xaxis\":\"x13\",\"y\":[-1.5749712758367225,1.5279679553494656,0.6169188398532187,0.4381615389821466,-1.165902982861862,-0.16092737219826567,-1.7263006353744885,-1.582251046999577,0.4469798912409568,0.5552252020943597,0.33978681096646723,-0.26653086846945734,-0.18795204881984295,-1.196796020247596,0.6905438370339786,0.19256030671672106,0.40745787612123663,0.08118535241407211,-0.20116012248770837,-0.3616228989893024,1.1122414385610147,-0.7452604582734915,0.9916611852938433,0.06328464757229811,-0.40919677148805067,0.593866979645523,0.12217081381354897,0.8159518001549088,-0.7350511957390575,-0.22518573653845014,-0.08879787450644676,-1.795074849986664,0.028770762258658402,-1.3095779428990628,-0.9515379399218806,0.5237507118918706,-2.5386755453027545,0.2982603809537099,0.24602326627966442,-0.8077688646428979,-0.37370504717129976,1.9002888111887495,0.3824023297822875,-0.26624429103922975,1.987202651890973,2.9333929258512903,-0.7381720151404398,-1.012779611616609,-2.1905488232002144,0.17544393723866172,-1.0067215886285323,0.4753858487792162,1.3511332230279804,-1.0220811480425784,1.0088962206810403,0.5955736028083011,1.9310225152585656,-0.39994860622598055,0.19053885631258413,-0.500686573805311,-1.5338016430096757,-1.5629835931009401,-0.6138045856884331,0.28693952744716644,-0.18847477711654487,-2.20166846320593,2.863689176111007,0.42562756483126546,0.35399746830538176,0.0408933085068111,-0.03590807580194766,-0.3861647831070781,-0.36532724949382955,-1.1013570280673528,-0.26876016694697025,-0.8504890421894056,-0.7416937128184802,0.9368118692364116,0.033451347964105364,-1.533761356424725,-1.4756323877032957,-0.2628794054357832,0.7931820665822862,-0.9427961603013939,1.456836838293411,-1.372939292162019,-0.23505185131900733,1.8747775392364285,0.24810542774041208,0.741451362268954,-1.5167542526614488,0.6590929481300954,1.1962855891252022,-0.42889342349351406,-0.8762483646811131,0.7897359378126796,-0.8687920367555837,0.36314292858819397,1.3888598090759352,-0.09299929489217049],\"yaxis\":\"y13\",\"type\":\"scatter\"},{\"line\":{\"color\":\"rgba(128, 128, 128, 1.0)\",\"dash\":\"solid\",\"shape\":\"linear\",\"width\":1.3},\"marker\":{\"size\":2,\"symbol\":\"circle\"},\"mode\":\"markers\",\"name\":\"D\",\"text\":\"\",\"x\":[-0.3581752144020478,-0.7438157432225722,-0.026352079985911398,-1.7030343296523238,-0.6804127539561089,-0.5742523112529103,-0.644070917542256,1.1420509381512929,2.102995846840507,0.8034327021876664,-0.2544097102330024,-0.5594592584848158,0.3215300951874448,-2.248060706625145,0.8510702715173849,0.02002817387705508,0.4123192990534875,-0.9082770377039694,-2.6085505772612874,-2.147063117352743,0.9535202754542268,-0.0073023603245049125,0.9538228579321008,1.0999244249525777,-1.139370634678592,0.2756124159103919,-0.6372337077181718,-0.36135473899091913,0.21164955578397002,-0.03099702152822309,-0.7316516112829898,0.6355425652614268,1.78039302465161,-2.0788866513236086,1.1491779044101635,-1.6641430920273568,-2.2000095056079068,-0.982006606741808,-1.057634337467608,0.5812949646110466,-1.4253407808509473,0.08339873767432296,1.3543453070586946,-0.17539272838694092,1.2030635329624155,-0.8457858322795581,-0.3938160616631665,0.4041842542547364,-0.22165217214236851,-1.1733244203373254,1.3750172675716983,0.9958795214552347,-0.4135630924958996,1.407402473250491,1.3153437163187505,-0.2337487208533535,-0.8143858125945819,1.2535849479121297,-1.4013077884969811,-0.027873794659457322,-1.6519261458676777,1.0152535488984349,1.6400765995653448,-0.13121204521055865,0.11617127183790316,1.0286285927755345,-0.7385281986681842,0.5734121298857456,0.561397002379349,-0.2949416372362533,0.3748451018513906,0.7535297542120657,-0.8808149739384412,-0.6003689995820148,-0.09021186742874453,-1.0472595114473746,0.3925190406471404,0.7868290741235954,-0.6101642208256651,2.6848305120360294,0.5820378711418692,0.01709018333611756,0.08485702664004978,1.1302744949762342,0.2619928493319134,-0.7773726420782053,-0.013062268486066998,-0.6484815907002609,0.15677550862065318,0.12088007476316984,-0.06528420696843706,0.9644951425621063,0.47524555244276545,-1.2159192117365958,1.102966649667511,0.35982432168304623,0.10840028329846188,-0.4012335082600968,-0.9925124577209844,-1.3590407654438954],\"xaxis\":\"x14\",\"y\":[-1.5749712758367225,1.5279679553494656,0.6169188398532187,0.4381615389821466,-1.165902982861862,-0.16092737219826567,-1.7263006353744885,-1.582251046999577,0.4469798912409568,0.5552252020943597,0.33978681096646723,-0.26653086846945734,-0.18795204881984295,-1.196796020247596,0.6905438370339786,0.19256030671672106,0.40745787612123663,0.08118535241407211,-0.20116012248770837,-0.3616228989893024,1.1122414385610147,-0.7452604582734915,0.9916611852938433,0.06328464757229811,-0.40919677148805067,0.593866979645523,0.12217081381354897,0.8159518001549088,-0.7350511957390575,-0.22518573653845014,-0.08879787450644676,-1.795074849986664,0.028770762258658402,-1.3095779428990628,-0.9515379399218806,0.5237507118918706,-2.5386755453027545,0.2982603809537099,0.24602326627966442,-0.8077688646428979,-0.37370504717129976,1.9002888111887495,0.3824023297822875,-0.26624429103922975,1.987202651890973,2.9333929258512903,-0.7381720151404398,-1.012779611616609,-2.1905488232002144,0.17544393723866172,-1.0067215886285323,0.4753858487792162,1.3511332230279804,-1.0220811480425784,1.0088962206810403,0.5955736028083011,1.9310225152585656,-0.39994860622598055,0.19053885631258413,-0.500686573805311,-1.5338016430096757,-1.5629835931009401,-0.6138045856884331,0.28693952744716644,-0.18847477711654487,-2.20166846320593,2.863689176111007,0.42562756483126546,0.35399746830538176,0.0408933085068111,-0.03590807580194766,-0.3861647831070781,-0.36532724949382955,-1.1013570280673528,-0.26876016694697025,-0.8504890421894056,-0.7416937128184802,0.9368118692364116,0.033451347964105364,-1.533761356424725,-1.4756323877032957,-0.2628794054357832,0.7931820665822862,-0.9427961603013939,1.456836838293411,-1.372939292162019,-0.23505185131900733,1.8747775392364285,0.24810542774041208,0.741451362268954,-1.5167542526614488,0.6590929481300954,1.1962855891252022,-0.42889342349351406,-0.8762483646811131,0.7897359378126796,-0.8687920367555837,0.36314292858819397,1.3888598090759352,-0.09299929489217049],\"yaxis\":\"y14\",\"type\":\"scatter\"},{\"line\":{\"color\":\"rgba(128, 128, 128, 1.0)\",\"dash\":\"solid\",\"shape\":\"linear\",\"width\":1.3},\"marker\":{\"size\":2,\"symbol\":\"circle\"},\"mode\":\"markers\",\"name\":\"D\",\"text\":\"\",\"x\":[-0.23448312426228735,1.1734040566324928,-0.10861389781654822,0.24027945635684297,-0.08794282132505515,0.6726391635010236,-0.37552541245105003,-0.7494796703260302,-1.2199073146846033,-1.6931654750619702,-1.811079365096557,0.020893689638700835,1.4440760297398576,2.0996733504169476,0.2802152532388648,-0.631054921461625,-0.05058220403933079,-0.40616064456808204,1.3328310775467256,-0.7952521462271923,1.193583854304163,1.2519963841369282,-0.9134586174239632,-0.8725557059242434,1.322184682356837,-0.4731022176800327,-0.38267636582941933,0.38535412701646493,-1.1965059878390942,0.19145332611762864,0.3566681742276206,-1.264716104990276,0.4243392705895578,1.352646395863531,-0.02021727760841491,-0.7085479943731398,-0.3513627400163215,0.4455970114568262,-0.07323231464269236,-0.8415162878062188,0.9561748628251976,0.8266471204039709,1.1931278881829999,-0.580958705159653,1.8335977808655468,0.42426644760194343,-0.7852114902855585,-1.0309186190380473,-0.5628076000169935,-0.6668007851181149,-0.47099726499280853,1.143799160220701,-1.5163084407753304,0.20717110610832454,-1.415994522288912,-2.220675022997926,0.6582443065023541,0.3031872325281803,-1.3815256248194634,1.297509735968905,-2.238715299297245,0.09141734497233205,1.286436512846688,-0.812447701905832,2.4930764402388297,1.0160813131560342,-0.024805488654926825,1.2411060588006042,-1.8717534423774491,-1.2780107408365775,0.9604418458571313,1.1860385241314744,0.2666552647328103,-0.5065385105511384,0.4729758225569982,-1.7988288083912745,0.12658581224890725,-0.7429979785392491,-0.7766302972611013,-0.7908572996583494,1.7092147797657669,0.3766299248489669,0.03407246113986779,0.8362003788511563,-1.1711334684013959,-0.48597338126349765,-2.203472995499135,-0.4551947366698177,-0.05546809983232083,2.2647661124262575,-0.18290251332336832,0.38311887678930373,0.7702053250113908,-1.4726452884463173,-0.7940794673819839,-1.4445383145154873,-1.1988936019151248,-0.8107991708981381,0.560932510068928,-0.5958865538256582],\"xaxis\":\"x15\",\"y\":[-1.5749712758367225,1.5279679553494656,0.6169188398532187,0.4381615389821466,-1.165902982861862,-0.16092737219826567,-1.7263006353744885,-1.582251046999577,0.4469798912409568,0.5552252020943597,0.33978681096646723,-0.26653086846945734,-0.18795204881984295,-1.196796020247596,0.6905438370339786,0.19256030671672106,0.40745787612123663,0.08118535241407211,-0.20116012248770837,-0.3616228989893024,1.1122414385610147,-0.7452604582734915,0.9916611852938433,0.06328464757229811,-0.40919677148805067,0.593866979645523,0.12217081381354897,0.8159518001549088,-0.7350511957390575,-0.22518573653845014,-0.08879787450644676,-1.795074849986664,0.028770762258658402,-1.3095779428990628,-0.9515379399218806,0.5237507118918706,-2.5386755453027545,0.2982603809537099,0.24602326627966442,-0.8077688646428979,-0.37370504717129976,1.9002888111887495,0.3824023297822875,-0.26624429103922975,1.987202651890973,2.9333929258512903,-0.7381720151404398,-1.012779611616609,-2.1905488232002144,0.17544393723866172,-1.0067215886285323,0.4753858487792162,1.3511332230279804,-1.0220811480425784,1.0088962206810403,0.5955736028083011,1.9310225152585656,-0.39994860622598055,0.19053885631258413,-0.500686573805311,-1.5338016430096757,-1.5629835931009401,-0.6138045856884331,0.28693952744716644,-0.18847477711654487,-2.20166846320593,2.863689176111007,0.42562756483126546,0.35399746830538176,0.0408933085068111,-0.03590807580194766,-0.3861647831070781,-0.36532724949382955,-1.1013570280673528,-0.26876016694697025,-0.8504890421894056,-0.7416937128184802,0.9368118692364116,0.033451347964105364,-1.533761356424725,-1.4756323877032957,-0.2628794054357832,0.7931820665822862,-0.9427961603013939,1.456836838293411,-1.372939292162019,-0.23505185131900733,1.8747775392364285,0.24810542774041208,0.741451362268954,-1.5167542526614488,0.6590929481300954,1.1962855891252022,-0.42889342349351406,-0.8762483646811131,0.7897359378126796,-0.8687920367555837,0.36314292858819397,1.3888598090759352,-0.09299929489217049],\"yaxis\":\"y15\",\"type\":\"scatter\"},{\"histfunc\":\"count\",\"histnorm\":\"\",\"marker\":{\"color\":\"rgba(128, 0, 128, 1.0)\",\"line\":{\"color\":\"#4D5663\",\"width\":1.3}},\"name\":\"D\",\"nbinsx\":10,\"opacity\":0.8,\"orientation\":\"v\",\"x\":[-1.5749712758367225,1.5279679553494656,0.6169188398532187,0.4381615389821466,-1.165902982861862,-0.16092737219826567,-1.7263006353744885,-1.582251046999577,0.4469798912409568,0.5552252020943597,0.33978681096646723,-0.26653086846945734,-0.18795204881984295,-1.196796020247596,0.6905438370339786,0.19256030671672106,0.40745787612123663,0.08118535241407211,-0.20116012248770837,-0.3616228989893024,1.1122414385610147,-0.7452604582734915,0.9916611852938433,0.06328464757229811,-0.40919677148805067,0.593866979645523,0.12217081381354897,0.8159518001549088,-0.7350511957390575,-0.22518573653845014,-0.08879787450644676,-1.795074849986664,0.028770762258658402,-1.3095779428990628,-0.9515379399218806,0.5237507118918706,-2.5386755453027545,0.2982603809537099,0.24602326627966442,-0.8077688646428979,-0.37370504717129976,1.9002888111887495,0.3824023297822875,-0.26624429103922975,1.987202651890973,2.9333929258512903,-0.7381720151404398,-1.012779611616609,-2.1905488232002144,0.17544393723866172,-1.0067215886285323,0.4753858487792162,1.3511332230279804,-1.0220811480425784,1.0088962206810403,0.5955736028083011,1.9310225152585656,-0.39994860622598055,0.19053885631258413,-0.500686573805311,-1.5338016430096757,-1.5629835931009401,-0.6138045856884331,0.28693952744716644,-0.18847477711654487,-2.20166846320593,2.863689176111007,0.42562756483126546,0.35399746830538176,0.0408933085068111,-0.03590807580194766,-0.3861647831070781,-0.36532724949382955,-1.1013570280673528,-0.26876016694697025,-0.8504890421894056,-0.7416937128184802,0.9368118692364116,0.033451347964105364,-1.533761356424725,-1.4756323877032957,-0.2628794054357832,0.7931820665822862,-0.9427961603013939,1.456836838293411,-1.372939292162019,-0.23505185131900733,1.8747775392364285,0.24810542774041208,0.741451362268954,-1.5167542526614488,0.6590929481300954,1.1962855891252022,-0.42889342349351406,-0.8762483646811131,0.7897359378126796,-0.8687920367555837,0.36314292858819397,1.3888598090759352,-0.09299929489217049],\"xaxis\":\"x16\",\"yaxis\":\"y16\",\"type\":\"histogram\"}],                        {\"bargap\":0.02,\"legend\":{\"bgcolor\":\"#F5F6F9\",\"font\":{\"color\":\"#4D5663\"}},\"paper_bgcolor\":\"#F5F6F9\",\"plot_bgcolor\":\"#F5F6F9\",\"showlegend\":false,\"template\":{\"data\":{\"barpolar\":[{\"marker\":{\"line\":{\"color\":\"#E5ECF6\",\"width\":0.5},\"pattern\":{\"fillmode\":\"overlay\",\"size\":10,\"solidity\":0.2}},\"type\":\"barpolar\"}],\"bar\":[{\"error_x\":{\"color\":\"#2a3f5f\"},\"error_y\":{\"color\":\"#2a3f5f\"},\"marker\":{\"line\":{\"color\":\"#E5ECF6\",\"width\":0.5},\"pattern\":{\"fillmode\":\"overlay\",\"size\":10,\"solidity\":0.2}},\"type\":\"bar\"}],\"carpet\":[{\"aaxis\":{\"endlinecolor\":\"#2a3f5f\",\"gridcolor\":\"white\",\"linecolor\":\"white\",\"minorgridcolor\":\"white\",\"startlinecolor\":\"#2a3f5f\"},\"baxis\":{\"endlinecolor\":\"#2a3f5f\",\"gridcolor\":\"white\",\"linecolor\":\"white\",\"minorgridcolor\":\"white\",\"startlinecolor\":\"#2a3f5f\"},\"type\":\"carpet\"}],\"choropleth\":[{\"colorbar\":{\"outlinewidth\":0,\"ticks\":\"\"},\"type\":\"choropleth\"}],\"contourcarpet\":[{\"colorbar\":{\"outlinewidth\":0,\"ticks\":\"\"},\"type\":\"contourcarpet\"}],\"contour\":[{\"colorbar\":{\"outlinewidth\":0,\"ticks\":\"\"},\"colorscale\":[[0.0,\"#0d0887\"],[0.1111111111111111,\"#46039f\"],[0.2222222222222222,\"#7201a8\"],[0.3333333333333333,\"#9c179e\"],[0.4444444444444444,\"#bd3786\"],[0.5555555555555556,\"#d8576b\"],[0.6666666666666666,\"#ed7953\"],[0.7777777777777778,\"#fb9f3a\"],[0.8888888888888888,\"#fdca26\"],[1.0,\"#f0f921\"]],\"type\":\"contour\"}],\"heatmapgl\":[{\"colorbar\":{\"outlinewidth\":0,\"ticks\":\"\"},\"colorscale\":[[0.0,\"#0d0887\"],[0.1111111111111111,\"#46039f\"],[0.2222222222222222,\"#7201a8\"],[0.3333333333333333,\"#9c179e\"],[0.4444444444444444,\"#bd3786\"],[0.5555555555555556,\"#d8576b\"],[0.6666666666666666,\"#ed7953\"],[0.7777777777777778,\"#fb9f3a\"],[0.8888888888888888,\"#fdca26\"],[1.0,\"#f0f921\"]],\"type\":\"heatmapgl\"}],\"heatmap\":[{\"colorbar\":{\"outlinewidth\":0,\"ticks\":\"\"},\"colorscale\":[[0.0,\"#0d0887\"],[0.1111111111111111,\"#46039f\"],[0.2222222222222222,\"#7201a8\"],[0.3333333333333333,\"#9c179e\"],[0.4444444444444444,\"#bd3786\"],[0.5555555555555556,\"#d8576b\"],[0.6666666666666666,\"#ed7953\"],[0.7777777777777778,\"#fb9f3a\"],[0.8888888888888888,\"#fdca26\"],[1.0,\"#f0f921\"]],\"type\":\"heatmap\"}],\"histogram2dcontour\":[{\"colorbar\":{\"outlinewidth\":0,\"ticks\":\"\"},\"colorscale\":[[0.0,\"#0d0887\"],[0.1111111111111111,\"#46039f\"],[0.2222222222222222,\"#7201a8\"],[0.3333333333333333,\"#9c179e\"],[0.4444444444444444,\"#bd3786\"],[0.5555555555555556,\"#d8576b\"],[0.6666666666666666,\"#ed7953\"],[0.7777777777777778,\"#fb9f3a\"],[0.8888888888888888,\"#fdca26\"],[1.0,\"#f0f921\"]],\"type\":\"histogram2dcontour\"}],\"histogram2d\":[{\"colorbar\":{\"outlinewidth\":0,\"ticks\":\"\"},\"colorscale\":[[0.0,\"#0d0887\"],[0.1111111111111111,\"#46039f\"],[0.2222222222222222,\"#7201a8\"],[0.3333333333333333,\"#9c179e\"],[0.4444444444444444,\"#bd3786\"],[0.5555555555555556,\"#d8576b\"],[0.6666666666666666,\"#ed7953\"],[0.7777777777777778,\"#fb9f3a\"],[0.8888888888888888,\"#fdca26\"],[1.0,\"#f0f921\"]],\"type\":\"histogram2d\"}],\"histogram\":[{\"marker\":{\"pattern\":{\"fillmode\":\"overlay\",\"size\":10,\"solidity\":0.2}},\"type\":\"histogram\"}],\"mesh3d\":[{\"colorbar\":{\"outlinewidth\":0,\"ticks\":\"\"},\"type\":\"mesh3d\"}],\"parcoords\":[{\"line\":{\"colorbar\":{\"outlinewidth\":0,\"ticks\":\"\"}},\"type\":\"parcoords\"}],\"pie\":[{\"automargin\":true,\"type\":\"pie\"}],\"scatter3d\":[{\"line\":{\"colorbar\":{\"outlinewidth\":0,\"ticks\":\"\"}},\"marker\":{\"colorbar\":{\"outlinewidth\":0,\"ticks\":\"\"}},\"type\":\"scatter3d\"}],\"scattercarpet\":[{\"marker\":{\"colorbar\":{\"outlinewidth\":0,\"ticks\":\"\"}},\"type\":\"scattercarpet\"}],\"scattergeo\":[{\"marker\":{\"colorbar\":{\"outlinewidth\":0,\"ticks\":\"\"}},\"type\":\"scattergeo\"}],\"scattergl\":[{\"marker\":{\"colorbar\":{\"outlinewidth\":0,\"ticks\":\"\"}},\"type\":\"scattergl\"}],\"scattermapbox\":[{\"marker\":{\"colorbar\":{\"outlinewidth\":0,\"ticks\":\"\"}},\"type\":\"scattermapbox\"}],\"scatterpolargl\":[{\"marker\":{\"colorbar\":{\"outlinewidth\":0,\"ticks\":\"\"}},\"type\":\"scatterpolargl\"}],\"scatterpolar\":[{\"marker\":{\"colorbar\":{\"outlinewidth\":0,\"ticks\":\"\"}},\"type\":\"scatterpolar\"}],\"scatter\":[{\"fillpattern\":{\"fillmode\":\"overlay\",\"size\":10,\"solidity\":0.2},\"type\":\"scatter\"}],\"scatterternary\":[{\"marker\":{\"colorbar\":{\"outlinewidth\":0,\"ticks\":\"\"}},\"type\":\"scatterternary\"}],\"surface\":[{\"colorbar\":{\"outlinewidth\":0,\"ticks\":\"\"},\"colorscale\":[[0.0,\"#0d0887\"],[0.1111111111111111,\"#46039f\"],[0.2222222222222222,\"#7201a8\"],[0.3333333333333333,\"#9c179e\"],[0.4444444444444444,\"#bd3786\"],[0.5555555555555556,\"#d8576b\"],[0.6666666666666666,\"#ed7953\"],[0.7777777777777778,\"#fb9f3a\"],[0.8888888888888888,\"#fdca26\"],[1.0,\"#f0f921\"]],\"type\":\"surface\"}],\"table\":[{\"cells\":{\"fill\":{\"color\":\"#EBF0F8\"},\"line\":{\"color\":\"white\"}},\"header\":{\"fill\":{\"color\":\"#C8D4E3\"},\"line\":{\"color\":\"white\"}},\"type\":\"table\"}]},\"layout\":{\"annotationdefaults\":{\"arrowcolor\":\"#2a3f5f\",\"arrowhead\":0,\"arrowwidth\":1},\"autotypenumbers\":\"strict\",\"coloraxis\":{\"colorbar\":{\"outlinewidth\":0,\"ticks\":\"\"}},\"colorscale\":{\"diverging\":[[0,\"#8e0152\"],[0.1,\"#c51b7d\"],[0.2,\"#de77ae\"],[0.3,\"#f1b6da\"],[0.4,\"#fde0ef\"],[0.5,\"#f7f7f7\"],[0.6,\"#e6f5d0\"],[0.7,\"#b8e186\"],[0.8,\"#7fbc41\"],[0.9,\"#4d9221\"],[1,\"#276419\"]],\"sequential\":[[0.0,\"#0d0887\"],[0.1111111111111111,\"#46039f\"],[0.2222222222222222,\"#7201a8\"],[0.3333333333333333,\"#9c179e\"],[0.4444444444444444,\"#bd3786\"],[0.5555555555555556,\"#d8576b\"],[0.6666666666666666,\"#ed7953\"],[0.7777777777777778,\"#fb9f3a\"],[0.8888888888888888,\"#fdca26\"],[1.0,\"#f0f921\"]],\"sequentialminus\":[[0.0,\"#0d0887\"],[0.1111111111111111,\"#46039f\"],[0.2222222222222222,\"#7201a8\"],[0.3333333333333333,\"#9c179e\"],[0.4444444444444444,\"#bd3786\"],[0.5555555555555556,\"#d8576b\"],[0.6666666666666666,\"#ed7953\"],[0.7777777777777778,\"#fb9f3a\"],[0.8888888888888888,\"#fdca26\"],[1.0,\"#f0f921\"]]},\"colorway\":[\"#636efa\",\"#EF553B\",\"#00cc96\",\"#ab63fa\",\"#FFA15A\",\"#19d3f3\",\"#FF6692\",\"#B6E880\",\"#FF97FF\",\"#FECB52\"],\"font\":{\"color\":\"#2a3f5f\"},\"geo\":{\"bgcolor\":\"white\",\"lakecolor\":\"white\",\"landcolor\":\"#E5ECF6\",\"showlakes\":true,\"showland\":true,\"subunitcolor\":\"white\"},\"hoverlabel\":{\"align\":\"left\"},\"hovermode\":\"closest\",\"mapbox\":{\"style\":\"light\"},\"paper_bgcolor\":\"white\",\"plot_bgcolor\":\"#E5ECF6\",\"polar\":{\"angularaxis\":{\"gridcolor\":\"white\",\"linecolor\":\"white\",\"ticks\":\"\"},\"bgcolor\":\"#E5ECF6\",\"radialaxis\":{\"gridcolor\":\"white\",\"linecolor\":\"white\",\"ticks\":\"\"}},\"scene\":{\"xaxis\":{\"backgroundcolor\":\"#E5ECF6\",\"gridcolor\":\"white\",\"gridwidth\":2,\"linecolor\":\"white\",\"showbackground\":true,\"ticks\":\"\",\"zerolinecolor\":\"white\"},\"yaxis\":{\"backgroundcolor\":\"#E5ECF6\",\"gridcolor\":\"white\",\"gridwidth\":2,\"linecolor\":\"white\",\"showbackground\":true,\"ticks\":\"\",\"zerolinecolor\":\"white\"},\"zaxis\":{\"backgroundcolor\":\"#E5ECF6\",\"gridcolor\":\"white\",\"gridwidth\":2,\"linecolor\":\"white\",\"showbackground\":true,\"ticks\":\"\",\"zerolinecolor\":\"white\"}},\"shapedefaults\":{\"line\":{\"color\":\"#2a3f5f\"}},\"ternary\":{\"aaxis\":{\"gridcolor\":\"white\",\"linecolor\":\"white\",\"ticks\":\"\"},\"baxis\":{\"gridcolor\":\"white\",\"linecolor\":\"white\",\"ticks\":\"\"},\"bgcolor\":\"#E5ECF6\",\"caxis\":{\"gridcolor\":\"white\",\"linecolor\":\"white\",\"ticks\":\"\"}},\"title\":{\"x\":0.05},\"xaxis\":{\"automargin\":true,\"gridcolor\":\"white\",\"linecolor\":\"white\",\"ticks\":\"\",\"title\":{\"standoff\":15},\"zerolinecolor\":\"white\",\"zerolinewidth\":2},\"yaxis\":{\"automargin\":true,\"gridcolor\":\"white\",\"linecolor\":\"white\",\"ticks\":\"\",\"title\":{\"standoff\":15},\"zerolinecolor\":\"white\",\"zerolinewidth\":2}}},\"title\":{\"font\":{\"color\":\"#4D5663\"}},\"xaxis\":{\"anchor\":\"y\",\"domain\":[0.0,0.2125],\"gridcolor\":\"#E1E5ED\",\"showgrid\":false,\"tickfont\":{\"color\":\"#4D5663\"},\"title\":{\"font\":{\"color\":\"#4D5663\"},\"text\":\"\"},\"zerolinecolor\":\"#E1E5ED\"},\"yaxis\":{\"anchor\":\"x\",\"domain\":[0.8025,1.0],\"gridcolor\":\"#E1E5ED\",\"showgrid\":false,\"tickfont\":{\"color\":\"#4D5663\"},\"title\":{\"font\":{\"color\":\"#4D5663\"},\"text\":\"\"},\"zerolinecolor\":\"#E1E5ED\"},\"xaxis2\":{\"anchor\":\"y2\",\"domain\":[0.2625,0.475],\"gridcolor\":\"#E1E5ED\",\"showgrid\":false,\"tickfont\":{\"color\":\"#4D5663\"},\"title\":{\"font\":{\"color\":\"#4D5663\"},\"text\":\"\"},\"zerolinecolor\":\"#E1E5ED\"},\"yaxis2\":{\"anchor\":\"x2\",\"domain\":[0.8025,1.0],\"gridcolor\":\"#E1E5ED\",\"showgrid\":false,\"tickfont\":{\"color\":\"#4D5663\"},\"title\":{\"font\":{\"color\":\"#4D5663\"},\"text\":\"\"},\"zerolinecolor\":\"#E1E5ED\"},\"xaxis3\":{\"anchor\":\"y3\",\"domain\":[0.525,0.7375],\"gridcolor\":\"#E1E5ED\",\"showgrid\":false,\"tickfont\":{\"color\":\"#4D5663\"},\"title\":{\"font\":{\"color\":\"#4D5663\"},\"text\":\"\"},\"zerolinecolor\":\"#E1E5ED\"},\"yaxis3\":{\"anchor\":\"x3\",\"domain\":[0.8025,1.0],\"gridcolor\":\"#E1E5ED\",\"showgrid\":false,\"tickfont\":{\"color\":\"#4D5663\"},\"title\":{\"font\":{\"color\":\"#4D5663\"},\"text\":\"\"},\"zerolinecolor\":\"#E1E5ED\"},\"xaxis4\":{\"anchor\":\"y4\",\"domain\":[0.7875,1.0],\"gridcolor\":\"#E1E5ED\",\"showgrid\":false,\"tickfont\":{\"color\":\"#4D5663\"},\"title\":{\"font\":{\"color\":\"#4D5663\"},\"text\":\"\"},\"zerolinecolor\":\"#E1E5ED\"},\"yaxis4\":{\"anchor\":\"x4\",\"domain\":[0.8025,1.0],\"gridcolor\":\"#E1E5ED\",\"showgrid\":false,\"tickfont\":{\"color\":\"#4D5663\"},\"title\":{\"font\":{\"color\":\"#4D5663\"},\"text\":\"\"},\"zerolinecolor\":\"#E1E5ED\"},\"xaxis5\":{\"anchor\":\"y5\",\"domain\":[0.0,0.2125],\"gridcolor\":\"#E1E5ED\",\"showgrid\":false,\"tickfont\":{\"color\":\"#4D5663\"},\"title\":{\"font\":{\"color\":\"#4D5663\"},\"text\":\"\"},\"zerolinecolor\":\"#E1E5ED\"},\"yaxis5\":{\"anchor\":\"x5\",\"domain\":[0.535,0.7325],\"gridcolor\":\"#E1E5ED\",\"showgrid\":false,\"tickfont\":{\"color\":\"#4D5663\"},\"title\":{\"font\":{\"color\":\"#4D5663\"},\"text\":\"\"},\"zerolinecolor\":\"#E1E5ED\"},\"xaxis6\":{\"anchor\":\"y6\",\"domain\":[0.2625,0.475],\"gridcolor\":\"#E1E5ED\",\"showgrid\":false,\"tickfont\":{\"color\":\"#4D5663\"},\"title\":{\"font\":{\"color\":\"#4D5663\"},\"text\":\"\"},\"zerolinecolor\":\"#E1E5ED\"},\"yaxis6\":{\"anchor\":\"x6\",\"domain\":[0.535,0.7325],\"gridcolor\":\"#E1E5ED\",\"showgrid\":false,\"tickfont\":{\"color\":\"#4D5663\"},\"title\":{\"font\":{\"color\":\"#4D5663\"},\"text\":\"\"},\"zerolinecolor\":\"#E1E5ED\"},\"xaxis7\":{\"anchor\":\"y7\",\"domain\":[0.525,0.7375],\"gridcolor\":\"#E1E5ED\",\"showgrid\":false,\"tickfont\":{\"color\":\"#4D5663\"},\"title\":{\"font\":{\"color\":\"#4D5663\"},\"text\":\"\"},\"zerolinecolor\":\"#E1E5ED\"},\"yaxis7\":{\"anchor\":\"x7\",\"domain\":[0.535,0.7325],\"gridcolor\":\"#E1E5ED\",\"showgrid\":false,\"tickfont\":{\"color\":\"#4D5663\"},\"title\":{\"font\":{\"color\":\"#4D5663\"},\"text\":\"\"},\"zerolinecolor\":\"#E1E5ED\"},\"xaxis8\":{\"anchor\":\"y8\",\"domain\":[0.7875,1.0],\"gridcolor\":\"#E1E5ED\",\"showgrid\":false,\"tickfont\":{\"color\":\"#4D5663\"},\"title\":{\"font\":{\"color\":\"#4D5663\"},\"text\":\"\"},\"zerolinecolor\":\"#E1E5ED\"},\"yaxis8\":{\"anchor\":\"x8\",\"domain\":[0.535,0.7325],\"gridcolor\":\"#E1E5ED\",\"showgrid\":false,\"tickfont\":{\"color\":\"#4D5663\"},\"title\":{\"font\":{\"color\":\"#4D5663\"},\"text\":\"\"},\"zerolinecolor\":\"#E1E5ED\"},\"xaxis9\":{\"anchor\":\"y9\",\"domain\":[0.0,0.2125],\"gridcolor\":\"#E1E5ED\",\"showgrid\":false,\"tickfont\":{\"color\":\"#4D5663\"},\"title\":{\"font\":{\"color\":\"#4D5663\"},\"text\":\"\"},\"zerolinecolor\":\"#E1E5ED\"},\"yaxis9\":{\"anchor\":\"x9\",\"domain\":[0.2675,0.465],\"gridcolor\":\"#E1E5ED\",\"showgrid\":false,\"tickfont\":{\"color\":\"#4D5663\"},\"title\":{\"font\":{\"color\":\"#4D5663\"},\"text\":\"\"},\"zerolinecolor\":\"#E1E5ED\"},\"xaxis10\":{\"anchor\":\"y10\",\"domain\":[0.2625,0.475],\"gridcolor\":\"#E1E5ED\",\"showgrid\":false,\"tickfont\":{\"color\":\"#4D5663\"},\"title\":{\"font\":{\"color\":\"#4D5663\"},\"text\":\"\"},\"zerolinecolor\":\"#E1E5ED\"},\"yaxis10\":{\"anchor\":\"x10\",\"domain\":[0.2675,0.465],\"gridcolor\":\"#E1E5ED\",\"showgrid\":false,\"tickfont\":{\"color\":\"#4D5663\"},\"title\":{\"font\":{\"color\":\"#4D5663\"},\"text\":\"\"},\"zerolinecolor\":\"#E1E5ED\"},\"xaxis11\":{\"anchor\":\"y11\",\"domain\":[0.525,0.7375],\"gridcolor\":\"#E1E5ED\",\"showgrid\":false,\"tickfont\":{\"color\":\"#4D5663\"},\"title\":{\"font\":{\"color\":\"#4D5663\"},\"text\":\"\"},\"zerolinecolor\":\"#E1E5ED\"},\"yaxis11\":{\"anchor\":\"x11\",\"domain\":[0.2675,0.465],\"gridcolor\":\"#E1E5ED\",\"showgrid\":false,\"tickfont\":{\"color\":\"#4D5663\"},\"title\":{\"font\":{\"color\":\"#4D5663\"},\"text\":\"\"},\"zerolinecolor\":\"#E1E5ED\"},\"xaxis12\":{\"anchor\":\"y12\",\"domain\":[0.7875,1.0],\"gridcolor\":\"#E1E5ED\",\"showgrid\":false,\"tickfont\":{\"color\":\"#4D5663\"},\"title\":{\"font\":{\"color\":\"#4D5663\"},\"text\":\"\"},\"zerolinecolor\":\"#E1E5ED\"},\"yaxis12\":{\"anchor\":\"x12\",\"domain\":[0.2675,0.465],\"gridcolor\":\"#E1E5ED\",\"showgrid\":false,\"tickfont\":{\"color\":\"#4D5663\"},\"title\":{\"font\":{\"color\":\"#4D5663\"},\"text\":\"\"},\"zerolinecolor\":\"#E1E5ED\"},\"xaxis13\":{\"anchor\":\"y13\",\"domain\":[0.0,0.2125],\"gridcolor\":\"#E1E5ED\",\"showgrid\":false,\"tickfont\":{\"color\":\"#4D5663\"},\"title\":{\"font\":{\"color\":\"#4D5663\"},\"text\":\"\"},\"zerolinecolor\":\"#E1E5ED\"},\"yaxis13\":{\"anchor\":\"x13\",\"domain\":[0.0,0.1975],\"gridcolor\":\"#E1E5ED\",\"showgrid\":false,\"tickfont\":{\"color\":\"#4D5663\"},\"title\":{\"font\":{\"color\":\"#4D5663\"},\"text\":\"\"},\"zerolinecolor\":\"#E1E5ED\"},\"xaxis14\":{\"anchor\":\"y14\",\"domain\":[0.2625,0.475],\"gridcolor\":\"#E1E5ED\",\"showgrid\":false,\"tickfont\":{\"color\":\"#4D5663\"},\"title\":{\"font\":{\"color\":\"#4D5663\"},\"text\":\"\"},\"zerolinecolor\":\"#E1E5ED\"},\"yaxis14\":{\"anchor\":\"x14\",\"domain\":[0.0,0.1975],\"gridcolor\":\"#E1E5ED\",\"showgrid\":false,\"tickfont\":{\"color\":\"#4D5663\"},\"title\":{\"font\":{\"color\":\"#4D5663\"},\"text\":\"\"},\"zerolinecolor\":\"#E1E5ED\"},\"xaxis15\":{\"anchor\":\"y15\",\"domain\":[0.525,0.7375],\"gridcolor\":\"#E1E5ED\",\"showgrid\":false,\"tickfont\":{\"color\":\"#4D5663\"},\"title\":{\"font\":{\"color\":\"#4D5663\"},\"text\":\"\"},\"zerolinecolor\":\"#E1E5ED\"},\"yaxis15\":{\"anchor\":\"x15\",\"domain\":[0.0,0.1975],\"gridcolor\":\"#E1E5ED\",\"showgrid\":false,\"tickfont\":{\"color\":\"#4D5663\"},\"title\":{\"font\":{\"color\":\"#4D5663\"},\"text\":\"\"},\"zerolinecolor\":\"#E1E5ED\"},\"xaxis16\":{\"anchor\":\"y16\",\"domain\":[0.7875,1.0],\"gridcolor\":\"#E1E5ED\",\"showgrid\":false,\"tickfont\":{\"color\":\"#4D5663\"},\"title\":{\"font\":{\"color\":\"#4D5663\"},\"text\":\"\"},\"zerolinecolor\":\"#E1E5ED\"},\"yaxis16\":{\"anchor\":\"x16\",\"domain\":[0.0,0.1975],\"gridcolor\":\"#E1E5ED\",\"showgrid\":false,\"tickfont\":{\"color\":\"#4D5663\"},\"title\":{\"font\":{\"color\":\"#4D5663\"},\"text\":\"\"},\"zerolinecolor\":\"#E1E5ED\"}},                        {\"showLink\": true, \"linkText\": \"Export to plot.ly\", \"plotlyServerURL\": \"https://plot.ly\", \"responsive\": true}                    ).then(function(){\n",
       "                            \n",
       "var gd = document.getElementById('4a8bbf01-0373-4e4a-a255-f6dbb6b07ecd');\n",
       "var x = new MutationObserver(function (mutations, observer) {{\n",
       "        var display = window.getComputedStyle(gd).display;\n",
       "        if (!display || display === 'none') {{\n",
       "            console.log([gd, 'removed!']);\n",
       "            Plotly.purge(gd);\n",
       "            observer.disconnect();\n",
       "        }}\n",
       "}});\n",
       "\n",
       "// Listen for the removal of the full notebook cells\n",
       "var notebookContainer = gd.closest('#notebook-container');\n",
       "if (notebookContainer) {{\n",
       "    x.observe(notebookContainer, {childList: true});\n",
       "}}\n",
       "\n",
       "// Listen for the clearing of the current output cell\n",
       "var outputEl = gd.closest('.output');\n",
       "if (outputEl) {{\n",
       "    x.observe(outputEl, {childList: true});\n",
       "}}\n",
       "\n",
       "                        })                };                });            </script>        </div>"
      ]
     },
     "metadata": {},
     "output_type": "display_data"
    }
   ],
   "source": [
    "df.scatter_matrix()"
   ]
  }
 ],
 "metadata": {
  "kernelspec": {
   "display_name": "Python 3 (ipykernel)",
   "language": "python",
   "name": "python3"
  },
  "language_info": {
   "codemirror_mode": {
    "name": "ipython",
    "version": 3
   },
   "file_extension": ".py",
   "mimetype": "text/x-python",
   "name": "python",
   "nbconvert_exporter": "python",
   "pygments_lexer": "ipython3",
   "version": "3.9.13"
  }
 },
 "nbformat": 4,
 "nbformat_minor": 5
}
